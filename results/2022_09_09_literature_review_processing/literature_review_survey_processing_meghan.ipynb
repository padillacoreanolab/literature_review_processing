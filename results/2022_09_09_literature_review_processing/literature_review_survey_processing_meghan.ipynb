{
 "cells": [
  {
   "cell_type": "markdown",
   "id": "083ab39a",
   "metadata": {},
   "source": [
    "# Literature Review Survey Processing"
   ]
  },
  {
   "cell_type": "code",
   "execution_count": 323,
   "id": "02fe2a84",
   "metadata": {},
   "outputs": [],
   "source": [
    "from datetime import datetime\n",
    "import re\n",
    "from collections import Counter\n",
    "from  itertools import chain"
   ]
  },
  {
   "cell_type": "code",
   "execution_count": 324,
   "id": "dd62ff9a",
   "metadata": {},
   "outputs": [],
   "source": [
    "import pandas as pd\n",
    "from matplotlib import pyplot as plt\n",
    "import numpy as np\n",
    "import seaborn as sns\n",
    "from matplotlib.colors import ListedColormap"
   ]
  },
  {
   "cell_type": "code",
   "execution_count": 400,
   "id": "6abe1d82",
   "metadata": {},
   "outputs": [
    {
     "data": {
      "image/png": "[encoded data removed]",
      "text/plain": [
       "<Figure size 360x72 with 1 Axes>"
      ]
     },
     "metadata": {
      "needs_background": "light"
     },
     "output_type": "display_data"
    }
   ],
   "source": [
    "# color palette from Nancy's website\n",
    "pclabcol = ['#001424','#FFAF00', '#15616F', '#FEEDD3', '#792910']\n",
    "pclabcol2 = ['#001424','#FFAF00', '#15616F', '#792910']\n",
    "sns.palplot(sns.color_palette(pclabcol))\n",
    "my_colors = ListedColormap(sns.color_palette(pclabcol))\n",
    "my_colors2 = ListedColormap(sns.color_palette(pclabcol2))"
   ]
  },
  {
   "cell_type": "code",
   "execution_count": 384,
   "id": "72a3ab43",
   "metadata": {},
   "outputs": [],
   "source": [
    "# Plot Specifics\n",
    "TITLESIZE = 60\n",
    "AXESLABEL = 40\n",
    "AXESTICKS = 35\n",
    "LINWID = 10\n",
    "DOTS = 20\n",
    "LEGSIZE = 25"
   ]
  },
  {
   "cell_type": "code",
   "execution_count": 327,
   "id": "5783d529",
   "metadata": {},
   "outputs": [],
   "source": [
    "# Increase size of plot in jupyter\n",
    "\n",
    "plt.rcParams[\"figure.figsize\"] = (18,10)"
   ]
  },
  {
   "cell_type": "code",
   "execution_count": 328,
   "id": "8ec0cd0f",
   "metadata": {},
   "outputs": [],
   "source": [
    "survey_df = pd.read_csv(\"Copy of Literature Review (Responses) - Copy of Form Responses 1.csv\", keep_default_na=False)\n",
    "#fill in an NaNs with actual data so this keep default nonsense isnt needed\n",
    "\n"
   ]
  },
  {
   "cell_type": "code",
   "execution_count": 329,
   "id": "8cffe9af",
   "metadata": {
    "scrolled": true
   },
   "outputs": [
    {
     "data": {
      "text/html": [
       "<div>\n",
       "<style scoped>\n",
       "    .dataframe tbody tr th:only-of-type {\n",
       "        vertical-align: middle;\n",
       "    }\n",
       "\n",
       "    .dataframe tbody tr th {\n",
       "        vertical-align: top;\n",
       "    }\n",
       "\n",
       "    .dataframe thead th {\n",
       "        text-align: right;\n",
       "    }\n",
       "</style>\n",
       "<table border=\"1\" class=\"dataframe\">\n",
       "  <thead>\n",
       "    <tr style=\"text-align: right;\">\n",
       "      <th></th>\n",
       "      <th>Timestamp :)</th>\n",
       "      <th>Title</th>\n",
       "      <th>First Author (Last, First) (no middle initials)</th>\n",
       "      <th>Publication Date (YYYY-MM)</th>\n",
       "      <th>Reviewer (your name, First Last i.e. Meghan Cum)</th>\n",
       "      <th>Verifier (name, good or bad)</th>\n",
       "      <th>Meets the sufficient criteria: uses mice or rats, is not a review or protocol paper, tests for social memory/recognition/discrimination</th>\n",
       "      <th>Species</th>\n",
       "      <th>Wild Rodents Used? (like literally caught from the wild)</th>\n",
       "      <th>Subject Strain  (i.e. C57BL6J or Sprague-Dawley) if multiple strains were used separate them by a semi colon and if mixed state mixed i.e. 129/SvJ mixed C57BL/6J; 129/SvJ mixed Swiss black</th>\n",
       "      <th>...</th>\n",
       "      <th>If female, ovariectiomized?</th>\n",
       "      <th>Social Agent Identity</th>\n",
       "      <th>Social Agent Housing</th>\n",
       "      <th>Social Agent Rank</th>\n",
       "      <th>Social Agent Type</th>\n",
       "      <th>Social Discrimination Tested? i.e. novel and familiar social agents presented at the *same time* to the subject</th>\n",
       "      <th>Additional novel social agent used at all?</th>\n",
       "      <th>Qualities Shared w/ Subject Mouse (i.e. same age between social agents and subject) [Social Agent]</th>\n",
       "      <th>Do you have questions on this paper/should Meghan look this one over?</th>\n",
       "      <th>If you answered yes to the previous question, what concerns/questions did you have specifically on this paper?</th>\n",
       "    </tr>\n",
       "  </thead>\n",
       "  <tbody>\n",
       "    <tr>\n",
       "      <th>0</th>\n",
       "      <td>6/16/2022 16:43:19</td>\n",
       "      <td>Behavioral deficits and progressive neuropatho...</td>\n",
       "      <td>Yin, Fangfang</td>\n",
       "      <td>2010-12</td>\n",
       "      <td>Ryo Iwata</td>\n",
       "      <td></td>\n",
       "      <td>yes</td>\n",
       "      <td>Mice</td>\n",
       "      <td>no</td>\n",
       "      <td>C57BL/6 mixed C57BL/6J mixed CD1</td>\n",
       "      <td>...</td>\n",
       "      <td></td>\n",
       "      <td>unspecified female</td>\n",
       "      <td>does not specify</td>\n",
       "      <td>Does not specify</td>\n",
       "      <td>WT (wild type)</td>\n",
       "      <td>yes</td>\n",
       "      <td>Yes</td>\n",
       "      <td>None</td>\n",
       "      <td>Yes, this one was tricky.</td>\n",
       "      <td>Subject strain is hard to follow. Not sure if ...</td>\n",
       "    </tr>\n",
       "    <tr>\n",
       "      <th>1</th>\n",
       "      <td>3/1/2022 10:55:55</td>\n",
       "      <td>Learning and Memory and Synaptic Plasticity Ar...</td>\n",
       "      <td>Moretti, Paolo</td>\n",
       "      <td>2006-01</td>\n",
       "      <td>Meghan Cum</td>\n",
       "      <td></td>\n",
       "      <td>yes</td>\n",
       "      <td>Mice</td>\n",
       "      <td>no</td>\n",
       "      <td>129/SvEv</td>\n",
       "      <td>...</td>\n",
       "      <td></td>\n",
       "      <td>juvenile male</td>\n",
       "      <td>Does not specify</td>\n",
       "      <td>Does not specify</td>\n",
       "      <td>WT (wild type)</td>\n",
       "      <td>no</td>\n",
       "      <td>No</td>\n",
       "      <td></td>\n",
       "      <td></td>\n",
       "      <td></td>\n",
       "    </tr>\n",
       "    <tr>\n",
       "      <th>2</th>\n",
       "      <td>3/1/2022 11:13:32</td>\n",
       "      <td>Early life modulators and predictors of adult ...</td>\n",
       "      <td>Akers, Katherine</td>\n",
       "      <td>2006-07</td>\n",
       "      <td>Meghan Cum</td>\n",
       "      <td></td>\n",
       "      <td>yes</td>\n",
       "      <td>Rats</td>\n",
       "      <td>no</td>\n",
       "      <td>Long-Evans</td>\n",
       "      <td>...</td>\n",
       "      <td></td>\n",
       "      <td>adult not specified</td>\n",
       "      <td>singly-housed</td>\n",
       "      <td>Does not specify</td>\n",
       "      <td>WT (wild type)</td>\n",
       "      <td>no</td>\n",
       "      <td>No</td>\n",
       "      <td>Age, Strain, Housing History, Type (WT vs tran...</td>\n",
       "      <td></td>\n",
       "      <td></td>\n",
       "    </tr>\n",
       "    <tr>\n",
       "      <th>3</th>\n",
       "      <td>3/24/2022 13:10:08</td>\n",
       "      <td>Pharmacological effects of Ibuprofen on learni...</td>\n",
       "      <td>Hashmi, Aisha</td>\n",
       "      <td>2015-04</td>\n",
       "      <td>Meghan Cum</td>\n",
       "      <td></td>\n",
       "      <td>yes</td>\n",
       "      <td>Mice</td>\n",
       "      <td>no</td>\n",
       "      <td>BALB/c</td>\n",
       "      <td>...</td>\n",
       "      <td></td>\n",
       "      <td>does not specify</td>\n",
       "      <td>Does not specify</td>\n",
       "      <td>Does not specify</td>\n",
       "      <td>WT (wild type)</td>\n",
       "      <td>yes</td>\n",
       "      <td>Yes</td>\n",
       "      <td>Type (WT vs transgenic)</td>\n",
       "      <td>No, I feel confident, and I double-checked all...</td>\n",
       "      <td></td>\n",
       "    </tr>\n",
       "    <tr>\n",
       "      <th>4</th>\n",
       "      <td>3/30/2022 15:35:44</td>\n",
       "      <td>The selective 5-HT6 receptor antagonist SLV ha...</td>\n",
       "      <td>de Bruin, N.M.W.J.</td>\n",
       "      <td>2016-09</td>\n",
       "      <td>Jocelyn Santiago Perez</td>\n",
       "      <td></td>\n",
       "      <td>yes</td>\n",
       "      <td>Rats</td>\n",
       "      <td>no</td>\n",
       "      <td>Wistar (Han) rats</td>\n",
       "      <td>...</td>\n",
       "      <td></td>\n",
       "      <td>adult not specified</td>\n",
       "      <td>group-housed</td>\n",
       "      <td>Does not specify</td>\n",
       "      <td>WT (wild type)</td>\n",
       "      <td>no</td>\n",
       "      <td>No</td>\n",
       "      <td>Strain, Type (WT vs transgenic)</td>\n",
       "      <td>No, I feel confident, and I double-checked all...</td>\n",
       "      <td></td>\n",
       "    </tr>\n",
       "  </tbody>\n",
       "</table>\n",
       "<p>5 rows × 32 columns</p>\n",
       "</div>"
      ],
      "text/plain": [
       "         Timestamp :)                                              Title  \\\n",
       "0  6/16/2022 16:43:19  Behavioral deficits and progressive neuropatho...   \n",
       "1   3/1/2022 10:55:55  Learning and Memory and Synaptic Plasticity Ar...   \n",
       "2   3/1/2022 11:13:32  Early life modulators and predictors of adult ...   \n",
       "3  3/24/2022 13:10:08  Pharmacological effects of Ibuprofen on learni...   \n",
       "4  3/30/2022 15:35:44  The selective 5-HT6 receptor antagonist SLV ha...   \n",
       "\n",
       "  First Author (Last, First) (no middle initials) Publication Date (YYYY-MM)  \\\n",
       "0                                   Yin, Fangfang                    2010-12   \n",
       "1                                  Moretti, Paolo                    2006-01   \n",
       "2                                Akers, Katherine                    2006-07   \n",
       "3                                   Hashmi, Aisha                    2015-04   \n",
       "4                              de Bruin, N.M.W.J.                    2016-09   \n",
       "\n",
       "  Reviewer (your name, First Last i.e. Meghan Cum)  \\\n",
       "0                                        Ryo Iwata   \n",
       "1                                       Meghan Cum   \n",
       "2                                       Meghan Cum   \n",
       "3                                       Meghan Cum   \n",
       "4                           Jocelyn Santiago Perez   \n",
       "\n",
       "  Verifier (name, good or bad)  \\\n",
       "0                                \n",
       "1                                \n",
       "2                                \n",
       "3                                \n",
       "4                                \n",
       "\n",
       "  Meets the sufficient criteria: uses mice or rats, is not a review or protocol paper, tests for social memory/recognition/discrimination  \\\n",
       "0                                                yes                                                                                        \n",
       "1                                                yes                                                                                        \n",
       "2                                                yes                                                                                        \n",
       "3                                                yes                                                                                        \n",
       "4                                                yes                                                                                        \n",
       "\n",
       "  Species Wild Rodents Used? (like literally caught from the wild)  \\\n",
       "0    Mice                                                 no         \n",
       "1    Mice                                                 no         \n",
       "2    Rats                                                 no         \n",
       "3    Mice                                                 no         \n",
       "4    Rats                                                 no         \n",
       "\n",
       "  Subject Strain  (i.e. C57BL6J or Sprague-Dawley) if multiple strains were used separate them by a semi colon and if mixed state mixed i.e. 129/SvJ mixed C57BL/6J; 129/SvJ mixed Swiss black  \\\n",
       "0                   C57BL/6 mixed C57BL/6J mixed CD1                                                                                                                                             \n",
       "1                                           129/SvEv                                                                                                                                             \n",
       "2                                         Long-Evans                                                                                                                                             \n",
       "3                                             BALB/c                                                                                                                                             \n",
       "4                                  Wistar (Han) rats                                                                                                                                             \n",
       "\n",
       "   ... If female, ovariectiomized? Social Agent Identity Social Agent Housing  \\\n",
       "0  ...                                unspecified female     does not specify   \n",
       "1  ...                                     juvenile male     Does not specify   \n",
       "2  ...                               adult not specified        singly-housed   \n",
       "3  ...                                  does not specify     Does not specify   \n",
       "4  ...                               adult not specified         group-housed   \n",
       "\n",
       "  Social Agent Rank Social Agent Type  \\\n",
       "0  Does not specify    WT (wild type)   \n",
       "1  Does not specify    WT (wild type)   \n",
       "2  Does not specify    WT (wild type)   \n",
       "3  Does not specify    WT (wild type)   \n",
       "4  Does not specify    WT (wild type)   \n",
       "\n",
       "  Social Discrimination Tested? i.e. novel and familiar social agents presented at the *same time* to the subject  \\\n",
       "0                                                yes                                                                \n",
       "1                                                 no                                                                \n",
       "2                                                 no                                                                \n",
       "3                                                yes                                                                \n",
       "4                                                 no                                                                \n",
       "\n",
       "  Additional novel social agent used at all?   \\\n",
       "0                                         Yes   \n",
       "1                                          No   \n",
       "2                                          No   \n",
       "3                                         Yes   \n",
       "4                                          No   \n",
       "\n",
       "  Qualities Shared w/ Subject Mouse (i.e. same age between social agents and subject) [Social Agent]  \\\n",
       "0                                               None                                                   \n",
       "1                                                                                                      \n",
       "2  Age, Strain, Housing History, Type (WT vs tran...                                                   \n",
       "3                            Type (WT vs transgenic)                                                   \n",
       "4                    Strain, Type (WT vs transgenic)                                                   \n",
       "\n",
       "  Do you have questions on this paper/should Meghan look this one over?   \\\n",
       "0                          Yes, this one was tricky.                       \n",
       "1                                                                          \n",
       "2                                                                          \n",
       "3  No, I feel confident, and I double-checked all...                       \n",
       "4  No, I feel confident, and I double-checked all...                       \n",
       "\n",
       "  If you answered yes to the previous question, what concerns/questions did you have specifically on this paper?   \n",
       "0  Subject strain is hard to follow. Not sure if ...                                                               \n",
       "1                                                                                                                  \n",
       "2                                                                                                                  \n",
       "3                                                                                                                  \n",
       "4                                                                                                                  \n",
       "\n",
       "[5 rows x 32 columns]"
      ]
     },
     "execution_count": 329,
     "metadata": {},
     "output_type": "execute_result"
    }
   ],
   "source": [
    "survey_df.head()"
   ]
  },
  {
   "cell_type": "code",
   "execution_count": 330,
   "id": "d6ea4d37",
   "metadata": {},
   "outputs": [
    {
     "data": {
      "text/html": [
       "<div>\n",
       "<style scoped>\n",
       "    .dataframe tbody tr th:only-of-type {\n",
       "        vertical-align: middle;\n",
       "    }\n",
       "\n",
       "    .dataframe tbody tr th {\n",
       "        vertical-align: top;\n",
       "    }\n",
       "\n",
       "    .dataframe thead th {\n",
       "        text-align: right;\n",
       "    }\n",
       "</style>\n",
       "<table border=\"1\" class=\"dataframe\">\n",
       "  <thead>\n",
       "    <tr style=\"text-align: right;\">\n",
       "      <th></th>\n",
       "      <th>Timestamp :)</th>\n",
       "      <th>Title</th>\n",
       "      <th>First Author (Last, First) (no middle initials)</th>\n",
       "      <th>Publication Date (YYYY-MM)</th>\n",
       "      <th>Reviewer (your name, First Last i.e. Meghan Cum)</th>\n",
       "      <th>Verifier (name, good or bad)</th>\n",
       "      <th>Meets the sufficient criteria: uses mice or rats, is not a review or protocol paper, tests for social memory/recognition/discrimination</th>\n",
       "      <th>Species</th>\n",
       "      <th>Wild Rodents Used? (like literally caught from the wild)</th>\n",
       "      <th>Subject Strain  (i.e. C57BL6J or Sprague-Dawley) if multiple strains were used separate them by a semi colon and if mixed state mixed i.e. 129/SvJ mixed C57BL/6J; 129/SvJ mixed Swiss black</th>\n",
       "      <th>...</th>\n",
       "      <th>If female, ovariectiomized?</th>\n",
       "      <th>Social Agent Identity</th>\n",
       "      <th>Social Agent Housing</th>\n",
       "      <th>Social Agent Rank</th>\n",
       "      <th>Social Agent Type</th>\n",
       "      <th>Social Discrimination Tested? i.e. novel and familiar social agents presented at the *same time* to the subject</th>\n",
       "      <th>Additional novel social agent used at all?</th>\n",
       "      <th>Qualities Shared w/ Subject Mouse (i.e. same age between social agents and subject) [Social Agent]</th>\n",
       "      <th>Do you have questions on this paper/should Meghan look this one over?</th>\n",
       "      <th>If you answered yes to the previous question, what concerns/questions did you have specifically on this paper?</th>\n",
       "    </tr>\n",
       "  </thead>\n",
       "  <tbody>\n",
       "    <tr>\n",
       "      <th>664</th>\n",
       "      <td>6/16/2022 12:47:18</td>\n",
       "      <td>Effects of Bax gene deletion on social behavio...</td>\n",
       "      <td>Holmes, M.M.</td>\n",
       "      <td>2011</td>\n",
       "      <td>Meghan Cum</td>\n",
       "      <td></td>\n",
       "      <td>yes</td>\n",
       "      <td>Mice</td>\n",
       "      <td>no</td>\n",
       "      <td>C57Bl/6J</td>\n",
       "      <td>...</td>\n",
       "      <td>Yes</td>\n",
       "      <td>ovariectomized female</td>\n",
       "      <td>Does not specify</td>\n",
       "      <td>Does not specify</td>\n",
       "      <td>WT (wild type)</td>\n",
       "      <td>no</td>\n",
       "      <td>Yes</td>\n",
       "      <td>None</td>\n",
       "      <td>No, I feel confident, and I double-checked all...</td>\n",
       "      <td></td>\n",
       "    </tr>\n",
       "    <tr>\n",
       "      <th>665</th>\n",
       "      <td>6/16/2022 13:01:34</td>\n",
       "      <td>Are Sema5a mutant mice a good model of autism?...</td>\n",
       "      <td>Gunn, Rhian</td>\n",
       "      <td>2011-11</td>\n",
       "      <td>Meghan Cum</td>\n",
       "      <td></td>\n",
       "      <td>yes</td>\n",
       "      <td>Mice</td>\n",
       "      <td>no</td>\n",
       "      <td>C57Bl/6 x 126Sv; C57BL/6J</td>\n",
       "      <td>...</td>\n",
       "      <td></td>\n",
       "      <td>not specified male</td>\n",
       "      <td>Does not specify</td>\n",
       "      <td>Does not specify</td>\n",
       "      <td>WT (wild type)</td>\n",
       "      <td>yes</td>\n",
       "      <td>Yes</td>\n",
       "      <td>None</td>\n",
       "      <td>No, I feel confident, and I double-checked all...</td>\n",
       "      <td></td>\n",
       "    </tr>\n",
       "    <tr>\n",
       "      <th>666</th>\n",
       "      <td>6/16/2022 13:13:20</td>\n",
       "      <td>Influence of Early Stress on Social Abilities ...</td>\n",
       "      <td>Franklin, Tamara</td>\n",
       "      <td>2011-07</td>\n",
       "      <td>Meghan Cum</td>\n",
       "      <td></td>\n",
       "      <td>yes</td>\n",
       "      <td>Mice</td>\n",
       "      <td>no</td>\n",
       "      <td>C57Bl/6J</td>\n",
       "      <td>...</td>\n",
       "      <td>no</td>\n",
       "      <td>juvenile male, juvenile female</td>\n",
       "      <td>Does not specify</td>\n",
       "      <td>Does not specify</td>\n",
       "      <td>WT (wild type)</td>\n",
       "      <td>no</td>\n",
       "      <td>No</td>\n",
       "      <td>Sex, Type (WT vs transgenic)</td>\n",
       "      <td>No, I feel confident, and I double-checked all...</td>\n",
       "      <td></td>\n",
       "    </tr>\n",
       "    <tr>\n",
       "      <th>667</th>\n",
       "      <td>6/16/2022 20:30:37</td>\n",
       "      <td>Deletion of the forebrain mineralocorticoid re...</td>\n",
       "      <td>ter Horst, Judith</td>\n",
       "      <td>2014-02</td>\n",
       "      <td>Jocelyn Santiago Perez</td>\n",
       "      <td></td>\n",
       "      <td>yes</td>\n",
       "      <td>Mice</td>\n",
       "      <td>no</td>\n",
       "      <td>C57BL/6J</td>\n",
       "      <td>...</td>\n",
       "      <td>no</td>\n",
       "      <td>adult male, adult intact female</td>\n",
       "      <td>group-housed</td>\n",
       "      <td>Does not specify</td>\n",
       "      <td>WT (wild type)</td>\n",
       "      <td>yes</td>\n",
       "      <td>Yes</td>\n",
       "      <td>Age, Sex, Strain, Type (WT vs transgenic)</td>\n",
       "      <td>No, I feel confident, and I double-checked all...</td>\n",
       "      <td></td>\n",
       "    </tr>\n",
       "    <tr>\n",
       "      <th>668</th>\n",
       "      <td>6/17/2022 15:27:02</td>\n",
       "      <td>Juvenile social experience regulates central n...</td>\n",
       "      <td>Tanaka, K.</td>\n",
       "      <td>2010-04</td>\n",
       "      <td>Jocelyn Santiago Perez</td>\n",
       "      <td></td>\n",
       "      <td>yes</td>\n",
       "      <td>Rats</td>\n",
       "      <td>no</td>\n",
       "      <td>Long-Evans</td>\n",
       "      <td>...</td>\n",
       "      <td>Yes</td>\n",
       "      <td>ovariectomized juvenile female</td>\n",
       "      <td>group-housed</td>\n",
       "      <td>Does not specify</td>\n",
       "      <td>WT (wild type)</td>\n",
       "      <td>no</td>\n",
       "      <td>No</td>\n",
       "      <td>Sex, Strain, Housing History, Type (WT vs tran...</td>\n",
       "      <td>No, I feel confident, and I double-checked all...</td>\n",
       "      <td></td>\n",
       "    </tr>\n",
       "  </tbody>\n",
       "</table>\n",
       "<p>5 rows × 32 columns</p>\n",
       "</div>"
      ],
      "text/plain": [
       "           Timestamp :)                                              Title  \\\n",
       "664  6/16/2022 12:47:18  Effects of Bax gene deletion on social behavio...   \n",
       "665  6/16/2022 13:01:34  Are Sema5a mutant mice a good model of autism?...   \n",
       "666  6/16/2022 13:13:20  Influence of Early Stress on Social Abilities ...   \n",
       "667  6/16/2022 20:30:37  Deletion of the forebrain mineralocorticoid re...   \n",
       "668  6/17/2022 15:27:02  Juvenile social experience regulates central n...   \n",
       "\n",
       "    First Author (Last, First) (no middle initials)  \\\n",
       "664                                    Holmes, M.M.   \n",
       "665                                     Gunn, Rhian   \n",
       "666                                Franklin, Tamara   \n",
       "667                               ter Horst, Judith   \n",
       "668                                      Tanaka, K.   \n",
       "\n",
       "    Publication Date (YYYY-MM)  \\\n",
       "664                       2011   \n",
       "665                    2011-11   \n",
       "666                    2011-07   \n",
       "667                    2014-02   \n",
       "668                    2010-04   \n",
       "\n",
       "    Reviewer (your name, First Last i.e. Meghan Cum)  \\\n",
       "664                                       Meghan Cum   \n",
       "665                                       Meghan Cum   \n",
       "666                                       Meghan Cum   \n",
       "667                           Jocelyn Santiago Perez   \n",
       "668                           Jocelyn Santiago Perez   \n",
       "\n",
       "    Verifier (name, good or bad)  \\\n",
       "664                                \n",
       "665                                \n",
       "666                                \n",
       "667                                \n",
       "668                                \n",
       "\n",
       "    Meets the sufficient criteria: uses mice or rats, is not a review or protocol paper, tests for social memory/recognition/discrimination  \\\n",
       "664                                                yes                                                                                        \n",
       "665                                                yes                                                                                        \n",
       "666                                                yes                                                                                        \n",
       "667                                                yes                                                                                        \n",
       "668                                                yes                                                                                        \n",
       "\n",
       "    Species Wild Rodents Used? (like literally caught from the wild)  \\\n",
       "664    Mice                                                 no         \n",
       "665    Mice                                                 no         \n",
       "666    Mice                                                 no         \n",
       "667    Mice                                                 no         \n",
       "668    Rats                                                 no         \n",
       "\n",
       "    Subject Strain  (i.e. C57BL6J or Sprague-Dawley) if multiple strains were used separate them by a semi colon and if mixed state mixed i.e. 129/SvJ mixed C57BL/6J; 129/SvJ mixed Swiss black  \\\n",
       "664                                           C57Bl/6J                                                                                                                                             \n",
       "665                          C57Bl/6 x 126Sv; C57BL/6J                                                                                                                                             \n",
       "666                                           C57Bl/6J                                                                                                                                             \n",
       "667                                           C57BL/6J                                                                                                                                             \n",
       "668                                         Long-Evans                                                                                                                                             \n",
       "\n",
       "     ... If female, ovariectiomized?            Social Agent Identity  \\\n",
       "664  ...                         Yes            ovariectomized female   \n",
       "665  ...                                          not specified male    \n",
       "666  ...                          no   juvenile male, juvenile female   \n",
       "667  ...                          no  adult male, adult intact female   \n",
       "668  ...                         Yes   ovariectomized juvenile female   \n",
       "\n",
       "    Social Agent Housing Social Agent Rank Social Agent Type  \\\n",
       "664     Does not specify  Does not specify    WT (wild type)   \n",
       "665     Does not specify  Does not specify    WT (wild type)   \n",
       "666     Does not specify  Does not specify    WT (wild type)   \n",
       "667         group-housed  Does not specify    WT (wild type)   \n",
       "668         group-housed  Does not specify    WT (wild type)   \n",
       "\n",
       "    Social Discrimination Tested? i.e. novel and familiar social agents presented at the *same time* to the subject  \\\n",
       "664                                                 no                                                                \n",
       "665                                                yes                                                                \n",
       "666                                                 no                                                                \n",
       "667                                                yes                                                                \n",
       "668                                                 no                                                                \n",
       "\n",
       "    Additional novel social agent used at all?   \\\n",
       "664                                         Yes   \n",
       "665                                         Yes   \n",
       "666                                          No   \n",
       "667                                         Yes   \n",
       "668                                          No   \n",
       "\n",
       "    Qualities Shared w/ Subject Mouse (i.e. same age between social agents and subject) [Social Agent]  \\\n",
       "664                                               None                                                   \n",
       "665                                               None                                                   \n",
       "666                       Sex, Type (WT vs transgenic)                                                   \n",
       "667          Age, Sex, Strain, Type (WT vs transgenic)                                                   \n",
       "668  Sex, Strain, Housing History, Type (WT vs tran...                                                   \n",
       "\n",
       "    Do you have questions on this paper/should Meghan look this one over?   \\\n",
       "664  No, I feel confident, and I double-checked all...                       \n",
       "665  No, I feel confident, and I double-checked all...                       \n",
       "666  No, I feel confident, and I double-checked all...                       \n",
       "667  No, I feel confident, and I double-checked all...                       \n",
       "668  No, I feel confident, and I double-checked all...                       \n",
       "\n",
       "    If you answered yes to the previous question, what concerns/questions did you have specifically on this paper?   \n",
       "664                                                                                                                  \n",
       "665                                                                                                                  \n",
       "666                                                                                                                  \n",
       "667                                                                                                                  \n",
       "668                                                                                                                  \n",
       "\n",
       "[5 rows x 32 columns]"
      ]
     },
     "execution_count": 330,
     "metadata": {},
     "output_type": "execute_result"
    }
   ],
   "source": [
    "survey_df.tail()"
   ]
  },
  {
   "cell_type": "markdown",
   "id": "cd6dc853",
   "metadata": {},
   "source": [
    "- Updating the dates to years"
   ]
  },
  {
   "cell_type": "code",
   "execution_count": 331,
   "id": "97505030",
   "metadata": {},
   "outputs": [],
   "source": [
    "survey_df[\"publication_year\"] = survey_df[\"Publication Date (YYYY-MM)\"].apply(lambda x: int(x.split(\"-\")[0]))"
   ]
  },
  {
   "cell_type": "markdown",
   "id": "1dc571ca",
   "metadata": {},
   "source": [
    "#create extra columns 1) if mice were used, 2) if rats were used "
   ]
  },
  {
   "cell_type": "code",
   "execution_count": 332,
   "id": "7a21d1ec",
   "metadata": {},
   "outputs": [],
   "source": [
    "survey_df[\"Mice used\"] = survey_df[\"Species\"].apply(lambda x: \"1\" if x == \"Mice\" or x == \"Both\" else \"0\")"
   ]
  },
  {
   "cell_type": "code",
   "execution_count": 333,
   "id": "b1be8895",
   "metadata": {},
   "outputs": [
    {
     "data": {
      "text/plain": [
       "0      1\n",
       "1      1\n",
       "2      0\n",
       "3      1\n",
       "4      0\n",
       "      ..\n",
       "664    1\n",
       "665    1\n",
       "666    1\n",
       "667    1\n",
       "668    0\n",
       "Name: Mice used, Length: 669, dtype: object"
      ]
     },
     "execution_count": 333,
     "metadata": {},
     "output_type": "execute_result"
    }
   ],
   "source": [
    "survey_df[\"Mice used\"]"
   ]
  },
  {
   "cell_type": "code",
   "execution_count": 334,
   "id": "a9a503f5",
   "metadata": {},
   "outputs": [],
   "source": [
    "survey_df[\"Rats used\"] = survey_df[\"Species\"].apply(lambda x: \"1\" if x == \"Rats\" or x == \"Both\" else \"0\")"
   ]
  },
  {
   "cell_type": "code",
   "execution_count": 335,
   "id": "191c272d",
   "metadata": {},
   "outputs": [
    {
     "data": {
      "text/plain": [
       "0      0\n",
       "1      0\n",
       "2      1\n",
       "3      0\n",
       "4      1\n",
       "      ..\n",
       "664    0\n",
       "665    0\n",
       "666    0\n",
       "667    0\n",
       "668    1\n",
       "Name: Rats used, Length: 669, dtype: object"
      ]
     },
     "execution_count": 335,
     "metadata": {},
     "output_type": "execute_result"
    }
   ],
   "source": [
    "survey_df[\"Rats used\"]"
   ]
  },
  {
   "cell_type": "markdown",
   "id": "98698516",
   "metadata": {},
   "source": [
    "## Trends in Sex of the Subject"
   ]
  },
  {
   "cell_type": "code",
   "execution_count": 336,
   "id": "ced7c85f",
   "metadata": {},
   "outputs": [
    {
     "data": {
      "text/plain": [
       "0      Does not specify\n",
       "1      Does not specify\n",
       "2      Does not specify\n",
       "3      Does not specify\n",
       "4      Does not specify\n",
       "             ...       \n",
       "664           Uses both\n",
       "665           Uses both\n",
       "666           Uses both\n",
       "667           Uses both\n",
       "668           Uses both\n",
       "Name: Subject Sex, Length: 669, dtype: object"
      ]
     },
     "execution_count": 336,
     "metadata": {},
     "output_type": "execute_result"
    }
   ],
   "source": [
    "survey_df[\"Subject Sex\"]"
   ]
  },
  {
   "cell_type": "code",
   "execution_count": 337,
   "id": "036ebdf9",
   "metadata": {},
   "outputs": [],
   "source": [
    "column_name = \"Subject Sex\"\n",
    "fixed_column_name = column_name + \"_fixed\"\n",
    "copy_of_survey_df = survey_df.copy()\n",
    "copy_of_survey_df[fixed_column_name] = copy_of_survey_df[column_name].apply(lambda x: x.split(\", \"))\n",
    "exploded_column_df = copy_of_survey_df.explode(fixed_column_name).reset_index()"
   ]
  },
  {
   "cell_type": "code",
   "execution_count": 338,
   "id": "9aa022d5",
   "metadata": {},
   "outputs": [
    {
     "data": {
      "text/html": [
       "<div>\n",
       "<style scoped>\n",
       "    .dataframe tbody tr th:only-of-type {\n",
       "        vertical-align: middle;\n",
       "    }\n",
       "\n",
       "    .dataframe tbody tr th {\n",
       "        vertical-align: top;\n",
       "    }\n",
       "\n",
       "    .dataframe thead th {\n",
       "        text-align: right;\n",
       "    }\n",
       "</style>\n",
       "<table border=\"1\" class=\"dataframe\">\n",
       "  <thead>\n",
       "    <tr style=\"text-align: right;\">\n",
       "      <th></th>\n",
       "      <th>publication_year</th>\n",
       "      <th>Subject Sex_fixed</th>\n",
       "      <th>index</th>\n",
       "      <th>Timestamp :)</th>\n",
       "      <th>Title</th>\n",
       "      <th>First Author (Last, First) (no middle initials)</th>\n",
       "      <th>Publication Date (YYYY-MM)</th>\n",
       "      <th>Reviewer (your name, First Last i.e. Meghan Cum)</th>\n",
       "      <th>Verifier (name, good or bad)</th>\n",
       "      <th>Meets the sufficient criteria: uses mice or rats, is not a review or protocol paper, tests for social memory/recognition/discrimination</th>\n",
       "      <th>...</th>\n",
       "      <th>Social Agent Housing</th>\n",
       "      <th>Social Agent Rank</th>\n",
       "      <th>Social Agent Type</th>\n",
       "      <th>Social Discrimination Tested? i.e. novel and familiar social agents presented at the *same time* to the subject</th>\n",
       "      <th>Additional novel social agent used at all?</th>\n",
       "      <th>Qualities Shared w/ Subject Mouse (i.e. same age between social agents and subject) [Social Agent]</th>\n",
       "      <th>Do you have questions on this paper/should Meghan look this one over?</th>\n",
       "      <th>If you answered yes to the previous question, what concerns/questions did you have specifically on this paper?</th>\n",
       "      <th>Mice used</th>\n",
       "      <th>Rats used</th>\n",
       "    </tr>\n",
       "  </thead>\n",
       "  <tbody>\n",
       "    <tr>\n",
       "      <th>0</th>\n",
       "      <td>2000</td>\n",
       "      <td>Male</td>\n",
       "      <td>5</td>\n",
       "      <td>5</td>\n",
       "      <td>5</td>\n",
       "      <td>5</td>\n",
       "      <td>5</td>\n",
       "      <td>5</td>\n",
       "      <td>5</td>\n",
       "      <td>5</td>\n",
       "      <td>...</td>\n",
       "      <td>5</td>\n",
       "      <td>5</td>\n",
       "      <td>5</td>\n",
       "      <td>5</td>\n",
       "      <td>5</td>\n",
       "      <td>5</td>\n",
       "      <td>5</td>\n",
       "      <td>5</td>\n",
       "      <td>5</td>\n",
       "      <td>5</td>\n",
       "    </tr>\n",
       "    <tr>\n",
       "      <th>1</th>\n",
       "      <td>2001</td>\n",
       "      <td>Female</td>\n",
       "      <td>1</td>\n",
       "      <td>1</td>\n",
       "      <td>1</td>\n",
       "      <td>1</td>\n",
       "      <td>1</td>\n",
       "      <td>1</td>\n",
       "      <td>1</td>\n",
       "      <td>1</td>\n",
       "      <td>...</td>\n",
       "      <td>1</td>\n",
       "      <td>1</td>\n",
       "      <td>1</td>\n",
       "      <td>1</td>\n",
       "      <td>1</td>\n",
       "      <td>1</td>\n",
       "      <td>1</td>\n",
       "      <td>1</td>\n",
       "      <td>1</td>\n",
       "      <td>1</td>\n",
       "    </tr>\n",
       "    <tr>\n",
       "      <th>2</th>\n",
       "      <td>2001</td>\n",
       "      <td>Male</td>\n",
       "      <td>8</td>\n",
       "      <td>8</td>\n",
       "      <td>8</td>\n",
       "      <td>8</td>\n",
       "      <td>8</td>\n",
       "      <td>8</td>\n",
       "      <td>8</td>\n",
       "      <td>8</td>\n",
       "      <td>...</td>\n",
       "      <td>8</td>\n",
       "      <td>8</td>\n",
       "      <td>8</td>\n",
       "      <td>8</td>\n",
       "      <td>8</td>\n",
       "      <td>8</td>\n",
       "      <td>8</td>\n",
       "      <td>8</td>\n",
       "      <td>8</td>\n",
       "      <td>8</td>\n",
       "    </tr>\n",
       "    <tr>\n",
       "      <th>3</th>\n",
       "      <td>2002</td>\n",
       "      <td>Male</td>\n",
       "      <td>9</td>\n",
       "      <td>9</td>\n",
       "      <td>9</td>\n",
       "      <td>9</td>\n",
       "      <td>9</td>\n",
       "      <td>9</td>\n",
       "      <td>9</td>\n",
       "      <td>9</td>\n",
       "      <td>...</td>\n",
       "      <td>9</td>\n",
       "      <td>9</td>\n",
       "      <td>9</td>\n",
       "      <td>9</td>\n",
       "      <td>9</td>\n",
       "      <td>9</td>\n",
       "      <td>9</td>\n",
       "      <td>9</td>\n",
       "      <td>9</td>\n",
       "      <td>9</td>\n",
       "    </tr>\n",
       "    <tr>\n",
       "      <th>4</th>\n",
       "      <td>2003</td>\n",
       "      <td>Female</td>\n",
       "      <td>2</td>\n",
       "      <td>2</td>\n",
       "      <td>2</td>\n",
       "      <td>2</td>\n",
       "      <td>2</td>\n",
       "      <td>2</td>\n",
       "      <td>2</td>\n",
       "      <td>2</td>\n",
       "      <td>...</td>\n",
       "      <td>2</td>\n",
       "      <td>2</td>\n",
       "      <td>2</td>\n",
       "      <td>2</td>\n",
       "      <td>2</td>\n",
       "      <td>2</td>\n",
       "      <td>2</td>\n",
       "      <td>2</td>\n",
       "      <td>2</td>\n",
       "      <td>2</td>\n",
       "    </tr>\n",
       "    <tr>\n",
       "      <th>...</th>\n",
       "      <td>...</td>\n",
       "      <td>...</td>\n",
       "      <td>...</td>\n",
       "      <td>...</td>\n",
       "      <td>...</td>\n",
       "      <td>...</td>\n",
       "      <td>...</td>\n",
       "      <td>...</td>\n",
       "      <td>...</td>\n",
       "      <td>...</td>\n",
       "      <td>...</td>\n",
       "      <td>...</td>\n",
       "      <td>...</td>\n",
       "      <td>...</td>\n",
       "      <td>...</td>\n",
       "      <td>...</td>\n",
       "      <td>...</td>\n",
       "      <td>...</td>\n",
       "      <td>...</td>\n",
       "      <td>...</td>\n",
       "      <td>...</td>\n",
       "    </tr>\n",
       "    <tr>\n",
       "      <th>70</th>\n",
       "      <td>2021</td>\n",
       "      <td>Male</td>\n",
       "      <td>48</td>\n",
       "      <td>48</td>\n",
       "      <td>48</td>\n",
       "      <td>48</td>\n",
       "      <td>48</td>\n",
       "      <td>48</td>\n",
       "      <td>48</td>\n",
       "      <td>48</td>\n",
       "      <td>...</td>\n",
       "      <td>48</td>\n",
       "      <td>48</td>\n",
       "      <td>48</td>\n",
       "      <td>48</td>\n",
       "      <td>48</td>\n",
       "      <td>48</td>\n",
       "      <td>48</td>\n",
       "      <td>48</td>\n",
       "      <td>48</td>\n",
       "      <td>48</td>\n",
       "    </tr>\n",
       "    <tr>\n",
       "      <th>71</th>\n",
       "      <td>2021</td>\n",
       "      <td>Uses both</td>\n",
       "      <td>28</td>\n",
       "      <td>28</td>\n",
       "      <td>28</td>\n",
       "      <td>28</td>\n",
       "      <td>28</td>\n",
       "      <td>28</td>\n",
       "      <td>28</td>\n",
       "      <td>28</td>\n",
       "      <td>...</td>\n",
       "      <td>28</td>\n",
       "      <td>28</td>\n",
       "      <td>28</td>\n",
       "      <td>28</td>\n",
       "      <td>28</td>\n",
       "      <td>28</td>\n",
       "      <td>28</td>\n",
       "      <td>28</td>\n",
       "      <td>28</td>\n",
       "      <td>28</td>\n",
       "    </tr>\n",
       "    <tr>\n",
       "      <th>72</th>\n",
       "      <td>2022</td>\n",
       "      <td>Female</td>\n",
       "      <td>2</td>\n",
       "      <td>2</td>\n",
       "      <td>2</td>\n",
       "      <td>2</td>\n",
       "      <td>2</td>\n",
       "      <td>2</td>\n",
       "      <td>2</td>\n",
       "      <td>2</td>\n",
       "      <td>...</td>\n",
       "      <td>2</td>\n",
       "      <td>2</td>\n",
       "      <td>2</td>\n",
       "      <td>2</td>\n",
       "      <td>2</td>\n",
       "      <td>2</td>\n",
       "      <td>2</td>\n",
       "      <td>2</td>\n",
       "      <td>2</td>\n",
       "      <td>2</td>\n",
       "    </tr>\n",
       "    <tr>\n",
       "      <th>73</th>\n",
       "      <td>2022</td>\n",
       "      <td>Male</td>\n",
       "      <td>3</td>\n",
       "      <td>3</td>\n",
       "      <td>3</td>\n",
       "      <td>3</td>\n",
       "      <td>3</td>\n",
       "      <td>3</td>\n",
       "      <td>3</td>\n",
       "      <td>3</td>\n",
       "      <td>...</td>\n",
       "      <td>3</td>\n",
       "      <td>3</td>\n",
       "      <td>3</td>\n",
       "      <td>3</td>\n",
       "      <td>3</td>\n",
       "      <td>3</td>\n",
       "      <td>3</td>\n",
       "      <td>3</td>\n",
       "      <td>3</td>\n",
       "      <td>3</td>\n",
       "    </tr>\n",
       "    <tr>\n",
       "      <th>74</th>\n",
       "      <td>2022</td>\n",
       "      <td>Uses both</td>\n",
       "      <td>2</td>\n",
       "      <td>2</td>\n",
       "      <td>2</td>\n",
       "      <td>2</td>\n",
       "      <td>2</td>\n",
       "      <td>2</td>\n",
       "      <td>2</td>\n",
       "      <td>2</td>\n",
       "      <td>...</td>\n",
       "      <td>2</td>\n",
       "      <td>2</td>\n",
       "      <td>2</td>\n",
       "      <td>2</td>\n",
       "      <td>2</td>\n",
       "      <td>2</td>\n",
       "      <td>2</td>\n",
       "      <td>2</td>\n",
       "      <td>2</td>\n",
       "      <td>2</td>\n",
       "    </tr>\n",
       "  </tbody>\n",
       "</table>\n",
       "<p>75 rows × 37 columns</p>\n",
       "</div>"
      ],
      "text/plain": [
       "    publication_year Subject Sex_fixed  index  Timestamp :)  Title  \\\n",
       "0               2000              Male      5             5      5   \n",
       "1               2001            Female      1             1      1   \n",
       "2               2001              Male      8             8      8   \n",
       "3               2002              Male      9             9      9   \n",
       "4               2003            Female      2             2      2   \n",
       "..               ...               ...    ...           ...    ...   \n",
       "70              2021              Male     48            48     48   \n",
       "71              2021         Uses both     28            28     28   \n",
       "72              2022            Female      2             2      2   \n",
       "73              2022              Male      3             3      3   \n",
       "74              2022         Uses both      2             2      2   \n",
       "\n",
       "    First Author (Last, First) (no middle initials)  \\\n",
       "0                                                 5   \n",
       "1                                                 1   \n",
       "2                                                 8   \n",
       "3                                                 9   \n",
       "4                                                 2   \n",
       "..                                              ...   \n",
       "70                                               48   \n",
       "71                                               28   \n",
       "72                                                2   \n",
       "73                                                3   \n",
       "74                                                2   \n",
       "\n",
       "    Publication Date (YYYY-MM)  \\\n",
       "0                            5   \n",
       "1                            1   \n",
       "2                            8   \n",
       "3                            9   \n",
       "4                            2   \n",
       "..                         ...   \n",
       "70                          48   \n",
       "71                          28   \n",
       "72                           2   \n",
       "73                           3   \n",
       "74                           2   \n",
       "\n",
       "    Reviewer (your name, First Last i.e. Meghan Cum)  \\\n",
       "0                                                  5   \n",
       "1                                                  1   \n",
       "2                                                  8   \n",
       "3                                                  9   \n",
       "4                                                  2   \n",
       "..                                               ...   \n",
       "70                                                48   \n",
       "71                                                28   \n",
       "72                                                 2   \n",
       "73                                                 3   \n",
       "74                                                 2   \n",
       "\n",
       "    Verifier (name, good or bad)  \\\n",
       "0                              5   \n",
       "1                              1   \n",
       "2                              8   \n",
       "3                              9   \n",
       "4                              2   \n",
       "..                           ...   \n",
       "70                            48   \n",
       "71                            28   \n",
       "72                             2   \n",
       "73                             3   \n",
       "74                             2   \n",
       "\n",
       "    Meets the sufficient criteria: uses mice or rats, is not a review or protocol paper, tests for social memory/recognition/discrimination  \\\n",
       "0                                                   5                                                                                         \n",
       "1                                                   1                                                                                         \n",
       "2                                                   8                                                                                         \n",
       "3                                                   9                                                                                         \n",
       "4                                                   2                                                                                         \n",
       "..                                                ...                                                                                         \n",
       "70                                                 48                                                                                         \n",
       "71                                                 28                                                                                         \n",
       "72                                                  2                                                                                         \n",
       "73                                                  3                                                                                         \n",
       "74                                                  2                                                                                         \n",
       "\n",
       "    ...  Social Agent Housing  Social Agent Rank  Social Agent Type  \\\n",
       "0   ...                     5                  5                  5   \n",
       "1   ...                     1                  1                  1   \n",
       "2   ...                     8                  8                  8   \n",
       "3   ...                     9                  9                  9   \n",
       "4   ...                     2                  2                  2   \n",
       "..  ...                   ...                ...                ...   \n",
       "70  ...                    48                 48                 48   \n",
       "71  ...                    28                 28                 28   \n",
       "72  ...                     2                  2                  2   \n",
       "73  ...                     3                  3                  3   \n",
       "74  ...                     2                  2                  2   \n",
       "\n",
       "    Social Discrimination Tested? i.e. novel and familiar social agents presented at the *same time* to the subject  \\\n",
       "0                                                   5                                                                 \n",
       "1                                                   1                                                                 \n",
       "2                                                   8                                                                 \n",
       "3                                                   9                                                                 \n",
       "4                                                   2                                                                 \n",
       "..                                                ...                                                                 \n",
       "70                                                 48                                                                 \n",
       "71                                                 28                                                                 \n",
       "72                                                  2                                                                 \n",
       "73                                                  3                                                                 \n",
       "74                                                  2                                                                 \n",
       "\n",
       "    Additional novel social agent used at all?   \\\n",
       "0                                             5   \n",
       "1                                             1   \n",
       "2                                             8   \n",
       "3                                             9   \n",
       "4                                             2   \n",
       "..                                          ...   \n",
       "70                                           48   \n",
       "71                                           28   \n",
       "72                                            2   \n",
       "73                                            3   \n",
       "74                                            2   \n",
       "\n",
       "    Qualities Shared w/ Subject Mouse (i.e. same age between social agents and subject) [Social Agent]  \\\n",
       "0                                                   5                                                    \n",
       "1                                                   1                                                    \n",
       "2                                                   8                                                    \n",
       "3                                                   9                                                    \n",
       "4                                                   2                                                    \n",
       "..                                                ...                                                    \n",
       "70                                                 48                                                    \n",
       "71                                                 28                                                    \n",
       "72                                                  2                                                    \n",
       "73                                                  3                                                    \n",
       "74                                                  2                                                    \n",
       "\n",
       "    Do you have questions on this paper/should Meghan look this one over?   \\\n",
       "0                                                   5                        \n",
       "1                                                   1                        \n",
       "2                                                   8                        \n",
       "3                                                   9                        \n",
       "4                                                   2                        \n",
       "..                                                ...                        \n",
       "70                                                 48                        \n",
       "71                                                 28                        \n",
       "72                                                  2                        \n",
       "73                                                  3                        \n",
       "74                                                  2                        \n",
       "\n",
       "    If you answered yes to the previous question, what concerns/questions did you have specifically on this paper?   \\\n",
       "0                                                   5                                                                 \n",
       "1                                                   1                                                                 \n",
       "2                                                   8                                                                 \n",
       "3                                                   9                                                                 \n",
       "4                                                   2                                                                 \n",
       "..                                                ...                                                                 \n",
       "70                                                 48                                                                 \n",
       "71                                                 28                                                                 \n",
       "72                                                  2                                                                 \n",
       "73                                                  3                                                                 \n",
       "74                                                  2                                                                 \n",
       "\n",
       "    Mice used  Rats used  \n",
       "0           5          5  \n",
       "1           1          1  \n",
       "2           8          8  \n",
       "3           9          9  \n",
       "4           2          2  \n",
       "..        ...        ...  \n",
       "70         48         48  \n",
       "71         28         28  \n",
       "72          2          2  \n",
       "73          3          3  \n",
       "74          2          2  \n",
       "\n",
       "[75 rows x 37 columns]"
      ]
     },
     "execution_count": 338,
     "metadata": {},
     "output_type": "execute_result"
    }
   ],
   "source": [
    "sex_year_count = exploded_column_df.groupby(['publication_year',fixed_column_name], as_index=False).count()\n",
    "\n",
    "sex_year_count "
   ]
  },
  {
   "cell_type": "code",
   "execution_count": 339,
   "id": "59804c73",
   "metadata": {},
   "outputs": [
    {
     "name": "stderr",
     "output_type": "stream",
     "text": [
      "C:\\Users\\megha\\AppData\\Local\\Temp\\ipykernel_18448\\3760886632.py:2: SettingWithCopyWarning: \n",
      "A value is trying to be set on a copy of a slice from a DataFrame\n",
      "\n",
      "See the caveats in the documentation: https://pandas.pydata.org/pandas-docs/stable/user_guide/indexing.html#returning-a-view-versus-a-copy\n",
      "  sex_year_count.drop(74, axis=0,inplace=True)\n",
      "C:\\Users\\megha\\AppData\\Local\\Temp\\ipykernel_18448\\3760886632.py:3: SettingWithCopyWarning: \n",
      "A value is trying to be set on a copy of a slice from a DataFrame\n",
      "\n",
      "See the caveats in the documentation: https://pandas.pydata.org/pandas-docs/stable/user_guide/indexing.html#returning-a-view-versus-a-copy\n",
      "  sex_year_count.drop(73, axis=0,inplace=True)\n",
      "C:\\Users\\megha\\AppData\\Local\\Temp\\ipykernel_18448\\3760886632.py:4: SettingWithCopyWarning: \n",
      "A value is trying to be set on a copy of a slice from a DataFrame\n",
      "\n",
      "See the caveats in the documentation: https://pandas.pydata.org/pandas-docs/stable/user_guide/indexing.html#returning-a-view-versus-a-copy\n",
      "  sex_year_count.drop(72, axis=0,inplace=True)\n"
     ]
    },
    {
     "data": {
      "text/html": [
       "<div>\n",
       "<style scoped>\n",
       "    .dataframe tbody tr th:only-of-type {\n",
       "        vertical-align: middle;\n",
       "    }\n",
       "\n",
       "    .dataframe tbody tr th {\n",
       "        vertical-align: top;\n",
       "    }\n",
       "\n",
       "    .dataframe thead th {\n",
       "        text-align: right;\n",
       "    }\n",
       "</style>\n",
       "<table border=\"1\" class=\"dataframe\">\n",
       "  <thead>\n",
       "    <tr style=\"text-align: right;\">\n",
       "      <th></th>\n",
       "      <th>publication_year</th>\n",
       "      <th>Subject Sex_fixed</th>\n",
       "      <th>index</th>\n",
       "    </tr>\n",
       "  </thead>\n",
       "  <tbody>\n",
       "    <tr>\n",
       "      <th>0</th>\n",
       "      <td>2000</td>\n",
       "      <td>Male</td>\n",
       "      <td>5</td>\n",
       "    </tr>\n",
       "    <tr>\n",
       "      <th>1</th>\n",
       "      <td>2001</td>\n",
       "      <td>Female</td>\n",
       "      <td>1</td>\n",
       "    </tr>\n",
       "    <tr>\n",
       "      <th>2</th>\n",
       "      <td>2001</td>\n",
       "      <td>Male</td>\n",
       "      <td>8</td>\n",
       "    </tr>\n",
       "    <tr>\n",
       "      <th>3</th>\n",
       "      <td>2002</td>\n",
       "      <td>Male</td>\n",
       "      <td>9</td>\n",
       "    </tr>\n",
       "    <tr>\n",
       "      <th>4</th>\n",
       "      <td>2003</td>\n",
       "      <td>Female</td>\n",
       "      <td>2</td>\n",
       "    </tr>\n",
       "    <tr>\n",
       "      <th>...</th>\n",
       "      <td>...</td>\n",
       "      <td>...</td>\n",
       "      <td>...</td>\n",
       "    </tr>\n",
       "    <tr>\n",
       "      <th>67</th>\n",
       "      <td>2020</td>\n",
       "      <td>Uses both</td>\n",
       "      <td>14</td>\n",
       "    </tr>\n",
       "    <tr>\n",
       "      <th>68</th>\n",
       "      <td>2021</td>\n",
       "      <td>Does not specify</td>\n",
       "      <td>1</td>\n",
       "    </tr>\n",
       "    <tr>\n",
       "      <th>69</th>\n",
       "      <td>2021</td>\n",
       "      <td>Female</td>\n",
       "      <td>5</td>\n",
       "    </tr>\n",
       "    <tr>\n",
       "      <th>70</th>\n",
       "      <td>2021</td>\n",
       "      <td>Male</td>\n",
       "      <td>48</td>\n",
       "    </tr>\n",
       "    <tr>\n",
       "      <th>71</th>\n",
       "      <td>2021</td>\n",
       "      <td>Uses both</td>\n",
       "      <td>28</td>\n",
       "    </tr>\n",
       "  </tbody>\n",
       "</table>\n",
       "<p>72 rows × 3 columns</p>\n",
       "</div>"
      ],
      "text/plain": [
       "    publication_year Subject Sex_fixed  index\n",
       "0               2000              Male      5\n",
       "1               2001            Female      1\n",
       "2               2001              Male      8\n",
       "3               2002              Male      9\n",
       "4               2003            Female      2\n",
       "..               ...               ...    ...\n",
       "67              2020         Uses both     14\n",
       "68              2021  Does not specify      1\n",
       "69              2021            Female      5\n",
       "70              2021              Male     48\n",
       "71              2021         Uses both     28\n",
       "\n",
       "[72 rows x 3 columns]"
      ]
     },
     "execution_count": 339,
     "metadata": {},
     "output_type": "execute_result"
    }
   ],
   "source": [
    "sex_year_count = sex_year_count[['publication_year','Subject Sex_fixed','index']]\n",
    "sex_year_count.drop(74, axis=0,inplace=True)\n",
    "sex_year_count.drop(73, axis=0,inplace=True)\n",
    "sex_year_count.drop(72, axis=0,inplace=True)\n",
    "sex_year_count"
   ]
  },
  {
   "cell_type": "code",
   "execution_count": 340,
   "id": "ca0e7997",
   "metadata": {},
   "outputs": [
    {
     "data": {
      "text/plain": [
       "array([2001, 2003, 2005, 2006, 2007, 2008, 2009, 2010, 2011, 2012, 2013,\n",
       "       2014, 2015, 2016, 2017, 2018, 2019, 2020, 2021], dtype=int64)"
      ]
     },
     "execution_count": 340,
     "metadata": {},
     "output_type": "execute_result"
    }
   ],
   "source": [
    "sex_year_count[sex_year_count['Subject Sex_fixed'] == 'Female']['publication_year'].unique()\n"
   ]
  },
  {
   "cell_type": "code",
   "execution_count": 341,
   "id": "dd7ba16f",
   "metadata": {},
   "outputs": [],
   "source": [
    "sex_year_count_list = sex_year_count.values.tolist()"
   ]
  },
  {
   "cell_type": "code",
   "execution_count": 342,
   "id": "1b74599a",
   "metadata": {},
   "outputs": [],
   "source": [
    "sex_list = ['Male', 'Female', 'Does not specify', 'Uses both']\n",
    "for sex in sex_list:\n",
    "    for year in set(sex_year_count['publication_year'].unique()) - set(sex_year_count[sex_year_count['Subject Sex_fixed'] == sex]['publication_year'].unique()):\n",
    "        sex_year_count_list.append([year, sex, 0])      \n",
    "    \n",
    "                                                                          \n",
    "                                                                          "
   ]
  },
  {
   "cell_type": "code",
   "execution_count": 343,
   "id": "2eee7c5d",
   "metadata": {},
   "outputs": [],
   "source": [
    "# Increase size of plot in jupyter\n",
    "\n",
    "plt.rcParams[\"figure.figsize\"] = (18,10)"
   ]
  },
  {
   "cell_type": "code",
   "execution_count": 344,
   "id": "e37f206d",
   "metadata": {
    "scrolled": true
   },
   "outputs": [
    {
     "data": {
      "text/html": [
       "<div>\n",
       "<style scoped>\n",
       "    .dataframe tbody tr th:only-of-type {\n",
       "        vertical-align: middle;\n",
       "    }\n",
       "\n",
       "    .dataframe tbody tr th {\n",
       "        vertical-align: top;\n",
       "    }\n",
       "\n",
       "    .dataframe thead th {\n",
       "        text-align: right;\n",
       "    }\n",
       "</style>\n",
       "<table border=\"1\" class=\"dataframe\">\n",
       "  <thead>\n",
       "    <tr style=\"text-align: right;\">\n",
       "      <th></th>\n",
       "      <th>publication_year</th>\n",
       "      <th>Subject Sex_fixed</th>\n",
       "      <th>total</th>\n",
       "    </tr>\n",
       "  </thead>\n",
       "  <tbody>\n",
       "    <tr>\n",
       "      <th>0</th>\n",
       "      <td>2000</td>\n",
       "      <td>Does not specify</td>\n",
       "      <td>0</td>\n",
       "    </tr>\n",
       "    <tr>\n",
       "      <th>1</th>\n",
       "      <td>2000</td>\n",
       "      <td>Female</td>\n",
       "      <td>0</td>\n",
       "    </tr>\n",
       "    <tr>\n",
       "      <th>2</th>\n",
       "      <td>2000</td>\n",
       "      <td>Male</td>\n",
       "      <td>5</td>\n",
       "    </tr>\n",
       "    <tr>\n",
       "      <th>3</th>\n",
       "      <td>2000</td>\n",
       "      <td>Uses both</td>\n",
       "      <td>0</td>\n",
       "    </tr>\n",
       "    <tr>\n",
       "      <th>4</th>\n",
       "      <td>2001</td>\n",
       "      <td>Does not specify</td>\n",
       "      <td>0</td>\n",
       "    </tr>\n",
       "    <tr>\n",
       "      <th>...</th>\n",
       "      <td>...</td>\n",
       "      <td>...</td>\n",
       "      <td>...</td>\n",
       "    </tr>\n",
       "    <tr>\n",
       "      <th>83</th>\n",
       "      <td>2020</td>\n",
       "      <td>Uses both</td>\n",
       "      <td>14</td>\n",
       "    </tr>\n",
       "    <tr>\n",
       "      <th>84</th>\n",
       "      <td>2021</td>\n",
       "      <td>Does not specify</td>\n",
       "      <td>1</td>\n",
       "    </tr>\n",
       "    <tr>\n",
       "      <th>85</th>\n",
       "      <td>2021</td>\n",
       "      <td>Female</td>\n",
       "      <td>5</td>\n",
       "    </tr>\n",
       "    <tr>\n",
       "      <th>86</th>\n",
       "      <td>2021</td>\n",
       "      <td>Male</td>\n",
       "      <td>48</td>\n",
       "    </tr>\n",
       "    <tr>\n",
       "      <th>87</th>\n",
       "      <td>2021</td>\n",
       "      <td>Uses both</td>\n",
       "      <td>28</td>\n",
       "    </tr>\n",
       "  </tbody>\n",
       "</table>\n",
       "<p>88 rows × 3 columns</p>\n",
       "</div>"
      ],
      "text/plain": [
       "    publication_year Subject Sex_fixed  total\n",
       "0               2000  Does not specify      0\n",
       "1               2000            Female      0\n",
       "2               2000              Male      5\n",
       "3               2000         Uses both      0\n",
       "4               2001  Does not specify      0\n",
       "..               ...               ...    ...\n",
       "83              2020         Uses both     14\n",
       "84              2021  Does not specify      1\n",
       "85              2021            Female      5\n",
       "86              2021              Male     48\n",
       "87              2021         Uses both     28\n",
       "\n",
       "[88 rows x 3 columns]"
      ]
     },
     "execution_count": 344,
     "metadata": {},
     "output_type": "execute_result"
    }
   ],
   "source": [
    "sex_totals = pd.DataFrame(sex_year_count_list, columns=['publication_year', 'Subject Sex_fixed', 'total'])\n",
    "sex_totals = sex_totals.groupby(['publication_year','Subject Sex_fixed', 'total'], as_index=False).count()\n",
    "sex_totals"
   ]
  },
  {
   "cell_type": "code",
   "execution_count": 345,
   "id": "1141d738",
   "metadata": {},
   "outputs": [
    {
     "data": {
      "text/plain": [
       "array(['Male', 'Female', 'Uses both', 'Does not specify'], dtype=object)"
      ]
     },
     "execution_count": 345,
     "metadata": {},
     "output_type": "execute_result"
    }
   ],
   "source": [
    "sex_year_count[\"Subject Sex_fixed\"].unique()"
   ]
  },
  {
   "cell_type": "code",
   "execution_count": 399,
   "id": "ab038a15",
   "metadata": {
    "scrolled": true
   },
   "outputs": [
    {
     "ename": "NameError",
     "evalue": "name 'pclabcol2' is not defined",
     "output_type": "error",
     "traceback": [
      "\u001b[1;31m---------------------------------------------------------------------------\u001b[0m",
      "\u001b[1;31mNameError\u001b[0m                                 Traceback (most recent call last)",
      "Input \u001b[1;32mIn [399]\u001b[0m, in \u001b[0;36m<cell line: 4>\u001b[1;34m()\u001b[0m\n\u001b[0;32m      4\u001b[0m \u001b[38;5;28;01mfor\u001b[39;00m sex \u001b[38;5;129;01min\u001b[39;00m sex_totals[\u001b[38;5;124m\"\u001b[39m\u001b[38;5;124mSubject Sex_fixed\u001b[39m\u001b[38;5;124m\"\u001b[39m]\u001b[38;5;241m.\u001b[39munique():\n\u001b[0;32m      5\u001b[0m     sex_df \u001b[38;5;241m=\u001b[39m sex_totals[sex_totals[\u001b[38;5;124m\"\u001b[39m\u001b[38;5;124mSubject Sex_fixed\u001b[39m\u001b[38;5;124m\"\u001b[39m] \u001b[38;5;241m==\u001b[39m sex]\n\u001b[1;32m----> 6\u001b[0m     ax\u001b[38;5;241m.\u001b[39mplot(sex_df[\u001b[38;5;124m\"\u001b[39m\u001b[38;5;124mpublication_year\u001b[39m\u001b[38;5;124m\"\u001b[39m], sex_df[\u001b[38;5;124m\"\u001b[39m\u001b[38;5;124mtotal\u001b[39m\u001b[38;5;124m\"\u001b[39m], \u001b[38;5;124m'\u001b[39m\u001b[38;5;124m-o\u001b[39m\u001b[38;5;124m'\u001b[39m, label\u001b[38;5;241m=\u001b[39msex, linewidth\u001b[38;5;241m=\u001b[39m\u001b[38;5;241m10\u001b[39m, markersize\u001b[38;5;241m=\u001b[39m\u001b[38;5;241m20\u001b[39m, color \u001b[38;5;241m=\u001b[39m \u001b[43mpclabcol2\u001b[49m[col])\n\u001b[0;32m      7\u001b[0m     col \u001b[38;5;241m+\u001b[39m\u001b[38;5;241m=\u001b[39m \u001b[38;5;241m1\u001b[39m\n\u001b[0;32m      8\u001b[0m plt\u001b[38;5;241m.\u001b[39mlegend(fontsize \u001b[38;5;241m=\u001b[39m \u001b[38;5;241m25\u001b[39m, frameon \u001b[38;5;241m=\u001b[39m \u001b[38;5;28;01mFalse\u001b[39;00m)\n",
      "\u001b[1;31mNameError\u001b[0m: name 'pclabcol2' is not defined"
     ]
    },
    {
     "data": {
      "image/png": "[encoded data removed]",
      "text/plain": [
       "<Figure size 1296x720 with 1 Axes>"
      ]
     },
     "metadata": {
      "needs_background": "light"
     },
     "output_type": "display_data"
    }
   ],
   "source": [
    "fig, ax = plt.subplots()\n",
    "col = 1\n",
    "#plt.text(family = \"Helvetica\")\n",
    "for sex in sex_totals[\"Subject Sex_fixed\"].unique():\n",
    "    sex_df = sex_totals[sex_totals[\"Subject Sex_fixed\"] == sex]\n",
    "    ax.plot(sex_df[\"publication_year\"], sex_df[\"total\"], '-o', label=sex, linewidth=10, markersize=20, color = pclabcol2[col])\n",
    "    col += 1\n",
    "plt.legend(fontsize = 25, frameon = False)\n",
    "plt.xticks(sex_df[\"publication_year\"].unique(), fontsize = 25, rotation = 45)\n",
    "plt.locator_params(axis='x', nbins=10)\n",
    "plt.yticks(fontsize = 35)\n",
    "plt.title(\"Subject sex across years\", fontsize = 60)\n",
    "plt.xlabel(\"Year\", fontsize = 40)\n",
    "plt.ylabel(\"Number of papers\", fontsize = 40)\n",
    "plt.savefig(\"./proc/plots/year_vs_sex.svg\")"
   ]
  },
  {
   "cell_type": "markdown",
   "id": "97264ab3",
   "metadata": {},
   "source": [
    "## Trends in Age of the Subject"
   ]
  },
  {
   "cell_type": "code",
   "execution_count": 347,
   "id": "10a7c8cc",
   "metadata": {},
   "outputs": [
    {
     "data": {
      "text/plain": [
       "0                                       does not specify\n",
       "1                             adult (week not specified)\n",
       "2                                    adult (12-24 weeks)\n",
       "3                                       Does not specify\n",
       "4                               young adult (8-12 weeks)\n",
       "                             ...                        \n",
       "664                             young adult (8-12 weeks)\n",
       "665             adult (12-24 weeks), adult (24-40 weeks)\n",
       "666                                     Does not specify\n",
       "667             adult (12-24 weeks), adult (24-40 weeks)\n",
       "668    juvenile (3-7 weeks or week not specified), yo...\n",
       "Name: Subject Age, Length: 669, dtype: object"
      ]
     },
     "execution_count": 347,
     "metadata": {},
     "output_type": "execute_result"
    }
   ],
   "source": [
    "survey_df[\"Subject Age\"]"
   ]
  },
  {
   "cell_type": "code",
   "execution_count": 348,
   "id": "89f09e68",
   "metadata": {},
   "outputs": [],
   "source": [
    "column_name = \"Subject Age\""
   ]
  },
  {
   "cell_type": "code",
   "execution_count": 349,
   "id": "c1396b10",
   "metadata": {},
   "outputs": [],
   "source": [
    "fixed_column_name = column_name + \"_fixed\""
   ]
  },
  {
   "cell_type": "code",
   "execution_count": 350,
   "id": "72aa8e38",
   "metadata": {},
   "outputs": [],
   "source": [
    "copy_of_survey_df = survey_df.copy()"
   ]
  },
  {
   "cell_type": "code",
   "execution_count": 351,
   "id": "268a61a3",
   "metadata": {},
   "outputs": [],
   "source": [
    "copy_of_survey_df[fixed_column_name] = copy_of_survey_df[column_name].apply(lambda x: x.split(\", \"))"
   ]
  },
  {
   "cell_type": "code",
   "execution_count": 352,
   "id": "8c2ba357",
   "metadata": {},
   "outputs": [],
   "source": [
    "exploded_column_df = copy_of_survey_df.explode(fixed_column_name).reset_index()\n"
   ]
  },
  {
   "cell_type": "code",
   "execution_count": 353,
   "id": "dab967d9",
   "metadata": {},
   "outputs": [
    {
     "data": {
      "text/html": [
       "<div>\n",
       "<style scoped>\n",
       "    .dataframe tbody tr th:only-of-type {\n",
       "        vertical-align: middle;\n",
       "    }\n",
       "\n",
       "    .dataframe tbody tr th {\n",
       "        vertical-align: top;\n",
       "    }\n",
       "\n",
       "    .dataframe thead th {\n",
       "        text-align: right;\n",
       "    }\n",
       "</style>\n",
       "<table border=\"1\" class=\"dataframe\">\n",
       "  <thead>\n",
       "    <tr style=\"text-align: right;\">\n",
       "      <th></th>\n",
       "      <th>publication_year</th>\n",
       "      <th>Subject Age_fixed</th>\n",
       "      <th>index</th>\n",
       "      <th>Timestamp :)</th>\n",
       "      <th>Title</th>\n",
       "      <th>First Author (Last, First) (no middle initials)</th>\n",
       "      <th>Publication Date (YYYY-MM)</th>\n",
       "      <th>Reviewer (your name, First Last i.e. Meghan Cum)</th>\n",
       "      <th>Verifier (name, good or bad)</th>\n",
       "      <th>Meets the sufficient criteria: uses mice or rats, is not a review or protocol paper, tests for social memory/recognition/discrimination</th>\n",
       "      <th>...</th>\n",
       "      <th>Social Agent Housing</th>\n",
       "      <th>Social Agent Rank</th>\n",
       "      <th>Social Agent Type</th>\n",
       "      <th>Social Discrimination Tested? i.e. novel and familiar social agents presented at the *same time* to the subject</th>\n",
       "      <th>Additional novel social agent used at all?</th>\n",
       "      <th>Qualities Shared w/ Subject Mouse (i.e. same age between social agents and subject) [Social Agent]</th>\n",
       "      <th>Do you have questions on this paper/should Meghan look this one over?</th>\n",
       "      <th>If you answered yes to the previous question, what concerns/questions did you have specifically on this paper?</th>\n",
       "      <th>Mice used</th>\n",
       "      <th>Rats used</th>\n",
       "    </tr>\n",
       "  </thead>\n",
       "  <tbody>\n",
       "    <tr>\n",
       "      <th>0</th>\n",
       "      <td>2000</td>\n",
       "      <td>adult (12-24 weeks)</td>\n",
       "      <td>1</td>\n",
       "      <td>1</td>\n",
       "      <td>1</td>\n",
       "      <td>1</td>\n",
       "      <td>1</td>\n",
       "      <td>1</td>\n",
       "      <td>1</td>\n",
       "      <td>1</td>\n",
       "      <td>...</td>\n",
       "      <td>1</td>\n",
       "      <td>1</td>\n",
       "      <td>1</td>\n",
       "      <td>1</td>\n",
       "      <td>1</td>\n",
       "      <td>1</td>\n",
       "      <td>1</td>\n",
       "      <td>1</td>\n",
       "      <td>1</td>\n",
       "      <td>1</td>\n",
       "    </tr>\n",
       "    <tr>\n",
       "      <th>1</th>\n",
       "      <td>2000</td>\n",
       "      <td>adult (24-40 weeks)</td>\n",
       "      <td>1</td>\n",
       "      <td>1</td>\n",
       "      <td>1</td>\n",
       "      <td>1</td>\n",
       "      <td>1</td>\n",
       "      <td>1</td>\n",
       "      <td>1</td>\n",
       "      <td>1</td>\n",
       "      <td>...</td>\n",
       "      <td>1</td>\n",
       "      <td>1</td>\n",
       "      <td>1</td>\n",
       "      <td>1</td>\n",
       "      <td>1</td>\n",
       "      <td>1</td>\n",
       "      <td>1</td>\n",
       "      <td>1</td>\n",
       "      <td>1</td>\n",
       "      <td>1</td>\n",
       "    </tr>\n",
       "    <tr>\n",
       "      <th>2</th>\n",
       "      <td>2000</td>\n",
       "      <td>adult (week not specified)</td>\n",
       "      <td>3</td>\n",
       "      <td>3</td>\n",
       "      <td>3</td>\n",
       "      <td>3</td>\n",
       "      <td>3</td>\n",
       "      <td>3</td>\n",
       "      <td>3</td>\n",
       "      <td>3</td>\n",
       "      <td>...</td>\n",
       "      <td>3</td>\n",
       "      <td>3</td>\n",
       "      <td>3</td>\n",
       "      <td>3</td>\n",
       "      <td>3</td>\n",
       "      <td>3</td>\n",
       "      <td>3</td>\n",
       "      <td>3</td>\n",
       "      <td>3</td>\n",
       "      <td>3</td>\n",
       "    </tr>\n",
       "    <tr>\n",
       "      <th>3</th>\n",
       "      <td>2001</td>\n",
       "      <td>Does not specify</td>\n",
       "      <td>4</td>\n",
       "      <td>4</td>\n",
       "      <td>4</td>\n",
       "      <td>4</td>\n",
       "      <td>4</td>\n",
       "      <td>4</td>\n",
       "      <td>4</td>\n",
       "      <td>4</td>\n",
       "      <td>...</td>\n",
       "      <td>4</td>\n",
       "      <td>4</td>\n",
       "      <td>4</td>\n",
       "      <td>4</td>\n",
       "      <td>4</td>\n",
       "      <td>4</td>\n",
       "      <td>4</td>\n",
       "      <td>4</td>\n",
       "      <td>4</td>\n",
       "      <td>4</td>\n",
       "    </tr>\n",
       "    <tr>\n",
       "      <th>4</th>\n",
       "      <td>2001</td>\n",
       "      <td>adult (12-24 weeks)</td>\n",
       "      <td>1</td>\n",
       "      <td>1</td>\n",
       "      <td>1</td>\n",
       "      <td>1</td>\n",
       "      <td>1</td>\n",
       "      <td>1</td>\n",
       "      <td>1</td>\n",
       "      <td>1</td>\n",
       "      <td>...</td>\n",
       "      <td>1</td>\n",
       "      <td>1</td>\n",
       "      <td>1</td>\n",
       "      <td>1</td>\n",
       "      <td>1</td>\n",
       "      <td>1</td>\n",
       "      <td>1</td>\n",
       "      <td>1</td>\n",
       "      <td>1</td>\n",
       "      <td>1</td>\n",
       "    </tr>\n",
       "    <tr>\n",
       "      <th>...</th>\n",
       "      <td>...</td>\n",
       "      <td>...</td>\n",
       "      <td>...</td>\n",
       "      <td>...</td>\n",
       "      <td>...</td>\n",
       "      <td>...</td>\n",
       "      <td>...</td>\n",
       "      <td>...</td>\n",
       "      <td>...</td>\n",
       "      <td>...</td>\n",
       "      <td>...</td>\n",
       "      <td>...</td>\n",
       "      <td>...</td>\n",
       "      <td>...</td>\n",
       "      <td>...</td>\n",
       "      <td>...</td>\n",
       "      <td>...</td>\n",
       "      <td>...</td>\n",
       "      <td>...</td>\n",
       "      <td>...</td>\n",
       "      <td>...</td>\n",
       "    </tr>\n",
       "    <tr>\n",
       "      <th>135</th>\n",
       "      <td>2021</td>\n",
       "      <td>juvenile (3-7 weeks)</td>\n",
       "      <td>1</td>\n",
       "      <td>1</td>\n",
       "      <td>1</td>\n",
       "      <td>1</td>\n",
       "      <td>1</td>\n",
       "      <td>1</td>\n",
       "      <td>1</td>\n",
       "      <td>1</td>\n",
       "      <td>...</td>\n",
       "      <td>1</td>\n",
       "      <td>1</td>\n",
       "      <td>1</td>\n",
       "      <td>1</td>\n",
       "      <td>1</td>\n",
       "      <td>1</td>\n",
       "      <td>1</td>\n",
       "      <td>1</td>\n",
       "      <td>1</td>\n",
       "      <td>1</td>\n",
       "    </tr>\n",
       "    <tr>\n",
       "      <th>136</th>\n",
       "      <td>2021</td>\n",
       "      <td>old (+40 weeks)</td>\n",
       "      <td>4</td>\n",
       "      <td>4</td>\n",
       "      <td>4</td>\n",
       "      <td>4</td>\n",
       "      <td>4</td>\n",
       "      <td>4</td>\n",
       "      <td>4</td>\n",
       "      <td>4</td>\n",
       "      <td>...</td>\n",
       "      <td>4</td>\n",
       "      <td>4</td>\n",
       "      <td>4</td>\n",
       "      <td>4</td>\n",
       "      <td>4</td>\n",
       "      <td>4</td>\n",
       "      <td>4</td>\n",
       "      <td>4</td>\n",
       "      <td>4</td>\n",
       "      <td>4</td>\n",
       "    </tr>\n",
       "    <tr>\n",
       "      <th>137</th>\n",
       "      <td>2021</td>\n",
       "      <td>young adult (8-12 weeks)</td>\n",
       "      <td>36</td>\n",
       "      <td>36</td>\n",
       "      <td>36</td>\n",
       "      <td>36</td>\n",
       "      <td>36</td>\n",
       "      <td>36</td>\n",
       "      <td>36</td>\n",
       "      <td>36</td>\n",
       "      <td>...</td>\n",
       "      <td>36</td>\n",
       "      <td>36</td>\n",
       "      <td>36</td>\n",
       "      <td>36</td>\n",
       "      <td>36</td>\n",
       "      <td>36</td>\n",
       "      <td>36</td>\n",
       "      <td>36</td>\n",
       "      <td>36</td>\n",
       "      <td>36</td>\n",
       "    </tr>\n",
       "    <tr>\n",
       "      <th>138</th>\n",
       "      <td>2022</td>\n",
       "      <td>juvenile (3-7 weeks or week not specified)</td>\n",
       "      <td>2</td>\n",
       "      <td>2</td>\n",
       "      <td>2</td>\n",
       "      <td>2</td>\n",
       "      <td>2</td>\n",
       "      <td>2</td>\n",
       "      <td>2</td>\n",
       "      <td>2</td>\n",
       "      <td>...</td>\n",
       "      <td>2</td>\n",
       "      <td>2</td>\n",
       "      <td>2</td>\n",
       "      <td>2</td>\n",
       "      <td>2</td>\n",
       "      <td>2</td>\n",
       "      <td>2</td>\n",
       "      <td>2</td>\n",
       "      <td>2</td>\n",
       "      <td>2</td>\n",
       "    </tr>\n",
       "    <tr>\n",
       "      <th>139</th>\n",
       "      <td>2022</td>\n",
       "      <td>young adult (8-12 weeks)</td>\n",
       "      <td>6</td>\n",
       "      <td>6</td>\n",
       "      <td>6</td>\n",
       "      <td>6</td>\n",
       "      <td>6</td>\n",
       "      <td>6</td>\n",
       "      <td>6</td>\n",
       "      <td>6</td>\n",
       "      <td>...</td>\n",
       "      <td>6</td>\n",
       "      <td>6</td>\n",
       "      <td>6</td>\n",
       "      <td>6</td>\n",
       "      <td>6</td>\n",
       "      <td>6</td>\n",
       "      <td>6</td>\n",
       "      <td>6</td>\n",
       "      <td>6</td>\n",
       "      <td>6</td>\n",
       "    </tr>\n",
       "  </tbody>\n",
       "</table>\n",
       "<p>140 rows × 37 columns</p>\n",
       "</div>"
      ],
      "text/plain": [
       "     publication_year                           Subject Age_fixed  index  \\\n",
       "0                2000                         adult (12-24 weeks)      1   \n",
       "1                2000                         adult (24-40 weeks)      1   \n",
       "2                2000                  adult (week not specified)      3   \n",
       "3                2001                            Does not specify      4   \n",
       "4                2001                         adult (12-24 weeks)      1   \n",
       "..                ...                                         ...    ...   \n",
       "135              2021                        juvenile (3-7 weeks)      1   \n",
       "136              2021                             old (+40 weeks)      4   \n",
       "137              2021                    young adult (8-12 weeks)     36   \n",
       "138              2022  juvenile (3-7 weeks or week not specified)      2   \n",
       "139              2022                    young adult (8-12 weeks)      6   \n",
       "\n",
       "     Timestamp :)  Title  First Author (Last, First) (no middle initials)  \\\n",
       "0               1      1                                                1   \n",
       "1               1      1                                                1   \n",
       "2               3      3                                                3   \n",
       "3               4      4                                                4   \n",
       "4               1      1                                                1   \n",
       "..            ...    ...                                              ...   \n",
       "135             1      1                                                1   \n",
       "136             4      4                                                4   \n",
       "137            36     36                                               36   \n",
       "138             2      2                                                2   \n",
       "139             6      6                                                6   \n",
       "\n",
       "     Publication Date (YYYY-MM)  \\\n",
       "0                             1   \n",
       "1                             1   \n",
       "2                             3   \n",
       "3                             4   \n",
       "4                             1   \n",
       "..                          ...   \n",
       "135                           1   \n",
       "136                           4   \n",
       "137                          36   \n",
       "138                           2   \n",
       "139                           6   \n",
       "\n",
       "     Reviewer (your name, First Last i.e. Meghan Cum)  \\\n",
       "0                                                   1   \n",
       "1                                                   1   \n",
       "2                                                   3   \n",
       "3                                                   4   \n",
       "4                                                   1   \n",
       "..                                                ...   \n",
       "135                                                 1   \n",
       "136                                                 4   \n",
       "137                                                36   \n",
       "138                                                 2   \n",
       "139                                                 6   \n",
       "\n",
       "     Verifier (name, good or bad)  \\\n",
       "0                               1   \n",
       "1                               1   \n",
       "2                               3   \n",
       "3                               4   \n",
       "4                               1   \n",
       "..                            ...   \n",
       "135                             1   \n",
       "136                             4   \n",
       "137                            36   \n",
       "138                             2   \n",
       "139                             6   \n",
       "\n",
       "     Meets the sufficient criteria: uses mice or rats, is not a review or protocol paper, tests for social memory/recognition/discrimination  \\\n",
       "0                                                    1                                                                                         \n",
       "1                                                    1                                                                                         \n",
       "2                                                    3                                                                                         \n",
       "3                                                    4                                                                                         \n",
       "4                                                    1                                                                                         \n",
       "..                                                 ...                                                                                         \n",
       "135                                                  1                                                                                         \n",
       "136                                                  4                                                                                         \n",
       "137                                                 36                                                                                         \n",
       "138                                                  2                                                                                         \n",
       "139                                                  6                                                                                         \n",
       "\n",
       "     ...  Social Agent Housing  Social Agent Rank  Social Agent Type  \\\n",
       "0    ...                     1                  1                  1   \n",
       "1    ...                     1                  1                  1   \n",
       "2    ...                     3                  3                  3   \n",
       "3    ...                     4                  4                  4   \n",
       "4    ...                     1                  1                  1   \n",
       "..   ...                   ...                ...                ...   \n",
       "135  ...                     1                  1                  1   \n",
       "136  ...                     4                  4                  4   \n",
       "137  ...                    36                 36                 36   \n",
       "138  ...                     2                  2                  2   \n",
       "139  ...                     6                  6                  6   \n",
       "\n",
       "     Social Discrimination Tested? i.e. novel and familiar social agents presented at the *same time* to the subject  \\\n",
       "0                                                    1                                                                 \n",
       "1                                                    1                                                                 \n",
       "2                                                    3                                                                 \n",
       "3                                                    4                                                                 \n",
       "4                                                    1                                                                 \n",
       "..                                                 ...                                                                 \n",
       "135                                                  1                                                                 \n",
       "136                                                  4                                                                 \n",
       "137                                                 36                                                                 \n",
       "138                                                  2                                                                 \n",
       "139                                                  6                                                                 \n",
       "\n",
       "     Additional novel social agent used at all?   \\\n",
       "0                                              1   \n",
       "1                                              1   \n",
       "2                                              3   \n",
       "3                                              4   \n",
       "4                                              1   \n",
       "..                                           ...   \n",
       "135                                            1   \n",
       "136                                            4   \n",
       "137                                           36   \n",
       "138                                            2   \n",
       "139                                            6   \n",
       "\n",
       "     Qualities Shared w/ Subject Mouse (i.e. same age between social agents and subject) [Social Agent]  \\\n",
       "0                                                    1                                                    \n",
       "1                                                    1                                                    \n",
       "2                                                    3                                                    \n",
       "3                                                    4                                                    \n",
       "4                                                    1                                                    \n",
       "..                                                 ...                                                    \n",
       "135                                                  1                                                    \n",
       "136                                                  4                                                    \n",
       "137                                                 36                                                    \n",
       "138                                                  2                                                    \n",
       "139                                                  6                                                    \n",
       "\n",
       "     Do you have questions on this paper/should Meghan look this one over?   \\\n",
       "0                                                    1                        \n",
       "1                                                    1                        \n",
       "2                                                    3                        \n",
       "3                                                    4                        \n",
       "4                                                    1                        \n",
       "..                                                 ...                        \n",
       "135                                                  1                        \n",
       "136                                                  4                        \n",
       "137                                                 36                        \n",
       "138                                                  2                        \n",
       "139                                                  6                        \n",
       "\n",
       "     If you answered yes to the previous question, what concerns/questions did you have specifically on this paper?   \\\n",
       "0                                                    1                                                                 \n",
       "1                                                    1                                                                 \n",
       "2                                                    3                                                                 \n",
       "3                                                    4                                                                 \n",
       "4                                                    1                                                                 \n",
       "..                                                 ...                                                                 \n",
       "135                                                  1                                                                 \n",
       "136                                                  4                                                                 \n",
       "137                                                 36                                                                 \n",
       "138                                                  2                                                                 \n",
       "139                                                  6                                                                 \n",
       "\n",
       "     Mice used  Rats used  \n",
       "0            1          1  \n",
       "1            1          1  \n",
       "2            3          3  \n",
       "3            4          4  \n",
       "4            1          1  \n",
       "..         ...        ...  \n",
       "135          1          1  \n",
       "136          4          4  \n",
       "137         36         36  \n",
       "138          2          2  \n",
       "139          6          6  \n",
       "\n",
       "[140 rows x 37 columns]"
      ]
     },
     "execution_count": 353,
     "metadata": {},
     "output_type": "execute_result"
    }
   ],
   "source": [
    "column_year_count = exploded_column_df.groupby(['publication_year', fixed_column_name], as_index=False).count()\n",
    "column_year_count"
   ]
  },
  {
   "cell_type": "code",
   "execution_count": 354,
   "id": "37029aa1",
   "metadata": {},
   "outputs": [],
   "source": [
    "# Increase size of plot in jupyter\n",
    "\n",
    "plt.rcParams[\"figure.figsize\"] = (18,10)"
   ]
  },
  {
   "cell_type": "code",
   "execution_count": 355,
   "id": "6a3702cd",
   "metadata": {
    "scrolled": true
   },
   "outputs": [
    {
     "data": {
      "image/png": "[encoded data removed]",
      "text/plain": [
       "<Figure size 1296x720 with 1 Axes>"
      ]
     },
     "metadata": {
      "needs_background": "light"
     },
     "output_type": "display_data"
    }
   ],
   "source": [
    "fig, ax = plt.subplots()\n",
    "\n",
    "for value in exploded_column_df[fixed_column_name].unique():\n",
    "    type_df = column_year_count[column_year_count[fixed_column_name] == value]\n",
    "    ax.plot(type_df[\"publication_year\"], type_df[\"index\"], '-o', label=value)\n",
    "plt.legend()\n",
    "# plt.xticks(column_year_count[\"publication_year\"].unique())\n",
    "plt.title(\"Number of papers with a given age per year\")\n",
    "plt.xlabel(\"Year\")\n",
    "plt.ylabel(\"Number of papers\")\n",
    "plt.savefig(\"./proc/plots/year_vs_age.png\")"
   ]
  },
  {
   "cell_type": "code",
   "execution_count": null,
   "id": "18f69943",
   "metadata": {},
   "outputs": [],
   "source": []
  },
  {
   "cell_type": "code",
   "execution_count": null,
   "id": "917479b2",
   "metadata": {},
   "outputs": [],
   "source": []
  },
  {
   "cell_type": "markdown",
   "id": "73de3c08",
   "metadata": {},
   "source": [
    "## Trends in Housing of the Subject"
   ]
  },
  {
   "cell_type": "code",
   "execution_count": 356,
   "id": "9839c514",
   "metadata": {},
   "outputs": [
    {
     "data": {
      "text/plain": [
       "0      Does not specify\n",
       "1      Does not specify\n",
       "2         singly-housed\n",
       "3      Does not specify\n",
       "4         singly-housed\n",
       "             ...       \n",
       "664       singly-housed\n",
       "665        group-housed\n",
       "666        group-housed\n",
       "667       singly-housed\n",
       "668        group-housed\n",
       "Name: Subject Housing, Length: 669, dtype: object"
      ]
     },
     "execution_count": 356,
     "metadata": {},
     "output_type": "execute_result"
    }
   ],
   "source": [
    "survey_df[\"Subject Housing\"]"
   ]
  },
  {
   "cell_type": "code",
   "execution_count": 357,
   "id": "a0968408",
   "metadata": {},
   "outputs": [],
   "source": [
    "column_name = \"Subject Housing\""
   ]
  },
  {
   "cell_type": "code",
   "execution_count": 358,
   "id": "fa3b7887",
   "metadata": {},
   "outputs": [],
   "source": [
    "fixed_column_name = column_name + \"_fixed\""
   ]
  },
  {
   "cell_type": "code",
   "execution_count": 359,
   "id": "3261b28d",
   "metadata": {},
   "outputs": [],
   "source": [
    "copy_of_survey_df = survey_df.copy()"
   ]
  },
  {
   "cell_type": "code",
   "execution_count": 360,
   "id": "b6b7077b",
   "metadata": {},
   "outputs": [],
   "source": [
    "copy_of_survey_df[fixed_column_name] = copy_of_survey_df[column_name].apply(lambda x: x.split(\", \"))"
   ]
  },
  {
   "cell_type": "code",
   "execution_count": 361,
   "id": "3ed869f2",
   "metadata": {},
   "outputs": [],
   "source": [
    "exploded_column_df = copy_of_survey_df.explode(fixed_column_name).reset_index()\n"
   ]
  },
  {
   "cell_type": "code",
   "execution_count": 368,
   "id": "9c83aae5",
   "metadata": {},
   "outputs": [
    {
     "data": {
      "text/html": [
       "<div>\n",
       "<style scoped>\n",
       "    .dataframe tbody tr th:only-of-type {\n",
       "        vertical-align: middle;\n",
       "    }\n",
       "\n",
       "    .dataframe tbody tr th {\n",
       "        vertical-align: top;\n",
       "    }\n",
       "\n",
       "    .dataframe thead th {\n",
       "        text-align: right;\n",
       "    }\n",
       "</style>\n",
       "<table border=\"1\" class=\"dataframe\">\n",
       "  <thead>\n",
       "    <tr style=\"text-align: right;\">\n",
       "      <th></th>\n",
       "      <th>publication_year</th>\n",
       "      <th>Subject Housing_fixed</th>\n",
       "      <th>index</th>\n",
       "    </tr>\n",
       "  </thead>\n",
       "  <tbody>\n",
       "    <tr>\n",
       "      <th>0</th>\n",
       "      <td>2000</td>\n",
       "      <td>group-housed</td>\n",
       "      <td>2</td>\n",
       "    </tr>\n",
       "    <tr>\n",
       "      <th>1</th>\n",
       "      <td>2000</td>\n",
       "      <td>singly-housed</td>\n",
       "      <td>4</td>\n",
       "    </tr>\n",
       "    <tr>\n",
       "      <th>2</th>\n",
       "      <td>2001</td>\n",
       "      <td>group-housed</td>\n",
       "      <td>2</td>\n",
       "    </tr>\n",
       "    <tr>\n",
       "      <th>3</th>\n",
       "      <td>2001</td>\n",
       "      <td>singly-housed</td>\n",
       "      <td>8</td>\n",
       "    </tr>\n",
       "    <tr>\n",
       "      <th>4</th>\n",
       "      <td>2002</td>\n",
       "      <td>group-housed</td>\n",
       "      <td>4</td>\n",
       "    </tr>\n",
       "    <tr>\n",
       "      <th>...</th>\n",
       "      <td>...</td>\n",
       "      <td>...</td>\n",
       "      <td>...</td>\n",
       "    </tr>\n",
       "    <tr>\n",
       "      <th>77</th>\n",
       "      <td>2021</td>\n",
       "      <td>singly-housed</td>\n",
       "      <td>16</td>\n",
       "    </tr>\n",
       "    <tr>\n",
       "      <th>78</th>\n",
       "      <td>2021</td>\n",
       "      <td>singly-housed for more than a few hours and le...</td>\n",
       "      <td>7</td>\n",
       "    </tr>\n",
       "    <tr>\n",
       "      <th>79</th>\n",
       "      <td>2022</td>\n",
       "      <td>group-housed</td>\n",
       "      <td>6</td>\n",
       "    </tr>\n",
       "    <tr>\n",
       "      <th>80</th>\n",
       "      <td>2022</td>\n",
       "      <td>singly-housed</td>\n",
       "      <td>1</td>\n",
       "    </tr>\n",
       "    <tr>\n",
       "      <th>81</th>\n",
       "      <td>2022</td>\n",
       "      <td>singly-housed for more than a few hours and le...</td>\n",
       "      <td>2</td>\n",
       "    </tr>\n",
       "  </tbody>\n",
       "</table>\n",
       "<p>82 rows × 3 columns</p>\n",
       "</div>"
      ],
      "text/plain": [
       "    publication_year                              Subject Housing_fixed  index\n",
       "0               2000                                       group-housed      2\n",
       "1               2000                                      singly-housed      4\n",
       "2               2001                                       group-housed      2\n",
       "3               2001                                      singly-housed      8\n",
       "4               2002                                       group-housed      4\n",
       "..               ...                                                ...    ...\n",
       "77              2021                                      singly-housed     16\n",
       "78              2021  singly-housed for more than a few hours and le...      7\n",
       "79              2022                                       group-housed      6\n",
       "80              2022                                      singly-housed      1\n",
       "81              2022  singly-housed for more than a few hours and le...      2\n",
       "\n",
       "[82 rows x 3 columns]"
      ]
     },
     "execution_count": 368,
     "metadata": {},
     "output_type": "execute_result"
    }
   ],
   "source": [
    "column_year_count = exploded_column_df.groupby(['publication_year', fixed_column_name], as_index=False).count()\n",
    "column_year_count = column_year_count[['publication_year', fixed_column_name, 'index']]\n",
    "column_year_count\n"
   ]
  },
  {
   "cell_type": "code",
   "execution_count": 369,
   "id": "bcbbd641",
   "metadata": {},
   "outputs": [
    {
     "data": {
      "text/html": [
       "<div>\n",
       "<style scoped>\n",
       "    .dataframe tbody tr th:only-of-type {\n",
       "        vertical-align: middle;\n",
       "    }\n",
       "\n",
       "    .dataframe tbody tr th {\n",
       "        vertical-align: top;\n",
       "    }\n",
       "\n",
       "    .dataframe thead th {\n",
       "        text-align: right;\n",
       "    }\n",
       "</style>\n",
       "<table border=\"1\" class=\"dataframe\">\n",
       "  <thead>\n",
       "    <tr style=\"text-align: right;\">\n",
       "      <th></th>\n",
       "      <th>publication_year</th>\n",
       "      <th>Subject Housing_fixed</th>\n",
       "      <th>index</th>\n",
       "    </tr>\n",
       "  </thead>\n",
       "  <tbody>\n",
       "    <tr>\n",
       "      <th>0</th>\n",
       "      <td>2000</td>\n",
       "      <td>group-housed</td>\n",
       "      <td>2</td>\n",
       "    </tr>\n",
       "    <tr>\n",
       "      <th>1</th>\n",
       "      <td>2000</td>\n",
       "      <td>singly-housed</td>\n",
       "      <td>4</td>\n",
       "    </tr>\n",
       "    <tr>\n",
       "      <th>2</th>\n",
       "      <td>2001</td>\n",
       "      <td>group-housed</td>\n",
       "      <td>2</td>\n",
       "    </tr>\n",
       "    <tr>\n",
       "      <th>3</th>\n",
       "      <td>2001</td>\n",
       "      <td>singly-housed</td>\n",
       "      <td>8</td>\n",
       "    </tr>\n",
       "    <tr>\n",
       "      <th>4</th>\n",
       "      <td>2002</td>\n",
       "      <td>group-housed</td>\n",
       "      <td>4</td>\n",
       "    </tr>\n",
       "    <tr>\n",
       "      <th>...</th>\n",
       "      <td>...</td>\n",
       "      <td>...</td>\n",
       "      <td>...</td>\n",
       "    </tr>\n",
       "    <tr>\n",
       "      <th>74</th>\n",
       "      <td>2020</td>\n",
       "      <td>singly-housed for more than a few hours and le...</td>\n",
       "      <td>3</td>\n",
       "    </tr>\n",
       "    <tr>\n",
       "      <th>75</th>\n",
       "      <td>2021</td>\n",
       "      <td>Does not specify</td>\n",
       "      <td>15</td>\n",
       "    </tr>\n",
       "    <tr>\n",
       "      <th>76</th>\n",
       "      <td>2021</td>\n",
       "      <td>group-housed</td>\n",
       "      <td>60</td>\n",
       "    </tr>\n",
       "    <tr>\n",
       "      <th>77</th>\n",
       "      <td>2021</td>\n",
       "      <td>singly-housed</td>\n",
       "      <td>16</td>\n",
       "    </tr>\n",
       "    <tr>\n",
       "      <th>78</th>\n",
       "      <td>2021</td>\n",
       "      <td>singly-housed for more than a few hours and le...</td>\n",
       "      <td>7</td>\n",
       "    </tr>\n",
       "  </tbody>\n",
       "</table>\n",
       "<p>79 rows × 3 columns</p>\n",
       "</div>"
      ],
      "text/plain": [
       "    publication_year                              Subject Housing_fixed  index\n",
       "0               2000                                       group-housed      2\n",
       "1               2000                                      singly-housed      4\n",
       "2               2001                                       group-housed      2\n",
       "3               2001                                      singly-housed      8\n",
       "4               2002                                       group-housed      4\n",
       "..               ...                                                ...    ...\n",
       "74              2020  singly-housed for more than a few hours and le...      3\n",
       "75              2021                                   Does not specify     15\n",
       "76              2021                                       group-housed     60\n",
       "77              2021                                      singly-housed     16\n",
       "78              2021  singly-housed for more than a few hours and le...      7\n",
       "\n",
       "[79 rows x 3 columns]"
      ]
     },
     "execution_count": 369,
     "metadata": {},
     "output_type": "execute_result"
    }
   ],
   "source": [
    "column_year_count.drop(79, axis = 0, inplace=True)\n",
    "column_year_count.drop(80, axis = 0, inplace=True)\n",
    "column_year_count.drop(81, axis = 0, inplace=True)\n",
    "column_year_count\n"
   ]
  },
  {
   "cell_type": "code",
   "execution_count": 375,
   "id": "aac537a9",
   "metadata": {},
   "outputs": [],
   "source": [
    "housing_opt = column_year_count[fixed_column_name].unique()\n",
    "housing_opt = housing_opt.tolist()\n"
   ]
  },
  {
   "cell_type": "code",
   "execution_count": 376,
   "id": "21272a0a",
   "metadata": {},
   "outputs": [],
   "source": [
    "housing_count_list = column_year_count.values.tolist()"
   ]
  },
  {
   "cell_type": "code",
   "execution_count": 380,
   "id": "6fae752d",
   "metadata": {},
   "outputs": [],
   "source": [
    "for options in housing_opt:\n",
    "    for year in set(column_year_count['publication_year'].unique()) - set(column_year_count[column_year_count[fixed_column_name] == options]['publication_year'].unique()):\n",
    "        housing_count_list.append([year, options, 0])\n"
   ]
  },
  {
   "cell_type": "code",
   "execution_count": 381,
   "id": "72db6ce5",
   "metadata": {},
   "outputs": [
    {
     "data": {
      "text/html": [
       "<div>\n",
       "<style scoped>\n",
       "    .dataframe tbody tr th:only-of-type {\n",
       "        vertical-align: middle;\n",
       "    }\n",
       "\n",
       "    .dataframe tbody tr th {\n",
       "        vertical-align: top;\n",
       "    }\n",
       "\n",
       "    .dataframe thead th {\n",
       "        text-align: right;\n",
       "    }\n",
       "</style>\n",
       "<table border=\"1\" class=\"dataframe\">\n",
       "  <thead>\n",
       "    <tr style=\"text-align: right;\">\n",
       "      <th></th>\n",
       "      <th>publication_year</th>\n",
       "      <th>Subject Housing_fixed</th>\n",
       "      <th>total</th>\n",
       "    </tr>\n",
       "  </thead>\n",
       "  <tbody>\n",
       "    <tr>\n",
       "      <th>0</th>\n",
       "      <td>2000</td>\n",
       "      <td>Does not specify</td>\n",
       "      <td>0</td>\n",
       "    </tr>\n",
       "    <tr>\n",
       "      <th>1</th>\n",
       "      <td>2000</td>\n",
       "      <td>group-housed</td>\n",
       "      <td>2</td>\n",
       "    </tr>\n",
       "    <tr>\n",
       "      <th>2</th>\n",
       "      <td>2000</td>\n",
       "      <td>singly-housed</td>\n",
       "      <td>4</td>\n",
       "    </tr>\n",
       "    <tr>\n",
       "      <th>3</th>\n",
       "      <td>2000</td>\n",
       "      <td>singly-housed for more than a few hours and le...</td>\n",
       "      <td>0</td>\n",
       "    </tr>\n",
       "    <tr>\n",
       "      <th>4</th>\n",
       "      <td>2001</td>\n",
       "      <td>Does not specify</td>\n",
       "      <td>0</td>\n",
       "    </tr>\n",
       "    <tr>\n",
       "      <th>...</th>\n",
       "      <td>...</td>\n",
       "      <td>...</td>\n",
       "      <td>...</td>\n",
       "    </tr>\n",
       "    <tr>\n",
       "      <th>83</th>\n",
       "      <td>2020</td>\n",
       "      <td>singly-housed for more than a few hours and le...</td>\n",
       "      <td>3</td>\n",
       "    </tr>\n",
       "    <tr>\n",
       "      <th>84</th>\n",
       "      <td>2021</td>\n",
       "      <td>Does not specify</td>\n",
       "      <td>15</td>\n",
       "    </tr>\n",
       "    <tr>\n",
       "      <th>85</th>\n",
       "      <td>2021</td>\n",
       "      <td>group-housed</td>\n",
       "      <td>60</td>\n",
       "    </tr>\n",
       "    <tr>\n",
       "      <th>86</th>\n",
       "      <td>2021</td>\n",
       "      <td>singly-housed</td>\n",
       "      <td>16</td>\n",
       "    </tr>\n",
       "    <tr>\n",
       "      <th>87</th>\n",
       "      <td>2021</td>\n",
       "      <td>singly-housed for more than a few hours and le...</td>\n",
       "      <td>7</td>\n",
       "    </tr>\n",
       "  </tbody>\n",
       "</table>\n",
       "<p>88 rows × 3 columns</p>\n",
       "</div>"
      ],
      "text/plain": [
       "    publication_year                              Subject Housing_fixed  total\n",
       "0               2000                                   Does not specify      0\n",
       "1               2000                                       group-housed      2\n",
       "2               2000                                      singly-housed      4\n",
       "3               2000  singly-housed for more than a few hours and le...      0\n",
       "4               2001                                   Does not specify      0\n",
       "..               ...                                                ...    ...\n",
       "83              2020  singly-housed for more than a few hours and le...      3\n",
       "84              2021                                   Does not specify     15\n",
       "85              2021                                       group-housed     60\n",
       "86              2021                                      singly-housed     16\n",
       "87              2021  singly-housed for more than a few hours and le...      7\n",
       "\n",
       "[88 rows x 3 columns]"
      ]
     },
     "execution_count": 381,
     "metadata": {},
     "output_type": "execute_result"
    }
   ],
   "source": [
    "housing_totals = pd.DataFrame(housing_count_list, columns = ['publication_year', 'Subject Housing_fixed','total'])\n",
    "housing_totals = housing_totals.groupby(['publication_year', 'Subject Housing_fixed', 'total'], as_index=False).count()\n",
    "housing_totals"
   ]
  },
  {
   "cell_type": "code",
   "execution_count": 382,
   "id": "a06dec50",
   "metadata": {},
   "outputs": [],
   "source": [
    "# Increase size of plot in jupyter\n",
    "\n",
    "plt.rcParams[\"figure.figsize\"] = (18,10)"
   ]
  },
  {
   "cell_type": "code",
   "execution_count": 401,
   "id": "2a3e944c",
   "metadata": {
    "scrolled": true
   },
   "outputs": [
    {
     "data": {
      "image/png": "[encoded data removed]",
      "text/plain": [
       "<Figure size 1296x720 with 1 Axes>"
      ]
     },
     "metadata": {
      "needs_background": "light"
     },
     "output_type": "display_data"
    }
   ],
   "source": [
    "fig, ax = plt.subplots()\n",
    "col = 1\n",
    "\n",
    "for value in housing_totals[fixed_column_name].unique():\n",
    "    type_df = housing_totals[housing_totals[fixed_column_name] == value]\n",
    "    ax.plot(type_df[\"publication_year\"], type_df[\"total\"], '-o', label=value, linewidth = LINWID, markersize = DOTS, color = pclabcol[col])\n",
    "    col += 1\n",
    "for pos in ['right', 'top']: # Removes graph border\n",
    "    plt.gca().spines[pos].set_visible(False)\n",
    "plt.legend(fontsize = LEGSIZE ,frameon = False)\n",
    "# plt.xticks(column_year_count[\"publication_year\"].unique())\n",
    "plt.title(\"Subject housing conditions over the years\", fontsize = 45, family=\"Arial\")\n",
    "plt.xlabel(\"Year\", fontsize = AXESLABEL, family=\"Arial\")\n",
    "plt.ylabel(\"Number of papers\", fontsize = AXESLABEL, family=\"Arial\")\n",
    "plt.xticks(fontsize = 25, rotation = 45, family=\"Arial\")\n",
    "plt.yticks(fontsize = AXESTICKS, family=\"Arial\")\n",
    "plt.savefig(\"./proc/plots/year_vs_housing.svg\")\n"
   ]
  },
  {
   "cell_type": "code",
   "execution_count": null,
   "id": "a76f3f8b",
   "metadata": {},
   "outputs": [],
   "source": []
  },
  {
   "cell_type": "code",
   "execution_count": null,
   "id": "e3effaab",
   "metadata": {},
   "outputs": [],
   "source": []
  },
  {
   "cell_type": "markdown",
   "id": "514cff19",
   "metadata": {},
   "source": [
    "## Trends in Age of the Subject"
   ]
  },
  {
   "cell_type": "code",
   "execution_count": null,
   "id": "f7768d22",
   "metadata": {},
   "outputs": [],
   "source": [
    "survey_df[\"Social Agent: degree of familiarity (if subject is exposed to a social agent ONLY twice, each trial being 5 or less minutes, the degree of familiarity is 5 min or less, NOT the total time exposed to the social agent) \"].unique()"
   ]
  },
  {
   "cell_type": "code",
   "execution_count": null,
   "id": "491e2b8a",
   "metadata": {},
   "outputs": [],
   "source": [
    "survey_df[\"Social Agent: degree of familiarity (if subject is exposed to a social agent ONLY twice, each trial being 5 or less minutes, the degree of familiarity is 5 min or less, NOT the total time exposed to the social agent) \"]"
   ]
  },
  {
   "cell_type": "code",
   "execution_count": null,
   "id": "4005a1ca",
   "metadata": {},
   "outputs": [],
   "source": [
    "column_name = \"Social Agent: degree of familiarity (if subject is exposed to a social agent ONLY twice, each trial being 5 or less minutes, the degree of familiarity is 5 min or less, NOT the total time exposed to the social agent) \""
   ]
  },
  {
   "cell_type": "code",
   "execution_count": null,
   "id": "e78f6f91",
   "metadata": {},
   "outputs": [],
   "source": [
    "fixed_column_name = column_name + \"_fixed\""
   ]
  },
  {
   "cell_type": "code",
   "execution_count": null,
   "id": "088422fe",
   "metadata": {},
   "outputs": [],
   "source": [
    "copy_of_survey_df = survey_df.copy()"
   ]
  },
  {
   "cell_type": "code",
   "execution_count": null,
   "id": "8a38d87f",
   "metadata": {},
   "outputs": [],
   "source": [
    "copy_of_survey_df[fixed_column_name] = copy_of_survey_df[column_name].apply(lambda x: x.split(\", \"))"
   ]
  },
  {
   "cell_type": "code",
   "execution_count": null,
   "id": "e8c9e9ca",
   "metadata": {},
   "outputs": [],
   "source": [
    "exploded_column_df = copy_of_survey_df.explode(fixed_column_name).reset_index()\n"
   ]
  },
  {
   "cell_type": "code",
   "execution_count": null,
   "id": "97773d63",
   "metadata": {},
   "outputs": [],
   "source": [
    "exploded_column_df\n"
   ]
  },
  {
   "cell_type": "code",
   "execution_count": null,
   "id": "5f8bfbef",
   "metadata": {},
   "outputs": [],
   "source": [
    "column_year_count = exploded_column_df.groupby(['publication_year', fixed_column_name], as_index=False).count()"
   ]
  },
  {
   "cell_type": "code",
   "execution_count": null,
   "id": "b117d443",
   "metadata": {},
   "outputs": [],
   "source": [
    "# Increase size of plot in jupyter\n",
    "\n",
    "plt.rcParams[\"figure.figsize\"] = (18,10)"
   ]
  },
  {
   "cell_type": "code",
   "execution_count": null,
   "id": "9a941ffc",
   "metadata": {
    "scrolled": true
   },
   "outputs": [],
   "source": [
    "fig, ax = plt.subplots()\n",
    "\n",
    "for value in exploded_column_df[fixed_column_name].unique():\n",
    "    type_df = column_year_count[column_year_count[fixed_column_name] == value]\n",
    "    ax.plot(type_df[\"publication_year\"], type_df[\"index\"], '-o', label=value)\n",
    "plt.legend()\n",
    "# plt.xticks(column_year_count[\"publication_year\"].unique())\n",
    "plt.title(\"Number of papers with a given degree of familiarity per year\")\n",
    "plt.xlabel(\"Year\")\n",
    "plt.ylabel(\"Number of papers\")\n",
    "plt.savefig(\"./proc/plots/year_vs_familiarity.png\")"
   ]
  },
  {
   "cell_type": "code",
   "execution_count": null,
   "id": "559781a4",
   "metadata": {},
   "outputs": [],
   "source": []
  },
  {
   "cell_type": "code",
   "execution_count": null,
   "id": "4629dad7",
   "metadata": {},
   "outputs": [],
   "source": []
  },
  {
   "cell_type": "markdown",
   "id": "c2b19da0",
   "metadata": {},
   "source": [
    "## Trends in Type of the Subject"
   ]
  },
  {
   "cell_type": "code",
   "execution_count": null,
   "id": "ef563241",
   "metadata": {},
   "outputs": [],
   "source": [
    "survey_df[\"Social Discrimination Tested? i.e. novel and familiar social agents presented at the *same time* to the subject\"]"
   ]
  },
  {
   "cell_type": "code",
   "execution_count": null,
   "id": "dd2b5738",
   "metadata": {},
   "outputs": [],
   "source": [
    "column_name = \"Social Discrimination Tested? i.e. novel and familiar social agents presented at the *same time* to the subject\""
   ]
  },
  {
   "cell_type": "code",
   "execution_count": null,
   "id": "25110437",
   "metadata": {},
   "outputs": [],
   "source": [
    "type_year_count = all_processed_strains_df.groupby(['publication_year', column_name], as_index=False).count()"
   ]
  },
  {
   "cell_type": "code",
   "execution_count": null,
   "id": "7241710b",
   "metadata": {},
   "outputs": [],
   "source": [
    "type_year_count"
   ]
  },
  {
   "cell_type": "code",
   "execution_count": null,
   "id": "f793bfa5",
   "metadata": {},
   "outputs": [],
   "source": [
    "# Increase size of plot in jupyter\n",
    "\n",
    "plt.rcParams[\"figure.figsize\"] = (18,10)"
   ]
  },
  {
   "cell_type": "code",
   "execution_count": null,
   "id": "d3c84d4c",
   "metadata": {
    "scrolled": false
   },
   "outputs": [],
   "source": [
    "fig, ax = plt.subplots()\n",
    "\n",
    "for value in survey_df[column_name].unique():\n",
    "    type_df = type_year_count[type_year_count[column_name] == value]\n",
    "    ax.plot(type_df[\"publication_year\"], type_df[\"index\"], '-o', label=value)\n",
    "plt.legend()\n",
    "plt.xticks(strain_year_count[\"publication_year\"].unique())\n",
    "plt.title(\"Number of papers that tested social discrimination per year\")\n",
    "plt.xlabel(\"Year\")\n",
    "plt.ylabel(\"Number of papers\")\n",
    "plt.savefig(\"./proc/plots/year_vs_discrimination.png\")"
   ]
  },
  {
   "cell_type": "code",
   "execution_count": null,
   "id": "38546f23",
   "metadata": {},
   "outputs": [],
   "source": []
  },
  {
   "cell_type": "code",
   "execution_count": null,
   "id": "c9841adb",
   "metadata": {},
   "outputs": [],
   "source": []
  },
  {
   "cell_type": "markdown",
   "id": "a8a5fd8a",
   "metadata": {},
   "source": [
    "## Trends in Type of the Subject"
   ]
  },
  {
   "cell_type": "code",
   "execution_count": null,
   "id": "40696bba",
   "metadata": {},
   "outputs": [],
   "source": [
    "survey_df[\"Subject Social Rank\"]"
   ]
  },
  {
   "cell_type": "code",
   "execution_count": null,
   "id": "c6d2d374",
   "metadata": {},
   "outputs": [],
   "source": [
    "column_name = \"Subject Social Rank\""
   ]
  },
  {
   "cell_type": "code",
   "execution_count": null,
   "id": "92a77f0b",
   "metadata": {},
   "outputs": [],
   "source": [
    "type_year_count = all_processed_strains_df.groupby(['publication_year', column_name], as_index=False).count()"
   ]
  },
  {
   "cell_type": "code",
   "execution_count": null,
   "id": "1e29f98f",
   "metadata": {},
   "outputs": [],
   "source": [
    "type_year_count"
   ]
  },
  {
   "cell_type": "code",
   "execution_count": null,
   "id": "b634a831",
   "metadata": {},
   "outputs": [],
   "source": [
    "# Increase size of plot in jupyter\n",
    "\n",
    "plt.rcParams[\"figure.figsize\"] = (18,10)"
   ]
  },
  {
   "cell_type": "code",
   "execution_count": null,
   "id": "c1d32066",
   "metadata": {
    "scrolled": true
   },
   "outputs": [],
   "source": [
    "fig, ax = plt.subplots()\n",
    "\n",
    "for value in survey_df[column_name].unique():\n",
    "    type_df = type_year_count[type_year_count[column_name] == value]\n",
    "    ax.plot(type_df[\"publication_year\"], type_df[\"index\"], '-o', label=value)\n",
    "plt.legend()\n",
    "plt.xticks(strain_year_count[\"publication_year\"].unique())\n",
    "plt.title(\"Number of papers with a given rank per year\")\n",
    "plt.xlabel(\"Year\")\n",
    "plt.ylabel(\"Number of papers\")\n",
    "plt.savefig(\"./proc/plots/year_vs_rank.png\")"
   ]
  },
  {
   "cell_type": "markdown",
   "id": "1f06783f",
   "metadata": {},
   "source": [
    "## ITI by Species"
   ]
  },
  {
   "cell_type": "code",
   "execution_count": null,
   "id": "85873901",
   "metadata": {},
   "outputs": [],
   "source": [
    "survey_df[\"Intertrial Interval (ITI) (time between trials)\"]"
   ]
  },
  {
   "cell_type": "code",
   "execution_count": null,
   "id": "2f65e763",
   "metadata": {},
   "outputs": [],
   "source": [
    "column_name = \"Intertrial Interval (ITI) (time between trials)\""
   ]
  },
  {
   "cell_type": "code",
   "execution_count": null,
   "id": "8a8f2f03",
   "metadata": {},
   "outputs": [],
   "source": [
    "fixed_column_name = column_name + \"_fixed\""
   ]
  },
  {
   "cell_type": "code",
   "execution_count": null,
   "id": "671e9324",
   "metadata": {},
   "outputs": [],
   "source": [
    "copy_of_survey_df = survey_df.copy()"
   ]
  },
  {
   "cell_type": "code",
   "execution_count": null,
   "id": "a753973d",
   "metadata": {},
   "outputs": [],
   "source": [
    "copy_of_survey_df[column_name]"
   ]
  },
  {
   "cell_type": "code",
   "execution_count": null,
   "id": "a128e095",
   "metadata": {},
   "outputs": [],
   "source": [
    "#copy_of_survey_df[ pd.api.types.is_float_dtype(copy_of_survey_df[column_name])]"
   ]
  },
  {
   "cell_type": "code",
   "execution_count": null,
   "id": "22698755",
   "metadata": {},
   "outputs": [],
   "source": [
    "def debugfunc(x):\n",
    "    print(x)\n",
    "    return x.split(\", \")\n"
   ]
  },
  {
   "cell_type": "code",
   "execution_count": null,
   "id": "cbdaa1d2",
   "metadata": {},
   "outputs": [],
   "source": [
    "copy_of_survey_df[column_name]"
   ]
  },
  {
   "cell_type": "code",
   "execution_count": null,
   "id": "4fb8f0a6",
   "metadata": {},
   "outputs": [],
   "source": [
    "copy_of_survey_df[fixed_column_name] = copy_of_survey_df[column_name].apply(lambda x: debugfunc(x))"
   ]
  },
  {
   "cell_type": "code",
   "execution_count": null,
   "id": "e5db5a64",
   "metadata": {},
   "outputs": [],
   "source": [
    "exploded_column_df = copy_of_survey_df.explode(fixed_column_name).reset_index()"
   ]
  },
  {
   "cell_type": "code",
   "execution_count": null,
   "id": "e05b6e5a",
   "metadata": {},
   "outputs": [],
   "source": [
    "column_rats_count = exploded_column_df.groupby(['Rats used', fixed_column_name], as_index=False).count()"
   ]
  },
  {
   "cell_type": "code",
   "execution_count": null,
   "id": "a250d515",
   "metadata": {},
   "outputs": [],
   "source": [
    "column_mice_count = exploded_column_df.groupby(['Mice used', fixed_column_name], as_index=False).count()"
   ]
  },
  {
   "cell_type": "code",
   "execution_count": null,
   "id": "6519879c",
   "metadata": {},
   "outputs": [],
   "source": [
    "edit_column_rats_count = column_rats_count[column_rats_count[\"Rats used\"] == \"1\"]"
   ]
  },
  {
   "cell_type": "code",
   "execution_count": null,
   "id": "0472f067",
   "metadata": {},
   "outputs": [],
   "source": [
    "rat_count = edit_column_rats_count[\"index\"].sum()"
   ]
  },
  {
   "cell_type": "code",
   "execution_count": null,
   "id": "885d1736",
   "metadata": {},
   "outputs": [],
   "source": [
    "rat_count"
   ]
  },
  {
   "cell_type": "code",
   "execution_count": null,
   "id": "ccb3f197",
   "metadata": {},
   "outputs": [],
   "source": [
    "edit_column_mice_count = column_mice_count[column_mice_count[\"Mice used\"] == \"1\"]"
   ]
  },
  {
   "cell_type": "code",
   "execution_count": null,
   "id": "c6939e34",
   "metadata": {},
   "outputs": [],
   "source": [
    "mouse_count = edit_column_mice_count[\"index\"].sum()"
   ]
  },
  {
   "cell_type": "code",
   "execution_count": null,
   "id": "fe518df0",
   "metadata": {},
   "outputs": [],
   "source": [
    "mouse_count"
   ]
  },
  {
   "cell_type": "code",
   "execution_count": null,
   "id": "ec66f8e4",
   "metadata": {},
   "outputs": [],
   "source": [
    "edit_column_mice_count = edit_column_mice_count.set_index(\"Intertrial Interval (ITI) (time between trials)_fixed\", inplace=False) "
   ]
  },
  {
   "cell_type": "code",
   "execution_count": null,
   "id": "679ad2fc",
   "metadata": {},
   "outputs": [],
   "source": [
    "edit_column_rats_count = edit_column_rats_count.set_index(\"Intertrial Interval (ITI) (time between trials)_fixed\", inplace=False) "
   ]
  },
  {
   "cell_type": "code",
   "execution_count": null,
   "id": "a56f250a",
   "metadata": {},
   "outputs": [],
   "source": [
    "edit_column_mice_count"
   ]
  },
  {
   "cell_type": "code",
   "execution_count": null,
   "id": "85ee2325",
   "metadata": {},
   "outputs": [],
   "source": [
    "edit_column_mice_count = edit_column_mice_count.reindex([\"no ITI\",\"1-5 minutes\",\"+5 min - less than an hour\",\"1-6 hr\", \"over 6 hr - 24 hr\", \"over 24 hrs\", \"not specified\"])"
   ]
  },
  {
   "cell_type": "code",
   "execution_count": null,
   "id": "9987698a",
   "metadata": {},
   "outputs": [],
   "source": [
    "edit_column_rats_count = edit_column_rats_count.reindex([\"no ITI\",\"1-5 minutes\",\"+5 min - less than an hour\",\"1-6 hr\", \"over 6 hr - 24 hr\", \"over 24 hrs\", \"not specified\"])"
   ]
  },
  {
   "cell_type": "code",
   "execution_count": null,
   "id": "372f44ca",
   "metadata": {},
   "outputs": [],
   "source": [
    "#edit_column_mice_count[\"Intertrial Interval (ITI) (time between trials)_fixed\"]"
   ]
  },
  {
   "cell_type": "code",
   "execution_count": null,
   "id": "2fd17d25",
   "metadata": {},
   "outputs": [],
   "source": [
    "edit_column_mice_count[\"index\"] = edit_column_mice_count[\"index\"].mul(100)\n",
    "edit_column_rats_count[\"index\"] = edit_column_rats_count[\"index\"].mul(100)\n",
    "edit_column_mice_count"
   ]
  },
  {
   "cell_type": "code",
   "execution_count": null,
   "id": "d957788a",
   "metadata": {},
   "outputs": [],
   "source": [
    "edit_column_mice_count[\"index\"] = edit_column_mice_count[\"index\"].div(484)\n",
    "edit_column_rats_count[\"index\"] = edit_column_rats_count[\"index\"].div(345)\n",
    "edit_column_mice_count"
   ]
  },
  {
   "cell_type": "code",
   "execution_count": null,
   "id": "2ad644f7",
   "metadata": {},
   "outputs": [],
   "source": [
    "plt.rcParams[\"figure.figsize\"] = (18,10)"
   ]
  },
  {
   "cell_type": "code",
   "execution_count": null,
   "id": "77591c02",
   "metadata": {},
   "outputs": [],
   "source": [
    "_ITI = np.arange(len(edit_column_rats_count.index))\n",
    "\n",
    "plt.bar(_ITI - 0.2, edit_column_mice_count[\"index\"], 0.4, label = \"Mice\")\n",
    "plt.bar(_ITI + 0.2, edit_column_rats_count[\"index\"], 0.4, label = \"Rats\")\n",
    "plt.xticks(_ITI, edit_column_rats_count.index)\n",
    "plt.legend()\n",
    "plt.title(\"ITI by Species\")\n",
    "plt.xlabel(\"ITI Length\")\n",
    "plt.ylabel(\"Percentage of papers\")\n",
    "plt.savefig(\"./proc/plots/ITIbyspecies.png\")"
   ]
  },
  {
   "cell_type": "markdown",
   "id": "24cab4a8",
   "metadata": {},
   "source": [
    "# Degree of Familiarity"
   ]
  },
  {
   "cell_type": "code",
   "execution_count": null,
   "id": "cc6f23f8",
   "metadata": {},
   "outputs": [],
   "source": [
    "survey_df[\"Social Agent: degree of familiarity (if subject is exposed to a social agent ONLY twice, each trial being 5 or less minutes, the degree of familiarity is 5 min or less, NOT the total time exposed to the social agent) \"]"
   ]
  },
  {
   "cell_type": "code",
   "execution_count": null,
   "id": "71d9006f",
   "metadata": {},
   "outputs": [],
   "source": [
    "column_name = \"Social Agent: degree of familiarity (if subject is exposed to a social agent ONLY twice, each trial being 5 or less minutes, the degree of familiarity is 5 min or less, NOT the total time exposed to the social agent) \""
   ]
  },
  {
   "cell_type": "code",
   "execution_count": null,
   "id": "9fd7ad5d",
   "metadata": {},
   "outputs": [],
   "source": [
    "fixed_column_name = column_name + \"_fixed\""
   ]
  },
  {
   "cell_type": "code",
   "execution_count": null,
   "id": "5f46e85b",
   "metadata": {},
   "outputs": [],
   "source": [
    "copy_of_survey_df = survey_df.copy()"
   ]
  },
  {
   "cell_type": "code",
   "execution_count": null,
   "id": "a0a97a69",
   "metadata": {},
   "outputs": [],
   "source": [
    "copy_of_survey_df[fixed_column_name] = copy_of_survey_df[column_name].apply(lambda x: x.split(\", \"))"
   ]
  },
  {
   "cell_type": "code",
   "execution_count": null,
   "id": "9df5f41c",
   "metadata": {},
   "outputs": [],
   "source": [
    "exploded_column_df = copy_of_survey_df.explode(fixed_column_name).reset_index()\n"
   ]
  },
  {
   "cell_type": "code",
   "execution_count": null,
   "id": "64dd551c",
   "metadata": {},
   "outputs": [],
   "source": [
    "column_degree_count = exploded_column_df.groupby([fixed_column_name], as_index=False).count()"
   ]
  },
  {
   "cell_type": "code",
   "execution_count": null,
   "id": "57c6de05",
   "metadata": {},
   "outputs": [],
   "source": [
    "column_degree_count"
   ]
  },
  {
   "cell_type": "markdown",
   "id": "b8c5f881",
   "metadata": {},
   "source": [
    "# Social Agent Ages by Sex"
   ]
  },
  {
   "cell_type": "code",
   "execution_count": null,
   "id": "d59a4b5a",
   "metadata": {},
   "outputs": [],
   "source": [
    "survey_df[\"Social Agent Sex\"]"
   ]
  },
  {
   "cell_type": "code",
   "execution_count": null,
   "id": "b25fffe7",
   "metadata": {},
   "outputs": [],
   "source": [
    "survey_df[\"Social Agent Age (check all that apply)\"]"
   ]
  },
  {
   "cell_type": "code",
   "execution_count": null,
   "id": "664be9a1",
   "metadata": {},
   "outputs": [],
   "source": [
    "column_name = \"Social Agent Sex\"\n",
    "column_name_2 = \"Social Agent Age (check all that apply)\""
   ]
  },
  {
   "cell_type": "code",
   "execution_count": null,
   "id": "a87fefbf",
   "metadata": {},
   "outputs": [],
   "source": [
    "fixed_column_name = column_name + \"_fixed\"\n",
    "fixed_column_name_2 = column_name_2 + \"_fixed\""
   ]
  },
  {
   "cell_type": "code",
   "execution_count": null,
   "id": "544897d0",
   "metadata": {},
   "outputs": [],
   "source": [
    "copy_of_survey_df = survey_df.copy()"
   ]
  },
  {
   "cell_type": "code",
   "execution_count": null,
   "id": "a9710fef",
   "metadata": {},
   "outputs": [],
   "source": [
    "def debugfunc(x):\n",
    "    print(x)\n",
    "    return x.split(\", \")"
   ]
  },
  {
   "cell_type": "code",
   "execution_count": null,
   "id": "3d427833",
   "metadata": {},
   "outputs": [],
   "source": [
    "copy_of_survey_df[column_name]\n",
    "copy_of_survey_df[column_name_2]"
   ]
  },
  {
   "cell_type": "code",
   "execution_count": null,
   "id": "334bd132",
   "metadata": {},
   "outputs": [],
   "source": [
    "copy_of_survey_df[fixed_column_name] = copy_of_survey_df[column_name].apply(lambda x: debugfunc(x))\n",
    "copy_of_survey_df[fixed_column_name_2] = copy_of_survey_df[column_name_2].apply(lambda x: debugfunc(x))"
   ]
  },
  {
   "cell_type": "code",
   "execution_count": null,
   "id": "3d204f7d",
   "metadata": {},
   "outputs": [],
   "source": [
    "copy_of_survey_df"
   ]
  },
  {
   "cell_type": "code",
   "execution_count": null,
   "id": "c0e0f628",
   "metadata": {},
   "outputs": [],
   "source": [
    "exploded_column_df = copy_of_survey_df.explode(fixed_column_name).reset_index()\n",
    "exploded_column_df = exploded_column_df.explode(fixed_column_name_2).reset_index()"
   ]
  },
  {
   "cell_type": "code",
   "execution_count": null,
   "id": "be9248e9",
   "metadata": {},
   "outputs": [],
   "source": [
    "exploded_column_df"
   ]
  },
  {
   "cell_type": "code",
   "execution_count": null,
   "id": "91a33a5f",
   "metadata": {},
   "outputs": [],
   "source": [
    "exploded_column_df[\"Male Social Agent\"] = exploded_column_df[fixed_column_name].apply(lambda x: \"1\" if x == \"always male\" or x == \"Uses both\" else \"0\")\n",
    "exploded_column_df[\"Female Social Agent\"] = exploded_column_df[fixed_column_name].apply(lambda x: \"1\" if x == \"always female\" or x == \"Uses both\" else \"0\")"
   ]
  },
  {
   "cell_type": "code",
   "execution_count": null,
   "id": "86cdc6ed",
   "metadata": {},
   "outputs": [],
   "source": [
    "column_male_count = exploded_column_df.groupby(['Male Social Agent', fixed_column_name_2], as_index=False).count()\n",
    "edit_column_male_count = column_male_count[column_male_count[\"Male Social Agent\"] == \"1\"]\n",
    "\n",
    "column_female_count = exploded_column_df.groupby(['Female Social Agent', fixed_column_name_2], as_index=False).count()\n",
    "edit_column_female_count = column_female_count[column_female_count[\"Female Social Agent\"] == \"1\"]\n",
    "\n",
    "edit_column_male_count"
   ]
  },
  {
   "cell_type": "code",
   "execution_count": null,
   "id": "93702672",
   "metadata": {},
   "outputs": [],
   "source": [
    "edit_column_female_count"
   ]
  },
  {
   "cell_type": "code",
   "execution_count": null,
   "id": "94256f15",
   "metadata": {},
   "outputs": [],
   "source": [
    "exploded_column_df[\"Same Sex Social Agent\"] = exploded_column_df[\"Social Agent Sex_fixed\"].apply(lambda x: \"1\" if x == \"same sex as subject\" else \"0\")\n",
    "exploded_column_df[\"Opposite Sex Social Agent\"] = exploded_column_df[\"Social Agent Sex_fixed\"].apply(lambda x: \"1\" if x == \"opposite sex as subject\" else \"0\")"
   ]
  },
  {
   "cell_type": "code",
   "execution_count": null,
   "id": "b6d292cd",
   "metadata": {},
   "outputs": [],
   "source": [
    "column_same_count = exploded_column_df.groupby(['Same Sex Social Agent', fixed_column_name_2], as_index=False).size()\n",
    "edit_column_same_count = column_same_count[column_same_count[\"Same Sex Social Agent\"] == \"1\"]\n",
    "\n",
    "column_opposite_count = exploded_column_df.groupby(['Opposite Sex Social Agent', fixed_column_name_2], as_index=False).size()\n",
    "edit_column_opposite_count = column_opposite_count[column_opposite_count[\"Opposite Sex Social Agent\"] == \"1\"]"
   ]
  },
  {
   "cell_type": "code",
   "execution_count": null,
   "id": "ceb3b885",
   "metadata": {},
   "outputs": [],
   "source": [
    "infant_dict = {\"Opposite Sex Social Agent\": [\"1\"], \"Social Agent Age (check all that apply)_fixed\": [\"infant (0-21 days)\"], \"size\": [0]}\n",
    "  \n",
    "infant_df = pd.DataFrame.from_dict(infant_dict)\n",
    "  \n",
    "edit_column_opposite_count = pd.concat([edit_column_opposite_count, infant_df], ignore_index = True)\n"
   ]
  },
  {
   "cell_type": "code",
   "execution_count": null,
   "id": "17f7d99b",
   "metadata": {},
   "outputs": [],
   "source": [
    "edit_column_opposite_count\n"
   ]
  },
  {
   "cell_type": "code",
   "execution_count": null,
   "id": "71f6b213",
   "metadata": {
    "scrolled": true
   },
   "outputs": [],
   "source": [
    "edit_column_male_count = edit_column_male_count.set_index(fixed_column_name_2, inplace=False) \n",
    "edit_column_female_count = edit_column_female_count.set_index(fixed_column_name_2, inplace=False) "
   ]
  },
  {
   "cell_type": "code",
   "execution_count": null,
   "id": "d85a3744",
   "metadata": {},
   "outputs": [],
   "source": [
    "edit_column_same_count = edit_column_same_count.set_index(\"Social Agent Age (check all that apply)_fixed\", inplace=False) \n",
    "edit_column_opposite_count = edit_column_opposite_count.set_index(\"Social Agent Age (check all that apply)_fixed\", inplace=False) "
   ]
  },
  {
   "cell_type": "code",
   "execution_count": null,
   "id": "b53d8cc1",
   "metadata": {},
   "outputs": [],
   "source": [
    "edit_column_opposite_count"
   ]
  },
  {
   "cell_type": "code",
   "execution_count": null,
   "id": "d8aae9e7",
   "metadata": {},
   "outputs": [],
   "source": [
    "edit_column_male_count = edit_column_male_count.reindex([\"infant (0-21 days)\", \"juvenile (3-7 weeks or week not specified)\", \"adult (week not specified)\", \"young adult (8-12 weeks)\", \"adult (12-24 weeks)\", \"adult (24-40 weeks)\", \"old (+40 weeks)\", \"does not specify\"])\n",
    "edit_column_female_count = edit_column_female_count.reindex([\"infant (0-21 days)\", \"juvenile (3-7 weeks or week not specified)\", \"adult (week not specified)\", \"young adult (8-12 weeks)\", \"adult (12-24 weeks)\", \"adult (24-40 weeks)\", \"old (+40 weeks)\", \"does not specify\"])\n",
    "edit_column_same_count = edit_column_same_count.reindex([\"infant (0-21 days)\", \"juvenile (3-7 weeks or week not specified)\", \"adult (week not specified)\", \"young adult (8-12 weeks)\", \"adult (12-24 weeks)\", \"adult (24-40 weeks)\", \"old (+40 weeks)\", \"does not specify\"])\n",
    "edit_column_opposite_count = edit_column_opposite_count.reindex([\"infant (0-21 days)\", \"juvenile (3-7 weeks or week not specified)\", \"adult (week not specified)\", \"young adult (8-12 weeks)\", \"adult (12-24 weeks)\", \"adult (24-40 weeks)\", \"old (+40 weeks)\", \"does not specify\"])\n"
   ]
  },
  {
   "cell_type": "code",
   "execution_count": null,
   "id": "9ce06d1b",
   "metadata": {},
   "outputs": [],
   "source": [
    "edit_column_male_count[\"index\"].sum()"
   ]
  },
  {
   "cell_type": "code",
   "execution_count": null,
   "id": "cd624e40",
   "metadata": {},
   "outputs": [],
   "source": [
    "edit_column_female_count[\"index\"].sum()"
   ]
  },
  {
   "cell_type": "code",
   "execution_count": null,
   "id": "8a5c92dd",
   "metadata": {},
   "outputs": [],
   "source": [
    "plt.rcParams[\"figure.figsize\"] = (18,10)"
   ]
  },
  {
   "cell_type": "code",
   "execution_count": null,
   "id": "3d799550",
   "metadata": {},
   "outputs": [],
   "source": [
    "_ITI = np.arange(len(edit_column_male_count.index))\n",
    "\n",
    "plt.bar(_ITI - 0.2, edit_column_male_count[\"index\"] / 469 * 100, 0.4, label = \"Male\")\n",
    "plt.bar(_ITI + 0.2, edit_column_female_count[\"index\"] / 226 * 100, 0.4, label = \"Female\")\n",
    "plt.xticks(_ITI, edit_column_male_count.index)\n",
    "plt.legend(fontsize= 15)\n",
    "plt.xticks(rotation=45, fontsize = 15)\n",
    "plt.title(\"Ages by Social Agent Sexes\", fontsize = 25)\n",
    "plt.xlabel(\"Age Ranges\", fontsize = 20)\n",
    "plt.ylabel(\"Percent of male or female papers, respectively\", fontsize = 20)\n",
    "plt.savefig(\"./proc/plots/AgebySASex.png\")"
   ]
  },
  {
   "cell_type": "code",
   "execution_count": null,
   "id": "d0aa9e9d",
   "metadata": {},
   "outputs": [],
   "source": [
    "edit_column_opposite_count[\"size\"].sum()"
   ]
  },
  {
   "cell_type": "code",
   "execution_count": null,
   "id": "a9305e69",
   "metadata": {},
   "outputs": [],
   "source": [
    "edit_column_same_count[\"size\"].sum()"
   ]
  },
  {
   "cell_type": "code",
   "execution_count": null,
   "id": "98839f78",
   "metadata": {},
   "outputs": [],
   "source": []
  },
  {
   "cell_type": "code",
   "execution_count": null,
   "id": "9bb900db",
   "metadata": {},
   "outputs": [],
   "source": [
    "_ITI = np.arange(len(edit_column_same_count.index))\n",
    "\n",
    "plt.bar(_ITI - 0.2, edit_column_same_count[\"size\"] / 449 * 100, 0.4, label = \"Sex Matched\")\n",
    "plt.bar(_ITI + 0.2, edit_column_opposite_count[\"size\"] / 66 * 100, 0.4, label = \"Opposite Sex\")\n",
    "plt.xticks(_ITI, edit_column_same_count.index)\n",
    "plt.legend(fontsize = 15)\n",
    "plt.xticks(rotation=45, fontsize=15)\n",
    "plt.title(\"Ages by Sex-Matched vs Opposite Sex Social Agents\", fontsize=25)\n",
    "plt.xlabel(\"Age Ranges\", fontsize=20)\n",
    "plt.ylabel(\"Percent of sex-matched or opposite sex papers, respectively\", fontsize=20)\n",
    "plt.savefig(\"./proc/plots/AgebySASexMatch.png\")"
   ]
  },
  {
   "cell_type": "code",
   "execution_count": null,
   "id": "6ae97e82",
   "metadata": {},
   "outputs": [],
   "source": []
  }
 ],
 "metadata": {
  "kernelspec": {
   "display_name": "Python 3 (ipykernel)",
   "language": "python",
   "name": "python3"
  },
  "language_info": {
   "codemirror_mode": {
    "name": "ipython",
    "version": 3
   },
   "file_extension": ".py",
   "mimetype": "text/x-python",
   "name": "python",
   "nbconvert_exporter": "python",
   "pygments_lexer": "ipython3",
   "version": "3.9.12"
  },
  "vscode": {
   "interpreter": {
    "hash": "2a2bb13428c0fa5528a782c90fb93cdb3c6451f334ceed53df357b0b2c268996"
   }
  }
 },
 "nbformat": 4,
 "nbformat_minor": 5
}
