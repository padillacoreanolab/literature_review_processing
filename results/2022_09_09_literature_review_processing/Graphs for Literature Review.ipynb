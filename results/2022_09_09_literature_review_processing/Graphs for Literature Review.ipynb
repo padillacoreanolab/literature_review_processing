{
 "cells": [
  {
   "cell_type": "code",
   "execution_count": 68,
   "id": "78bb073d",
   "metadata": {},
   "outputs": [],
   "source": [
    "from datetime import datetime\n",
    "import re\n",
    "from collections import Counter\n",
    "from  itertools import chain"
   ]
  },
  {
   "cell_type": "code",
   "execution_count": 69,
   "id": "7f651a11",
   "metadata": {
    "scrolled": true
   },
   "outputs": [],
   "source": [
    "import pandas as pd\n",
    "from matplotlib import pyplot as plt\n",
    "import numpy as np\n",
    "import matplotlib.ticker as mtick\n",
    "import seaborn as sns\n",
    "from matplotlib.colors import ListedColormap"
   ]
  },
  {
   "cell_type": "code",
   "execution_count": 70,
   "id": "f00141b4",
   "metadata": {},
   "outputs": [
    {
     "ename": "NameError",
     "evalue": "name 'pclabcol' is not defined",
     "output_type": "error",
     "traceback": [
      "\u001b[1;31m---------------------------------------------------------------------------\u001b[0m",
      "\u001b[1;31mNameError\u001b[0m                                 Traceback (most recent call last)",
      "\u001b[1;32m~\\AppData\\Local\\Temp/ipykernel_8612/3938080676.py\u001b[0m in \u001b[0;36m<module>\u001b[1;34m\u001b[0m\n\u001b[0;32m      3\u001b[0m \u001b[0mpclabcol2\u001b[0m \u001b[1;33m=\u001b[0m \u001b[1;33m[\u001b[0m\u001b[1;34m'#001424'\u001b[0m\u001b[1;33m,\u001b[0m\u001b[1;34m'#15616F'\u001b[0m\u001b[1;33m,\u001b[0m \u001b[1;34m'#FEEDD3'\u001b[0m\u001b[1;33m,\u001b[0m \u001b[1;34m'#792910'\u001b[0m\u001b[1;33m]\u001b[0m\u001b[1;33m\u001b[0m\u001b[1;33m\u001b[0m\u001b[0m\n\u001b[0;32m      4\u001b[0m \u001b[0mpclabcol3\u001b[0m \u001b[1;33m=\u001b[0m \u001b[1;33m[\u001b[0m\u001b[1;34m'#15616F'\u001b[0m\u001b[1;33m,\u001b[0m \u001b[1;34m'#AB796A'\u001b[0m\u001b[1;33m,\u001b[0m\u001b[1;34m'#FFAF00'\u001b[0m\u001b[1;33m,\u001b[0m \u001b[1;34m'#FEEDD3'\u001b[0m\u001b[1;33m,\u001b[0m \u001b[1;34m'#792910'\u001b[0m\u001b[1;33m,\u001b[0m\u001b[1;34m'#001424'\u001b[0m\u001b[1;33m,\u001b[0m\u001b[1;34m'#C5D7DB'\u001b[0m\u001b[1;33m,\u001b[0m\u001b[1;34m'#0B3137'\u001b[0m\u001b[1;33m,\u001b[0m \u001b[1;34m'#FFEBBF'\u001b[0m\u001b[1;33m,\u001b[0m\u001b[1;34m'#9F6D00'\u001b[0m\u001b[1;33m,\u001b[0m\u001b[1;34m'#3C1508'\u001b[0m\u001b[1;33m]\u001b[0m\u001b[1;33m\u001b[0m\u001b[1;33m\u001b[0m\u001b[0m\n\u001b[1;32m----> 5\u001b[1;33m \u001b[0msns\u001b[0m\u001b[1;33m.\u001b[0m\u001b[0mpalplot\u001b[0m\u001b[1;33m(\u001b[0m\u001b[0msns\u001b[0m\u001b[1;33m.\u001b[0m\u001b[0mcolor_palette\u001b[0m\u001b[1;33m(\u001b[0m\u001b[0mpclabcol\u001b[0m\u001b[1;33m)\u001b[0m\u001b[1;33m)\u001b[0m\u001b[1;33m\u001b[0m\u001b[1;33m\u001b[0m\u001b[0m\n\u001b[0m\u001b[0;32m      6\u001b[0m \u001b[0mmy_colors\u001b[0m \u001b[1;33m=\u001b[0m \u001b[0mListedColormap\u001b[0m\u001b[1;33m(\u001b[0m\u001b[0msns\u001b[0m\u001b[1;33m.\u001b[0m\u001b[0mcolor_palette\u001b[0m\u001b[1;33m(\u001b[0m\u001b[0mpclabcol\u001b[0m\u001b[1;33m)\u001b[0m\u001b[1;33m)\u001b[0m\u001b[1;33m\u001b[0m\u001b[1;33m\u001b[0m\u001b[0m\n\u001b[0;32m      7\u001b[0m \u001b[0mmy_colors2\u001b[0m \u001b[1;33m=\u001b[0m \u001b[0mListedColormap\u001b[0m\u001b[1;33m(\u001b[0m\u001b[0msns\u001b[0m\u001b[1;33m.\u001b[0m\u001b[0mcolor_palette\u001b[0m\u001b[1;33m(\u001b[0m\u001b[0mpclabcol2\u001b[0m\u001b[1;33m)\u001b[0m\u001b[1;33m)\u001b[0m\u001b[1;33m\u001b[0m\u001b[1;33m\u001b[0m\u001b[0m\n",
      "\u001b[1;31mNameError\u001b[0m: name 'pclabcol' is not defined"
     ]
    }
   ],
   "source": [
    "#pclabcol = ['#15616F''#001424','#FFAF00', , '#FEEDD3', '#792910']\n",
    "#minus the yellow\n",
    "pclabcol2 = ['#001424','#15616F', '#FEEDD3', '#792910']\n",
    "pclabcol3 = ['#15616F', '#AB796A','#FFAF00', '#FEEDD3', '#792910','#001424','#C5D7DB','#0B3137', '#FFEBBF','#9F6D00','#3C1508']\n",
    "sns.palplot(sns.color_palette(pclabcol))\n",
    "my_colors = ListedColormap(sns.color_palette(pclabcol))\n",
    "my_colors2 = ListedColormap(sns.color_palette(pclabcol2))\n",
    "my_colors3 = ListedColormap(sns.color_palette(pclabcol3))"
   ]
  },
  {
   "cell_type": "code",
   "execution_count": 71,
   "id": "5cce0df0",
   "metadata": {},
   "outputs": [],
   "source": [
    "# Plot Specifics\n",
    "TITLESIZE = 60\n",
    "AXESLABEL = 40\n",
    "AXESTICKS = 35\n",
    "LINWID = 10\n",
    "DOTS = 20\n",
    "LEGSIZE = 25"
   ]
  },
  {
   "cell_type": "code",
   "execution_count": 72,
   "id": "f348b26f",
   "metadata": {},
   "outputs": [],
   "source": [
    "#filename = \"Copy of Literature Review (Responses) - 10-12\"\n",
    "filename = r\"C:\\Users\\yongc\\Documents\\GitHub\\literature_review_processing\\results\\2022_09_09_literature_review_processing\\data\\10-13 Literature Review (Responses).csv\""
   ]
  },
  {
   "cell_type": "code",
   "execution_count": 73,
   "id": "d4e2964a",
   "metadata": {},
   "outputs": [
    {
     "data": {
      "image/png": "[encoded data removed]",
      "text/plain": [
       "<Figure size 1296x720 with 1 Axes>"
      ]
     },
     "metadata": {
      "needs_background": "light"
     },
     "output_type": "display_data"
    }
   ],
   "source": [
    "plt.rcParams[\"figure.figsize\"] = (18,10)\n",
    "for pos in ['right', 'top', 'bottom']: # Removes graph border\n",
    "    plt.gca().spines[pos].set_visible(False)\n"
   ]
  },
  {
   "cell_type": "markdown",
   "id": "60dab672",
   "metadata": {},
   "source": [
    "# ITI Percentages Graph"
   ]
  },
  {
   "cell_type": "code",
   "execution_count": 74,
   "id": "3c6114f6",
   "metadata": {},
   "outputs": [],
   "source": [
    "#survey_df['Intertrial Interval (ITI) (time between trials)'].value_counts(dropna=False)"
   ]
  },
  {
   "cell_type": "code",
   "execution_count": 75,
   "id": "3b184ac6",
   "metadata": {},
   "outputs": [],
   "source": [
    "survey_df = pd.read_csv(filename, keep_default_na=False)"
   ]
  },
  {
   "cell_type": "code",
   "execution_count": 76,
   "id": "b0be7d05",
   "metadata": {},
   "outputs": [],
   "source": [
    "survey_df[\"Rats used\"] = survey_df[\"Species\"].apply(lambda x: \"1\" if x == \"Rats\" or x == \"Both\" else \"0\")\n",
    "survey_df[\"Mice used\"] = survey_df[\"Species\"].apply(lambda x: \"1\" if x == \"Mice\" or x == \"Both\" else \"0\")"
   ]
  },
  {
   "cell_type": "code",
   "execution_count": 77,
   "id": "3567e6d2",
   "metadata": {},
   "outputs": [],
   "source": [
    "comma_df = survey_df['Intertrial Interval (ITI) (time between trials)'].str.contains(',')\n",
    "#no_comma_df = survey_df['Intertrial Interval (ITI) (time between trials)'].str.contains(',')==False\n",
    "rat_df = survey_df[\"Rats used\"]\n",
    "mice_df = survey_df[\"Mice used\"]"
   ]
  },
  {
   "cell_type": "code",
   "execution_count": 78,
   "id": "1329b375",
   "metadata": {},
   "outputs": [],
   "source": [
    "#Finding number of mice trials\n",
    "m_trials = 0\n",
    "for i in range(len(mice_df)):\n",
    "    if mice_df[i] =='1':\n",
    "        m_trials = m_trials + 1\n",
    "r_trials = 650-m_trials"
   ]
  },
  {
   "cell_type": "code",
   "execution_count": 79,
   "id": "5dcb2e14",
   "metadata": {},
   "outputs": [],
   "source": [
    "#Finding percentage of trials that corresponded to each bin \n",
    "m_1 = 0\n",
    "r_1 = 0\n",
    "m_2 = 0  \n",
    "r_2 = 0 \n",
    "for i in range(len(comma_df)):\n",
    "    if comma_df[i] == False and mice_df[i] == '1': #Mouse and no comma\n",
    "        m_1 = m_1 +1\n",
    "    elif comma_df[i] == False and mice_df[i] == '0': #Rat and no comma\n",
    "        r_1 = r_1 +1\n",
    "    elif comma_df[i] == True and mice_df[i] == '1': #Mouse comma\n",
    "        m_2 = m_2 +1\n",
    "    elif comma_df[i] == True and mice_df[i] == '0': #Rat comma\n",
    "        r_2 = r_2 +1\n",
    "        \n",
    "#Getting percentage\n",
    "mice_overall = []\n",
    "mice_overall.append(m_1)\n",
    "mice_overall.append(m_2)\n",
    "mice_overall_P = [x / m_trials for x in mice_overall]\n",
    "\n",
    "rats_overall = []\n",
    "rats_overall.append(r_1)\n",
    "rats_overall.append(r_2)\n",
    "rats_overall_P = [x / r_trials for x in rats_overall]"
   ]
  },
  {
   "cell_type": "code",
   "execution_count": 80,
   "id": "48d00d4a",
   "metadata": {},
   "outputs": [
    {
     "data": {
      "text/plain": [
       "Text(0, 0.5, 'Percentage')"
      ]
     },
     "execution_count": 80,
     "metadata": {},
     "output_type": "execute_result"
    },
    {
     "data": {
      "image/png": "[encoded data removed]",
      "text/plain": [
       "<Figure size 1296x720 with 1 Axes>"
      ]
     },
     "metadata": {
      "needs_background": "light"
     },
     "output_type": "display_data"
    }
   ],
   "source": [
    "#Graphing percentages\n",
    "x = ['One', 'Two or more']\n",
    "x_axis = np.arange(len(x))\n",
    "\n",
    "plt.bar(x_axis - 0.2, mice_overall_P, 0.4, label = 'mice')\n",
    "plt.bar(x_axis + 0.2, rats_overall_P, 0.4, label = 'rats')\n",
    "plt.xticks(x_axis, x)\n",
    "plt.yticks(np.arange(0, 1.2, step=0.2))\n",
    "plt.xlabel(\"_____\")\n",
    "plt.ylabel('Percentage')\n"
   ]
  },
  {
   "cell_type": "markdown",
   "id": "18bb454a",
   "metadata": {},
   "source": [
    "# Subject vs Social Agent Bar graph"
   ]
  },
  {
   "cell_type": "markdown",
   "id": "f919413e",
   "metadata": {},
   "source": [
    "Percent of papers the specify social agent vs subject\n",
    "\n",
    "   Age\n",
    "\n",
    "   Housing history\n",
    "\n",
    "   Strain\n",
    "\n",
    "   Social rank\n",
    "\n",
    "   Sex"
   ]
  },
  {
   "cell_type": "code",
   "execution_count": 81,
   "id": "4ae942ff",
   "metadata": {},
   "outputs": [],
   "source": [
    "#Create two lists, one for subject one for social agent\n",
    "#Within each column find number of nonspecifed and percentage them. Put them\n",
    "# in correct list \n",
    "#Make bar graph "
   ]
  },
  {
   "cell_type": "code",
   "execution_count": 82,
   "id": "05a204b4",
   "metadata": {},
   "outputs": [],
   "source": [
    "subject_data = []\n",
    "agent_data = []"
   ]
  },
  {
   "cell_type": "code",
   "execution_count": 83,
   "id": "c6749383",
   "metadata": {},
   "outputs": [],
   "source": [
    "#Subject Data\n",
    "subject_age_P = sum(survey_df['Subject Age'].str.contains('Does not specify')) / len(survey_df['Subject Age'])\n",
    "subject_data.append(subject_age_P)\n",
    "subject_strain_P = sum(survey_df['Subject Strain  (i.e. C57BL6J or Sprague-Dawley) if multiple strains were used separate them by a semi colon and if mixed state mixed i.e. 129/SvJ mixed C57BL/6J; 129/SvJ mixed Swiss black'].str.contains('Does not specify')) / len(survey_df['Subject Strain  (i.e. C57BL6J or Sprague-Dawley) if multiple strains were used separate them by a semi colon and if mixed state mixed i.e. 129/SvJ mixed C57BL/6J; 129/SvJ mixed Swiss black'])\n",
    "subject_data.append(subject_strain_P)\n",
    "\n",
    "subject_sex_P = sum(survey_df['Subject Sex'].str.contains('Does not specify')) / len(survey_df['Subject Sex'])\n",
    "subject_data.append(subject_sex_P)\n",
    "subject_housing_P = sum(survey_df['Subject Housing'].str.contains('Does not specify')) / len(survey_df['Subject Housing'])\n",
    "subject_data.append(subject_housing_P)"
   ]
  },
  {
   "cell_type": "code",
   "execution_count": 84,
   "id": "e4f3c141",
   "metadata": {},
   "outputs": [],
   "source": [
    "#Social Agent Data\n",
    "agent_age_P = sum(survey_df['Social Agent Age (check all that apply)'].str.contains('Does not specify')) / len(survey_df['Social Agent Age (check all that apply)'])\n",
    "agent_data.append(agent_age_P)\n",
    "agent_strain_P = sum(survey_df['Social Agent Strain '].str.contains('pec' or 'n/a')) / len(survey_df['Social Agent Strain '])\n",
    "agent_data.append(agent_strain_P)\n",
    "\n",
    "agent_sex_P = sum(survey_df['Social Agent Sex'].str.contains('Does not specify')) / len(survey_df['Social Agent Sex'])\n",
    "agent_data.append(agent_sex_P)\n",
    "agent_housing_P = sum(survey_df['Social Agent Housing'].str.contains('Does not specify')) / len(survey_df['Social Agent Housing'])\n",
    "agent_data.append(agent_housing_P)\n"
   ]
  },
  {
   "cell_type": "code",
   "execution_count": 85,
   "id": "1b0b4391",
   "metadata": {},
   "outputs": [
    {
     "name": "stdout",
     "output_type": "stream",
     "text": [
      "subject_age_P: 0.06427503736920777\n",
      "subject_strain_P: 0.028400597907324365\n",
      "subject_sex_P: 0.04035874439461883\n",
      "subject_housing_P: 0.18385650224215247\n",
      "agent_age_P: 0.19431988041853512\n",
      "agent_strain_P: 0.34379671150971597\n",
      "agent_sex_P: 0.1898355754857997\n",
      "agent_housing_P: 0.593423019431988\n"
     ]
    }
   ],
   "source": [
    "print('subject_age_P: ' + str(subject_age_P))\n",
    "print('subject_strain_P: ' + str(subject_strain_P))\n",
    "print('subject_sex_P: '+str(subject_sex_P))\n",
    "print('subject_housing_P: ' + str(subject_housing_P))\n",
    "\n",
    "print('agent_age_P: ' + str(agent_age_P))\n",
    "print('agent_strain_P: ' + str(agent_strain_P))\n",
    "print('agent_sex_P: ' + str(agent_sex_P))\n",
    "print('agent_housing_P: ' + str(agent_housing_P))"
   ]
  },
  {
   "cell_type": "code",
   "execution_count": 86,
   "id": "90f76650",
   "metadata": {},
   "outputs": [
    {
     "ename": "NameError",
     "evalue": "name 'pclabcol' is not defined",
     "output_type": "error",
     "traceback": [
      "\u001b[1;31m---------------------------------------------------------------------------\u001b[0m",
      "\u001b[1;31mNameError\u001b[0m                                 Traceback (most recent call last)",
      "\u001b[1;32m~\\AppData\\Local\\Temp/ipykernel_8612/3800320707.py\u001b[0m in \u001b[0;36m<module>\u001b[1;34m\u001b[0m\n\u001b[0;32m      8\u001b[0m     \u001b[0mplt\u001b[0m\u001b[1;33m.\u001b[0m\u001b[0mgca\u001b[0m\u001b[1;33m(\u001b[0m\u001b[1;33m)\u001b[0m\u001b[1;33m.\u001b[0m\u001b[0mspines\u001b[0m\u001b[1;33m[\u001b[0m\u001b[0mpos\u001b[0m\u001b[1;33m]\u001b[0m\u001b[1;33m.\u001b[0m\u001b[0mset_visible\u001b[0m\u001b[1;33m(\u001b[0m\u001b[1;32mFalse\u001b[0m\u001b[1;33m)\u001b[0m\u001b[1;33m\u001b[0m\u001b[1;33m\u001b[0m\u001b[0m\n\u001b[0;32m      9\u001b[0m \u001b[1;33m\u001b[0m\u001b[0m\n\u001b[1;32m---> 10\u001b[1;33m \u001b[0mplt\u001b[0m\u001b[1;33m.\u001b[0m\u001b[0mbar\u001b[0m\u001b[1;33m(\u001b[0m\u001b[0mx_axis\u001b[0m \u001b[1;33m-\u001b[0m \u001b[1;36m0.2\u001b[0m\u001b[1;33m,\u001b[0m \u001b[0msubject_data\u001b[0m\u001b[1;33m,\u001b[0m \u001b[1;36m0.4\u001b[0m\u001b[1;33m,\u001b[0m \u001b[0mlabel\u001b[0m \u001b[1;33m=\u001b[0m \u001b[1;34m'Subject'\u001b[0m\u001b[1;33m,\u001b[0m \u001b[0mcolor\u001b[0m \u001b[1;33m=\u001b[0m \u001b[0mpclabcol\u001b[0m\u001b[1;33m[\u001b[0m\u001b[1;36m2\u001b[0m\u001b[1;33m]\u001b[0m\u001b[1;33m)\u001b[0m\u001b[1;33m\u001b[0m\u001b[1;33m\u001b[0m\u001b[0m\n\u001b[0m\u001b[0;32m     11\u001b[0m \u001b[0mplt\u001b[0m\u001b[1;33m.\u001b[0m\u001b[0mbar\u001b[0m\u001b[1;33m(\u001b[0m\u001b[0mx_axis\u001b[0m \u001b[1;33m+\u001b[0m \u001b[1;36m0.2\u001b[0m\u001b[1;33m,\u001b[0m \u001b[0magent_data\u001b[0m\u001b[1;33m,\u001b[0m \u001b[1;36m0.4\u001b[0m\u001b[1;33m,\u001b[0m \u001b[0mlabel\u001b[0m \u001b[1;33m=\u001b[0m \u001b[1;34m'Social Agents'\u001b[0m\u001b[1;33m,\u001b[0m \u001b[0mcolor\u001b[0m \u001b[1;33m=\u001b[0m \u001b[0mpclabcol\u001b[0m\u001b[1;33m[\u001b[0m\u001b[1;36m4\u001b[0m\u001b[1;33m]\u001b[0m\u001b[1;33m)\u001b[0m\u001b[1;33m\u001b[0m\u001b[1;33m\u001b[0m\u001b[0m\n\u001b[0;32m     12\u001b[0m \u001b[0mplt\u001b[0m\u001b[1;33m.\u001b[0m\u001b[0mgca\u001b[0m\u001b[1;33m(\u001b[0m\u001b[1;33m)\u001b[0m\u001b[1;33m.\u001b[0m\u001b[0myaxis\u001b[0m\u001b[1;33m.\u001b[0m\u001b[0mset_major_formatter\u001b[0m\u001b[1;33m(\u001b[0m\u001b[0mmtick\u001b[0m\u001b[1;33m.\u001b[0m\u001b[0mPercentFormatter\u001b[0m\u001b[1;33m(\u001b[0m\u001b[0mxmax\u001b[0m\u001b[1;33m=\u001b[0m\u001b[1;36m1.0\u001b[0m\u001b[1;33m)\u001b[0m\u001b[1;33m)\u001b[0m \u001b[1;31m#Makes y percentages\u001b[0m\u001b[1;33m\u001b[0m\u001b[1;33m\u001b[0m\u001b[0m\n",
      "\u001b[1;31mNameError\u001b[0m: name 'pclabcol' is not defined"
     ]
    },
    {
     "data": {
      "image/png": "[encoded data removed]",
      "text/plain": [
       "<Figure size 1296x720 with 1 Axes>"
      ]
     },
     "metadata": {
      "needs_background": "light"
     },
     "output_type": "display_data"
    }
   ],
   "source": [
    "plt.rcParams[\"figure.figsize\"] = (18,10)\n",
    "\n",
    "x = ['Age','Strain','Sex','Housing']\n",
    "x_axis = np.arange(len(x))\n",
    "\n",
    "\n",
    "for pos in ['right', 'top']: # Removes graph border\n",
    "    plt.gca().spines[pos].set_visible(False)\n",
    "\n",
    "plt.bar(x_axis - 0.2, subject_data, 0.4, label = 'Subject', color = pclabcol[2])\n",
    "plt.bar(x_axis + 0.2, agent_data, 0.4, label = 'Social Agents', color = pclabcol[4])\n",
    "plt.gca().yaxis.set_major_formatter(mtick.PercentFormatter(xmax=1.0)) #Makes y percentages\n",
    "\n",
    "plt.xticks(x_axis, x, fontsize = AXESTICKS, family=\"Arial\") # x tick spacing and size\n",
    "plt.yticks(np.arange(0, 1.2, step=0.2), fontsize = AXESTICKS, family=\"Arial\")\n",
    "\n",
    "#Visuals\n",
    "#plt.xlabel(, family=\"Arial\", fontsize = 15)\n",
    "plt.ylabel('Percent papers that do not specify', fontsize = AXESLABEL, family=\"Arial\")\n",
    "plt.title(\"Non-reported Variables\", fontsize = TITLESIZE)\n",
    "plt.legend(frameon = False, fontsize = LEGSIZE) # legend, removes graph border\n",
    "#plt.savefig(\"./proc/plots/non_reported_variables.svg\")"
   ]
  },
  {
   "cell_type": "raw",
   "id": "5cc60f8d",
   "metadata": {},
   "source": [
    "#FOR PUBLICATION (NOT POSTER)\n",
    "x = ['Age','Strain','Sex','Housing']\n",
    "x_axis = np.arange(len(x))\n",
    "\n",
    "plt.rcParams[\"figure.figsize\"] = (4,3) # Size of the plotax.spines['top'].set_visible(False)\n",
    "for pos in ['right', 'top', 'bottom']: # Removes graph border\n",
    "    plt.gca().spines[pos].set_visible(False)\n",
    "\n",
    "plt.bar(x_axis - 0.2, subject_data, 0.4, label = 'Subject', color = 'black')\n",
    "plt.bar(x_axis + 0.2, agent_data, 0.4, label = 'Social Agents', fill=False, hatch='///')\n",
    "plt.gca().yaxis.set_major_formatter(mtick.PercentFormatter(xmax=1.0)) #Makes y percentages\n",
    "\n",
    "plt.xticks(x_axis, x, fontsize = 12) # x tick spacing and size\n",
    "plt.yticks(np.arange(0, 1.2, step=0.2))\n",
    "\n",
    "#Visuals\n",
    "#plt.xlabel(, family=\"Arial\", fontsize = 15)\n",
    "plt.ylabel('Percent papers not specified', fontsize = 12, family=\"Arial\")\n",
    "#plt.title(\"Title\", fontsize = 30)\n",
    "plt.legend(frameon = False) # legend, removes graph border\n",
    "plt.savefig(\"./proc/plots/non_reported_variables.svg\")\n",
    "#plt.savefig(r'C:\\Users\\yongc\\Documents\\GitHub\\literature_review_processing\\results\\2022_09_09_literature_review_processing\\proc\\PERCENT.svg')"
   ]
  },
  {
   "cell_type": "markdown",
   "id": "e9feae68",
   "metadata": {},
   "source": [
    "## Box and Whisker Graph for Degree of Familiarity"
   ]
  },
  {
   "cell_type": "code",
   "execution_count": 87,
   "id": "8d3f6aaf",
   "metadata": {},
   "outputs": [
    {
     "data": {
      "text/plain": [
       "['10 minutes',\n",
       " '5 min exposure or less',\n",
       " '15 minutes',\n",
       " '10 minutes',\n",
       " '5 min exposure or less',\n",
       " '5 min exposure or less',\n",
       " '5 min exposure or less',\n",
       " '5 min exposure or less',\n",
       " '5 min exposure or less',\n",
       " '7 minutes',\n",
       " '5 min exposure or less',\n",
       " '5 min exposure or less',\n",
       " '6 minutes',\n",
       " '5 min exposure or less',\n",
       " 'littermate, 5 min exposure or less',\n",
       " '5 min exposure or less',\n",
       " '10 minutes',\n",
       " '10 minutes',\n",
       " '5 min exposure or less',\n",
       " '10 minutes',\n",
       " '10 minutes',\n",
       " '5 min exposure or less',\n",
       " '15 minutes',\n",
       " '20 minutes',\n",
       " '5 min exposure or less',\n",
       " '5 min exposure or less',\n",
       " '10 minutes',\n",
       " '5 min exposure or less',\n",
       " '5 min exposure or less',\n",
       " '5 min exposure or less',\n",
       " '10 minutes',\n",
       " '80 minutes',\n",
       " '10 minutes',\n",
       " '5 min exposure or less',\n",
       " '5 min exposure or less',\n",
       " '15 minutes',\n",
       " '5 min exposure or less',\n",
       " '7 days',\n",
       " '10 minutes',\n",
       " '5 min exposure or less',\n",
       " '10 minutes',\n",
       " '15 minutes',\n",
       " '5 min exposure or less',\n",
       " '5 min exposure or less',\n",
       " '5 min exposure or less',\n",
       " '5 min exposure or less',\n",
       " '5 min exposure or less',\n",
       " '5 min exposure or less',\n",
       " '5 min exposure or less',\n",
       " '5 min exposure or less',\n",
       " '5 min exposure or less',\n",
       " '5 min exposure or less',\n",
       " '5 min exposure or less',\n",
       " '5 min exposure or less, 15 minutes',\n",
       " '5 min exposure or less',\n",
       " '5 min exposure or less',\n",
       " '5 min exposure or less',\n",
       " '5 min exposure or less',\n",
       " '5 min exposure or less',\n",
       " '15 minutes',\n",
       " '5 min exposure or less',\n",
       " '5 min exposure or less',\n",
       " '5 min exposure or less',\n",
       " '5 min exposure or less',\n",
       " '30 minutes',\n",
       " 'mate',\n",
       " '5 min exposure or less',\n",
       " '5 min exposure or less',\n",
       " '10 minutes,12 minutes',\n",
       " '4 days',\n",
       " '5 min exposure or less',\n",
       " '20 minutes',\n",
       " '5 min exposure or less',\n",
       " '5 min exposure or less',\n",
       " '10 minutes',\n",
       " '5 min exposure or less',\n",
       " '10 minutes',\n",
       " '10 minutes',\n",
       " '10 minutes',\n",
       " '5 min exposure or less, 8 minutes',\n",
       " '5 min exposure or less',\n",
       " '15 minutes',\n",
       " '5 min exposure or less',\n",
       " '5 min exposure or less',\n",
       " '5 min exposure or less',\n",
       " '5 min exposure or less',\n",
       " '5 min exposure or less',\n",
       " '5 min exposure or less',\n",
       " '5 min exposure or less, 20 minutes',\n",
       " '5 min exposure or less',\n",
       " '5 min exposure or less',\n",
       " '5 min exposure or less',\n",
       " '5 min exposure or less',\n",
       " '5 min exposure or less',\n",
       " '5 min exposure or less',\n",
       " '5 min exposure or less, 9 minutes',\n",
       " '5 min exposure or less',\n",
       " '5 min exposure or less',\n",
       " '5 min exposure or less',\n",
       " '5 min exposure or less',\n",
       " '10 minutes, 12 minutes, littermate',\n",
       " '10 minutes',\n",
       " '20 minutes',\n",
       " '5 min exposure or less',\n",
       " '8 minutes',\n",
       " '5 min exposure or less',\n",
       " '10 minutes, littermate',\n",
       " '5 min exposure or less',\n",
       " '7 minutes',\n",
       " '5 min exposure or less',\n",
       " '5 min exposure or less',\n",
       " '5 min exposure or less',\n",
       " '5 min exposure or less',\n",
       " '5 min exposure or less',\n",
       " '5 min exposure or less',\n",
       " '10 minutes',\n",
       " '7 minutes',\n",
       " '5 min exposure or less',\n",
       " '60 minutes',\n",
       " '5 min exposure or less',\n",
       " '6 minutes, cagemate',\n",
       " '5 min exposure or less',\n",
       " '5 min exposure or less',\n",
       " '5 min exposure or less',\n",
       " '5 min exposure or less',\n",
       " '5 min exposure or less',\n",
       " '5 min exposure or less',\n",
       " '10 minutes',\n",
       " '6 minutes',\n",
       " '5 min exposure or less',\n",
       " '5 min exposure or less',\n",
       " '5 min exposure or less',\n",
       " '15 minutes',\n",
       " '5 min exposure or less',\n",
       " '5 min exposure or less',\n",
       " '5 min exposure or less',\n",
       " '10 minutes',\n",
       " '7 minutes',\n",
       " '5 min exposure or less',\n",
       " '5 min exposure or less',\n",
       " '5 min exposure or less',\n",
       " '5 min exposure or less',\n",
       " '5 min exposure or less',\n",
       " '5 min exposure or less',\n",
       " '10 minutes',\n",
       " '5 min exposure or less, 10 minutes',\n",
       " '10 minutes',\n",
       " '10 minutes',\n",
       " '5 min exposure or less',\n",
       " '10 minutes',\n",
       " '60 minutes',\n",
       " '5 min exposure or less',\n",
       " '5 min exposure or less',\n",
       " '5 min exposure or less',\n",
       " '5 min exposure or less, 10 minutes',\n",
       " '15 minutes',\n",
       " '5 min exposure or less',\n",
       " '5 min exposure or less, 8 minutes',\n",
       " '10 minutes',\n",
       " '5 min exposure or less, 10 minutes',\n",
       " '5 min exposure or less',\n",
       " '5 min exposure or less',\n",
       " '5 min exposure or less',\n",
       " '15 minutes',\n",
       " '5 min exposure or less',\n",
       " '10 minutes, 15 minutes',\n",
       " '15 minutes',\n",
       " '60 minutes',\n",
       " '10 minutes',\n",
       " '5 min exposure or less',\n",
       " '5 min exposure or less',\n",
       " '5 min exposure or less, 10 minutes, 60 minutes',\n",
       " '5 min exposure or less',\n",
       " '5 min exposure or less',\n",
       " '5 min exposure or less, littermate (not co-housed)',\n",
       " '5 min exposure or less',\n",
       " '5 min exposure or less',\n",
       " '5 min exposure or less',\n",
       " '5 min exposure or less',\n",
       " '10 minutes',\n",
       " '5 min exposure or less',\n",
       " '5 min exposure or less',\n",
       " '5 min exposure or less',\n",
       " 'offspring ',\n",
       " '5 min exposure or less',\n",
       " '5 min exposure or less',\n",
       " '5 min exposure or less',\n",
       " '5 min exposure or less',\n",
       " '5 min exposure or less',\n",
       " '5 min exposure or less',\n",
       " '5 min exposure or less',\n",
       " '10 minutes, 30 minutes',\n",
       " '5 min exposure or less',\n",
       " '5 min exposure or less',\n",
       " '5 min exposure or less',\n",
       " '5 min exposure or less',\n",
       " '5 min exposure or less',\n",
       " '10 minutes',\n",
       " '5 min exposure or less',\n",
       " '5 min exposure or less',\n",
       " '5 min exposure or less',\n",
       " '5 min exposure or less',\n",
       " '5 min exposure or less',\n",
       " '5 min exposure or less',\n",
       " '5 min exposure or less',\n",
       " '5 min exposure or less',\n",
       " '5 min exposure or less',\n",
       " '5 min exposure or less',\n",
       " '5 min exposure or less',\n",
       " '5 min exposure or less',\n",
       " '5 min exposure or less',\n",
       " '5 min exposure or less',\n",
       " '5 min exposure or less',\n",
       " '5 min exposure or less, 10 minutes',\n",
       " '5 min exposure or less',\n",
       " '10 minutes',\n",
       " '5 min exposure or less',\n",
       " '10 minutes',\n",
       " '5 min exposure or less',\n",
       " '5 min exposure or less',\n",
       " '10 minutes',\n",
       " '5 min exposure or less',\n",
       " '10 minutes, littermate',\n",
       " '5 min exposure or less',\n",
       " '5 min exposure or less',\n",
       " '5 min exposure or less',\n",
       " '5 min exposure or less',\n",
       " '5 min exposure or less',\n",
       " '10 minutes',\n",
       " '10 minutes',\n",
       " '5 min exposure or less',\n",
       " '10 minutes',\n",
       " '5 min exposure or less',\n",
       " '10 minutes',\n",
       " '5 min exposure or less',\n",
       " '1 day, 2 days',\n",
       " '5 min exposure or less',\n",
       " '5 min exposure or less',\n",
       " '10 minutes',\n",
       " '10 minutes',\n",
       " '5 min exposure or less, 60 minutes',\n",
       " '10 minutes',\n",
       " '5 min exposure or less',\n",
       " '10 minutes',\n",
       " '5 min exposure or less',\n",
       " '60 minutes',\n",
       " '5 min exposure or less',\n",
       " '10 minutes',\n",
       " '10 minutes',\n",
       " '10 minutes',\n",
       " '5 min exposure or less',\n",
       " '5 min exposure or less',\n",
       " '5 min exposure or less',\n",
       " '5 min exposure or less',\n",
       " '5 min exposure or less',\n",
       " '5 min exposure or less',\n",
       " '5 min exposure or less',\n",
       " '5 min exposure or less',\n",
       " '5 min exposure or less',\n",
       " '5 min exposure or less',\n",
       " '5 min exposure or less',\n",
       " '5 min exposure or less',\n",
       " '30 minutes',\n",
       " 'littermate',\n",
       " '10 minutes',\n",
       " '5 min exposure or less',\n",
       " '10 minutes',\n",
       " '5 min exposure or less',\n",
       " '5 min exposure or less',\n",
       " '10 minutes',\n",
       " '10 minutes',\n",
       " '5 min exposure or less',\n",
       " '10 minutes',\n",
       " '20 minutes',\n",
       " '5 min exposure or less',\n",
       " '5 min exposure or less',\n",
       " '120 minutes, 3 days',\n",
       " '5 min exposure or less',\n",
       " '5 min exposure or less',\n",
       " '5 min exposure or less',\n",
       " '5 min exposure or less',\n",
       " '5 min exposure or less',\n",
       " '5 min exposure or less',\n",
       " '5 min exposure or less',\n",
       " '5 min exposure or less',\n",
       " 'cagemate',\n",
       " '20 minutes',\n",
       " '10 minutes',\n",
       " '5 min exposure or less',\n",
       " '5 min exposure or less',\n",
       " '5 min exposure or less',\n",
       " '10 minutes',\n",
       " '5 min exposure or less',\n",
       " '5 min exposure or less',\n",
       " '5 min exposure or less',\n",
       " 'parent (mother)',\n",
       " '5 min exposure or less',\n",
       " '5 min exposure or less',\n",
       " '10 minutes, 65 minutes',\n",
       " '5 min exposure or less',\n",
       " '5 min exposure or less, 6 minutes, 10 minutes',\n",
       " '10 minutes',\n",
       " '5 min exposure or less',\n",
       " '5 min exposure or less',\n",
       " '5 min exposure or less',\n",
       " '5 min exposure or less',\n",
       " '10 minutes',\n",
       " '5 min exposure or less',\n",
       " '5 min exposure or less',\n",
       " '5 min exposure or less',\n",
       " '5 min exposure or less',\n",
       " '8 minutes',\n",
       " '10 minutes',\n",
       " '5 min exposure or less',\n",
       " '10 minutes',\n",
       " '5 min exposure or less',\n",
       " '5 min exposure or less',\n",
       " '10 minutes, littermate',\n",
       " '5 min exposure or less',\n",
       " '5 min exposure or less',\n",
       " '5 min exposure or less',\n",
       " '5 min exposure or less',\n",
       " '5 min exposure or less',\n",
       " '5 min exposure or less',\n",
       " '60 minutes',\n",
       " '5 min exposure or less',\n",
       " '5 min exposure or less',\n",
       " '5 min exposure or less',\n",
       " '15 minutes',\n",
       " '5 min exposure or less',\n",
       " '5 min exposure or less',\n",
       " '5 min exposure or less',\n",
       " '5 min exposure or less',\n",
       " '5 min exposure or less',\n",
       " '10 minutes',\n",
       " '5 min exposure or less',\n",
       " '10 minutes',\n",
       " '5 min exposure or less',\n",
       " '10 minutes',\n",
       " '9 minutes',\n",
       " '5 min exposure or less',\n",
       " '5 min exposure or less, 6 minutes',\n",
       " '5 min exposure or less',\n",
       " '10 minutes',\n",
       " '10 minutes',\n",
       " '5 min exposure or less',\n",
       " '10 minutes',\n",
       " '5 min exposure or less',\n",
       " '10 minutes',\n",
       " '5 min exposure or less',\n",
       " '10 minutes',\n",
       " '5 min exposure or less',\n",
       " '5 min exposure or less',\n",
       " '5 min exposure or less',\n",
       " '10 minutes',\n",
       " '10 minutes, 15 minutes',\n",
       " '5 min exposure or less',\n",
       " '5 min exposure or less',\n",
       " '5 min exposure or less',\n",
       " '6 minutes, 10 minutes',\n",
       " '5 min exposure or less',\n",
       " '20 minutes',\n",
       " '5 min exposure or less',\n",
       " '5 min exposure or less',\n",
       " '5 min exposure or less',\n",
       " '5 min exposure or less',\n",
       " '5 min exposure or less',\n",
       " '5 min exposure or less',\n",
       " '5 min exposure or less',\n",
       " '5 min exposure or less',\n",
       " '5 min exposure or less',\n",
       " '5 min exposure or less',\n",
       " '5 min exposure or less',\n",
       " '5 min exposure or less',\n",
       " '5 min exposure or less',\n",
       " '5 min exposure or less',\n",
       " '5 min exposure or less',\n",
       " '5 min exposure or less',\n",
       " '5 min exposure or less',\n",
       " '40 minutes, 60 minutes',\n",
       " '5 min exposure or less',\n",
       " '5 min exposure or less',\n",
       " '5 min exposure or less',\n",
       " '5 min exposure or less',\n",
       " '10 minutes',\n",
       " '5 min exposure or less',\n",
       " '5 min exposure or less',\n",
       " '5 min exposure or less',\n",
       " '20 minutes, 45 minutes',\n",
       " '5 min exposure or less',\n",
       " '10 minutes',\n",
       " '5 min exposure or less',\n",
       " '5 min exposure or less',\n",
       " '5 min exposure or less',\n",
       " '5 min exposure or less',\n",
       " '5 min exposure or less',\n",
       " '5 min exposure or less',\n",
       " '10 minutes',\n",
       " '5 min exposure or less',\n",
       " '5 min exposure or less',\n",
       " '5 min exposure or less',\n",
       " '15 minutes',\n",
       " '5 min exposure or less',\n",
       " '5 min exposure or less',\n",
       " '5 min exposure or less',\n",
       " '10 minutes',\n",
       " '7 minutes',\n",
       " '10 minutes',\n",
       " '5 min exposure or less',\n",
       " '10 minutes',\n",
       " '5 min exposure or less',\n",
       " '60 minutes',\n",
       " '5 min exposure or less',\n",
       " '5 min exposure or less',\n",
       " '5 min exposure or less',\n",
       " '5 min exposure or less',\n",
       " '5 min exposure or less',\n",
       " '10 minutes',\n",
       " '5 min exposure or less',\n",
       " '5 min exposure or less, 10 minutes',\n",
       " '5 min exposure or less',\n",
       " '5 min exposure or less',\n",
       " '10 minutes',\n",
       " '5 min exposure or less',\n",
       " '10 minutes',\n",
       " '10 minutes',\n",
       " '10 minutes',\n",
       " '10 minutes',\n",
       " '5 min exposure or less',\n",
       " '10 minutes',\n",
       " '5 min exposure or less',\n",
       " '5 min exposure or less',\n",
       " '5 min exposure or less',\n",
       " '5 min exposure or less, 15 minutes, 60 minutes',\n",
       " '5 min exposure or less',\n",
       " '5 min exposure or less',\n",
       " '10 minutes',\n",
       " '5 min exposure or less',\n",
       " '5 min exposure or less',\n",
       " '5 min exposure or less, littermate',\n",
       " '60 minutes',\n",
       " '5 min exposure or less',\n",
       " '5 min exposure or less',\n",
       " '10 minutes',\n",
       " '5 min exposure or less',\n",
       " '10 minutes',\n",
       " '10 minutes',\n",
       " '20 minutes, 10 minutes',\n",
       " '5 min exposure or less',\n",
       " '10 minutes',\n",
       " '5 min exposure or less',\n",
       " '5 min exposure or less',\n",
       " '5 min exposure or less',\n",
       " '10 minutes',\n",
       " '5 min exposure or less',\n",
       " '10 minutes, 65 minutes',\n",
       " '5 min exposure or less',\n",
       " '20 minutes',\n",
       " '10 minutes',\n",
       " '15 minutes',\n",
       " '10 minutes',\n",
       " '5 min exposure or less',\n",
       " '5 min exposure or less, 60 minutes',\n",
       " '5 min exposure or less',\n",
       " 'littermate, 5 min exposure or less',\n",
       " '5 min exposure or less',\n",
       " '5 min exposure or less',\n",
       " '5 min exposure or less',\n",
       " '5 min exposure or less',\n",
       " '5 min exposure or less',\n",
       " '5 min exposure or less',\n",
       " '10 minutes',\n",
       " '5 min exposure or less',\n",
       " '10 minutes',\n",
       " '5 min exposure or less, 10 minutes',\n",
       " '5 min exposure or less',\n",
       " '5 min exposure or less',\n",
       " '5 min exposure or less',\n",
       " '5 min exposure or less',\n",
       " '5 min exposure or less',\n",
       " '5 min exposure or less',\n",
       " '5 min exposure or less',\n",
       " '5 min exposure or less',\n",
       " '60 minutes',\n",
       " '10 minutes',\n",
       " '5 min exposure or less',\n",
       " '10 minutes',\n",
       " '5 min exposure or less',\n",
       " '5 min exposure or less',\n",
       " '5 min exposure or less',\n",
       " '5 min exposure or less',\n",
       " '15 minutes',\n",
       " '20 minutes',\n",
       " '5 min exposure or less',\n",
       " '5 min exposure or less',\n",
       " '15 minutes',\n",
       " '5 min exposure or less',\n",
       " '5 min exposure or less',\n",
       " '5 min exposure or less',\n",
       " '6 minutes',\n",
       " '5 min exposure or less',\n",
       " '5 min exposure or less',\n",
       " '5 min exposure or less',\n",
       " '5 min exposure or less',\n",
       " '5 min exposure or less',\n",
       " '5 min exposure or less',\n",
       " '10 minutes',\n",
       " '5 min exposure or less',\n",
       " '120 minutes',\n",
       " '5 min exposure or less',\n",
       " '5 min exposure or less, 30 minutes, 120 minutes, 1 day, 7 days',\n",
       " '5 min exposure or less',\n",
       " '5 min exposure or less',\n",
       " '5 min exposure or less',\n",
       " '5 min exposure or less',\n",
       " '10 minutes',\n",
       " '5 min exposure or less',\n",
       " '10 minutes',\n",
       " '30 minutes',\n",
       " '5 min exposure or less',\n",
       " '5 min exposure or less',\n",
       " '5 min exposure or less',\n",
       " '5 min exposure or less',\n",
       " '5 min exposure or less',\n",
       " '10 minutes',\n",
       " '5 min exposure or less',\n",
       " '5 min exposure or less',\n",
       " '5 min exposure or less',\n",
       " '5 min exposure or less',\n",
       " '10 minutes',\n",
       " '10 minutes',\n",
       " '5 min exposure or less',\n",
       " '5 min exposure or less',\n",
       " '5 min exposure or less',\n",
       " '10 minutes',\n",
       " '10 minutes',\n",
       " '10 minutes',\n",
       " '5 min exposure or less',\n",
       " '5 min exposure or less',\n",
       " '10 minutes',\n",
       " '10 minutes',\n",
       " 'cagemate, 15 minutes, 20 minutes',\n",
       " '5 min exposure or less',\n",
       " '5 min exposure or less, 10 minutes',\n",
       " '5 min exposure or less',\n",
       " '5 min exposure or less',\n",
       " '20 minutes',\n",
       " '5 min exposure or less',\n",
       " '10 minutes',\n",
       " '5 min exposure or less',\n",
       " '5 min exposure or less',\n",
       " 'parent (mother)',\n",
       " '10 minutes',\n",
       " '10 minutes',\n",
       " '10 minutes',\n",
       " '5 min exposure or less',\n",
       " '5 min exposure or less, 10 minutes',\n",
       " '10 minutes',\n",
       " '5 min exposure or less',\n",
       " '5 min exposure or less',\n",
       " '10 minutes',\n",
       " '5 min exposure or less',\n",
       " '10 minutes',\n",
       " '5 min exposure or less',\n",
       " '5 min exposure or less',\n",
       " '5 min exposure or less, 15 minutes, littermate',\n",
       " '5 min exposure or less, 10 minutes',\n",
       " '10 minutes',\n",
       " '5 min exposure or less',\n",
       " '5 min exposure or less',\n",
       " '5 min exposure or less',\n",
       " '5 min exposure or less',\n",
       " '5 min exposure or less',\n",
       " '5 min exposure or less',\n",
       " '5 min exposure or less',\n",
       " '5 min exposure or less',\n",
       " '10 minutes',\n",
       " '10 minutes',\n",
       " '10 minutes',\n",
       " '5 min exposure or less',\n",
       " '5 min exposure or less',\n",
       " '5 min exposure or less',\n",
       " '10 minutes',\n",
       " '5 min exposure or less, 10 minutes',\n",
       " '10 minutes',\n",
       " '5 min exposure or less',\n",
       " '5 min exposure or less',\n",
       " '10 minutes',\n",
       " '10 minutes',\n",
       " '10 minutes, 15 minutes',\n",
       " '5 min exposure or less',\n",
       " '5 min exposure or less, littermate',\n",
       " '5 min exposure or less',\n",
       " '5 min exposure or less',\n",
       " '5 min exposure or less',\n",
       " '5 min exposure or less',\n",
       " '10 minutes',\n",
       " '10 minutes',\n",
       " '5 min exposure or less',\n",
       " '5 min exposure or less',\n",
       " '5 min exposure or less',\n",
       " '20 minutes',\n",
       " '5 min exposure or less',\n",
       " '10 minutes',\n",
       " '5 min exposure or less',\n",
       " '10 minutes',\n",
       " '7 minutes',\n",
       " '5 min exposure or less, 15 minutes, 60 minutes',\n",
       " '5 min exposure or less',\n",
       " '10 minutes',\n",
       " '5 min exposure or less',\n",
       " '5 min exposure or less, 10 minutes, littermate',\n",
       " '5 min exposure or less',\n",
       " '5 min exposure or less',\n",
       " '5 min exposure or less',\n",
       " '6 minutes',\n",
       " '5 min exposure or less',\n",
       " '5 min exposure or less',\n",
       " '10 minutes, 20 minutes',\n",
       " '5 min exposure or less',\n",
       " '5 min exposure or less',\n",
       " '5 min exposure or less',\n",
       " '5 min exposure or less',\n",
       " '10 minutes',\n",
       " 'parent (mother), 10 minutes',\n",
       " '10 minutes',\n",
       " '5 min exposure or less',\n",
       " '10 minutes',\n",
       " '10 minutes',\n",
       " '5 min exposure or less',\n",
       " '15 minutes',\n",
       " '5 min exposure or less',\n",
       " '5 min exposure or less',\n",
       " '10 minutes',\n",
       " '5 min exposure or less',\n",
       " '5 min exposure or less',\n",
       " '10 minutes',\n",
       " '120 minutes',\n",
       " '5 min exposure or less',\n",
       " '5 min exposure or less',\n",
       " '6 minutes',\n",
       " '15 minutes',\n",
       " '10 minutes',\n",
       " '10 minutes',\n",
       " '10 minutes',\n",
       " '15 minutes',\n",
       " '5 min exposure or less',\n",
       " '10 minutes',\n",
       " '5 min exposure or less',\n",
       " '5 min exposure or less',\n",
       " '10 minutes',\n",
       " '5 min exposure or less',\n",
       " '10 minutes',\n",
       " '5 min exposure or less, 10 minutes',\n",
       " '5 min exposure or less',\n",
       " '5 min exposure or less',\n",
       " '10 minutes',\n",
       " '5 min exposure or less',\n",
       " '5 min exposure or less',\n",
       " '10 minutes',\n",
       " '5 min exposure or less, 10 minutes']"
      ]
     },
     "execution_count": 87,
     "metadata": {},
     "output_type": "execute_result"
    }
   ],
   "source": [
    "#for i in dfam_lst:\n",
    "#for i in range(1000):\n",
    "#    dfam_lst.remove('Does not specify')\n",
    "#dfam_lst = [x for x in dfam_lst if x != 'Does not specify']\n",
    "\n",
    "dfam_lst = survey_df['Social Agent: degree of familiarity (if subject is exposed to a social agent ONLY twice, each trial being 5 or less minutes, the degree of familiarity is 5 min or less, NOT the total time exposed to the social agent) '].tolist()\n",
    "#[i if i!='5 min exposure or less' else '5' for i in dfam_lst]\n",
    "#[x.replace('littermate', '') for x in dfam_lst\n",
    " \n",
    "#for i in range(len(dfam_lst)): # Converts '5min..' to a the number 5\n",
    "#    dfam_lst[i] = 5 if dfam_lst[i] == '5 min exposure or less' else dfam_lst[i]\n",
    "#    if ', littermate' in dfam_lst[i]:\n",
    "#        dfam_lst[i].replace(', littermate','')\n",
    "        \n",
    "list(filter(lambda a: a != 'Does not specify', dfam_lst)) #Removes all does not specify\n",
    "\n"
   ]
  },
  {
   "cell_type": "code",
   "execution_count": 88,
   "id": "8018d0cb",
   "metadata": {},
   "outputs": [],
   "source": [
    "# turn column into series\n",
    "column_name = 'Social Agent: degree of familiarity (if subject is exposed to a social agent ONLY twice, each trial being 5 or less minutes, the degree of familiarity is 5 min or less, NOT the total time exposed to the social agent) '\n",
    "dfam_df = pd.read_csv(filename,usecols = [column_name])\n",
    "dfam_df = dfam_df[dfam_df[column_name].str.contains('minutes')==True]"
   ]
  },
  {
   "cell_type": "code",
   "execution_count": 89,
   "id": "c5e14e0a",
   "metadata": {},
   "outputs": [],
   "source": [
    "fixed_column_name = column_name + \"_fixed\"\n",
    "copy_dfam_df = dfam_df.copy()\n",
    "copy_dfam_df[fixed_column_name] = copy_dfam_df[column_name].apply(lambda x: x.split(\",\"))\n",
    "exploded_dfam_df = copy_dfam_df.explode(fixed_column_name).reset_index()\n",
    "\n",
    "exploded_dfam_df = exploded_dfam_df[exploded_dfam_df[fixed_column_name].str.contains('minutes')==True]"
   ]
  },
  {
   "cell_type": "code",
   "execution_count": 90,
   "id": "4c47377e",
   "metadata": {},
   "outputs": [],
   "source": [
    "exploded_dfam_df = exploded_dfam_df.drop(column_name,axis = 1)"
   ]
  },
  {
   "cell_type": "code",
   "execution_count": 91,
   "id": "15f24167",
   "metadata": {
    "scrolled": true
   },
   "outputs": [
    {
     "name": "stderr",
     "output_type": "stream",
     "text": [
      "C:\\Users\\yongc\\AppData\\Local\\Temp/ipykernel_8612/3369587313.py:1: FutureWarning: The default value of regex will change from True to False in a future version.\n",
      "  exploded_dfam_s = exploded_dfam_df[fixed_column_name].str.replace(r'\\D','').astype(int)\n"
     ]
    }
   ],
   "source": [
    "exploded_dfam_s = exploded_dfam_df[fixed_column_name].str.replace(r'\\D','').astype(int)"
   ]
  },
  {
   "cell_type": "code",
   "execution_count": 92,
   "id": "4f95c55f",
   "metadata": {},
   "outputs": [
    {
     "data": {
      "image/png": "[encoded data removed]",
      "text/plain": [
       "<Figure size 864x864 with 1 Axes>"
      ]
     },
     "metadata": {
      "needs_background": "light"
     },
     "output_type": "display_data"
    }
   ],
   "source": [
    "plt.rcParams[\"figure.figsize\"] = (12,12)\n",
    "ax = exploded_dfam_s.plot.box(flierprops={'marker': 'o', 'markersize': 5, 'markerfacecolor': 'black'})"
   ]
  },
  {
   "cell_type": "code",
   "execution_count": 93,
   "id": "06fbfb89",
   "metadata": {},
   "outputs": [
    {
     "ename": "NameError",
     "evalue": "name 'pclabcol' is not defined",
     "output_type": "error",
     "traceback": [
      "\u001b[1;31m---------------------------------------------------------------------------\u001b[0m",
      "\u001b[1;31mNameError\u001b[0m                                 Traceback (most recent call last)",
      "\u001b[1;32m~\\AppData\\Local\\Temp/ipykernel_8612/2040174180.py\u001b[0m in \u001b[0;36m<module>\u001b[1;34m\u001b[0m\n\u001b[0;32m      1\u001b[0m \u001b[0mplt\u001b[0m\u001b[1;33m.\u001b[0m\u001b[0mrcParams\u001b[0m\u001b[1;33m[\u001b[0m\u001b[1;34m\"figure.figsize\"\u001b[0m\u001b[1;33m]\u001b[0m \u001b[1;33m=\u001b[0m \u001b[1;33m(\u001b[0m\u001b[1;36m18\u001b[0m\u001b[1;33m,\u001b[0m\u001b[1;36m10\u001b[0m\u001b[1;33m)\u001b[0m\u001b[1;33m\u001b[0m\u001b[1;33m\u001b[0m\u001b[0m\n\u001b[1;32m----> 2\u001b[1;33m \u001b[0max1\u001b[0m \u001b[1;33m=\u001b[0m \u001b[0mexploded_dfam_s\u001b[0m\u001b[1;33m.\u001b[0m\u001b[0mhist\u001b[0m\u001b[1;33m(\u001b[0m\u001b[0mbins\u001b[0m \u001b[1;33m=\u001b[0m \u001b[1;36m60\u001b[0m\u001b[1;33m,\u001b[0m \u001b[0mcolor\u001b[0m \u001b[1;33m=\u001b[0m \u001b[0mpclabcol\u001b[0m\u001b[1;33m[\u001b[0m\u001b[1;36m2\u001b[0m\u001b[1;33m]\u001b[0m\u001b[1;33m)\u001b[0m\u001b[1;33m\u001b[0m\u001b[1;33m\u001b[0m\u001b[0m\n\u001b[0m\u001b[0;32m      3\u001b[0m \u001b[0mplt\u001b[0m\u001b[1;33m.\u001b[0m\u001b[0mtitle\u001b[0m\u001b[1;33m(\u001b[0m\u001b[1;34m'Distribution of Exposure Times for Short-Term Familiarity Memories'\u001b[0m\u001b[1;33m,\u001b[0m \u001b[0mfontsize\u001b[0m \u001b[1;33m=\u001b[0m \u001b[1;36m35\u001b[0m\u001b[1;33m)\u001b[0m\u001b[1;33m\u001b[0m\u001b[1;33m\u001b[0m\u001b[0m\n\u001b[0;32m      4\u001b[0m \u001b[0mplt\u001b[0m\u001b[1;33m.\u001b[0m\u001b[0mxticks\u001b[0m\u001b[1;33m(\u001b[0m\u001b[0mfontsize\u001b[0m\u001b[1;33m=\u001b[0m\u001b[0mAXESTICKS\u001b[0m\u001b[1;33m)\u001b[0m\u001b[1;33m\u001b[0m\u001b[1;33m\u001b[0m\u001b[0m\n\u001b[0;32m      5\u001b[0m \u001b[0mplt\u001b[0m\u001b[1;33m.\u001b[0m\u001b[0myticks\u001b[0m\u001b[1;33m(\u001b[0m\u001b[0mfontsize\u001b[0m\u001b[1;33m=\u001b[0m\u001b[0mAXESTICKS\u001b[0m\u001b[1;33m)\u001b[0m\u001b[1;33m\u001b[0m\u001b[1;33m\u001b[0m\u001b[0m\n",
      "\u001b[1;31mNameError\u001b[0m: name 'pclabcol' is not defined"
     ]
    }
   ],
   "source": [
    "plt.rcParams[\"figure.figsize\"] = (18,10)\n",
    "ax1 = exploded_dfam_s.hist(bins = 60, color = pclabcol[2])\n",
    "plt.title('Distribution of Exposure Times for Short-Term Familiarity Memories', fontsize = 35)\n",
    "plt.xticks(fontsize=AXESTICKS)\n",
    "plt.yticks(fontsize=AXESTICKS)\n",
    "plt.xlabel('Minutes', fontsize = AXESLABEL)\n",
    "plt.ylabel('Number of Papers', fontsize = AXESLABEL)\n",
    "# Removes graph border\n",
    "for pos in ['right', 'top']: \n",
    "    plt.gca().spines[pos].set_visible(False)\n",
    "# gets rid of grid lines\n",
    "plt.grid(False)\n",
    "plt.savefig(\"./proc/plots/famtime_stm.svg\")"
   ]
  },
  {
   "cell_type": "markdown",
   "id": "9b2761e9",
   "metadata": {},
   "source": [
    "# Rank w/ only G-housed and Adult"
   ]
  },
  {
   "cell_type": "markdown",
   "id": "ce25dc6c",
   "metadata": {},
   "source": [
    "SUBJECT: group-housed + adult( + old)\n",
    "\n",
    "SOCIAL AGENT: group-housed + adult(+old)\n",
    "\n",
    "calculate percent rank does not specify"
   ]
  },
  {
   "cell_type": "code",
   "execution_count": 94,
   "id": "c3e656c6",
   "metadata": {},
   "outputs": [],
   "source": [
    "rank_df = pd.read_csv(filename)"
   ]
  },
  {
   "cell_type": "code",
   "execution_count": 95,
   "id": "d0ed162c",
   "metadata": {},
   "outputs": [],
   "source": [
    "#Filters for Subject (group-housed and adult/old only)\n",
    "s_grank_df = rank_df.loc[rank_df['Subject Housing'].str.contains('group-housed')]\n",
    "s_gArank_df = s_grank_df.loc[s_grank_df['Subject Age'].str.contains('adult' or 'old')]\n",
    "\n",
    "#Filters for Social agent (group-housed and adult/old only)\n",
    "sa_grank_df = rank_df.loc[rank_df['Social Agent Housing'].str.contains('group-housed')]\n",
    "sa_gArank_df = sa_grank_df.loc[sa_grank_df['Social Agent Age (check all that apply)'].str.contains('adult' or 'old')]"
   ]
  },
  {
   "cell_type": "code",
   "execution_count": 96,
   "id": "a8abe303",
   "metadata": {},
   "outputs": [
    {
     "data": {
      "text/plain": [
       "array(['adult (week not specified)', 'adult (12-24 weeks)',\n",
       "       'adult (24-40 weeks)', 'young adult (8-12 weeks)',\n",
       "       'adult (24-40 weeks), old (+40 weeks)',\n",
       "       'young adult (8-12 weeks), adult (12-24 weeks)',\n",
       "       'juvenile (3-7 weeks or week not specified), adult (12-24 weeks)',\n",
       "       'juvenile (3-7 weeks or week not specified), young adult (8-12 weeks), adult (12-24 weeks), adult (24-40 weeks)',\n",
       "       'juvenile (3-7 weeks or week not specified), adult (week not specified)',\n",
       "       'juvenile (3-7 weeks or week not specified), young adult (8-12 weeks), adult (12-24 weeks)',\n",
       "       'adult (12-24 weeks), adult (24-40 weeks)',\n",
       "       'juvenile (3-7 weeks or week not specified), young adult (8-12 weeks)',\n",
       "       'adult (week not specified), young adult (8-12 weeks)'],\n",
       "      dtype=object)"
      ]
     },
     "execution_count": 96,
     "metadata": {},
     "output_type": "execute_result"
    }
   ],
   "source": [
    "#Shows all unique choices in a column \n",
    "sa_gArank_df['Social Agent Age (check all that apply)'].unique()"
   ]
  },
  {
   "cell_type": "code",
   "execution_count": 97,
   "id": "2f6d9e3b",
   "metadata": {},
   "outputs": [
    {
     "data": {
      "text/plain": [
       "array(['Does not specify', 'Defeated, Does not specify', 'Ranked'],\n",
       "      dtype=object)"
      ]
     },
     "execution_count": 97,
     "metadata": {},
     "output_type": "execute_result"
    }
   ],
   "source": [
    "s_gArank_df['Subject Social Rank'].unique()"
   ]
  },
  {
   "cell_type": "code",
   "execution_count": 98,
   "id": "6be421b2",
   "metadata": {},
   "outputs": [],
   "source": [
    "subject_data = []\n",
    "agent_data = []\n",
    "\n",
    "#Percentage of Subject rank percentage that does not specify\n",
    "subject_SR_P = sum(s_gArank_df['Subject Social Rank'].str.contains('Does not specify')) / len(s_gArank_df['Subject Social Rank'])\n",
    "subject_data.append(subject_SR_P)\n",
    "\n",
    "#Percentage of Social Agent rank percentage that does not specify\n",
    "agent_SR_P = sum(sa_gArank_df['Social Agent Rank'].str.contains('Does not specify')) / len(sa_gArank_df['Social Agent Rank'])\n",
    "agent_data.append(agent_SR_P)"
   ]
  },
  {
   "cell_type": "code",
   "execution_count": 99,
   "id": "bdb810cb",
   "metadata": {},
   "outputs": [
    {
     "name": "stdout",
     "output_type": "stream",
     "text": [
      "subject_SR_P: 0.9971098265895953\n",
      "agent_SR_P: 0.9857142857142858\n"
     ]
    }
   ],
   "source": [
    "print('subject_SR_P: '+str(subject_SR_P))\n",
    "print('agent_SR_P: '+str(agent_SR_P))"
   ]
  },
  {
   "cell_type": "code",
   "execution_count": 100,
   "id": "d26e4604",
   "metadata": {},
   "outputs": [
    {
     "data": {
      "text/plain": [
       "<matplotlib.legend.Legend at 0x22bda15b490>"
      ]
     },
     "execution_count": 100,
     "metadata": {},
     "output_type": "execute_result"
    },
    {
     "data": {
      "image/png": "[encoded data removed]",
      "text/plain": [
       "<Figure size 288x216 with 1 Axes>"
      ]
     },
     "metadata": {
      "needs_background": "light"
     },
     "output_type": "display_data"
    }
   ],
   "source": [
    "x = ['Rank']\n",
    "x_axis = np.arange(len(x))\n",
    "\n",
    "plt.rcParams[\"figure.figsize\"] = (4,3) # Size of the plotax.spines['top'].set_visible(False)\n",
    "for pos in ['right', 'top', 'bottom']: # Removes graph border\n",
    "    plt.gca().spines[pos].set_visible(False)\n",
    "    \n",
    "plt.xticks([]) # Removes x-ticks\n",
    "\n",
    "plt.bar(x_axis - 0.2, subject_data, 0.4, label = 'Subject', color = 'black')\n",
    "plt.bar(x_axis + 0.2, agent_data, 0.4, label = 'Social Agents', fill=False, hatch='///')\n",
    "plt.gca().yaxis.set_major_formatter(mtick.PercentFormatter(xmax=1.0)) #Makes y percentages\n",
    "\n",
    "plt.legend(bbox_to_anchor=(1.0, 1.0),frameon = False) #Moves legend and takes frame off"
   ]
  },
  {
   "cell_type": "markdown",
   "id": "b6045c46",
   "metadata": {},
   "source": [
    "# Pie Graph of familiarity"
   ]
  },
  {
   "cell_type": "code",
   "execution_count": 101,
   "id": "eb216a5f",
   "metadata": {},
   "outputs": [],
   "source": [
    "#Seperating by comma\n",
    "column_name = 'Social Agent: degree of familiarity (if subject is exposed to a social agent ONLY twice, each trial being 5 or less minutes, the degree of familiarity is 5 min or less, NOT the total time exposed to the social agent) '\n",
    "famtime_df = pd.read_csv(filename,usecols = [column_name])\n",
    "\n",
    "fixed_column_name = column_name + \"_fixed\"\n",
    "copy_famtime_df = famtime_df.copy()\n",
    "copy_famtime_df[fixed_column_name] = copy_famtime_df[column_name].apply(lambda x: x.split(\",\"))\n",
    "exploded_famtime_df = copy_famtime_df.explode(fixed_column_name).reset_index()\n",
    "\n",
    "#exploded_famtime_df = exploded_famtime_df[exploded_famtime_df[fixed_column_name].str.contains('minutes')==True]\n",
    "#exploded_famtime_df = exploded_famtime_df.drop(column_name,axis = 1)\n",
    "\n",
    "#exploded_dfam_s = exploded_dfam_df[fixed_column_name].str.replace(r'\\D','').astype(int)"
   ]
  },
  {
   "cell_type": "code",
   "execution_count": 102,
   "id": "d50df71a",
   "metadata": {},
   "outputs": [
    {
     "data": {
      "text/html": [
       "<div>\n",
       "<style scoped>\n",
       "    .dataframe tbody tr th:only-of-type {\n",
       "        vertical-align: middle;\n",
       "    }\n",
       "\n",
       "    .dataframe tbody tr th {\n",
       "        vertical-align: top;\n",
       "    }\n",
       "\n",
       "    .dataframe thead th {\n",
       "        text-align: right;\n",
       "    }\n",
       "</style>\n",
       "<table border=\"1\" class=\"dataframe\">\n",
       "  <thead>\n",
       "    <tr style=\"text-align: right;\">\n",
       "      <th></th>\n",
       "      <th>index</th>\n",
       "      <th>Social Agent: degree of familiarity (if subject is exposed to a social agent ONLY twice, each trial being 5 or less minutes, the degree of familiarity is 5 min or less, NOT the total time exposed to the social agent)</th>\n",
       "      <th>Social Agent: degree of familiarity (if subject is exposed to a social agent ONLY twice, each trial being 5 or less minutes, the degree of familiarity is 5 min or less, NOT the total time exposed to the social agent) _fixed</th>\n",
       "    </tr>\n",
       "  </thead>\n",
       "  <tbody>\n",
       "    <tr>\n",
       "      <th>0</th>\n",
       "      <td>0</td>\n",
       "      <td>10 minutes</td>\n",
       "      <td>10 minutes</td>\n",
       "    </tr>\n",
       "    <tr>\n",
       "      <th>1</th>\n",
       "      <td>1</td>\n",
       "      <td>5 min exposure or less</td>\n",
       "      <td>5 min exposure or less</td>\n",
       "    </tr>\n",
       "    <tr>\n",
       "      <th>2</th>\n",
       "      <td>2</td>\n",
       "      <td>15 minutes</td>\n",
       "      <td>15 minutes</td>\n",
       "    </tr>\n",
       "    <tr>\n",
       "      <th>3</th>\n",
       "      <td>3</td>\n",
       "      <td>10 minutes</td>\n",
       "      <td>10 minutes</td>\n",
       "    </tr>\n",
       "    <tr>\n",
       "      <th>4</th>\n",
       "      <td>4</td>\n",
       "      <td>5 min exposure or less</td>\n",
       "      <td>5 min exposure or less</td>\n",
       "    </tr>\n",
       "    <tr>\n",
       "      <th>...</th>\n",
       "      <td>...</td>\n",
       "      <td>...</td>\n",
       "      <td>...</td>\n",
       "    </tr>\n",
       "    <tr>\n",
       "      <th>728</th>\n",
       "      <td>665</td>\n",
       "      <td>5 min exposure or less</td>\n",
       "      <td>5 min exposure or less</td>\n",
       "    </tr>\n",
       "    <tr>\n",
       "      <th>729</th>\n",
       "      <td>666</td>\n",
       "      <td>5 min exposure or less</td>\n",
       "      <td>5 min exposure or less</td>\n",
       "    </tr>\n",
       "    <tr>\n",
       "      <th>730</th>\n",
       "      <td>667</td>\n",
       "      <td>10 minutes</td>\n",
       "      <td>10 minutes</td>\n",
       "    </tr>\n",
       "    <tr>\n",
       "      <th>731</th>\n",
       "      <td>668</td>\n",
       "      <td>5 min exposure or less, 10 minutes</td>\n",
       "      <td>5 min exposure or less</td>\n",
       "    </tr>\n",
       "    <tr>\n",
       "      <th>732</th>\n",
       "      <td>668</td>\n",
       "      <td>5 min exposure or less, 10 minutes</td>\n",
       "      <td>10 minutes</td>\n",
       "    </tr>\n",
       "  </tbody>\n",
       "</table>\n",
       "<p>733 rows × 3 columns</p>\n",
       "</div>"
      ],
      "text/plain": [
       "     index  \\\n",
       "0        0   \n",
       "1        1   \n",
       "2        2   \n",
       "3        3   \n",
       "4        4   \n",
       "..     ...   \n",
       "728    665   \n",
       "729    666   \n",
       "730    667   \n",
       "731    668   \n",
       "732    668   \n",
       "\n",
       "    Social Agent: degree of familiarity (if subject is exposed to a social agent ONLY twice, each trial being 5 or less minutes, the degree of familiarity is 5 min or less, NOT the total time exposed to the social agent)   \\\n",
       "0                                           10 minutes                                                                                                                                                                          \n",
       "1                               5 min exposure or less                                                                                                                                                                          \n",
       "2                                           15 minutes                                                                                                                                                                          \n",
       "3                                           10 minutes                                                                                                                                                                          \n",
       "4                               5 min exposure or less                                                                                                                                                                          \n",
       "..                                                 ...                                                                                                                                                                          \n",
       "728                             5 min exposure or less                                                                                                                                                                          \n",
       "729                             5 min exposure or less                                                                                                                                                                          \n",
       "730                                         10 minutes                                                                                                                                                                          \n",
       "731                 5 min exposure or less, 10 minutes                                                                                                                                                                          \n",
       "732                 5 min exposure or less, 10 minutes                                                                                                                                                                          \n",
       "\n",
       "    Social Agent: degree of familiarity (if subject is exposed to a social agent ONLY twice, each trial being 5 or less minutes, the degree of familiarity is 5 min or less, NOT the total time exposed to the social agent) _fixed  \n",
       "0                                           10 minutes                                                                                                                                                                               \n",
       "1                               5 min exposure or less                                                                                                                                                                               \n",
       "2                                           15 minutes                                                                                                                                                                               \n",
       "3                                           10 minutes                                                                                                                                                                               \n",
       "4                               5 min exposure or less                                                                                                                                                                               \n",
       "..                                                 ...                                                                                                                                                                               \n",
       "728                             5 min exposure or less                                                                                                                                                                               \n",
       "729                             5 min exposure or less                                                                                                                                                                               \n",
       "730                                         10 minutes                                                                                                                                                                               \n",
       "731                             5 min exposure or less                                                                                                                                                                               \n",
       "732                                         10 minutes                                                                                                                                                                               \n",
       "\n",
       "[733 rows x 3 columns]"
      ]
     },
     "execution_count": 102,
     "metadata": {},
     "output_type": "execute_result"
    }
   ],
   "source": [
    "exploded_famtime_df"
   ]
  },
  {
   "cell_type": "code",
   "execution_count": 103,
   "id": "2aa8274c",
   "metadata": {},
   "outputs": [],
   "source": [
    "sliced_column = \"sliced column\"\n",
    "exploded_famtime_df[sliced_column] = 'ethologically relevant relationships'\n",
    "\n",
    "for i in range(len(exploded_famtime_df[sliced_column])):\n",
    "    if '5 min exposure or less' in exploded_famtime_df[fixed_column_name][i]:\n",
    "        exploded_famtime_df.loc[i, sliced_column] = '< 5 min' \n",
    "    elif 'minutes' in exploded_famtime_df[fixed_column_name][i]:\n",
    "        exploded_famtime_df.loc[i, sliced_column] = '5min - 2hrs'\n",
    "    elif 'day' in exploded_famtime_df[fixed_column_name][i]:\n",
    "        exploded_famtime_df.loc[i, sliced_column] = '1 - 7 days'\n",
    "    elif 'Does not specify' in exploded_famtime_df[fixed_column_name][i]:\n",
    "        exploded_famtime_df.loc[i, sliced_column] = 'Does not specify'\n",
    "    #If string contains minutes\n",
    "    #IF string contains day"
   ]
  },
  {
   "cell_type": "code",
   "execution_count": 104,
   "id": "1646bcf5",
   "metadata": {},
   "outputs": [
    {
     "data": {
      "text/plain": [
       "array(['5min - 2hrs', '< 5 min', 'Does not specify',\n",
       "       'ethologically relevant relationships', '1 - 7 days'], dtype=object)"
      ]
     },
     "execution_count": 104,
     "metadata": {},
     "output_type": "execute_result"
    }
   ],
   "source": [
    "exploded_famtime_df[sliced_column].unique()"
   ]
  },
  {
   "cell_type": "code",
   "execution_count": 105,
   "id": "92f60565",
   "metadata": {},
   "outputs": [
    {
     "data": {
      "text/html": [
       "<div>\n",
       "<style scoped>\n",
       "    .dataframe tbody tr th:only-of-type {\n",
       "        vertical-align: middle;\n",
       "    }\n",
       "\n",
       "    .dataframe tbody tr th {\n",
       "        vertical-align: top;\n",
       "    }\n",
       "\n",
       "    .dataframe thead th {\n",
       "        text-align: right;\n",
       "    }\n",
       "</style>\n",
       "<table border=\"1\" class=\"dataframe\">\n",
       "  <thead>\n",
       "    <tr style=\"text-align: right;\">\n",
       "      <th></th>\n",
       "      <th>index</th>\n",
       "      <th>Social Agent: degree of familiarity (if subject is exposed to a social agent ONLY twice, each trial being 5 or less minutes, the degree of familiarity is 5 min or less, NOT the total time exposed to the social agent)</th>\n",
       "      <th>Social Agent: degree of familiarity (if subject is exposed to a social agent ONLY twice, each trial being 5 or less minutes, the degree of familiarity is 5 min or less, NOT the total time exposed to the social agent) _fixed</th>\n",
       "      <th>sliced column</th>\n",
       "    </tr>\n",
       "  </thead>\n",
       "  <tbody>\n",
       "    <tr>\n",
       "      <th>15</th>\n",
       "      <td>15</td>\n",
       "      <td>littermate, 5 min exposure or less</td>\n",
       "      <td>littermate</td>\n",
       "      <td>ethologically relevant relationships</td>\n",
       "    </tr>\n",
       "    <tr>\n",
       "      <th>70</th>\n",
       "      <td>68</td>\n",
       "      <td>mate</td>\n",
       "      <td>mate</td>\n",
       "      <td>ethologically relevant relationships</td>\n",
       "    </tr>\n",
       "    <tr>\n",
       "      <th>111</th>\n",
       "      <td>103</td>\n",
       "      <td>10 minutes, 12 minutes, littermate</td>\n",
       "      <td>littermate</td>\n",
       "      <td>ethologically relevant relationships</td>\n",
       "    </tr>\n",
       "    <tr>\n",
       "      <th>118</th>\n",
       "      <td>109</td>\n",
       "      <td>10 minutes, littermate</td>\n",
       "      <td>littermate</td>\n",
       "      <td>ethologically relevant relationships</td>\n",
       "    </tr>\n",
       "    <tr>\n",
       "      <th>133</th>\n",
       "      <td>123</td>\n",
       "      <td>6 minutes, cagemate</td>\n",
       "      <td>cagemate</td>\n",
       "      <td>ethologically relevant relationships</td>\n",
       "    </tr>\n",
       "    <tr>\n",
       "      <th>195</th>\n",
       "      <td>177</td>\n",
       "      <td>5 min exposure or less, littermate (not co-hou...</td>\n",
       "      <td>littermate (not co-housed)</td>\n",
       "      <td>ethologically relevant relationships</td>\n",
       "    </tr>\n",
       "    <tr>\n",
       "      <th>204</th>\n",
       "      <td>186</td>\n",
       "      <td>offspring</td>\n",
       "      <td>offspring</td>\n",
       "      <td>ethologically relevant relationships</td>\n",
       "    </tr>\n",
       "    <tr>\n",
       "      <th>246</th>\n",
       "      <td>225</td>\n",
       "      <td>10 minutes, littermate</td>\n",
       "      <td>littermate</td>\n",
       "      <td>ethologically relevant relationships</td>\n",
       "    </tr>\n",
       "    <tr>\n",
       "      <th>290</th>\n",
       "      <td>267</td>\n",
       "      <td>littermate</td>\n",
       "      <td>littermate</td>\n",
       "      <td>ethologically relevant relationships</td>\n",
       "    </tr>\n",
       "    <tr>\n",
       "      <th>313</th>\n",
       "      <td>289</td>\n",
       "      <td>cagemate</td>\n",
       "      <td>cagemate</td>\n",
       "      <td>ethologically relevant relationships</td>\n",
       "    </tr>\n",
       "    <tr>\n",
       "      <th>323</th>\n",
       "      <td>299</td>\n",
       "      <td>parent (mother)</td>\n",
       "      <td>parent (mother)</td>\n",
       "      <td>ethologically relevant relationships</td>\n",
       "    </tr>\n",
       "    <tr>\n",
       "      <th>349</th>\n",
       "      <td>321</td>\n",
       "      <td>10 minutes, littermate</td>\n",
       "      <td>littermate</td>\n",
       "      <td>ethologically relevant relationships</td>\n",
       "    </tr>\n",
       "    <tr>\n",
       "      <th>481</th>\n",
       "      <td>444</td>\n",
       "      <td>5 min exposure or less, littermate</td>\n",
       "      <td>littermate</td>\n",
       "      <td>ethologically relevant relationships</td>\n",
       "    </tr>\n",
       "    <tr>\n",
       "      <th>509</th>\n",
       "      <td>469</td>\n",
       "      <td>littermate, 5 min exposure or less</td>\n",
       "      <td>littermate</td>\n",
       "      <td>ethologically relevant relationships</td>\n",
       "    </tr>\n",
       "    <tr>\n",
       "      <th>594</th>\n",
       "      <td>548</td>\n",
       "      <td>cagemate, 15 minutes, 20 minutes</td>\n",
       "      <td>cagemate</td>\n",
       "      <td>ethologically relevant relationships</td>\n",
       "    </tr>\n",
       "    <tr>\n",
       "      <th>607</th>\n",
       "      <td>558</td>\n",
       "      <td>parent (mother)</td>\n",
       "      <td>parent (mother)</td>\n",
       "      <td>ethologically relevant relationships</td>\n",
       "    </tr>\n",
       "    <tr>\n",
       "      <th>624</th>\n",
       "      <td>572</td>\n",
       "      <td>5 min exposure or less, 15 minutes, littermate</td>\n",
       "      <td>littermate</td>\n",
       "      <td>ethologically relevant relationships</td>\n",
       "    </tr>\n",
       "    <tr>\n",
       "      <th>654</th>\n",
       "      <td>598</td>\n",
       "      <td>5 min exposure or less, littermate</td>\n",
       "      <td>littermate</td>\n",
       "      <td>ethologically relevant relationships</td>\n",
       "    </tr>\n",
       "    <tr>\n",
       "      <th>678</th>\n",
       "      <td>618</td>\n",
       "      <td>5 min exposure or less, 10 minutes, littermate</td>\n",
       "      <td>littermate</td>\n",
       "      <td>ethologically relevant relationships</td>\n",
       "    </tr>\n",
       "    <tr>\n",
       "      <th>693</th>\n",
       "      <td>632</td>\n",
       "      <td>parent (mother), 10 minutes</td>\n",
       "      <td>parent (mother)</td>\n",
       "      <td>ethologically relevant relationships</td>\n",
       "    </tr>\n",
       "  </tbody>\n",
       "</table>\n",
       "</div>"
      ],
      "text/plain": [
       "     index  \\\n",
       "15      15   \n",
       "70      68   \n",
       "111    103   \n",
       "118    109   \n",
       "133    123   \n",
       "195    177   \n",
       "204    186   \n",
       "246    225   \n",
       "290    267   \n",
       "313    289   \n",
       "323    299   \n",
       "349    321   \n",
       "481    444   \n",
       "509    469   \n",
       "594    548   \n",
       "607    558   \n",
       "624    572   \n",
       "654    598   \n",
       "678    618   \n",
       "693    632   \n",
       "\n",
       "    Social Agent: degree of familiarity (if subject is exposed to a social agent ONLY twice, each trial being 5 or less minutes, the degree of familiarity is 5 min or less, NOT the total time exposed to the social agent)   \\\n",
       "15                  littermate, 5 min exposure or less                                                                                                                                                                          \n",
       "70                                                mate                                                                                                                                                                          \n",
       "111                 10 minutes, 12 minutes, littermate                                                                                                                                                                          \n",
       "118                             10 minutes, littermate                                                                                                                                                                          \n",
       "133                                6 minutes, cagemate                                                                                                                                                                          \n",
       "195  5 min exposure or less, littermate (not co-hou...                                                                                                                                                                          \n",
       "204                                         offspring                                                                                                                                                                           \n",
       "246                             10 minutes, littermate                                                                                                                                                                          \n",
       "290                                         littermate                                                                                                                                                                          \n",
       "313                                           cagemate                                                                                                                                                                          \n",
       "323                                    parent (mother)                                                                                                                                                                          \n",
       "349                             10 minutes, littermate                                                                                                                                                                          \n",
       "481                 5 min exposure or less, littermate                                                                                                                                                                          \n",
       "509                 littermate, 5 min exposure or less                                                                                                                                                                          \n",
       "594                   cagemate, 15 minutes, 20 minutes                                                                                                                                                                          \n",
       "607                                    parent (mother)                                                                                                                                                                          \n",
       "624     5 min exposure or less, 15 minutes, littermate                                                                                                                                                                          \n",
       "654                 5 min exposure or less, littermate                                                                                                                                                                          \n",
       "678     5 min exposure or less, 10 minutes, littermate                                                                                                                                                                          \n",
       "693                        parent (mother), 10 minutes                                                                                                                                                                          \n",
       "\n",
       "    Social Agent: degree of familiarity (if subject is exposed to a social agent ONLY twice, each trial being 5 or less minutes, the degree of familiarity is 5 min or less, NOT the total time exposed to the social agent) _fixed  \\\n",
       "15                                          littermate                                                                                                                                                                                \n",
       "70                                                mate                                                                                                                                                                                \n",
       "111                                         littermate                                                                                                                                                                                \n",
       "118                                         littermate                                                                                                                                                                                \n",
       "133                                           cagemate                                                                                                                                                                                \n",
       "195                         littermate (not co-housed)                                                                                                                                                                                \n",
       "204                                         offspring                                                                                                                                                                                 \n",
       "246                                         littermate                                                                                                                                                                                \n",
       "290                                         littermate                                                                                                                                                                                \n",
       "313                                           cagemate                                                                                                                                                                                \n",
       "323                                    parent (mother)                                                                                                                                                                                \n",
       "349                                         littermate                                                                                                                                                                                \n",
       "481                                         littermate                                                                                                                                                                                \n",
       "509                                         littermate                                                                                                                                                                                \n",
       "594                                           cagemate                                                                                                                                                                                \n",
       "607                                    parent (mother)                                                                                                                                                                                \n",
       "624                                         littermate                                                                                                                                                                                \n",
       "654                                         littermate                                                                                                                                                                                \n",
       "678                                         littermate                                                                                                                                                                                \n",
       "693                                    parent (mother)                                                                                                                                                                                \n",
       "\n",
       "                            sliced column  \n",
       "15   ethologically relevant relationships  \n",
       "70   ethologically relevant relationships  \n",
       "111  ethologically relevant relationships  \n",
       "118  ethologically relevant relationships  \n",
       "133  ethologically relevant relationships  \n",
       "195  ethologically relevant relationships  \n",
       "204  ethologically relevant relationships  \n",
       "246  ethologically relevant relationships  \n",
       "290  ethologically relevant relationships  \n",
       "313  ethologically relevant relationships  \n",
       "323  ethologically relevant relationships  \n",
       "349  ethologically relevant relationships  \n",
       "481  ethologically relevant relationships  \n",
       "509  ethologically relevant relationships  \n",
       "594  ethologically relevant relationships  \n",
       "607  ethologically relevant relationships  \n",
       "624  ethologically relevant relationships  \n",
       "654  ethologically relevant relationships  \n",
       "678  ethologically relevant relationships  \n",
       "693  ethologically relevant relationships  "
      ]
     },
     "execution_count": 105,
     "metadata": {},
     "output_type": "execute_result"
    }
   ],
   "source": [
    "exploded_famtime_df.loc[exploded_famtime_df[sliced_column] == 'ethologically relevant relationships']"
   ]
  },
  {
   "cell_type": "code",
   "execution_count": 106,
   "id": "abbe4d4a",
   "metadata": {},
   "outputs": [
    {
     "data": {
      "text/plain": [
       "sliced column\n",
       "1 - 7 days                                7\n",
       "5min - 2hrs                             253\n",
       "< 5 min                                 445\n",
       "Does not specify                          8\n",
       "ethologically relevant relationships     20\n",
       "Name: index, dtype: int64"
      ]
     },
     "execution_count": 106,
     "metadata": {},
     "output_type": "execute_result"
    }
   ],
   "source": [
    "total_famtime_df = exploded_famtime_df.groupby([sliced_column]).count().loc[:,'index']\n",
    "total_famtime_df"
   ]
  },
  {
   "cell_type": "code",
   "execution_count": 107,
   "id": "19a132b2",
   "metadata": {},
   "outputs": [
    {
     "data": {
      "text/plain": [
       "Text(0, 0.5, 'Exposure')"
      ]
     },
     "execution_count": 107,
     "metadata": {},
     "output_type": "execute_result"
    },
    {
     "data": {
      "image/png": "[encoded data removed]",
      "text/plain": [
       "<Figure size 1296x720 with 1 Axes>"
      ]
     },
     "metadata": {},
     "output_type": "display_data"
    }
   ],
   "source": [
    "plt.rcParams[\"figure.figsize\"] = (18,10)\n",
    "total_famtime_df.plot(kind='pie',subplots = True,autopct='%.2f%%', pctdistance=1.3, labeldistance=None, fontsize = AXESLABEL)#cmap=my_colors,\n",
    "plt.legend(bbox_to_anchor=(1.0, 1.0),frameon = False, fontsize = LEGSIZE) #Moves legend and takes frame off\n",
    "plt.ylabel(\"Exposure\", fontsize = TITLESIZE, family = 'Arial')\n",
    "#plt.savefig(\"./proc/plots/FAMTIME.svg\")"
   ]
  },
  {
   "cell_type": "markdown",
   "id": "fd45ed01",
   "metadata": {},
   "source": [
    "## Ethicologically Relevant Bar Graph"
   ]
  },
  {
   "cell_type": "code",
   "execution_count": 108,
   "id": "b6ce9fbd",
   "metadata": {},
   "outputs": [],
   "source": [
    "er_df = exploded_famtime_df.loc[exploded_famtime_df[sliced_column] == 'ethologically relevant relationships']\n",
    "er_df = er_df[fixed_column_name].str.strip()"
   ]
  },
  {
   "cell_type": "code",
   "execution_count": 109,
   "id": "3d953ce1",
   "metadata": {},
   "outputs": [],
   "source": [
    "e_df = er_df.value_counts()"
   ]
  },
  {
   "cell_type": "code",
   "execution_count": 110,
   "id": "9a97e4a0",
   "metadata": {},
   "outputs": [
    {
     "data": {
      "text/plain": [
       "15                     littermate\n",
       "70                           mate\n",
       "111                    littermate\n",
       "118                    littermate\n",
       "133                      cagemate\n",
       "195    littermate (not co-housed)\n",
       "204                     offspring\n",
       "246                    littermate\n",
       "290                    littermate\n",
       "313                      cagemate\n",
       "323               parent (mother)\n",
       "349                    littermate\n",
       "481                    littermate\n",
       "509                    littermate\n",
       "594                      cagemate\n",
       "607               parent (mother)\n",
       "624                    littermate\n",
       "654                    littermate\n",
       "678                    littermate\n",
       "693               parent (mother)\n",
       "Name: Social Agent: degree of familiarity (if subject is exposed to a social agent ONLY twice, each trial being 5 or less minutes, the degree of familiarity is 5 min or less, NOT the total time exposed to the social agent) _fixed, dtype: object"
      ]
     },
     "execution_count": 110,
     "metadata": {},
     "output_type": "execute_result"
    }
   ],
   "source": [
    "er_df"
   ]
  },
  {
   "cell_type": "code",
   "execution_count": 111,
   "id": "51550ff3",
   "metadata": {},
   "outputs": [
    {
     "data": {
      "text/plain": [
       "<AxesSubplot:>"
      ]
     },
     "execution_count": 111,
     "metadata": {},
     "output_type": "execute_result"
    },
    {
     "data": {
      "image/png": "[encoded data removed]",
      "text/plain": [
       "<Figure size 1296x720 with 1 Axes>"
      ]
     },
     "metadata": {
      "needs_background": "light"
     },
     "output_type": "display_data"
    }
   ],
   "source": [
    "#fixed_column_name = 2nd column\n",
    "e_df.plot.bar()\n"
   ]
  },
  {
   "cell_type": "markdown",
   "id": "499b5d94",
   "metadata": {},
   "source": [
    "# Social Memory/Recognition Papers of the Years"
   ]
  },
  {
   "cell_type": "code",
   "execution_count": 112,
   "id": "fb14cb54",
   "metadata": {},
   "outputs": [],
   "source": [
    "m_df = survey_df[['Title','Publication Date (YYYY-MM)']].copy()"
   ]
  },
  {
   "cell_type": "code",
   "execution_count": 113,
   "id": "b37ab0bb",
   "metadata": {},
   "outputs": [],
   "source": [
    "mne_df = m_df.copy()\n",
    "mne_df['date'] = m_df['Publication Date (YYYY-MM)']#.str.extract(r'(\\d+)')\n",
    "mne_df['date']= pd.to_datetime(mne_df['date'])\n",
    "mne_df['date']= mne_df['date'].dt.year\n",
    "mne_df = mne_df.sort_values(by='date')\n",
    "\n",
    "mne_df['date'] = mne_df['date'].astype(int)\n",
    "mne_df = mne_df[mne_df['date'] != 2022]\n",
    "num = mne_df['date'].value_counts(sort=False)\n",
    "#mne_df.sort_values(by='Publication Date (YYYY-MM)')\n",
    "#mne_df['Publication Date (YYYY-MM)'] = pd.to_numeric(mne_df['Publication Date (YYYY-MM)'], errors='coerce')"
   ]
  },
  {
   "cell_type": "code",
   "execution_count": 114,
   "id": "58893efb",
   "metadata": {},
   "outputs": [
    {
     "data": {
      "text/plain": [
       "Text(0.5, 1.0, 'Social Memory Papers over the Years')"
      ]
     },
     "execution_count": 114,
     "metadata": {},
     "output_type": "execute_result"
    },
    {
     "data": {
      "image/png": "[encoded data removed]",
      "text/plain": [
       "<Figure size 1296x720 with 1 Axes>"
      ]
     },
     "metadata": {
      "needs_background": "light"
     },
     "output_type": "display_data"
    }
   ],
   "source": [
    "x=num.plot.bar()#color = pclabcol[2]\n",
    "#x.locator_params(axis='x', nbins=10)\n",
    "plt.xticks(fontsize = 25, rotation = 45)\n",
    "plt.yticks(fontsize = AXESTICKS)\n",
    "plt.ylabel('Number of papers published', fontsize = AXESLABEL)\n",
    "plt.xlabel('Year', fontsize = AXESLABEL)\n",
    "plt.locator_params(axis='y', nbins=9)\n",
    "for pos in ['right', 'top']: # Removes graph border\n",
    "    plt.gca().spines[pos].set_visible(False)\n",
    "plt.ylim([0, 90])\n",
    "plt.title('Social Memory Papers over the Years', fontsize = TITLESIZE, family = 'Arial')\n",
    "#plt.savefig(\"./proc/plots/Papers_YRS.svg\")"
   ]
  },
  {
   "cell_type": "markdown",
   "id": "fd5f66c4",
   "metadata": {},
   "source": [
    "# Pie Graph social agent idntities\n",
    "\n",
    "insert graph showing percent of social agent identities: juvenile males, juvenile females, juveniles sex not specified, adult males, adult female OVX, intact adult females, adults sex not specified* \n",
    "\n",
    "juvenile male, juvenile female, juvenile unspecified, adult male, adult intact female, ovariectomized female, adult unspecified, unspecified female, unspecified male, does not specify"
   ]
  },
  {
   "cell_type": "code",
   "execution_count": 115,
   "id": "e814e455",
   "metadata": {},
   "outputs": [],
   "source": [
    "survey_df = pd.read_csv(filename, keep_default_na=False)"
   ]
  },
  {
   "cell_type": "code",
   "execution_count": 116,
   "id": "5e6d7ab1",
   "metadata": {},
   "outputs": [],
   "source": [
    "#survey_df = pd.read_csv(r\"C:\\Users\\yongc\\Documents\\GitHub\\literature_review_processing\\results\\2022_09_09_literature_review_processing\\data\\Copy of Literature Review (Responses) - Copy of Form Responses 1.csv\", keep_default_na=False)\n",
    "column_name = 'Social Agent Identity'\n",
    "fixed_column_name = column_name + \"_fixed\"\n",
    "copy_of_survey_df = survey_df.copy()\n",
    "copy_of_survey_df[fixed_column_name] = copy_of_survey_df[column_name].apply(lambda x: x.split(\",\"))\n",
    "\n",
    "exploded_survey_df = copy_of_survey_df.explode(fixed_column_name).reset_index()"
   ]
  },
  {
   "cell_type": "code",
   "execution_count": 117,
   "id": "8b0130a8",
   "metadata": {},
   "outputs": [],
   "source": [
    "exploded_survey_df[fixed_column_name] = exploded_survey_df[fixed_column_name].str.strip()"
   ]
  },
  {
   "cell_type": "code",
   "execution_count": 118,
   "id": "cda0821b",
   "metadata": {},
   "outputs": [
    {
     "data": {
      "text/plain": [
       "array(['unspecified female', 'juvenile male', 'adult not specified',\n",
       "       'does not specify', 'adult male', 'juvenile not specified',\n",
       "       'adult intact female', 'not specified male', 'juvenile female',\n",
       "       'ovariectomized female', 'infant male',\n",
       "       'not specified intact female', 'infant not specified',\n",
       "       'jvenile unspecified', 'not specified', 'male juvenile', '',\n",
       "       'juvenile male. juvenile female', 'adule intact female',\n",
       "       'juvenile unspecified juvenile', 'female juvenile',\n",
       "       'ovariectomized juvenile female'], dtype=object)"
      ]
     },
     "execution_count": 118,
     "metadata": {},
     "output_type": "execute_result"
    }
   ],
   "source": [
    "exploded_survey_df[fixed_column_name].unique()"
   ]
  },
  {
   "cell_type": "code",
   "execution_count": 119,
   "id": "3b4993d4",
   "metadata": {},
   "outputs": [],
   "source": [
    "#Typos\n",
    "exploded_survey_df[fixed_column_name]=exploded_survey_df[fixed_column_name].replace(['adule intact female'],'adult intact female')\n",
    "exploded_survey_df[fixed_column_name]=exploded_survey_df[fixed_column_name].replace(['female juvenile'],'juvenile female')\n",
    "exploded_survey_df[fixed_column_name]=exploded_survey_df[fixed_column_name].replace(['not specified'],'does not specify')\n",
    "exploded_survey_df[fixed_column_name]=exploded_survey_df[fixed_column_name].replace(['juvenile not specified'],'juvenile not specified')\n",
    "exploded_survey_df[fixed_column_name]=exploded_survey_df[fixed_column_name].replace(['juvenile unspecified juvenile'],'juvenile not specified')\n",
    "exploded_survey_df[fixed_column_name]=exploded_survey_df[fixed_column_name].replace(['jvenile unspecified'],'juvenile not specified')\n",
    "exploded_survey_df[fixed_column_name]=exploded_survey_df[fixed_column_name].replace(['juvenile male. juvenile female'],'juvenile male') # Added another juvenile female\n",
    "exploded_survey_df[fixed_column_name].loc[len(exploded_survey_df[fixed_column_name].index)] = ['juvenile female']"
   ]
  },
  {
   "cell_type": "code",
   "execution_count": 120,
   "id": "c5af42d6",
   "metadata": {},
   "outputs": [],
   "source": [
    "#Making it easier to look at \n",
    "exploded_survey_df[fixed_column_name]=exploded_survey_df[fixed_column_name].replace(['juvenile male'],'juvenile male')\n",
    "exploded_survey_df[fixed_column_name]=exploded_survey_df[fixed_column_name].replace(['juvenile female'],'juvenile female')\n",
    "exploded_survey_df[fixed_column_name]=exploded_survey_df[fixed_column_name].replace(['juvenile not specified'],'juvenile not specified')\n",
    "exploded_survey_df[fixed_column_name]=exploded_survey_df[fixed_column_name].replace(['male juvenile'],'juvenile male')\n",
    "\n",
    "exploded_survey_df[fixed_column_name]=exploded_survey_df[fixed_column_name].replace(['infant male'],'infant')\n",
    "exploded_survey_df[fixed_column_name]=exploded_survey_df[fixed_column_name].replace(['infant not specified'],'infant')\n",
    "\n",
    "exploded_survey_df[fixed_column_name]=exploded_survey_df[fixed_column_name].replace(['ovariectomized juvenile female'],'ovariectomized female')\n",
    "exploded_survey_df[fixed_column_name]=exploded_survey_df[fixed_column_name].replace(['overiectomized juvenile female'],'ovariectomized female')\n",
    "\n",
    "exploded_survey_df[fixed_column_name]=exploded_survey_df[fixed_column_name].replace([''],'infant')\n",
    "\n",
    "#exploded_survey_df[fixed_column_name].loc[len(exploded_survey_df[fixed_column_name].index)] = ['juvenile'] # For tthe ojFemale\n",
    "\n",
    "#plot breakdown of age first: adults vs juveniles vs not specified vs infants \n",
    "#subject identity \n",
    "\n"
   ]
  },
  {
   "cell_type": "code",
   "execution_count": 121,
   "id": "21ef47a1",
   "metadata": {},
   "outputs": [
    {
     "data": {
      "text/html": [
       "<div>\n",
       "<style scoped>\n",
       "    .dataframe tbody tr th:only-of-type {\n",
       "        vertical-align: middle;\n",
       "    }\n",
       "\n",
       "    .dataframe tbody tr th {\n",
       "        vertical-align: top;\n",
       "    }\n",
       "\n",
       "    .dataframe thead th {\n",
       "        text-align: right;\n",
       "    }\n",
       "</style>\n",
       "<table border=\"1\" class=\"dataframe\">\n",
       "  <thead>\n",
       "    <tr style=\"text-align: right;\">\n",
       "      <th></th>\n",
       "      <th>index</th>\n",
       "    </tr>\n",
       "    <tr>\n",
       "      <th>Social Agent Identity_fixed</th>\n",
       "      <th></th>\n",
       "    </tr>\n",
       "  </thead>\n",
       "  <tbody>\n",
       "    <tr>\n",
       "      <th>adult intact female</th>\n",
       "      <td>29348</td>\n",
       "    </tr>\n",
       "    <tr>\n",
       "      <th>adult male</th>\n",
       "      <td>50346</td>\n",
       "    </tr>\n",
       "    <tr>\n",
       "      <th>adult not specified</th>\n",
       "      <td>2949</td>\n",
       "    </tr>\n",
       "    <tr>\n",
       "      <th>does not specify</th>\n",
       "      <td>17764</td>\n",
       "    </tr>\n",
       "    <tr>\n",
       "      <th>infant</th>\n",
       "      <td>3601</td>\n",
       "    </tr>\n",
       "    <tr>\n",
       "      <th>juvenile female</th>\n",
       "      <td>26969</td>\n",
       "    </tr>\n",
       "    <tr>\n",
       "      <th>juvenile male</th>\n",
       "      <td>96179</td>\n",
       "    </tr>\n",
       "    <tr>\n",
       "      <th>juvenile not specified</th>\n",
       "      <td>20667</td>\n",
       "    </tr>\n",
       "    <tr>\n",
       "      <th>not specified intact female</th>\n",
       "      <td>8512</td>\n",
       "    </tr>\n",
       "    <tr>\n",
       "      <th>not specified male</th>\n",
       "      <td>14404</td>\n",
       "    </tr>\n",
       "    <tr>\n",
       "      <th>ovariectomized female</th>\n",
       "      <td>21406</td>\n",
       "    </tr>\n",
       "    <tr>\n",
       "      <th>unspecified female</th>\n",
       "      <td>517</td>\n",
       "    </tr>\n",
       "  </tbody>\n",
       "</table>\n",
       "</div>"
      ],
      "text/plain": [
       "                             index\n",
       "Social Agent Identity_fixed       \n",
       "adult intact female          29348\n",
       "adult male                   50346\n",
       "adult not specified           2949\n",
       "does not specify             17764\n",
       "infant                        3601\n",
       "juvenile female              26969\n",
       "juvenile male                96179\n",
       "juvenile not specified       20667\n",
       "not specified intact female   8512\n",
       "not specified male           14404\n",
       "ovariectomized female        21406\n",
       "unspecified female             517"
      ]
     },
     "execution_count": 121,
     "metadata": {},
     "output_type": "execute_result"
    }
   ],
   "source": [
    "exploded_survey_df.groupby([fixed_column_name]).sum()\n",
    "#exploded_survey_df.groupby([fixed_column_name]).sum().sum()\n",
    "#268897\n",
    "#35.67% juvenile male"
   ]
  },
  {
   "cell_type": "code",
   "execution_count": 122,
   "id": "35ee5024",
   "metadata": {},
   "outputs": [
    {
     "data": {
      "text/plain": [
       "Text(0, 0.5, 'Social Agent Identity')"
      ]
     },
     "execution_count": 122,
     "metadata": {},
     "output_type": "execute_result"
    },
    {
     "data": {
      "image/png": "[encoded data removed]",
      "text/plain": [
       "<Figure size 1296x720 with 1 Axes>"
      ]
     },
     "metadata": {},
     "output_type": "display_data"
    }
   ],
   "source": [
    "from matplotlib import cm\n",
    "exploded_survey_df.groupby([fixed_column_name]).sum().plot(kind='pie',subplots = True, labeldistance=None,cmap='tab20c',autopct='%.1f%%',pctdistance=1.2)\n",
    "plt.legend(bbox_to_anchor=(1.2, 1.0),frameon = False) #Moves legend and takes frame off\n",
    "plt.ylabel(\"Social Agent Identity\")\n",
    "#plt.savefig(\"./proc/SAIdentity.svg\")"
   ]
  },
  {
   "cell_type": "code",
   "execution_count": 123,
   "id": "75f19de7",
   "metadata": {},
   "outputs": [],
   "source": [
    "#import random\n",
    "#plt.rcParams[\"figure.figsize\"] = [7.00, 3.50]\n",
    "#plt.rcParams[\"figure.autolayout\"] = True\n",
    "#n = 20\n",
    "#slices = np.arange(n)\n",
    "#activities = np.arange(n)\n",
    "#colors = [\"#\" + ''.join([random.choice('0123456789ABCDEF') for j in range(6)])\n",
    "#for i in range(n)]\n",
    "\n",
    "#patches, texts = plt.pie(slices,\n",
    "#   colors=colors,\n",
    "#   startangle=90,\n",
    "#   labels=slices)\n",
    "\n",
    "#labels = ['{0} - {1:1.2f} %'.format(i, j) for i, j in zip(activities,\n",
    "#100.*slices/slices.sum())]\n",
    "#plt.legend(patches, labels, loc='center left', bbox_to_anchor=(-0.35, .5), fontsize=8)\n",
    "#plt.show()"
   ]
  },
  {
   "cell_type": "markdown",
   "id": "201058c3",
   "metadata": {},
   "source": [
    "# Social Agent Sex Pie Graph"
   ]
  },
  {
   "cell_type": "code",
   "execution_count": 124,
   "id": "5226d068",
   "metadata": {},
   "outputs": [],
   "source": [
    "sexlst = []"
   ]
  },
  {
   "cell_type": "code",
   "execution_count": 125,
   "id": "b502e06c",
   "metadata": {},
   "outputs": [],
   "source": [
    "sexlst.append(exploded_survey_df[fixed_column_name].str.contains(' male').sum())\n",
    "sexlst.append(exploded_survey_df[fixed_column_name].str.contains('female').sum())\n",
    "sexlst.append(exploded_survey_df[fixed_column_name].str.contains('does not specify').sum())\n",
    "sexlst.append(exploded_survey_df[fixed_column_name].str.contains('does not specify').sum())"
   ]
  },
  {
   "cell_type": "code",
   "execution_count": 126,
   "id": "7ac19422",
   "metadata": {},
   "outputs": [],
   "source": [
    "label = ['male','female','both','does not specify']"
   ]
  },
  {
   "cell_type": "code",
   "execution_count": 127,
   "id": "79b02396",
   "metadata": {},
   "outputs": [
    {
     "name": "stderr",
     "output_type": "stream",
     "text": [
      "C:\\Users\\yongc\\AppData\\Local\\Temp/ipykernel_8612/2977334433.py:2: UserWarning: You have mixed positional and keyword arguments, some input may be discarded.\n",
      "  plt.legend(sexlst,labels=label,loc = \"upper right\",bbox_to_anchor=[1.5,1])\n"
     ]
    },
    {
     "data": {
      "text/plain": [
       "<matplotlib.legend.Legend at 0x22bdb221dc0>"
      ]
     },
     "execution_count": 127,
     "metadata": {},
     "output_type": "execute_result"
    },
    {
     "data": {
      "image/png": "[encoded data removed]",
      "text/plain": [
       "<Figure size 1296x720 with 1 Axes>"
      ]
     },
     "metadata": {},
     "output_type": "display_data"
    }
   ],
   "source": [
    "plt.pie(sexlst,autopct='%d%%')\n",
    "plt.legend(sexlst,labels=label,loc = \"upper right\",bbox_to_anchor=[1.5,1])"
   ]
  },
  {
   "cell_type": "markdown",
   "id": "b8fc6d73",
   "metadata": {},
   "source": [
    "# Social Agent Age Pie Graph"
   ]
  },
  {
   "cell_type": "code",
   "execution_count": 128,
   "id": "74268775",
   "metadata": {},
   "outputs": [],
   "source": [
    "agelst = []"
   ]
  },
  {
   "cell_type": "code",
   "execution_count": 129,
   "id": "c4721a15",
   "metadata": {},
   "outputs": [],
   "source": [
    "agelst.append(exploded_survey_df[fixed_column_name].str.contains('infant').sum())\n",
    "agelst.append(exploded_survey_df[fixed_column_name].str.contains('juvenile').sum())\n",
    "agelst.append(exploded_survey_df[fixed_column_name].str.contains('adult').sum())\n",
    "agelst.append(exploded_survey_df[fixed_column_name].str.contains('old').sum())\n",
    "agelst.append(exploded_survey_df[fixed_column_name].str.contains('does not specify').sum())"
   ]
  },
  {
   "cell_type": "code",
   "execution_count": 130,
   "id": "19f6de78",
   "metadata": {},
   "outputs": [],
   "source": [
    "labeli = ['infant','juvenile','adult','old','does not specify']"
   ]
  },
  {
   "cell_type": "code",
   "execution_count": 131,
   "id": "122c5c24",
   "metadata": {},
   "outputs": [
    {
     "name": "stderr",
     "output_type": "stream",
     "text": [
      "C:\\Users\\yongc\\AppData\\Local\\Temp/ipykernel_8612/1887623183.py:2: UserWarning: You have mixed positional and keyword arguments, some input may be discarded.\n",
      "  plt.legend(agelst,labels=labeli,bbox_to_anchor=[1.5,1])\n"
     ]
    },
    {
     "data": {
      "text/plain": [
       "<matplotlib.legend.Legend at 0x22bdb23ee50>"
      ]
     },
     "execution_count": 131,
     "metadata": {},
     "output_type": "execute_result"
    },
    {
     "data": {
      "image/png": "[encoded data removed]",
      "text/plain": [
       "<Figure size 1296x720 with 1 Axes>"
      ]
     },
     "metadata": {},
     "output_type": "display_data"
    }
   ],
   "source": [
    "plt.pie(agelst,autopct='%1.2f%%',pctdistance = 1.1)\n",
    "plt.legend(agelst,labels=labeli,bbox_to_anchor=[1.5,1])"
   ]
  },
  {
   "cell_type": "markdown",
   "id": "f2c6b901",
   "metadata": {},
   "source": [
    "# ITI Colum Pie Graph"
   ]
  },
  {
   "cell_type": "code",
   "execution_count": 134,
   "id": "df236335",
   "metadata": {},
   "outputs": [],
   "source": [
    "iti_df = pd.read_csv(filename,usecols = ['Intertrial Interval (ITI) (time between trials)'])"
   ]
  },
  {
   "cell_type": "code",
   "execution_count": 146,
   "id": "ee3e5c1d",
   "metadata": {},
   "outputs": [],
   "source": [
    "column_name = 'Intertrial Interval (ITI) (time between trials)'\n",
    "fixed_column_name = column_name + \"_fixed\"\n",
    "copy_of_iti_df = iti_df.copy()\n",
    "copy_of_iti_df[fixed_column_name] = copy_of_iti_df[column_name].apply(lambda x: x.split(\",\"))\n",
    "exploded_iti_df = copy_of_iti_df.explode(fixed_column_name).reset_index()\n",
    "\n",
    "exploded_iti_df[fixed_column_name] = exploded_iti_df[fixed_column_name].str.replace(\" \",\"\")\n",
    "exploded_iti_df[fixed_column_name]=exploded_iti_df[fixed_column_name].replace(['over5minutes-lessthananhour'],'over5min-lessthananhour')\n",
    "exploded_iti_df[fixed_column_name]=exploded_iti_df[fixed_column_name].replace(['over6-24hr'],'over6hr-24hr')\n",
    "exploded_iti_df[fixed_column_name]=exploded_iti_df[fixed_column_name].replace(['5min-lessthananhour'],'over5min-lessthananhour')\n"
   ]
  },
  {
   "cell_type": "code",
   "execution_count": 147,
   "id": "03b874de",
   "metadata": {},
   "outputs": [
    {
     "data": {
      "text/plain": [
       "<matplotlib.legend.Legend at 0x22bd972eca0>"
      ]
     },
     "execution_count": 147,
     "metadata": {},
     "output_type": "execute_result"
    },
    {
     "data": {
      "image/png": "[encoded data removed]",
      "text/plain": [
       "<Figure size 1296x720 with 1 Axes>"
      ]
     },
     "metadata": {},
     "output_type": "display_data"
    }
   ],
   "source": [
    "exploded_iti_df.groupby([fixed_column_name]).sum().plot(kind='pie',subplots = True, labeldistance=None,cmap='tab20c',autopct='%.1f%%',pctdistance=1.2)\n",
    "plt.legend(bbox_to_anchor=(1.2, 1.0),frameon = False)"
   ]
  }
 ],
 "metadata": {
  "kernelspec": {
   "display_name": "Python 3 (ipykernel)",
   "language": "python",
   "name": "python3"
  },
  "language_info": {
   "codemirror_mode": {
    "name": "ipython",
    "version": 3
   },
   "file_extension": ".py",
   "mimetype": "text/x-python",
   "name": "python",
   "nbconvert_exporter": "python",
   "pygments_lexer": "ipython3",
   "version": "3.9.7"
  }
 },
 "nbformat": 4,
 "nbformat_minor": 5
}
