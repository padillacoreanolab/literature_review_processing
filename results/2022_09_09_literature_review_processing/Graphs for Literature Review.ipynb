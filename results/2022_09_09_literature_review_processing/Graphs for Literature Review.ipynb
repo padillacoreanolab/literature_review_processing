{
 "cells": [
  {
   "cell_type": "code",
   "execution_count": 1,
   "id": "78bb073d",
   "metadata": {},
   "outputs": [],
   "source": [
    "from datetime import datetime\n",
    "import re\n",
    "from collections import Counter\n",
    "from  itertools import chain"
   ]
  },
  {
   "cell_type": "code",
   "execution_count": 2,
   "id": "7f651a11",
   "metadata": {
    "scrolled": true
   },
   "outputs": [],
   "source": [
    "import pandas as pd\n",
    "from matplotlib import pyplot as plt\n",
    "import numpy as np\n",
    "import matplotlib.ticker as mtick\n",
    "import seaborn as sns\n",
    "from matplotlib.colors import ListedColormap"
   ]
  },
  {
   "cell_type": "code",
   "execution_count": 3,
   "id": "f00141b4",
   "metadata": {},
   "outputs": [
    {
     "ename": "NameError",
     "evalue": "name 'pclabcol' is not defined",
     "output_type": "error",
     "traceback": [
      "\u001b[1;31m---------------------------------------------------------------------------\u001b[0m",
      "\u001b[1;31mNameError\u001b[0m                                 Traceback (most recent call last)",
      "\u001b[1;32m~\\AppData\\Local\\Temp/ipykernel_20984/3938080676.py\u001b[0m in \u001b[0;36m<module>\u001b[1;34m\u001b[0m\n\u001b[0;32m      3\u001b[0m \u001b[0mpclabcol2\u001b[0m \u001b[1;33m=\u001b[0m \u001b[1;33m[\u001b[0m\u001b[1;34m'#001424'\u001b[0m\u001b[1;33m,\u001b[0m\u001b[1;34m'#15616F'\u001b[0m\u001b[1;33m,\u001b[0m \u001b[1;34m'#FEEDD3'\u001b[0m\u001b[1;33m,\u001b[0m \u001b[1;34m'#792910'\u001b[0m\u001b[1;33m]\u001b[0m\u001b[1;33m\u001b[0m\u001b[1;33m\u001b[0m\u001b[0m\n\u001b[0;32m      4\u001b[0m \u001b[0mpclabcol3\u001b[0m \u001b[1;33m=\u001b[0m \u001b[1;33m[\u001b[0m\u001b[1;34m'#15616F'\u001b[0m\u001b[1;33m,\u001b[0m \u001b[1;34m'#AB796A'\u001b[0m\u001b[1;33m,\u001b[0m\u001b[1;34m'#FFAF00'\u001b[0m\u001b[1;33m,\u001b[0m \u001b[1;34m'#FEEDD3'\u001b[0m\u001b[1;33m,\u001b[0m \u001b[1;34m'#792910'\u001b[0m\u001b[1;33m,\u001b[0m\u001b[1;34m'#001424'\u001b[0m\u001b[1;33m,\u001b[0m\u001b[1;34m'#C5D7DB'\u001b[0m\u001b[1;33m,\u001b[0m\u001b[1;34m'#0B3137'\u001b[0m\u001b[1;33m,\u001b[0m \u001b[1;34m'#FFEBBF'\u001b[0m\u001b[1;33m,\u001b[0m\u001b[1;34m'#9F6D00'\u001b[0m\u001b[1;33m,\u001b[0m\u001b[1;34m'#3C1508'\u001b[0m\u001b[1;33m]\u001b[0m\u001b[1;33m\u001b[0m\u001b[1;33m\u001b[0m\u001b[0m\n\u001b[1;32m----> 5\u001b[1;33m \u001b[0msns\u001b[0m\u001b[1;33m.\u001b[0m\u001b[0mpalplot\u001b[0m\u001b[1;33m(\u001b[0m\u001b[0msns\u001b[0m\u001b[1;33m.\u001b[0m\u001b[0mcolor_palette\u001b[0m\u001b[1;33m(\u001b[0m\u001b[0mpclabcol\u001b[0m\u001b[1;33m)\u001b[0m\u001b[1;33m)\u001b[0m\u001b[1;33m\u001b[0m\u001b[1;33m\u001b[0m\u001b[0m\n\u001b[0m\u001b[0;32m      6\u001b[0m \u001b[0mmy_colors\u001b[0m \u001b[1;33m=\u001b[0m \u001b[0mListedColormap\u001b[0m\u001b[1;33m(\u001b[0m\u001b[0msns\u001b[0m\u001b[1;33m.\u001b[0m\u001b[0mcolor_palette\u001b[0m\u001b[1;33m(\u001b[0m\u001b[0mpclabcol\u001b[0m\u001b[1;33m)\u001b[0m\u001b[1;33m)\u001b[0m\u001b[1;33m\u001b[0m\u001b[1;33m\u001b[0m\u001b[0m\n\u001b[0;32m      7\u001b[0m \u001b[0mmy_colors2\u001b[0m \u001b[1;33m=\u001b[0m \u001b[0mListedColormap\u001b[0m\u001b[1;33m(\u001b[0m\u001b[0msns\u001b[0m\u001b[1;33m.\u001b[0m\u001b[0mcolor_palette\u001b[0m\u001b[1;33m(\u001b[0m\u001b[0mpclabcol2\u001b[0m\u001b[1;33m)\u001b[0m\u001b[1;33m)\u001b[0m\u001b[1;33m\u001b[0m\u001b[1;33m\u001b[0m\u001b[0m\n",
      "\u001b[1;31mNameError\u001b[0m: name 'pclabcol' is not defined"
     ]
    }
   ],
   "source": [
    "#pclabcol = ['#15616F''#001424','#FFAF00', , '#FEEDD3', '#792910']\n",
    "#minus the yellow\n",
    "pclabcol2 = ['#001424','#15616F', '#FEEDD3', '#792910']\n",
    "pclabcol3 = ['#15616F', '#AB796A','#FFAF00', '#FEEDD3', '#792910','#001424','#C5D7DB','#0B3137', '#FFEBBF','#9F6D00','#3C1508']\n",
    "sns.palplot(sns.color_palette(pclabcol))\n",
    "my_colors = ListedColormap(sns.color_palette(pclabcol))\n",
    "my_colors2 = ListedColormap(sns.color_palette(pclabcol2))\n",
    "my_colors3 = ListedColormap(sns.color_palette(pclabcol3))"
   ]
  },
  {
   "cell_type": "code",
   "execution_count": 4,
   "id": "5cce0df0",
   "metadata": {},
   "outputs": [],
   "source": [
    "# Plot Specifics\n",
    "TITLESIZE = 60\n",
    "AXESLABEL = 40\n",
    "AXESTICKS = 35\n",
    "LINWID = 10\n",
    "DOTS = 20\n",
    "LEGSIZE = 25"
   ]
  },
  {
   "cell_type": "code",
   "execution_count": 5,
   "id": "f348b26f",
   "metadata": {},
   "outputs": [],
   "source": [
    "filename = \"Copy of Literature Review (Responses) - 10-12\""
   ]
  },
  {
   "cell_type": "code",
   "execution_count": 6,
   "id": "d4e2964a",
   "metadata": {},
   "outputs": [
    {
     "data": {
      "image/png": "[encoded data removed]",
      "text/plain": [
       "<Figure size 1296x720 with 1 Axes>"
      ]
     },
     "metadata": {
      "needs_background": "light"
     },
     "output_type": "display_data"
    }
   ],
   "source": [
    "plt.rcParams[\"figure.figsize\"] = (18,10)\n",
    "for pos in ['right', 'top', 'bottom']: # Removes graph border\n",
    "    plt.gca().spines[pos].set_visible(False)\n"
   ]
  },
  {
   "cell_type": "markdown",
   "id": "60dab672",
   "metadata": {},
   "source": [
    "# ITI Percentages Graph"
   ]
  },
  {
   "cell_type": "code",
   "execution_count": 7,
   "id": "3c6114f6",
   "metadata": {},
   "outputs": [],
   "source": [
    "#survey_df['Intertrial Interval (ITI) (time between trials)'].value_counts(dropna=False)"
   ]
  },
  {
   "cell_type": "code",
   "execution_count": 8,
   "id": "3b184ac6",
   "metadata": {},
   "outputs": [
    {
     "ename": "FileNotFoundError",
     "evalue": "[Errno 2] No such file or directory: 'Copy of Literature Review (Responses) - 10-12'",
     "output_type": "error",
     "traceback": [
      "\u001b[1;31m---------------------------------------------------------------------------\u001b[0m",
      "\u001b[1;31mFileNotFoundError\u001b[0m                         Traceback (most recent call last)",
      "\u001b[1;32m~\\AppData\\Local\\Temp/ipykernel_20984/1487760245.py\u001b[0m in \u001b[0;36m<module>\u001b[1;34m\u001b[0m\n\u001b[1;32m----> 1\u001b[1;33m \u001b[0msurvey_df\u001b[0m \u001b[1;33m=\u001b[0m \u001b[0mpd\u001b[0m\u001b[1;33m.\u001b[0m\u001b[0mread_csv\u001b[0m\u001b[1;33m(\u001b[0m\u001b[0mfilename\u001b[0m\u001b[1;33m,\u001b[0m \u001b[0mkeep_default_na\u001b[0m\u001b[1;33m=\u001b[0m\u001b[1;32mFalse\u001b[0m\u001b[1;33m)\u001b[0m\u001b[1;33m\u001b[0m\u001b[1;33m\u001b[0m\u001b[0m\n\u001b[0m",
      "\u001b[1;32m~\\anaconda3\\lib\\site-packages\\pandas\\util\\_decorators.py\u001b[0m in \u001b[0;36mwrapper\u001b[1;34m(*args, **kwargs)\u001b[0m\n\u001b[0;32m    309\u001b[0m                     \u001b[0mstacklevel\u001b[0m\u001b[1;33m=\u001b[0m\u001b[0mstacklevel\u001b[0m\u001b[1;33m,\u001b[0m\u001b[1;33m\u001b[0m\u001b[1;33m\u001b[0m\u001b[0m\n\u001b[0;32m    310\u001b[0m                 )\n\u001b[1;32m--> 311\u001b[1;33m             \u001b[1;32mreturn\u001b[0m \u001b[0mfunc\u001b[0m\u001b[1;33m(\u001b[0m\u001b[1;33m*\u001b[0m\u001b[0margs\u001b[0m\u001b[1;33m,\u001b[0m \u001b[1;33m**\u001b[0m\u001b[0mkwargs\u001b[0m\u001b[1;33m)\u001b[0m\u001b[1;33m\u001b[0m\u001b[1;33m\u001b[0m\u001b[0m\n\u001b[0m\u001b[0;32m    312\u001b[0m \u001b[1;33m\u001b[0m\u001b[0m\n\u001b[0;32m    313\u001b[0m         \u001b[1;32mreturn\u001b[0m \u001b[0mwrapper\u001b[0m\u001b[1;33m\u001b[0m\u001b[1;33m\u001b[0m\u001b[0m\n",
      "\u001b[1;32m~\\anaconda3\\lib\\site-packages\\pandas\\io\\parsers\\readers.py\u001b[0m in \u001b[0;36mread_csv\u001b[1;34m(filepath_or_buffer, sep, delimiter, header, names, index_col, usecols, squeeze, prefix, mangle_dupe_cols, dtype, engine, converters, true_values, false_values, skipinitialspace, skiprows, skipfooter, nrows, na_values, keep_default_na, na_filter, verbose, skip_blank_lines, parse_dates, infer_datetime_format, keep_date_col, date_parser, dayfirst, cache_dates, iterator, chunksize, compression, thousands, decimal, lineterminator, quotechar, quoting, doublequote, escapechar, comment, encoding, encoding_errors, dialect, error_bad_lines, warn_bad_lines, on_bad_lines, delim_whitespace, low_memory, memory_map, float_precision, storage_options)\u001b[0m\n\u001b[0;32m    678\u001b[0m     \u001b[0mkwds\u001b[0m\u001b[1;33m.\u001b[0m\u001b[0mupdate\u001b[0m\u001b[1;33m(\u001b[0m\u001b[0mkwds_defaults\u001b[0m\u001b[1;33m)\u001b[0m\u001b[1;33m\u001b[0m\u001b[1;33m\u001b[0m\u001b[0m\n\u001b[0;32m    679\u001b[0m \u001b[1;33m\u001b[0m\u001b[0m\n\u001b[1;32m--> 680\u001b[1;33m     \u001b[1;32mreturn\u001b[0m \u001b[0m_read\u001b[0m\u001b[1;33m(\u001b[0m\u001b[0mfilepath_or_buffer\u001b[0m\u001b[1;33m,\u001b[0m \u001b[0mkwds\u001b[0m\u001b[1;33m)\u001b[0m\u001b[1;33m\u001b[0m\u001b[1;33m\u001b[0m\u001b[0m\n\u001b[0m\u001b[0;32m    681\u001b[0m \u001b[1;33m\u001b[0m\u001b[0m\n\u001b[0;32m    682\u001b[0m \u001b[1;33m\u001b[0m\u001b[0m\n",
      "\u001b[1;32m~\\anaconda3\\lib\\site-packages\\pandas\\io\\parsers\\readers.py\u001b[0m in \u001b[0;36m_read\u001b[1;34m(filepath_or_buffer, kwds)\u001b[0m\n\u001b[0;32m    573\u001b[0m \u001b[1;33m\u001b[0m\u001b[0m\n\u001b[0;32m    574\u001b[0m     \u001b[1;31m# Create the parser.\u001b[0m\u001b[1;33m\u001b[0m\u001b[1;33m\u001b[0m\u001b[0m\n\u001b[1;32m--> 575\u001b[1;33m     \u001b[0mparser\u001b[0m \u001b[1;33m=\u001b[0m \u001b[0mTextFileReader\u001b[0m\u001b[1;33m(\u001b[0m\u001b[0mfilepath_or_buffer\u001b[0m\u001b[1;33m,\u001b[0m \u001b[1;33m**\u001b[0m\u001b[0mkwds\u001b[0m\u001b[1;33m)\u001b[0m\u001b[1;33m\u001b[0m\u001b[1;33m\u001b[0m\u001b[0m\n\u001b[0m\u001b[0;32m    576\u001b[0m \u001b[1;33m\u001b[0m\u001b[0m\n\u001b[0;32m    577\u001b[0m     \u001b[1;32mif\u001b[0m \u001b[0mchunksize\u001b[0m \u001b[1;32mor\u001b[0m \u001b[0miterator\u001b[0m\u001b[1;33m:\u001b[0m\u001b[1;33m\u001b[0m\u001b[1;33m\u001b[0m\u001b[0m\n",
      "\u001b[1;32m~\\anaconda3\\lib\\site-packages\\pandas\\io\\parsers\\readers.py\u001b[0m in \u001b[0;36m__init__\u001b[1;34m(self, f, engine, **kwds)\u001b[0m\n\u001b[0;32m    932\u001b[0m \u001b[1;33m\u001b[0m\u001b[0m\n\u001b[0;32m    933\u001b[0m         \u001b[0mself\u001b[0m\u001b[1;33m.\u001b[0m\u001b[0mhandles\u001b[0m\u001b[1;33m:\u001b[0m \u001b[0mIOHandles\u001b[0m \u001b[1;33m|\u001b[0m \u001b[1;32mNone\u001b[0m \u001b[1;33m=\u001b[0m \u001b[1;32mNone\u001b[0m\u001b[1;33m\u001b[0m\u001b[1;33m\u001b[0m\u001b[0m\n\u001b[1;32m--> 934\u001b[1;33m         \u001b[0mself\u001b[0m\u001b[1;33m.\u001b[0m\u001b[0m_engine\u001b[0m \u001b[1;33m=\u001b[0m \u001b[0mself\u001b[0m\u001b[1;33m.\u001b[0m\u001b[0m_make_engine\u001b[0m\u001b[1;33m(\u001b[0m\u001b[0mf\u001b[0m\u001b[1;33m,\u001b[0m \u001b[0mself\u001b[0m\u001b[1;33m.\u001b[0m\u001b[0mengine\u001b[0m\u001b[1;33m)\u001b[0m\u001b[1;33m\u001b[0m\u001b[1;33m\u001b[0m\u001b[0m\n\u001b[0m\u001b[0;32m    935\u001b[0m \u001b[1;33m\u001b[0m\u001b[0m\n\u001b[0;32m    936\u001b[0m     \u001b[1;32mdef\u001b[0m \u001b[0mclose\u001b[0m\u001b[1;33m(\u001b[0m\u001b[0mself\u001b[0m\u001b[1;33m)\u001b[0m\u001b[1;33m:\u001b[0m\u001b[1;33m\u001b[0m\u001b[1;33m\u001b[0m\u001b[0m\n",
      "\u001b[1;32m~\\anaconda3\\lib\\site-packages\\pandas\\io\\parsers\\readers.py\u001b[0m in \u001b[0;36m_make_engine\u001b[1;34m(self, f, engine)\u001b[0m\n\u001b[0;32m   1216\u001b[0m             \u001b[1;31m# \"Union[str, PathLike[str], ReadCsvBuffer[bytes], ReadCsvBuffer[str]]\"\u001b[0m\u001b[1;33m\u001b[0m\u001b[1;33m\u001b[0m\u001b[0m\n\u001b[0;32m   1217\u001b[0m             \u001b[1;31m# , \"str\", \"bool\", \"Any\", \"Any\", \"Any\", \"Any\", \"Any\"\u001b[0m\u001b[1;33m\u001b[0m\u001b[1;33m\u001b[0m\u001b[0m\n\u001b[1;32m-> 1218\u001b[1;33m             self.handles = get_handle(  # type: ignore[call-overload]\n\u001b[0m\u001b[0;32m   1219\u001b[0m                 \u001b[0mf\u001b[0m\u001b[1;33m,\u001b[0m\u001b[1;33m\u001b[0m\u001b[1;33m\u001b[0m\u001b[0m\n\u001b[0;32m   1220\u001b[0m                 \u001b[0mmode\u001b[0m\u001b[1;33m,\u001b[0m\u001b[1;33m\u001b[0m\u001b[1;33m\u001b[0m\u001b[0m\n",
      "\u001b[1;32m~\\anaconda3\\lib\\site-packages\\pandas\\io\\common.py\u001b[0m in \u001b[0;36mget_handle\u001b[1;34m(path_or_buf, mode, encoding, compression, memory_map, is_text, errors, storage_options)\u001b[0m\n\u001b[0;32m    784\u001b[0m         \u001b[1;32mif\u001b[0m \u001b[0mioargs\u001b[0m\u001b[1;33m.\u001b[0m\u001b[0mencoding\u001b[0m \u001b[1;32mand\u001b[0m \u001b[1;34m\"b\"\u001b[0m \u001b[1;32mnot\u001b[0m \u001b[1;32min\u001b[0m \u001b[0mioargs\u001b[0m\u001b[1;33m.\u001b[0m\u001b[0mmode\u001b[0m\u001b[1;33m:\u001b[0m\u001b[1;33m\u001b[0m\u001b[1;33m\u001b[0m\u001b[0m\n\u001b[0;32m    785\u001b[0m             \u001b[1;31m# Encoding\u001b[0m\u001b[1;33m\u001b[0m\u001b[1;33m\u001b[0m\u001b[0m\n\u001b[1;32m--> 786\u001b[1;33m             handle = open(\n\u001b[0m\u001b[0;32m    787\u001b[0m                 \u001b[0mhandle\u001b[0m\u001b[1;33m,\u001b[0m\u001b[1;33m\u001b[0m\u001b[1;33m\u001b[0m\u001b[0m\n\u001b[0;32m    788\u001b[0m                 \u001b[0mioargs\u001b[0m\u001b[1;33m.\u001b[0m\u001b[0mmode\u001b[0m\u001b[1;33m,\u001b[0m\u001b[1;33m\u001b[0m\u001b[1;33m\u001b[0m\u001b[0m\n",
      "\u001b[1;31mFileNotFoundError\u001b[0m: [Errno 2] No such file or directory: 'Copy of Literature Review (Responses) - 10-12'"
     ]
    }
   ],
   "source": [
    "survey_df = pd.read_csv(filename, keep_default_na=False)"
   ]
  },
  {
   "cell_type": "code",
   "execution_count": null,
   "id": "b0be7d05",
   "metadata": {},
   "outputs": [],
   "source": [
    "survey_df[\"Rats used\"] = survey_df[\"Species\"].apply(lambda x: \"1\" if x == \"Rats\" or x == \"Both\" else \"0\")\n",
    "survey_df[\"Mice used\"] = survey_df[\"Species\"].apply(lambda x: \"1\" if x == \"Mice\" or x == \"Both\" else \"0\")"
   ]
  },
  {
   "cell_type": "code",
   "execution_count": null,
   "id": "3567e6d2",
   "metadata": {},
   "outputs": [],
   "source": [
    "comma_df = survey_df['Intertrial Interval (ITI) (time between trials)'].str.contains(',')\n",
    "#no_comma_df = survey_df['Intertrial Interval (ITI) (time between trials)'].str.contains(',')==False\n",
    "rat_df = survey_df[\"Rats used\"]\n",
    "mice_df = survey_df[\"Mice used\"]"
   ]
  },
  {
   "cell_type": "code",
   "execution_count": null,
   "id": "1329b375",
   "metadata": {},
   "outputs": [],
   "source": [
    "#Finding number of mice trials\n",
    "m_trials = 0\n",
    "for i in range(len(mice_df)):\n",
    "    if mice_df[i] =='1':\n",
    "        m_trials = m_trials + 1\n",
    "r_trials = 650-m_trials"
   ]
  },
  {
   "cell_type": "code",
   "execution_count": null,
   "id": "5dcb2e14",
   "metadata": {},
   "outputs": [],
   "source": [
    "#Finding percentage of trials that corresponded to each bin \n",
    "m_1 = 0\n",
    "r_1 = 0\n",
    "m_2 = 0  \n",
    "r_2 = 0 \n",
    "for i in range(len(comma_df)):\n",
    "    if comma_df[i] == False and mice_df[i] == '1': #Mouse and no comma\n",
    "        m_1 = m_1 +1\n",
    "    elif comma_df[i] == False and mice_df[i] == '0': #Rat and no comma\n",
    "        r_1 = r_1 +1\n",
    "    elif comma_df[i] == True and mice_df[i] == '1': #Mouse comma\n",
    "        m_2 = m_2 +1\n",
    "    elif comma_df[i] == True and mice_df[i] == '0': #Rat comma\n",
    "        r_2 = r_2 +1\n",
    "        \n",
    "#Getting percentage\n",
    "mice_overall = []\n",
    "mice_overall.append(m_1)\n",
    "mice_overall.append(m_2)\n",
    "mice_overall_P = [x / m_trials for x in mice_overall]\n",
    "\n",
    "rats_overall = []\n",
    "rats_overall.append(r_1)\n",
    "rats_overall.append(r_2)\n",
    "rats_overall_P = [x / r_trials for x in rats_overall]"
   ]
  },
  {
   "cell_type": "code",
   "execution_count": null,
   "id": "48d00d4a",
   "metadata": {},
   "outputs": [],
   "source": [
    "#Graphing percentages\n",
    "x = ['One', 'Two or more']\n",
    "x_axis = np.arange(len(x))\n",
    "\n",
    "plt.bar(x_axis - 0.2, mice_overall_P, 0.4, label = 'mice')\n",
    "plt.bar(x_axis + 0.2, rats_overall_P, 0.4, label = 'rats')\n",
    "plt.xticks(x_axis, x)\n",
    "plt.yticks(np.arange(0, 1.2, step=0.2))\n",
    "plt.xlabel(\"_____\")\n",
    "plt.ylabel('Percentage')\n"
   ]
  },
  {
   "cell_type": "markdown",
   "id": "18bb454a",
   "metadata": {},
   "source": [
    "# Subject vs Social Agent Bar graph"
   ]
  },
  {
   "cell_type": "markdown",
   "id": "f919413e",
   "metadata": {},
   "source": [
    "Percent of papers the specify social agent vs subject\n",
    "\n",
    "   Age\n",
    "\n",
    "   Housing history\n",
    "\n",
    "   Strain\n",
    "\n",
    "   Social rank\n",
    "\n",
    "   Sex"
   ]
  },
  {
   "cell_type": "code",
   "execution_count": null,
   "id": "4ae942ff",
   "metadata": {},
   "outputs": [],
   "source": [
    "#Create two lists, one for subject one for social agent\n",
    "#Within each column find number of nonspecifed and percentage them. Put them\n",
    "# in correct list \n",
    "#Make bar graph "
   ]
  },
  {
   "cell_type": "code",
   "execution_count": null,
   "id": "05a204b4",
   "metadata": {},
   "outputs": [],
   "source": [
    "subject_data = []\n",
    "agent_data = []"
   ]
  },
  {
   "cell_type": "code",
   "execution_count": null,
   "id": "c6749383",
   "metadata": {},
   "outputs": [],
   "source": [
    "#Subject Data\n",
    "subject_age_P = sum(survey_df['Subject Age'].str.contains('Does not specify')) / len(survey_df['Subject Age'])\n",
    "subject_data.append(subject_age_P)\n",
    "subject_strain_P = sum(survey_df['Subject Strain  (i.e. C57BL6J or Sprague-Dawley) if multiple strains were used separate them by a semi colon and if mixed state mixed i.e. 129/SvJ mixed C57BL/6J; 129/SvJ mixed Swiss black'].str.contains('Does not specify')) / len(survey_df['Subject Strain  (i.e. C57BL6J or Sprague-Dawley) if multiple strains were used separate them by a semi colon and if mixed state mixed i.e. 129/SvJ mixed C57BL/6J; 129/SvJ mixed Swiss black'])\n",
    "subject_data.append(subject_strain_P)\n",
    "\n",
    "subject_sex_P = sum(survey_df['Subject Sex'].str.contains('Does not specify')) / len(survey_df['Subject Sex'])\n",
    "subject_data.append(subject_sex_P)\n",
    "subject_housing_P = sum(survey_df['Subject Housing'].str.contains('Does not specify')) / len(survey_df['Subject Housing'])\n",
    "subject_data.append(subject_housing_P)"
   ]
  },
  {
   "cell_type": "code",
   "execution_count": null,
   "id": "e4f3c141",
   "metadata": {},
   "outputs": [],
   "source": [
    "#Social Agent Data\n",
    "agent_age_P = sum(survey_df['Social Agent Age (check all that apply)'].str.contains('Does not specify')) / len(survey_df['Social Agent Age (check all that apply)'])\n",
    "agent_data.append(agent_age_P)\n",
    "agent_strain_P = sum(survey_df['Social Agent Strain '].str.contains('pec' or 'n/a')) / len(survey_df['Social Agent Strain '])\n",
    "agent_data.append(agent_strain_P)\n",
    "\n",
    "agent_sex_P = sum(survey_df['Social Agent Sex'].str.contains('Does not specify')) / len(survey_df['Social Agent Sex'])\n",
    "agent_data.append(agent_sex_P)\n",
    "agent_housing_P = sum(survey_df['Social Agent Housing'].str.contains('Does not specify')) / len(survey_df['Social Agent Housing'])\n",
    "agent_data.append(agent_housing_P)\n"
   ]
  },
  {
   "cell_type": "code",
   "execution_count": null,
   "id": "1b0b4391",
   "metadata": {},
   "outputs": [],
   "source": [
    "print('subject_age_P: ' + str(subject_age_P))\n",
    "print('subject_strain_P: ' + str(subject_strain_P))\n",
    "print('subject_sex_P: '+str(subject_sex_P))\n",
    "print('subject_housing_P: ' + str(subject_housing_P))\n",
    "\n",
    "print('agent_age_P: ' + str(agent_age_P))\n",
    "print('agent_strain_P: ' + str(agent_strain_P))\n",
    "print('agent_sex_P: ' + str(agent_sex_P))\n",
    "print('agent_housing_P: ' + str(agent_housing_P))"
   ]
  },
  {
   "cell_type": "code",
   "execution_count": null,
   "id": "90f76650",
   "metadata": {},
   "outputs": [],
   "source": [
    "plt.rcParams[\"figure.figsize\"] = (18,10)\n",
    "\n",
    "x = ['Age','Strain','Sex','Housing']\n",
    "x_axis = np.arange(len(x))\n",
    "\n",
    "\n",
    "for pos in ['right', 'top']: # Removes graph border\n",
    "    plt.gca().spines[pos].set_visible(False)\n",
    "\n",
    "plt.bar(x_axis - 0.2, subject_data, 0.4, label = 'Subject', color = pclabcol[2])\n",
    "plt.bar(x_axis + 0.2, agent_data, 0.4, label = 'Social Agents', color = pclabcol[4])\n",
    "plt.gca().yaxis.set_major_formatter(mtick.PercentFormatter(xmax=1.0)) #Makes y percentages\n",
    "\n",
    "plt.xticks(x_axis, x, fontsize = AXESTICKS, family=\"Arial\") # x tick spacing and size\n",
    "plt.yticks(np.arange(0, 1.2, step=0.2), fontsize = AXESTICKS, family=\"Arial\")\n",
    "\n",
    "#Visuals\n",
    "#plt.xlabel(, family=\"Arial\", fontsize = 15)\n",
    "plt.ylabel('Percent papers that do not specify', fontsize = AXESLABEL, family=\"Arial\")\n",
    "plt.title(\"Non-reported Variables\", fontsize = TITLESIZE)\n",
    "plt.legend(frameon = False, fontsize = LEGSIZE) # legend, removes graph border\n",
    "plt.savefig(\"./proc/plots/non_reported_variables.svg\")\n",
    "#plt.savefig(r'C:\\Users\\yongc\\Documents\\GitHub\\literature_review_processing\\results\\2022_09_09_literature_review_processing\\proc\\PERCENT.svg')"
   ]
  },
  {
   "cell_type": "raw",
   "id": "5cc60f8d",
   "metadata": {},
   "source": [
    "#FOR PUBLICATION (NOT POSTER)\n",
    "x = ['Age','Strain','Sex','Housing']\n",
    "x_axis = np.arange(len(x))\n",
    "\n",
    "plt.rcParams[\"figure.figsize\"] = (4,3) # Size of the plotax.spines['top'].set_visible(False)\n",
    "for pos in ['right', 'top', 'bottom']: # Removes graph border\n",
    "    plt.gca().spines[pos].set_visible(False)\n",
    "\n",
    "plt.bar(x_axis - 0.2, subject_data, 0.4, label = 'Subject', color = 'black')\n",
    "plt.bar(x_axis + 0.2, agent_data, 0.4, label = 'Social Agents', fill=False, hatch='///')\n",
    "plt.gca().yaxis.set_major_formatter(mtick.PercentFormatter(xmax=1.0)) #Makes y percentages\n",
    "\n",
    "plt.xticks(x_axis, x, fontsize = 12) # x tick spacing and size\n",
    "plt.yticks(np.arange(0, 1.2, step=0.2))\n",
    "\n",
    "#Visuals\n",
    "#plt.xlabel(, family=\"Arial\", fontsize = 15)\n",
    "plt.ylabel('Percent papers not specified', fontsize = 12, family=\"Arial\")\n",
    "#plt.title(\"Title\", fontsize = 30)\n",
    "plt.legend(frameon = False) # legend, removes graph border\n",
    "plt.savefig(\"./proc/plots/non_reported_variables.svg\")\n",
    "#plt.savefig(r'C:\\Users\\yongc\\Documents\\GitHub\\literature_review_processing\\results\\2022_09_09_literature_review_processing\\proc\\PERCENT.svg')"
   ]
  },
  {
   "cell_type": "markdown",
   "id": "e9feae68",
   "metadata": {},
   "source": [
    "## Box and Whisker Graph for Degree of Familiarity"
   ]
  },
  {
   "cell_type": "code",
   "execution_count": null,
   "id": "8d3f6aaf",
   "metadata": {},
   "outputs": [],
   "source": [
    "#for i in dfam_lst:\n",
    "#for i in range(1000):\n",
    "#    dfam_lst.remove('Does not specify')\n",
    "#dfam_lst = [x for x in dfam_lst if x != 'Does not specify']\n",
    "\n",
    "dfam_lst = survey_df['Social Agent: degree of familiarity (if subject is exposed to a social agent ONLY twice, each trial being 5 or less minutes, the degree of familiarity is 5 min or less, NOT the total time exposed to the social agent) '].tolist()\n",
    "#[i if i!='5 min exposure or less' else '5' for i in dfam_lst]\n",
    "#[x.replace('littermate', '') for x in dfam_lst\n",
    " \n",
    "#for i in range(len(dfam_lst)): # Converts '5min..' to a the number 5\n",
    "#    dfam_lst[i] = 5 if dfam_lst[i] == '5 min exposure or less' else dfam_lst[i]\n",
    "#    if ', littermate' in dfam_lst[i]:\n",
    "#        dfam_lst[i].replace(', littermate','')\n",
    "        \n",
    "list(filter(lambda a: a != 'Does not specify', dfam_lst)) #Removes all does not specify\n",
    "\n"
   ]
  },
  {
   "cell_type": "code",
   "execution_count": null,
   "id": "8018d0cb",
   "metadata": {},
   "outputs": [],
   "source": [
    "# turn column into series\n",
    "column_name = 'Social Agent: degree of familiarity (if subject is exposed to a social agent ONLY twice, each trial being 5 or less minutes, the degree of familiarity is 5 min or less, NOT the total time exposed to the social agent) '\n",
    "dfam_df = pd.read_csv(filename,usecols = [column_name])\n",
    "dfam_df = dfam_df[dfam_df[column_name].str.contains('minutes')==True]"
   ]
  },
  {
   "cell_type": "code",
   "execution_count": null,
   "id": "c5e14e0a",
   "metadata": {},
   "outputs": [],
   "source": [
    "fixed_column_name = column_name + \"_fixed\"\n",
    "copy_dfam_df = dfam_df.copy()\n",
    "copy_dfam_df[fixed_column_name] = copy_dfam_df[column_name].apply(lambda x: x.split(\",\"))\n",
    "exploded_dfam_df = copy_dfam_df.explode(fixed_column_name).reset_index()\n",
    "\n",
    "exploded_dfam_df = exploded_dfam_df[exploded_dfam_df[fixed_column_name].str.contains('minutes')==True]"
   ]
  },
  {
   "cell_type": "code",
   "execution_count": null,
   "id": "4c47377e",
   "metadata": {},
   "outputs": [],
   "source": [
    "exploded_dfam_df = exploded_dfam_df.drop(column_name,axis = 1)"
   ]
  },
  {
   "cell_type": "code",
   "execution_count": null,
   "id": "15f24167",
   "metadata": {
    "scrolled": true
   },
   "outputs": [],
   "source": [
    "exploded_dfam_s = exploded_dfam_df[fixed_column_name].str.replace(r'\\D','').astype(int)"
   ]
  },
  {
   "cell_type": "code",
   "execution_count": null,
   "id": "4f95c55f",
   "metadata": {},
   "outputs": [],
   "source": [
    "plt.rcParams[\"figure.figsize\"] = (12,12)\n",
    "ax = exploded_dfam_s.plot.box(flierprops={'marker': 'o', 'markersize': 5, 'markerfacecolor': 'black'})"
   ]
  },
  {
   "cell_type": "code",
   "execution_count": null,
   "id": "06fbfb89",
   "metadata": {},
   "outputs": [],
   "source": [
    "plt.rcParams[\"figure.figsize\"] = (18,10)\n",
    "ax1 = exploded_dfam_s.hist(bins = 60, color = pclabcol[2])\n",
    "plt.title('Distribution of Exposure Times for Short-Term Familiarity Memories', fontsize = 35)\n",
    "plt.xticks(fontsize=AXESTICKS)\n",
    "plt.yticks(fontsize=AXESTICKS)\n",
    "plt.xlabel('Minutes', fontsize = AXESLABEL)\n",
    "plt.ylabel('Number of Papers', fontsize = AXESLABEL)\n",
    "# Removes graph border\n",
    "for pos in ['right', 'top']: \n",
    "    plt.gca().spines[pos].set_visible(False)\n",
    "# gets rid of grid lines\n",
    "plt.grid(False)\n",
    "plt.savefig(\"./proc/plots/famtime_stm.svg\")"
   ]
  },
  {
   "cell_type": "markdown",
   "id": "9b2761e9",
   "metadata": {},
   "source": [
    "# Rank w/ only G-housed and Adult"
   ]
  },
  {
   "cell_type": "markdown",
   "id": "ce25dc6c",
   "metadata": {},
   "source": [
    "SUBJECT: group-housed + adult( + old)\n",
    "\n",
    "SOCIAL AGENT: group-housed + adult(+old)\n",
    "\n",
    "calculate percent rank does not specify"
   ]
  },
  {
   "cell_type": "code",
   "execution_count": null,
   "id": "c3e656c6",
   "metadata": {},
   "outputs": [],
   "source": [
    "rank_df = pd.read_csv(filename)"
   ]
  },
  {
   "cell_type": "code",
   "execution_count": null,
   "id": "d0ed162c",
   "metadata": {},
   "outputs": [],
   "source": [
    "#Filters for Subject (group-housed and adult/old only)\n",
    "s_grank_df = rank_df.loc[rank_df['Subject Housing'].str.contains('group-housed')]\n",
    "s_gArank_df = s_grank_df.loc[s_grank_df['Subject Age'].str.contains('adult' or 'old')]\n",
    "\n",
    "#Filters for Social agent (group-housed and adult/old only)\n",
    "sa_grank_df = rank_df.loc[rank_df['Social Agent Housing'].str.contains('group-housed')]\n",
    "sa_gArank_df = sa_grank_df.loc[sa_grank_df['Social Agent Age (check all that apply)'].str.contains('adult' or 'old')]"
   ]
  },
  {
   "cell_type": "code",
   "execution_count": null,
   "id": "a8abe303",
   "metadata": {},
   "outputs": [],
   "source": [
    "#Shows all unique choices in a column \n",
    "sa_gArank_df['Social Agent Age (check all that apply)'].unique()"
   ]
  },
  {
   "cell_type": "code",
   "execution_count": null,
   "id": "2f6d9e3b",
   "metadata": {},
   "outputs": [],
   "source": [
    "s_gArank_df['Subject Social Rank'].unique()"
   ]
  },
  {
   "cell_type": "code",
   "execution_count": null,
   "id": "6be421b2",
   "metadata": {},
   "outputs": [],
   "source": [
    "subject_data = []\n",
    "agent_data = []\n",
    "\n",
    "#Percentage of Subject rank percentage that does not specify\n",
    "subject_SR_P = sum(s_gArank_df['Subject Social Rank'].str.contains('Does not specify')) / len(s_gArank_df['Subject Social Rank'])\n",
    "subject_data.append(subject_SR_P)\n",
    "\n",
    "#Percentage of Social Agent rank percentage that does not specify\n",
    "agent_SR_P = sum(sa_gArank_df['Social Agent Rank'].str.contains('Does not specify')) / len(sa_gArank_df['Social Agent Rank'])\n",
    "agent_data.append(agent_SR_P)"
   ]
  },
  {
   "cell_type": "code",
   "execution_count": null,
   "id": "bdb810cb",
   "metadata": {},
   "outputs": [],
   "source": [
    "print('subject_SR_P: '+str(subject_SR_P))\n",
    "print('agent_SR_P: '+str(agent_SR_P))"
   ]
  },
  {
   "cell_type": "code",
   "execution_count": null,
   "id": "d26e4604",
   "metadata": {},
   "outputs": [],
   "source": [
    "x = ['Rank']\n",
    "x_axis = np.arange(len(x))\n",
    "\n",
    "plt.rcParams[\"figure.figsize\"] = (4,3) # Size of the plotax.spines['top'].set_visible(False)\n",
    "for pos in ['right', 'top', 'bottom']: # Removes graph border\n",
    "    plt.gca().spines[pos].set_visible(False)\n",
    "    \n",
    "plt.xticks([]) # Removes x-ticks\n",
    "\n",
    "plt.bar(x_axis - 0.2, subject_data, 0.4, label = 'Subject', color = 'black')\n",
    "plt.bar(x_axis + 0.2, agent_data, 0.4, label = 'Social Agents', fill=False, hatch='///')\n",
    "plt.gca().yaxis.set_major_formatter(mtick.PercentFormatter(xmax=1.0)) #Makes y percentages\n",
    "\n",
    "plt.legend(bbox_to_anchor=(1.0, 1.0),frameon = False) #Moves legend and takes frame off"
   ]
  },
  {
   "cell_type": "markdown",
   "id": "b6045c46",
   "metadata": {},
   "source": [
    "# Pie Graph of familiarity"
   ]
  },
  {
   "cell_type": "code",
   "execution_count": null,
   "id": "eb216a5f",
   "metadata": {},
   "outputs": [],
   "source": [
    "#Seperating by comma\n",
    "column_name = 'Social Agent: degree of familiarity (if subject is exposed to a social agent ONLY twice, each trial being 5 or less minutes, the degree of familiarity is 5 min or less, NOT the total time exposed to the social agent) '\n",
    "famtime_df = pd.read_csv(filename,usecols = [column_name])\n",
    "\n",
    "fixed_column_name = column_name + \"_fixed\"\n",
    "copy_famtime_df = famtime_df.copy()\n",
    "copy_famtime_df[fixed_column_name] = copy_famtime_df[column_name].apply(lambda x: x.split(\",\"))\n",
    "exploded_famtime_df = copy_famtime_df.explode(fixed_column_name).reset_index()\n",
    "\n",
    "#exploded_famtime_df = exploded_famtime_df[exploded_famtime_df[fixed_column_name].str.contains('minutes')==True]\n",
    "#exploded_famtime_df = exploded_famtime_df.drop(column_name,axis = 1)\n",
    "\n",
    "#exploded_dfam_s = exploded_dfam_df[fixed_column_name].str.replace(r'\\D','').astype(int)"
   ]
  },
  {
   "cell_type": "code",
   "execution_count": null,
   "id": "d50df71a",
   "metadata": {},
   "outputs": [],
   "source": [
    "exploded_famtime_df"
   ]
  },
  {
   "cell_type": "code",
   "execution_count": null,
   "id": "2aa8274c",
   "metadata": {},
   "outputs": [],
   "source": [
    "sliced_column = \"sliced column\"\n",
    "exploded_famtime_df[sliced_column] = 'ethologically relevant relationships'\n",
    "\n",
    "for i in range(len(exploded_famtime_df[sliced_column])):\n",
    "    if '5 min exposure or less' in exploded_famtime_df[fixed_column_name][i]:\n",
    "        exploded_famtime_df.loc[i, sliced_column] = '< 5 min' \n",
    "    elif 'minutes' in exploded_famtime_df[fixed_column_name][i]:\n",
    "        exploded_famtime_df.loc[i, sliced_column] = '5min - 2hrs'\n",
    "    elif 'day' in exploded_famtime_df[fixed_column_name][i]:\n",
    "        exploded_famtime_df.loc[i, sliced_column] = '1 - 7 days'\n",
    "    #If string contains minutes\n",
    "    #IF string contains day"
   ]
  },
  {
   "cell_type": "code",
   "execution_count": null,
   "id": "1646bcf5",
   "metadata": {},
   "outputs": [],
   "source": [
    "exploded_famtime_df[sliced_column].unique()"
   ]
  },
  {
   "cell_type": "code",
   "execution_count": null,
   "id": "92f60565",
   "metadata": {},
   "outputs": [],
   "source": [
    "exploded_famtime_df.head()"
   ]
  },
  {
   "cell_type": "code",
   "execution_count": null,
   "id": "abbe4d4a",
   "metadata": {},
   "outputs": [],
   "source": [
    "total_famtime_df = exploded_famtime_df.groupby([sliced_column]).count().loc[:,'index']\n",
    "total_famtime_df"
   ]
  },
  {
   "cell_type": "code",
   "execution_count": null,
   "id": "19a132b2",
   "metadata": {},
   "outputs": [],
   "source": [
    "plt.rcParams[\"figure.figsize\"] = (18,10)\n",
    "total_famtime_df.plot(kind='pie',subplots = True,autopct='%.2f%%', pctdistance=1.3, labeldistance=None,cmap=my_colors, fontsize = AXESLABEL)\n",
    "plt.legend(bbox_to_anchor=(1.0, 1.0),frameon = False, fontsize = LEGSIZE) #Moves legend and takes frame off\n",
    "plt.ylabel(\"Exposure\", fontsize = TITLESIZE, family = 'Arial')\n",
    "plt.savefig(\"./proc/plots/FAMTIME.svg\")"
   ]
  },
  {
   "cell_type": "markdown",
   "id": "499b5d94",
   "metadata": {},
   "source": [
    "# Social Memory/Recognition Papers of the Years"
   ]
  },
  {
   "cell_type": "code",
   "execution_count": null,
   "id": "fb14cb54",
   "metadata": {},
   "outputs": [],
   "source": [
    "m_df = survey_df[['Title','Publication Date (YYYY-MM)']].copy()"
   ]
  },
  {
   "cell_type": "code",
   "execution_count": null,
   "id": "b37ab0bb",
   "metadata": {},
   "outputs": [],
   "source": [
    "# Filter for titles that have social memory\n",
    "#n_df = m_df.loc[m_df['Title'].str.contains('social memory','Social memory')]\n",
    "mne_df = m_df['Publication Date (YYYY-MM)'].str.extract(r'(\\d+)')\n",
    "mne_df = mne_df[0].astype(int)\n",
    "mne_df = mne_df.value_counts()\n",
    "mne_df = mne_df.drop(mne_df.index[-1])\n",
    "mne_df['Publication Date (YYYY-MM)'] = pd.to_numeric(mne_df['Publication Date (YYYY-MM)'], errors='coerce')"
   ]
  },
  {
   "cell_type": "code",
   "execution_count": null,
   "id": "2b55fe31",
   "metadata": {},
   "outputs": [],
   "source": [
    "mne_df.iloc[::-1]\n"
   ]
  },
  {
   "cell_type": "code",
   "execution_count": null,
   "id": "58893efb",
   "metadata": {},
   "outputs": [],
   "source": [
    "x=mne_df.iloc[::-1].plot.bar(color = pclabcol[2])\n",
    "#x.locator_params(axis='x', nbins=10)\n",
    "plt.xticks(fontsize = 25, rotation = 45)\n",
    "plt.yticks(fontsize = AXESTICKS)\n",
    "plt.ylabel('Number of papers published', fontsize = AXESLABEL)\n",
    "plt.xlabel('Year', fontsize = AXESLABEL)\n",
    "plt.locator_params(axis='y', nbins=9)\n",
    "for pos in ['right', 'top']: # Removes graph border\n",
    "    plt.gca().spines[pos].set_visible(False)\n",
    "plt.ylim([0, 90])\n",
    "plt.title('Social Memory Papers over the Years', fontsize = TITLESIZE, family = 'Arial')\n",
    "plt.savefig(\"./proc/plots/Papers_YRS.svg\")"
   ]
  },
  {
   "cell_type": "markdown",
   "id": "fd5f66c4",
   "metadata": {},
   "source": [
    "# Pie Graph social agent idntities\n",
    "\n",
    "insert graph showing percent of social agent identities: juvenile males, juvenile females, juveniles sex not specified, adult males, adult female OVX, intact adult females, adults sex not specified* \n",
    "\n",
    "juvenile male, juvenile female, juvenile unspecified, adult male, adult intact female, ovariectomized female, adult unspecified, unspecified female, unspecified male, does not specify"
   ]
  },
  {
   "cell_type": "code",
   "execution_count": null,
   "id": "e814e455",
   "metadata": {},
   "outputs": [],
   "source": [
    "survey_df = pd.read_csv(filename, keep_default_na=False)"
   ]
  },
  {
   "cell_type": "code",
   "execution_count": null,
   "id": "5e6d7ab1",
   "metadata": {},
   "outputs": [],
   "source": [
    "#survey_df = pd.read_csv(r\"C:\\Users\\yongc\\Documents\\GitHub\\literature_review_processing\\results\\2022_09_09_literature_review_processing\\data\\Copy of Literature Review (Responses) - Copy of Form Responses 1.csv\", keep_default_na=False)\n",
    "column_name = 'Social Agent Identity'\n",
    "fixed_column_name = column_name + \"_fixed\"\n",
    "copy_of_survey_df = survey_df.copy()\n",
    "copy_of_survey_df[fixed_column_name] = copy_of_survey_df[column_name].apply(lambda x: x.split(\",\"))\n",
    "\n",
    "exploded_survey_df = copy_of_survey_df.explode(fixed_column_name).reset_index()"
   ]
  },
  {
   "cell_type": "code",
   "execution_count": null,
   "id": "8b0130a8",
   "metadata": {},
   "outputs": [],
   "source": [
    "exploded_survey_df[fixed_column_name] = exploded_survey_df[fixed_column_name].str.strip()"
   ]
  },
  {
   "cell_type": "code",
   "execution_count": null,
   "id": "3b4993d4",
   "metadata": {},
   "outputs": [],
   "source": [
    "#Typos\n",
    "exploded_survey_df[fixed_column_name]=exploded_survey_df[fixed_column_name].replace(['adule intact female'],'adult intact female')\n",
    "exploded_survey_df[fixed_column_name]=exploded_survey_df[fixed_column_name].replace(['female juvenile'],'juvenile female')\n",
    "exploded_survey_df[fixed_column_name]=exploded_survey_df[fixed_column_name].replace(['not specified'],'does not specify')\n",
    "exploded_survey_df[fixed_column_name]=exploded_survey_df[fixed_column_name].replace(['juvenile not specified'],'juvenile not specified')\n",
    "exploded_survey_df[fixed_column_name]=exploded_survey_df[fixed_column_name].replace(['juvenile unspecified juvenile'],'juvenile not specified')\n",
    "exploded_survey_df[fixed_column_name]=exploded_survey_df[fixed_column_name].replace(['jvenile unspecified'],'juvenile not specified')\n",
    "exploded_survey_df[fixed_column_name]=exploded_survey_df[fixed_column_name].replace(['juvenile male. juvenile female'],'juvenile male') # Added another juvenile female\n",
    "exploded_survey_df[fixed_column_name].loc[len(exploded_survey_df[fixed_column_name].index)] = ['juvenile female']"
   ]
  },
  {
   "cell_type": "code",
   "execution_count": null,
   "id": "c5af42d6",
   "metadata": {},
   "outputs": [],
   "source": [
    "#Making it easier to look at \n",
    "exploded_survey_df[fixed_column_name]=exploded_survey_df[fixed_column_name].replace(['juvenile male'],'juvenile male')\n",
    "exploded_survey_df[fixed_column_name]=exploded_survey_df[fixed_column_name].replace(['juvenile female'],'juvenile female')\n",
    "exploded_survey_df[fixed_column_name]=exploded_survey_df[fixed_column_name].replace(['juvenile not specified'],'juvenile not specified')\n",
    "exploded_survey_df[fixed_column_name]=exploded_survey_df[fixed_column_name].replace(['male juvenile'],'juvenile male')\n",
    "\n",
    "exploded_survey_df[fixed_column_name]=exploded_survey_df[fixed_column_name].replace(['infant male'],'infant')\n",
    "exploded_survey_df[fixed_column_name]=exploded_survey_df[fixed_column_name].replace(['infant not specified'],'infant')\n",
    "\n",
    "exploded_survey_df[fixed_column_name]=exploded_survey_df[fixed_column_name].replace(['ovariectomized juvenile female'],'ovariectomized female')\n",
    "exploded_survey_df[fixed_column_name]=exploded_survey_df[fixed_column_name].replace(['overiectomized juvenile female'],'ovariectomized female')\n",
    "\n",
    "exploded_survey_df[fixed_column_name]=exploded_survey_df[fixed_column_name].replace([''],'infant')\n",
    "\n",
    "#exploded_survey_df[fixed_column_name].loc[len(exploded_survey_df[fixed_column_name].index)] = ['juvenile'] # For tthe ojFemale\n",
    "\n",
    "\n",
    "\n",
    "#plot breakdown of age first: adults vs juveniles vs not specified vs infants \n",
    "#subject identity \n",
    "\n"
   ]
  },
  {
   "cell_type": "code",
   "execution_count": null,
   "id": "21ef47a1",
   "metadata": {},
   "outputs": [],
   "source": [
    "exploded_survey_df.groupby([fixed_column_name]).sum()\n",
    "#exploded_survey_df.groupby([fixed_column_name]).sum().sum()\n",
    "#268897\n",
    "#35.67% juvenile male"
   ]
  },
  {
   "cell_type": "code",
   "execution_count": null,
   "id": "35ee5024",
   "metadata": {},
   "outputs": [],
   "source": [
    "from matplotlib import cm\n",
    "exploded_survey_df.groupby([fixed_column_name]).sum().plot(kind='pie',subplots = True, pctdistance=1.4, labeldistance=None,cmap='tab20c')\n",
    "plt.legend(bbox_to_anchor=(1.2, 1.0),frameon = False) #Moves legend and takes frame off\n",
    "plt.ylabel(\"Social Agent Identity\")\n",
    "#plt.savefig(\"./proc/SAIdentity.svg\")\n",
    "#labels = exploded_survey_df.groupby([fixed_column_name])\n",
    "#sizes = 100*exploded_survey_df.groupby([fixed_column_name])/exploded_survey_df.groupby([fixed_column_name]).sum()\n",
    "#labels = [f'{l}, {s:0.1f}%' for l, s in zip(labels, sizes)]"
   ]
  },
  {
   "cell_type": "code",
   "execution_count": null,
   "id": "75f19de7",
   "metadata": {},
   "outputs": [],
   "source": [
    "import random\n",
    "plt.rcParams[\"figure.figsize\"] = [7.00, 3.50]\n",
    "plt.rcParams[\"figure.autolayout\"] = True\n",
    "n = 20\n",
    "slices = np.arange(n)\n",
    "activities = np.arange(n)\n",
    "colors = [\"#\" + ''.join([random.choice('0123456789ABCDEF') for j in range(6)])\n",
    "for i in range(n)]\n",
    "\n",
    "patches, texts = plt.pie(slices,\n",
    "   colors=colors,\n",
    "   startangle=90,\n",
    "   labels=slices)\n",
    "\n",
    "labels = ['{0} - {1:1.2f} %'.format(i, j) for i, j in zip(activities,\n",
    "100.*slices/slices.sum())]\n",
    "plt.legend(patches, labels, loc='center left', bbox_to_anchor=(-0.35, .5), fontsize=8)\n",
    "plt.show()"
   ]
  },
  {
   "cell_type": "code",
   "execution_count": null,
   "id": "27408431",
   "metadata": {},
   "outputs": [],
   "source": []
  }
 ],
 "metadata": {
  "kernelspec": {
   "display_name": "Python 3 (ipykernel)",
   "language": "python",
   "name": "python3"
  },
  "language_info": {
   "codemirror_mode": {
    "name": "ipython",
    "version": 3
   },
   "file_extension": ".py",
   "mimetype": "text/x-python",
   "name": "python",
   "nbconvert_exporter": "python",
   "pygments_lexer": "ipython3",
   "version": "3.9.7"
  }
 },
 "nbformat": 4,
 "nbformat_minor": 5
}
