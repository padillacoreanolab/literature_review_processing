{
 "cells": [
  {
   "cell_type": "code",
   "execution_count": 1,
   "id": "78bb073d",
   "metadata": {},
   "outputs": [],
   "source": [
    "from datetime import datetime\n",
    "import re\n",
    "from collections import Counter\n",
    "from  itertools import chain"
   ]
  },
  {
   "cell_type": "code",
   "execution_count": 2,
   "id": "7f651a11",
   "metadata": {
    "scrolled": true
   },
   "outputs": [],
   "source": [
    "import pandas as pd\n",
    "from matplotlib import pyplot as plt\n",
    "import numpy as np\n",
    "import matplotlib.ticker as mtick\n"
   ]
  },
  {
   "cell_type": "code",
   "execution_count": 3,
   "id": "d4e2964a",
   "metadata": {},
   "outputs": [],
   "source": [
    "plt.rcParams[\"figure.figsize\"] = (18,10)"
   ]
  },
  {
   "cell_type": "markdown",
   "id": "60dab672",
   "metadata": {},
   "source": [
    "# ITI Percentages Graph"
   ]
  },
  {
   "cell_type": "code",
   "execution_count": 4,
   "id": "3c6114f6",
   "metadata": {},
   "outputs": [],
   "source": [
    "#survey_df['Intertrial Interval (ITI) (time between trials)'].value_counts(dropna=False)"
   ]
  },
  {
   "cell_type": "code",
   "execution_count": 5,
   "id": "3b184ac6",
   "metadata": {},
   "outputs": [],
   "source": [
    "survey_df = pd.read_csv(r\"C:\\Users\\yongc\\Desktop\\Copy of Literature Review (Responses) - Copy of Form Responses 1.csv\", keep_default_na=False)"
   ]
  },
  {
   "cell_type": "code",
   "execution_count": 6,
   "id": "b0be7d05",
   "metadata": {},
   "outputs": [],
   "source": [
    "survey_df[\"Rats used\"] = survey_df[\"Species\"].apply(lambda x: \"1\" if x == \"Rats\" or x == \"Both\" else \"0\")\n",
    "survey_df[\"Mice used\"] = survey_df[\"Species\"].apply(lambda x: \"1\" if x == \"Mice\" or x == \"Both\" else \"0\")"
   ]
  },
  {
   "cell_type": "code",
   "execution_count": 7,
   "id": "3567e6d2",
   "metadata": {},
   "outputs": [],
   "source": [
    "comma_df = survey_df['Intertrial Interval (ITI) (time between trials)'].str.contains(',')\n",
    "#no_comma_df = survey_df['Intertrial Interval (ITI) (time between trials)'].str.contains(',')==False\n",
    "rat_df = survey_df[\"Rats used\"]\n",
    "mice_df = survey_df[\"Mice used\"]"
   ]
  },
  {
   "cell_type": "code",
   "execution_count": 8,
   "id": "1329b375",
   "metadata": {},
   "outputs": [],
   "source": [
    "#Finding number of mice trials\n",
    "m_trials = 0\n",
    "for i in range(len(mice_df)):\n",
    "    if mice_df[i] =='1':\n",
    "        m_trials = m_trials + 1\n",
    "r_trials = 650-m_trials"
   ]
  },
  {
   "cell_type": "code",
   "execution_count": 9,
   "id": "5dcb2e14",
   "metadata": {},
   "outputs": [],
   "source": [
    "#Finding percentage of trials that corresponded to each bin \n",
    "m_1 = 0\n",
    "r_1 = 0\n",
    "m_2 = 0  \n",
    "r_2 = 0 \n",
    "for i in range(len(comma_df)):\n",
    "    if comma_df[i] == False and mice_df[i] == '1': #Mouse and no comma\n",
    "        m_1 = m_1 +1\n",
    "    elif comma_df[i] == False and mice_df[i] == '0': #Rat and no comma\n",
    "        r_1 = r_1 +1\n",
    "    elif comma_df[i] == True and mice_df[i] == '1': #Mouse comma\n",
    "        m_2 = m_2 +1\n",
    "    elif comma_df[i] == True and mice_df[i] == '0': #Rat comma\n",
    "        r_2 = r_2 +1\n",
    "        \n",
    "#Getting percentage\n",
    "mice_overall = []\n",
    "mice_overall.append(m_1)\n",
    "mice_overall.append(m_2)\n",
    "mice_overall_P = [x / m_trials for x in mice_overall]\n",
    "\n",
    "rats_overall = []\n",
    "rats_overall.append(r_1)\n",
    "rats_overall.append(r_2)\n",
    "rats_overall_P = [x / r_trials for x in rats_overall]"
   ]
  },
  {
   "cell_type": "code",
   "execution_count": 10,
   "id": "48d00d4a",
   "metadata": {},
   "outputs": [
    {
     "data": {
      "text/plain": [
       "Text(0, 0.5, 'Percentage')"
      ]
     },
     "execution_count": 10,
     "metadata": {},
     "output_type": "execute_result"
    },
    {
     "data": {
      "image/png": "[encoded data removed]",
      "text/plain": [
       "<Figure size 1296x720 with 1 Axes>"
      ]
     },
     "metadata": {
      "needs_background": "light"
     },
     "output_type": "display_data"
    }
   ],
   "source": [
    "#Graphing percentages\n",
    "x = ['One', 'Two or more']\n",
    "x_axis = np.arange(len(x))\n",
    "\n",
    "plt.bar(x_axis - 0.2, mice_overall_P, 0.4, label = 'mice')\n",
    "plt.bar(x_axis + 0.2, rats_overall_P, 0.4, label = 'rats')\n",
    "plt.xticks(x_axis, x)\n",
    "plt.yticks(np.arange(0, 1.2, step=0.2))\n",
    "plt.xlabel(\"_____\")\n",
    "plt.ylabel('Percentage')\n"
   ]
  },
  {
   "cell_type": "markdown",
   "id": "18bb454a",
   "metadata": {},
   "source": [
    "# Subject vs Social Agent Bar graph"
   ]
  },
  {
   "cell_type": "markdown",
   "id": "f919413e",
   "metadata": {},
   "source": [
    "Percent of papers the specify social agent vs subject\n",
    "\n",
    "   Age\n",
    "\n",
    "   Housing history\n",
    "\n",
    "   Strain\n",
    "\n",
    "   Social rank\n",
    "\n",
    "   Sex"
   ]
  },
  {
   "cell_type": "code",
   "execution_count": 11,
   "id": "4ae942ff",
   "metadata": {},
   "outputs": [],
   "source": [
    "#Create two lists, one for subject one for social agent\n",
    "#Within each column find number of nonspecifed and percentage them. Put them\n",
    "# in correct list \n",
    "#Make bar graph "
   ]
  },
  {
   "cell_type": "code",
   "execution_count": 12,
   "id": "05a204b4",
   "metadata": {},
   "outputs": [],
   "source": [
    "subject_data = []\n",
    "agent_data = []"
   ]
  },
  {
   "cell_type": "code",
   "execution_count": 13,
   "id": "c6749383",
   "metadata": {},
   "outputs": [],
   "source": [
    "#Subject Data\n",
    "subject_age_P = sum(survey_df['Subject Age'].str.contains('does not specify')) / len(survey_df['Subject Age'])\n",
    "subject_data.append(subject_age_P)\n",
    "subject_housing_P = sum(survey_df['Subject Strain  (i.e. C57BL6J or Sprague-Dawley) if multiple strains were used separate them by a semi colon and if mixed state mixed i.e. 129/SvJ mixed C57BL/6J; 129/SvJ mixed Swiss black'].str.contains('does not specify')) / len(survey_df['Subject Strain  (i.e. C57BL6J or Sprague-Dawley) if multiple strains were used separate them by a semi colon and if mixed state mixed i.e. 129/SvJ mixed C57BL/6J; 129/SvJ mixed Swiss black'])\n",
    "subject_data.append(subject_housing_P)\n",
    "#subject_SR_P = sum(survey_df['Subject Social Rank'].str.contains('Does not specify')) / len(survey_df['Subject Social Rank'])\n",
    "#subject_data.append(subject_SR_P)\n",
    "subject_sex_P = sum(survey_df['Subject Sex'].str.contains('Does not specifiy')) / len(survey_df['Subject Sex'])\n",
    "subject_data.append(subject_sex_P)\n",
    "subject_housing_P = sum(survey_df['Subject Housing'].str.contains('does not specify')) / len(survey_df['Subject Housing'])\n",
    "subject_data.append(subject_housing_P)"
   ]
  },
  {
   "cell_type": "code",
   "execution_count": 14,
   "id": "e4f3c141",
   "metadata": {},
   "outputs": [],
   "source": [
    "#Social Agent Data\n",
    "agent_age_P = sum(survey_df['Social Agent Age (check all that apply)'].str.contains('does not specify')) / len(survey_df['Social Agent Age (check all that apply)'])\n",
    "agent_data.append(agent_age_P)\n",
    "agent_housing_P = sum(survey_df['Social Agent Strain '].str.contains('pec' or 'n/a')) / len(survey_df['Social Agent Strain '])\n",
    "agent_data.append(agent_housing_P)\n",
    "#agent_SR_P = sum(survey_df['Social Agent Rank'].str.contains('Does not specify')) / len(survey_df['Social Agent Rank'])\n",
    "#agent_data.append(agent_SR_P)\n",
    "agent_sex_P = sum(survey_df['Social Agent Sex'].str.contains('Does not specifiy')) / len(survey_df['Social Agent Sex'])\n",
    "agent_data.append(agent_sex_P)\n",
    "agent_housing_P = sum(survey_df['Social Agent Housing'].str.contains('does not specify')) / len(survey_df['Social Agent Housing'])\n",
    "agent_data.append(agent_housing_P)\n"
   ]
  },
  {
   "cell_type": "code",
   "execution_count": 17,
   "id": "3d85bbf5",
   "metadata": {},
   "outputs": [
    {
     "data": {
      "image/png": "[encoded data removed]",
      "text/plain": [
       "<Figure size 288x216 with 1 Axes>"
      ]
     },
     "metadata": {
      "needs_background": "light"
     },
     "output_type": "display_data"
    }
   ],
   "source": [
    "x = ['Age','Strain','Sex','Housing']\n",
    "x_axis = np.arange(len(x))\n",
    "\n",
    "plt.rcParams[\"figure.figsize\"] = (4,3) # Size of the plotax.spines['top'].set_visible(False)\n",
    "for pos in ['right', 'top', 'bottom']: # Removes graph border\n",
    "    plt.gca().spines[pos].set_visible(False)\n",
    "\n",
    "plt.bar(x_axis - 0.2, subject_data, 0.4, label = 'Subject', color = 'black')\n",
    "plt.bar(x_axis + 0.2, agent_data, 0.4, label = 'Social Agents', fill=False, hatch='///')\n",
    "plt.gca().yaxis.set_major_formatter(mtick.PercentFormatter(xmax=1.0)) #Makes y percentages\n",
    "\n",
    "plt.xticks(x_axis, x, fontsize = 12) # x tick spacing and size\n",
    "plt.yticks(np.arange(0, 1.2, step=0.2))\n",
    "\n",
    "#Visuals\n",
    "#plt.xlabel(\"_____\", fontsize = 15)\n",
    "plt.ylabel('Percent papers not specified', fontsize = 12)\n",
    "#plt.title(\"Title\", fontsize = 30)\n",
    "plt.legend(frameon = False) # legend removes graph border\n",
    "plt.savefig(\"./proc/L\")\n",
    "#plt.savefig(r'C:\\Users\\yongc\\Documents\\GitHub\\literature_review_processing\\results\\2022_09_09_literature_review_processing\\proc\\PERCENT.svg')"
   ]
  },
  {
   "cell_type": "code",
   "execution_count": 16,
   "id": "e797ddcf",
   "metadata": {},
   "outputs": [
    {
     "data": {
      "text/plain": [
       "'./'"
      ]
     },
     "execution_count": 16,
     "metadata": {},
     "output_type": "execute_result"
    }
   ],
   "source": []
  }
 ],
 "metadata": {
  "kernelspec": {
   "display_name": "Python 3 (ipykernel)",
   "language": "python",
   "name": "python3"
  },
  "language_info": {
   "codemirror_mode": {
    "name": "ipython",
    "version": 3
   },
   "file_extension": ".py",
   "mimetype": "text/x-python",
   "name": "python",
   "nbconvert_exporter": "python",
   "pygments_lexer": "ipython3",
   "version": "3.9.7"
  }
 },
 "nbformat": 4,
 "nbformat_minor": 5
}
