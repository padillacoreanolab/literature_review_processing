{
 "cells": [
  {
   "cell_type": "code",
   "execution_count": 1,
   "id": "78bb073d",
   "metadata": {},
   "outputs": [],
   "source": [
    "from datetime import datetime\n",
    "import re\n",
    "from collections import Counter\n",
    "from  itertools import chain"
   ]
  },
  {
   "cell_type": "code",
   "execution_count": 2,
   "id": "7f651a11",
   "metadata": {
    "scrolled": true
   },
   "outputs": [],
   "source": [
    "import pandas as pd\n",
    "from matplotlib import pyplot as plt\n",
    "import numpy as np\n",
    "import matplotlib.ticker as mtick\n",
    "import seaborn as sns\n",
    "from matplotlib.colors import ListedColormap"
   ]
  },
  {
   "cell_type": "code",
   "execution_count": 3,
   "id": "f00141b4",
   "metadata": {},
   "outputs": [
    {
     "data": {
      "image/png": "[encoded data removed]",
      "text/plain": [
       "<Figure size 360x72 with 1 Axes>"
      ]
     },
     "metadata": {
      "needs_background": "light"
     },
     "output_type": "display_data"
    }
   ],
   "source": [
    "pclabcol = ['#001424','#FFAF00', '#15616F', '#FEEDD3', '#792910']\n",
    "#minus the yellow\n",
    "pclabcol2 = ['#001424','#15616F', '#FEEDD3', '#792910']\n",
    "sns.palplot(sns.color_palette(pclabcol))\n",
    "my_colors = ListedColormap(sns.color_palette(pclabcol))\n",
    "my_colors2 = ListedColormap(sns.color_palette(pclabcol2))"
   ]
  },
  {
   "cell_type": "code",
   "execution_count": 4,
   "id": "5cce0df0",
   "metadata": {},
   "outputs": [],
   "source": [
    "# Plot Specifics\n",
    "TITLESIZE = 60\n",
    "AXESLABEL = 40\n",
    "AXESTICKS = 35\n",
    "LINWID = 10\n",
    "DOTS = 20\n",
    "LEGSIZE = 25"
   ]
  },
  {
   "cell_type": "code",
   "execution_count": 5,
   "id": "f348b26f",
   "metadata": {},
   "outputs": [],
   "source": [
    "filename = \"Copy of Literature Review (Responses) - Copy of Form Responses 1.csv\""
   ]
  },
  {
   "cell_type": "code",
   "execution_count": 6,
   "id": "d4e2964a",
   "metadata": {},
   "outputs": [
    {
     "data": {
      "image/png": "[encoded data removed]",
      "text/plain": [
       "<Figure size 1296x720 with 1 Axes>"
      ]
     },
     "metadata": {
      "needs_background": "light"
     },
     "output_type": "display_data"
    }
   ],
   "source": [
    "plt.rcParams[\"figure.figsize\"] = (18,10)\n",
    "for pos in ['right', 'top', 'bottom']: # Removes graph border\n",
    "    plt.gca().spines[pos].set_visible(False)\n"
   ]
  },
  {
   "cell_type": "markdown",
   "id": "60dab672",
   "metadata": {},
   "source": [
    "# ITI Percentages Graph"
   ]
  },
  {
   "cell_type": "code",
   "execution_count": 7,
   "id": "3c6114f6",
   "metadata": {},
   "outputs": [],
   "source": [
    "#survey_df['Intertrial Interval (ITI) (time between trials)'].value_counts(dropna=False)"
   ]
  },
  {
   "cell_type": "code",
   "execution_count": 8,
   "id": "3b184ac6",
   "metadata": {},
   "outputs": [],
   "source": [
    "survey_df = pd.read_csv(filename, keep_default_na=False)"
   ]
  },
  {
   "cell_type": "code",
   "execution_count": 9,
   "id": "b0be7d05",
   "metadata": {},
   "outputs": [],
   "source": [
    "survey_df[\"Rats used\"] = survey_df[\"Species\"].apply(lambda x: \"1\" if x == \"Rats\" or x == \"Both\" else \"0\")\n",
    "survey_df[\"Mice used\"] = survey_df[\"Species\"].apply(lambda x: \"1\" if x == \"Mice\" or x == \"Both\" else \"0\")"
   ]
  },
  {
   "cell_type": "code",
   "execution_count": 10,
   "id": "3567e6d2",
   "metadata": {},
   "outputs": [],
   "source": [
    "comma_df = survey_df['Intertrial Interval (ITI) (time between trials)'].str.contains(',')\n",
    "#no_comma_df = survey_df['Intertrial Interval (ITI) (time between trials)'].str.contains(',')==False\n",
    "rat_df = survey_df[\"Rats used\"]\n",
    "mice_df = survey_df[\"Mice used\"]"
   ]
  },
  {
   "cell_type": "code",
   "execution_count": 11,
   "id": "1329b375",
   "metadata": {},
   "outputs": [],
   "source": [
    "#Finding number of mice trials\n",
    "m_trials = 0\n",
    "for i in range(len(mice_df)):\n",
    "    if mice_df[i] =='1':\n",
    "        m_trials = m_trials + 1\n",
    "r_trials = 650-m_trials"
   ]
  },
  {
   "cell_type": "code",
   "execution_count": 12,
   "id": "5dcb2e14",
   "metadata": {},
   "outputs": [],
   "source": [
    "#Finding percentage of trials that corresponded to each bin \n",
    "m_1 = 0\n",
    "r_1 = 0\n",
    "m_2 = 0  \n",
    "r_2 = 0 \n",
    "for i in range(len(comma_df)):\n",
    "    if comma_df[i] == False and mice_df[i] == '1': #Mouse and no comma\n",
    "        m_1 = m_1 +1\n",
    "    elif comma_df[i] == False and mice_df[i] == '0': #Rat and no comma\n",
    "        r_1 = r_1 +1\n",
    "    elif comma_df[i] == True and mice_df[i] == '1': #Mouse comma\n",
    "        m_2 = m_2 +1\n",
    "    elif comma_df[i] == True and mice_df[i] == '0': #Rat comma\n",
    "        r_2 = r_2 +1\n",
    "        \n",
    "#Getting percentage\n",
    "mice_overall = []\n",
    "mice_overall.append(m_1)\n",
    "mice_overall.append(m_2)\n",
    "mice_overall_P = [x / m_trials for x in mice_overall]\n",
    "\n",
    "rats_overall = []\n",
    "rats_overall.append(r_1)\n",
    "rats_overall.append(r_2)\n",
    "rats_overall_P = [x / r_trials for x in rats_overall]"
   ]
  },
  {
   "cell_type": "code",
   "execution_count": 13,
   "id": "48d00d4a",
   "metadata": {},
   "outputs": [
    {
     "data": {
      "text/plain": [
       "Text(0, 0.5, 'Percentage')"
      ]
     },
     "execution_count": 13,
     "metadata": {},
     "output_type": "execute_result"
    },
    {
     "data": {
      "image/png": "[encoded data removed]",
      "text/plain": [
       "<Figure size 1296x720 with 1 Axes>"
      ]
     },
     "metadata": {
      "needs_background": "light"
     },
     "output_type": "display_data"
    }
   ],
   "source": [
    "#Graphing percentages\n",
    "x = ['One', 'Two or more']\n",
    "x_axis = np.arange(len(x))\n",
    "\n",
    "plt.bar(x_axis - 0.2, mice_overall_P, 0.4, label = 'mice')\n",
    "plt.bar(x_axis + 0.2, rats_overall_P, 0.4, label = 'rats')\n",
    "plt.xticks(x_axis, x)\n",
    "plt.yticks(np.arange(0, 1.2, step=0.2))\n",
    "plt.xlabel(\"_____\")\n",
    "plt.ylabel('Percentage')\n"
   ]
  },
  {
   "cell_type": "markdown",
   "id": "18bb454a",
   "metadata": {},
   "source": [
    "# Subject vs Social Agent Bar graph"
   ]
  },
  {
   "cell_type": "markdown",
   "id": "f919413e",
   "metadata": {},
   "source": [
    "Percent of papers the specify social agent vs subject\n",
    "\n",
    "   Age\n",
    "\n",
    "   Housing history\n",
    "\n",
    "   Strain\n",
    "\n",
    "   Social rank\n",
    "\n",
    "   Sex"
   ]
  },
  {
   "cell_type": "code",
   "execution_count": 14,
   "id": "4ae942ff",
   "metadata": {},
   "outputs": [],
   "source": [
    "#Create two lists, one for subject one for social agent\n",
    "#Within each column find number of nonspecifed and percentage them. Put them\n",
    "# in correct list \n",
    "#Make bar graph "
   ]
  },
  {
   "cell_type": "code",
   "execution_count": 15,
   "id": "05a204b4",
   "metadata": {},
   "outputs": [],
   "source": [
    "subject_data = []\n",
    "agent_data = []"
   ]
  },
  {
   "cell_type": "code",
   "execution_count": 16,
   "id": "c6749383",
   "metadata": {},
   "outputs": [],
   "source": [
    "#Subject Data\n",
    "subject_age_P = sum(survey_df['Subject Age'].str.contains('Does not specify')) / len(survey_df['Subject Age'])\n",
    "subject_data.append(subject_age_P)\n",
    "subject_strain_P = sum(survey_df['Subject Strain  (i.e. C57BL6J or Sprague-Dawley) if multiple strains were used separate them by a semi colon and if mixed state mixed i.e. 129/SvJ mixed C57BL/6J; 129/SvJ mixed Swiss black'].str.contains('Does not specify')) / len(survey_df['Subject Strain  (i.e. C57BL6J or Sprague-Dawley) if multiple strains were used separate them by a semi colon and if mixed state mixed i.e. 129/SvJ mixed C57BL/6J; 129/SvJ mixed Swiss black'])\n",
    "subject_data.append(subject_strain_P)\n",
    "\n",
    "subject_sex_P = sum(survey_df['Subject Sex'].str.contains('Does not specify')) / len(survey_df['Subject Sex'])\n",
    "subject_data.append(subject_sex_P)\n",
    "subject_housing_P = sum(survey_df['Subject Housing'].str.contains('Does not specify')) / len(survey_df['Subject Housing'])\n",
    "subject_data.append(subject_housing_P)"
   ]
  },
  {
   "cell_type": "code",
   "execution_count": 17,
   "id": "e4f3c141",
   "metadata": {},
   "outputs": [],
   "source": [
    "#Social Agent Data\n",
    "agent_age_P = sum(survey_df['Social Agent Age (check all that apply)'].str.contains('Does not specify')) / len(survey_df['Social Agent Age (check all that apply)'])\n",
    "agent_data.append(agent_age_P)\n",
    "agent_strain_P = sum(survey_df['Social Agent Strain '].str.contains('pec' or 'n/a')) / len(survey_df['Social Agent Strain '])\n",
    "agent_data.append(agent_strain_P)\n",
    "\n",
    "agent_sex_P = sum(survey_df['Social Agent Sex'].str.contains('Does not specify')) / len(survey_df['Social Agent Sex'])\n",
    "agent_data.append(agent_sex_P)\n",
    "agent_housing_P = sum(survey_df['Social Agent Housing'].str.contains('Does not specify')) / len(survey_df['Social Agent Housing'])\n",
    "agent_data.append(agent_housing_P)\n"
   ]
  },
  {
   "cell_type": "code",
   "execution_count": 18,
   "id": "1b0b4391",
   "metadata": {},
   "outputs": [
    {
     "name": "stdout",
     "output_type": "stream",
     "text": [
      "subject_age_P: 0.06427503736920777\n",
      "subject_strain_P: 0.028400597907324365\n",
      "subject_sex_P: 0.04035874439461883\n",
      "subject_housing_P: 0.18385650224215247\n",
      "agent_age_P: 0.19431988041853512\n",
      "agent_strain_P: 0.34379671150971597\n",
      "agent_sex_P: 0.1898355754857997\n",
      "agent_housing_P: 0.593423019431988\n"
     ]
    }
   ],
   "source": [
    "print('subject_age_P: ' + str(subject_age_P))\n",
    "print('subject_strain_P: ' + str(subject_strain_P))\n",
    "print('subject_sex_P: '+str(subject_sex_P))\n",
    "print('subject_housing_P: ' + str(subject_housing_P))\n",
    "\n",
    "print('agent_age_P: ' + str(agent_age_P))\n",
    "print('agent_strain_P: ' + str(agent_strain_P))\n",
    "print('agent_sex_P: ' + str(agent_sex_P))\n",
    "print('agent_housing_P: ' + str(agent_housing_P))"
   ]
  },
  {
   "cell_type": "code",
   "execution_count": 19,
   "id": "90f76650",
   "metadata": {},
   "outputs": [
    {
     "data": {
      "image/png": "[encoded data removed]",
      "text/plain": [
       "<Figure size 1296x720 with 1 Axes>"
      ]
     },
     "metadata": {
      "needs_background": "light"
     },
     "output_type": "display_data"
    }
   ],
   "source": [
    "plt.rcParams[\"figure.figsize\"] = (18,10)\n",
    "\n",
    "x = ['Age','Strain','Sex','Housing']\n",
    "x_axis = np.arange(len(x))\n",
    "\n",
    "\n",
    "for pos in ['right', 'top']: # Removes graph border\n",
    "    plt.gca().spines[pos].set_visible(False)\n",
    "\n",
    "plt.bar(x_axis - 0.2, subject_data, 0.4, label = 'Subject', color = pclabcol[2])\n",
    "plt.bar(x_axis + 0.2, agent_data, 0.4, label = 'Social Agents', color = pclabcol[4])\n",
    "plt.gca().yaxis.set_major_formatter(mtick.PercentFormatter(xmax=1.0)) #Makes y percentages\n",
    "\n",
    "plt.xticks(x_axis, x, fontsize = AXESTICKS, family=\"Arial\") # x tick spacing and size\n",
    "plt.yticks(np.arange(0, 1.2, step=0.2), fontsize = AXESTICKS, family=\"Arial\")\n",
    "\n",
    "#Visuals\n",
    "#plt.xlabel(, family=\"Arial\", fontsize = 15)\n",
    "plt.ylabel('Percent papers that do not specify', fontsize = AXESLABEL, family=\"Arial\")\n",
    "plt.title(\"Non-reported Variables\", fontsize = TITLESIZE)\n",
    "plt.legend(frameon = False, fontsize = LEGSIZE) # legend, removes graph border\n",
    "plt.savefig(\"./proc/plots/non_reported_variables.svg\")\n",
    "#plt.savefig(r'C:\\Users\\yongc\\Documents\\GitHub\\literature_review_processing\\results\\2022_09_09_literature_review_processing\\proc\\PERCENT.svg')"
   ]
  },
  {
   "cell_type": "raw",
   "id": "5cc60f8d",
   "metadata": {},
   "source": [
    "#FOR PUBLICATION (NOT POSTER)\n",
    "x = ['Age','Strain','Sex','Housing']\n",
    "x_axis = np.arange(len(x))\n",
    "\n",
    "plt.rcParams[\"figure.figsize\"] = (4,3) # Size of the plotax.spines['top'].set_visible(False)\n",
    "for pos in ['right', 'top', 'bottom']: # Removes graph border\n",
    "    plt.gca().spines[pos].set_visible(False)\n",
    "\n",
    "plt.bar(x_axis - 0.2, subject_data, 0.4, label = 'Subject', color = 'black')\n",
    "plt.bar(x_axis + 0.2, agent_data, 0.4, label = 'Social Agents', fill=False, hatch='///')\n",
    "plt.gca().yaxis.set_major_formatter(mtick.PercentFormatter(xmax=1.0)) #Makes y percentages\n",
    "\n",
    "plt.xticks(x_axis, x, fontsize = 12) # x tick spacing and size\n",
    "plt.yticks(np.arange(0, 1.2, step=0.2))\n",
    "\n",
    "#Visuals\n",
    "#plt.xlabel(, family=\"Arial\", fontsize = 15)\n",
    "plt.ylabel('Percent papers not specified', fontsize = 12, family=\"Arial\")\n",
    "#plt.title(\"Title\", fontsize = 30)\n",
    "plt.legend(frameon = False) # legend, removes graph border\n",
    "plt.savefig(\"./proc/plots/non_reported_variables.svg\")\n",
    "#plt.savefig(r'C:\\Users\\yongc\\Documents\\GitHub\\literature_review_processing\\results\\2022_09_09_literature_review_processing\\proc\\PERCENT.svg')"
   ]
  },
  {
   "cell_type": "markdown",
   "id": "e9feae68",
   "metadata": {},
   "source": [
    "## Box and Whisker Graph for Degree of Familiarity"
   ]
  },
  {
   "cell_type": "code",
   "execution_count": 20,
   "id": "8d3f6aaf",
   "metadata": {},
   "outputs": [
    {
     "data": {
      "text/plain": [
       "['10 minutes',\n",
       " '5 min exposure or less',\n",
       " '15 minutes',\n",
       " '10 minutes',\n",
       " '5 min exposure or less',\n",
       " '5 min exposure or less',\n",
       " '5 min exposure or less',\n",
       " '5 min exposure or less',\n",
       " '5 min exposure or less',\n",
       " '7 minutes',\n",
       " '5 min exposure or less',\n",
       " '5 min exposure or less',\n",
       " '6 minutes',\n",
       " '5 min exposure or less',\n",
       " 'littermate, 5 min exposure or less',\n",
       " '5 min exposure or less',\n",
       " '10 minutes',\n",
       " '10 minutes',\n",
       " '5 min exposure or less',\n",
       " '10 minutes',\n",
       " '10 minutes',\n",
       " '5 min exposure or less',\n",
       " '15 minutes',\n",
       " '20 minutes',\n",
       " '5 min exposure or less',\n",
       " '5 min exposure or less',\n",
       " '10 minutes',\n",
       " '5 min exposure or less',\n",
       " '5 min exposure or less',\n",
       " '5 min exposure or less',\n",
       " '10 minutes',\n",
       " '80 minutes',\n",
       " '10 minutes',\n",
       " '5 min exposure or less',\n",
       " '5 min exposure or less',\n",
       " '15 minutes',\n",
       " '5 min exposure or less',\n",
       " '7 days',\n",
       " '10 minutes',\n",
       " '5 min exposure or less',\n",
       " '10 minutes',\n",
       " '15 minutes',\n",
       " '5 min exposure or less',\n",
       " '5 min exposure or less',\n",
       " '5 min exposure or less',\n",
       " '5 min exposure or less',\n",
       " '5 min exposure or less',\n",
       " '5 min exposure or less',\n",
       " '5 min exposure or less',\n",
       " '5 min exposure or less',\n",
       " '5 min exposure or less',\n",
       " '5 min exposure or less',\n",
       " '5 min exposure or less',\n",
       " '5 min exposure or less, 15 minutes',\n",
       " '5 min exposure or less',\n",
       " '5 min exposure or less',\n",
       " '5 min exposure or less',\n",
       " '5 min exposure or less',\n",
       " '5 min exposure or less',\n",
       " '15 minutes',\n",
       " '5 min exposure or less',\n",
       " '5 min exposure or less',\n",
       " '5 min exposure or less',\n",
       " '5 min exposure or less',\n",
       " '30 minutes',\n",
       " 'mate (up to 10 days)',\n",
       " '5 min exposure or less',\n",
       " '5 min exposure or less',\n",
       " '10 minutes,12 minutes',\n",
       " '4 days',\n",
       " '5 min exposure or less',\n",
       " '20 minutes',\n",
       " '5 min exposure or less',\n",
       " '5 min exposure or less',\n",
       " '10 minutes',\n",
       " '5 min exposure or less',\n",
       " '10 minutes',\n",
       " '10 minutes',\n",
       " '10 minutes',\n",
       " '5 min exposure or less, 8 minutes',\n",
       " '5 min exposure or less',\n",
       " '15 minutes',\n",
       " '5 min exposure or less',\n",
       " '5 min exposure or less',\n",
       " '5 min exposure or less',\n",
       " '5 min exposure or less',\n",
       " '5 min exposure or less',\n",
       " '5 min exposure or less',\n",
       " '5 min exposure or less, 20 minutes',\n",
       " '5 min exposure or less',\n",
       " '5 min exposure or less',\n",
       " '5 min exposure or less',\n",
       " '5 min exposure or less',\n",
       " '5 min exposure or less',\n",
       " '5 min exposure or less',\n",
       " '5 min exposure or less, 9 minutes',\n",
       " '5 min exposure or less',\n",
       " '5 min exposure or less',\n",
       " '5 min exposure or less',\n",
       " '5 min exposure or less',\n",
       " '10 minutes, 12 minutes, littermate',\n",
       " '10 minutes',\n",
       " '20 minutes',\n",
       " '5 min exposure or less',\n",
       " '8 minutes',\n",
       " '5 min exposure or less',\n",
       " '10 minutes, littermate',\n",
       " '5 min exposure or less',\n",
       " '7 minutes',\n",
       " '5 min exposure or less',\n",
       " '5 min exposure or less',\n",
       " '5 min exposure or less',\n",
       " '5 min exposure or less',\n",
       " '5 min exposure or less',\n",
       " '5 min exposure or less',\n",
       " '10 minutes',\n",
       " '7 minutes',\n",
       " '5 min exposure or less',\n",
       " '60 minutes',\n",
       " '5 min exposure or less',\n",
       " '6 minutes, cagemate',\n",
       " '5 min exposure or less',\n",
       " '5 min exposure or less',\n",
       " '5 min exposure or less',\n",
       " '5 min exposure or less',\n",
       " '5 min exposure or less',\n",
       " '5 min exposure or less',\n",
       " '10 minutes',\n",
       " '6 minutes',\n",
       " '5 min exposure or less',\n",
       " '5 min exposure or less',\n",
       " '5 min exposure or less',\n",
       " '15 minutes',\n",
       " '5 min exposure or less',\n",
       " '5 min exposure or less',\n",
       " '5 min exposure or less',\n",
       " '10 minutes',\n",
       " '7 minutes',\n",
       " '5 min exposure or less',\n",
       " '5 min exposure or less',\n",
       " '5 min exposure or less',\n",
       " '5 min exposure or less',\n",
       " '5 min exposure or less',\n",
       " '5 min exposure or less',\n",
       " '10 minutes',\n",
       " '5 min exposure or less, 10 minutes',\n",
       " '10 minutes',\n",
       " '10 minutes',\n",
       " '5 min exposure or less',\n",
       " '10 minutes',\n",
       " '60 minutes',\n",
       " '5 min exposure or less',\n",
       " '5 min exposure or less',\n",
       " '5 min exposure or less',\n",
       " '5 min exposure or less, 10 minutes',\n",
       " '15 minutes',\n",
       " '5 min exposure or less',\n",
       " '5 min exposure or less, 8 minutes',\n",
       " '10 minutes',\n",
       " '5 min exposure or less, 10 minutes',\n",
       " '5 min exposure or less',\n",
       " '5 min exposure or less',\n",
       " '5 min exposure or less',\n",
       " '15 minutes',\n",
       " '5 min exposure or less',\n",
       " '10 minutes, 15 minutes',\n",
       " '15 minutes',\n",
       " '60 minutes',\n",
       " '10 minutes',\n",
       " '5 min exposure or less',\n",
       " '5 min exposure or less',\n",
       " '5 min exposure or less, 10 minutes, 60 minutes',\n",
       " '5 min exposure or less',\n",
       " '5 min exposure or less',\n",
       " '5 min exposure or less, littermate (not co-housed)',\n",
       " '5 min exposure or less',\n",
       " '5 min exposure or less',\n",
       " '5 min exposure or less',\n",
       " '5 min exposure or less',\n",
       " '10 minutes',\n",
       " '5 min exposure or less',\n",
       " '5 min exposure or less',\n",
       " '5 min exposure or less',\n",
       " 'offspring ',\n",
       " '5 min exposure or less',\n",
       " '5 min exposure or less',\n",
       " '5 min exposure or less',\n",
       " '5 min exposure or less',\n",
       " '5 min exposure or less',\n",
       " '5 min exposure or less',\n",
       " '5 min exposure or less',\n",
       " '10 minutes, 30 minutes',\n",
       " '5 min exposure or less',\n",
       " '5 min exposure or less',\n",
       " '5 min exposure or less',\n",
       " '5 min exposure or less',\n",
       " '5 min exposure or less',\n",
       " '10 minutes',\n",
       " '5 min exposure or less',\n",
       " '5 min exposure or less',\n",
       " '5 min exposure or less',\n",
       " '5 min exposure or less',\n",
       " '5 min exposure or less',\n",
       " '5 min exposure or less',\n",
       " '5 min exposure or less',\n",
       " '5 min exposure or less',\n",
       " '5 min exposure or less',\n",
       " '5 min exposure or less',\n",
       " '5 min exposure or less',\n",
       " '5 min exposure or less',\n",
       " '5 min exposure or less',\n",
       " '5 min exposure or less',\n",
       " '5 min exposure or less',\n",
       " '5 min exposure or less, 10 minutes',\n",
       " '5 min exposure or less',\n",
       " '10 minutes',\n",
       " '5 min exposure or less',\n",
       " '10 minutes',\n",
       " '5 min exposure or less',\n",
       " '5 min exposure or less',\n",
       " '10 minutes',\n",
       " '5 min exposure or less',\n",
       " '10 minutes, littermate',\n",
       " '5 min exposure or less',\n",
       " '5 min exposure or less',\n",
       " '5 min exposure or less',\n",
       " '5 min exposure or less',\n",
       " '5 min exposure or less',\n",
       " '10 minutes',\n",
       " '10 minutes',\n",
       " '5 min exposure or less',\n",
       " '10 minutes',\n",
       " '5 min exposure or less',\n",
       " '10 minutes',\n",
       " '5 min exposure or less',\n",
       " '1 day, 2 days',\n",
       " '5 min exposure or less',\n",
       " '5 min exposure or less',\n",
       " '10 minutes',\n",
       " '10 minutes',\n",
       " '5 min exposure or less, 60 minutes',\n",
       " '10 minutes',\n",
       " '5 min exposure or less',\n",
       " '10 minutes',\n",
       " '5 min exposure or less',\n",
       " '60 minutes',\n",
       " '5 min exposure or less',\n",
       " '10 minutes',\n",
       " '10 minutes',\n",
       " '10 minutes',\n",
       " '5 min exposure or less',\n",
       " '5 min exposure or less',\n",
       " '5 min exposure or less',\n",
       " '5 min exposure or less',\n",
       " '5 min exposure or less',\n",
       " '5 min exposure or less',\n",
       " '5 min exposure or less',\n",
       " '5 min exposure or less',\n",
       " '5 min exposure or less',\n",
       " '5 min exposure or less',\n",
       " '5 min exposure or less',\n",
       " '5 min exposure or less',\n",
       " '30 minutes',\n",
       " 'littermate',\n",
       " '10 minutes',\n",
       " '5 min exposure or less',\n",
       " '10 minutes',\n",
       " '5 min exposure or less',\n",
       " '5 min exposure or less',\n",
       " '10 minutes',\n",
       " '10 minutes',\n",
       " '5 min exposure or less',\n",
       " '10 minutes',\n",
       " '20 minutes',\n",
       " '5 min exposure or less',\n",
       " '5 min exposure or less',\n",
       " '120 minutes, 3 days',\n",
       " '5 min exposure or less',\n",
       " '5 min exposure or less',\n",
       " '5 min exposure or less',\n",
       " '5 min exposure or less',\n",
       " '5 min exposure or less',\n",
       " '5 min exposure or less',\n",
       " '5 min exposure or less',\n",
       " '5 min exposure or less',\n",
       " 'cagemate',\n",
       " '20 minutes',\n",
       " '10 minutes',\n",
       " '5 min exposure or less',\n",
       " '5 min exposure or less',\n",
       " '5 min exposure or less',\n",
       " '10 minutes',\n",
       " '5 min exposure or less',\n",
       " '5 min exposure or less',\n",
       " '5 min exposure or less',\n",
       " 'parent (mother)',\n",
       " '5 min exposure or less',\n",
       " '5 min exposure or less',\n",
       " '10 min, 65 minutes',\n",
       " '5 min exposure or less',\n",
       " '5 min exposure or less, 6 minutes, 10 minutes',\n",
       " '10 minutes',\n",
       " '5 min exposure or less',\n",
       " '5 min exposure or less',\n",
       " '5 min exposure or less',\n",
       " '5 min exposure or less',\n",
       " '10 minutes',\n",
       " '5 min exposure or less',\n",
       " '5 min exposure or less',\n",
       " '5 min exposure or less',\n",
       " '5 min exposure or less',\n",
       " '8 minutes',\n",
       " '10 minutes',\n",
       " '5 min exposure or less',\n",
       " '10 minutes',\n",
       " '5 min exposure or less',\n",
       " '5 min exposure or less',\n",
       " '10 minutes, littermate',\n",
       " '5 min exposure or less',\n",
       " '5 min exposure or less',\n",
       " '5 min exposure or less',\n",
       " '5 min exposure or less',\n",
       " '5 min exposure or less',\n",
       " '5 min exposure or less',\n",
       " '60 minutes',\n",
       " '5 min exposure or less',\n",
       " '5 min exposure or less',\n",
       " '5 min exposure or less',\n",
       " '15 minutes',\n",
       " '5 min exposure or less',\n",
       " '5 min exposure or less',\n",
       " '5 min exposure or less',\n",
       " '5 min exposure or less',\n",
       " '5 min exposure or less',\n",
       " '10 minutes',\n",
       " '5 min exposure or less',\n",
       " '10 minutes',\n",
       " '5 min exposure or less',\n",
       " '10 minutes',\n",
       " '9 minutes',\n",
       " '5 min exposure or less',\n",
       " '5 min exposure or less, 6 minutes',\n",
       " '5 min exposure or less',\n",
       " '10 minutes',\n",
       " '10 minutes',\n",
       " '5 min exposure or less',\n",
       " '10 minutes',\n",
       " '5 min exposure or less',\n",
       " '10 minutes',\n",
       " '5 min exposure or less',\n",
       " '10 minutes',\n",
       " '5 min exposure or less',\n",
       " '5 min exposure or less',\n",
       " '5 min exposure or less',\n",
       " '10 minutes',\n",
       " '10 minutes, 15 minutes',\n",
       " '5 min exposure or less',\n",
       " '5 min exposure or less',\n",
       " '5 min exposure or less',\n",
       " '6 minutes, 10 minutes',\n",
       " '5 min exposure or less',\n",
       " '20 minutes',\n",
       " '5 min exposure or less',\n",
       " '5 min exposure or less',\n",
       " '5 min exposure or less',\n",
       " '5 min exposure or less',\n",
       " '5 min exposure or less',\n",
       " '5 min exposure or less',\n",
       " '5 min exposure or less',\n",
       " '5 min exposure or less',\n",
       " '5 min exposure or less',\n",
       " '5 min exposure or less',\n",
       " '5 min exposure or less',\n",
       " '5 min exposure or less',\n",
       " '5 min exposure or less',\n",
       " '5 min exposure or less',\n",
       " '5 min exposure or less',\n",
       " '5 min exposure or less',\n",
       " '5 min exposure or less',\n",
       " '40 minutes, 60 minutes',\n",
       " '5 min exposure or less',\n",
       " '5 min exposure or less',\n",
       " '5 min exposure or less',\n",
       " '5 min exposure or less',\n",
       " '10 minutes',\n",
       " '5 min exposure or less',\n",
       " '5 min exposure or less',\n",
       " '5 min exposure or less',\n",
       " '20 minutes, 45 minutes',\n",
       " '5 min exposure or less',\n",
       " '10 minutes',\n",
       " '5 min exposure or less',\n",
       " '5 min exposure or less',\n",
       " '5 min exposure or less',\n",
       " '5 min exposure or less',\n",
       " '5 min exposure or less',\n",
       " '5 min exposure or less',\n",
       " '10 minutes',\n",
       " '5 min exposure or less',\n",
       " '5 min exposure or less',\n",
       " '5 min exposure or less',\n",
       " '15 minutes',\n",
       " '5 min exposure or less',\n",
       " '5 min exposure or less',\n",
       " '5 min exposure or less',\n",
       " '10 minutes',\n",
       " '7 minutes',\n",
       " '10 minutes',\n",
       " '5 min exposure or less',\n",
       " '10 minutes',\n",
       " '5 min exposure or less',\n",
       " '60 minutes',\n",
       " '5 min exposure or less',\n",
       " '5 min exposure or less',\n",
       " '5 min exposure or less',\n",
       " '5 min exposure or less',\n",
       " '5 min exposure or less',\n",
       " '10 minutes',\n",
       " '5 min exposure or less',\n",
       " '5 min exposure or less, 10 minutes',\n",
       " '5 min exposure or less',\n",
       " '5 min exposure or less',\n",
       " '10 minutes',\n",
       " '5 min exposure or less',\n",
       " '10 minutes',\n",
       " '10 minutes',\n",
       " '10 minutes',\n",
       " '10 minutes',\n",
       " '5 min exposure or less',\n",
       " '10 minutes',\n",
       " '5 min exposure or less',\n",
       " '5 min exposure or less',\n",
       " '5 min exposure or less',\n",
       " '5 min exposure or less, 15 minutes, 60 minutes',\n",
       " '5 min exposure or less',\n",
       " '5 min exposure or less',\n",
       " '10 minutes',\n",
       " '5 min exposure or less',\n",
       " '5 min exposure or less',\n",
       " '5 min exposure or less, littermate',\n",
       " '60 minutes',\n",
       " '5 min exposure or less',\n",
       " '5 min exposure or less',\n",
       " '10 minutes',\n",
       " '5 min exposure or less',\n",
       " '10 minutes',\n",
       " '10 minutes',\n",
       " '20 minutes, 10 minutes',\n",
       " '5 min exposure or less',\n",
       " '10 minutes',\n",
       " '5 min exposure or less',\n",
       " '5 min exposure or less',\n",
       " '5 min exposure or less',\n",
       " '10 minutes',\n",
       " '5 min exposure or less',\n",
       " '20 minutes, 10 minutes',\n",
       " '5 min exposure or less',\n",
       " '20 minutes',\n",
       " '10 minutes',\n",
       " '15 minutes',\n",
       " '10 minutes',\n",
       " '5 min exposure or less',\n",
       " '5 min exposure or less, 60 minutes',\n",
       " '5 min exposure or less',\n",
       " 'littermate, 5 min exposure or less',\n",
       " '5 min exposure or less',\n",
       " '5 min exposure or less',\n",
       " '5 min exposure or less',\n",
       " '5 min exposure or less',\n",
       " '5 min exposure or less',\n",
       " '5 min exposure or less',\n",
       " '10 minutes',\n",
       " '5 min exposure or less',\n",
       " '10 minutes',\n",
       " '5 min exposure or less, 10 minutes',\n",
       " '5 min exposure or less',\n",
       " '5 min exposure or less',\n",
       " '5 min exposure or less',\n",
       " '5 min exposure or less',\n",
       " '5 min exposure or less',\n",
       " '5 min exposure or less',\n",
       " '5 min exposure or less',\n",
       " '5 min exposure or less',\n",
       " '60 minutes',\n",
       " '10 minutes',\n",
       " '5 min exposure or less',\n",
       " '10 minutes',\n",
       " '5 min exposure or less',\n",
       " '5 min exposure or less',\n",
       " '5 min exposure or less',\n",
       " '5 min exposure or less',\n",
       " '15 minutes',\n",
       " '20 minutes',\n",
       " '5 min exposure or less',\n",
       " '5 min exposure or less',\n",
       " '15 minutes',\n",
       " '5 min exposure or less',\n",
       " '5 min exposure or less',\n",
       " '5 min exposure or less',\n",
       " '6 minutes',\n",
       " '5 min exposure or less',\n",
       " '5 min exposure or less',\n",
       " '5 min exposure or less',\n",
       " '5 min exposure or less',\n",
       " '5 min exposure or less',\n",
       " '5 min exposure or less',\n",
       " '10 minutes',\n",
       " '5 min exposure or less',\n",
       " '120 minutes',\n",
       " '5 min exposure or less',\n",
       " '5 min exposure or less, 30 minutes, 120 minutes, 1 day, 7 days',\n",
       " '5 min exposure or less',\n",
       " '5 min exposure or less',\n",
       " '5 min exposure or less',\n",
       " '5 min exposure or less',\n",
       " '10 minutes',\n",
       " '5 min exposure or less',\n",
       " '10 minutes',\n",
       " '30 minutes',\n",
       " '5 min exposure or less',\n",
       " '5 min exposure or less',\n",
       " '5 min exposure or less',\n",
       " '5 min exposure or less',\n",
       " '5 min exposure or less',\n",
       " '10 minutes',\n",
       " '5 min exposure or less',\n",
       " '5 min exposure or less',\n",
       " '5 min exposure or less',\n",
       " '5 min exposure or less',\n",
       " '10 minutes',\n",
       " '10 minutes',\n",
       " '5 min exposure or less',\n",
       " '5 min exposure or less',\n",
       " '5 min exposure or less',\n",
       " '10 minutes',\n",
       " '10 minutes',\n",
       " '10 minutes',\n",
       " '5 min exposure or less',\n",
       " '5 min exposure or less',\n",
       " '10 minutes',\n",
       " '10 minutes',\n",
       " 'cagemate, 15 minutes, 20 minutes',\n",
       " '5 min exposure or less',\n",
       " '5 min exposure or less, 10 minutes',\n",
       " '5 min exposure or less',\n",
       " '5 min exposure or less',\n",
       " '20 minutes',\n",
       " '5 min exposure or less',\n",
       " '10 minutes',\n",
       " '5 min exposure or less',\n",
       " '5 min exposure or less',\n",
       " 'parent (mother)',\n",
       " '10 minutes',\n",
       " '10 minutes',\n",
       " '10 minutes',\n",
       " '5 min exposure or less',\n",
       " '5 min exposure or less, 10 minutes',\n",
       " '10 minutes',\n",
       " '5 min exposure or less',\n",
       " '5 min exposure or less',\n",
       " '10 minutes',\n",
       " '5 min exposure or less',\n",
       " '10 minutes',\n",
       " '5 min exposure or less',\n",
       " '5 min exposure or less',\n",
       " '5 min exposure or less, 15 minutes, littermate',\n",
       " '5 min exposure or less, 10 minutes',\n",
       " '10 minutes',\n",
       " '5 min exposure or less',\n",
       " '5 min exposure or less',\n",
       " '5 min exposure or less',\n",
       " '5 min exposure or less',\n",
       " '5 min exposure or less',\n",
       " '5 min exposure or less',\n",
       " '5 min exposure or less',\n",
       " '5 min exposure or less',\n",
       " '10 minutes',\n",
       " '10 minutes',\n",
       " '10 minutes',\n",
       " '5 min exposure or less',\n",
       " '5 min exposure or less',\n",
       " '5 min exposure or less',\n",
       " '10 minutes',\n",
       " '5 min exposure or less, 10 minutes',\n",
       " '10 minutes',\n",
       " '5 min exposure or less',\n",
       " '5 min exposure or less',\n",
       " '10 minutes',\n",
       " '10 minutes',\n",
       " '10 minutes, 15 minutes',\n",
       " '5 min exposure or less',\n",
       " '5 min exposure or less, littermate',\n",
       " '5 min exposure or less',\n",
       " '5 min exposure or less',\n",
       " '5 min exposure or less',\n",
       " '5 min exposure or less',\n",
       " '10 minutes',\n",
       " '10 minutes',\n",
       " '5 min exposure or less',\n",
       " '5 min exposure or less',\n",
       " '5 min exposure or less',\n",
       " '20 minutes',\n",
       " '5 min exposure or less',\n",
       " '10 minutes',\n",
       " '5 min exposure or less',\n",
       " '10 minutes',\n",
       " '7 minutes',\n",
       " '5 min exposure or less, 15 minutes, 60 minutes',\n",
       " '5 min exposure or less',\n",
       " '10 minutes',\n",
       " '5 min exposure or less',\n",
       " '5 min exposure or less, 10 minutes, littermate',\n",
       " '5 min exposure or less',\n",
       " '5 min exposure or less',\n",
       " '5 min exposure or less',\n",
       " '6 minutes',\n",
       " '5 min exposure or less',\n",
       " '5 min exposure or less',\n",
       " '10 minutes, 20 minutes',\n",
       " '5 min exposure or less',\n",
       " '5 min exposure or less',\n",
       " '5 min exposure or less',\n",
       " '5 min exposure or less',\n",
       " '10 minutes',\n",
       " 'parent (mother), 10 minutes',\n",
       " '10 minutes',\n",
       " '5 min exposure or less',\n",
       " '10 minutes',\n",
       " '10 minutes',\n",
       " '5 min exposure or less',\n",
       " '15 minutes',\n",
       " '5 min exposure or less',\n",
       " '5 min exposure or less',\n",
       " '10 minutes',\n",
       " '5 min exposure or less',\n",
       " '5 min exposure or less',\n",
       " '10 minutes',\n",
       " '120 minutes',\n",
       " '5 min exposure or less',\n",
       " '5 min exposure or less',\n",
       " '6 minutes',\n",
       " '15 minutes',\n",
       " '10 minutes',\n",
       " '10 minutes',\n",
       " '10 minutes',\n",
       " '15 minutes',\n",
       " '5 min exposure or less',\n",
       " '10 minutes',\n",
       " '5 min exposure or less',\n",
       " '5 min exposure or less',\n",
       " '10 minutes',\n",
       " '5 min exposure or less',\n",
       " '10 minutes',\n",
       " '5 min exposure or less, 10 minutes',\n",
       " '5 min exposure or less',\n",
       " '5 min exposure or less',\n",
       " '10 minutes',\n",
       " '5 min exposure or less',\n",
       " '5 min exposure or less',\n",
       " '10 minutes',\n",
       " '5 min exposure or less, 10 minutes']"
      ]
     },
     "execution_count": 20,
     "metadata": {},
     "output_type": "execute_result"
    }
   ],
   "source": [
    "#for i in dfam_lst:\n",
    "#for i in range(1000):\n",
    "#    dfam_lst.remove('Does not specify')\n",
    "#dfam_lst = [x for x in dfam_lst if x != 'Does not specify']\n",
    "\n",
    "dfam_lst = survey_df['Social Agent: degree of familiarity (if subject is exposed to a social agent ONLY twice, each trial being 5 or less minutes, the degree of familiarity is 5 min or less, NOT the total time exposed to the social agent) '].tolist()\n",
    "#[i if i!='5 min exposure or less' else '5' for i in dfam_lst]\n",
    "#[x.replace('littermate', '') for x in dfam_lst\n",
    " \n",
    "#for i in range(len(dfam_lst)): # Converts '5min..' to a the number 5\n",
    "#    dfam_lst[i] = 5 if dfam_lst[i] == '5 min exposure or less' else dfam_lst[i]\n",
    "#    if ', littermate' in dfam_lst[i]:\n",
    "#        dfam_lst[i].replace(', littermate','')\n",
    "        \n",
    "list(filter(lambda a: a != 'Does not specify', dfam_lst)) #Removes all does not specify\n",
    "\n"
   ]
  },
  {
   "cell_type": "code",
   "execution_count": 21,
   "id": "8018d0cb",
   "metadata": {},
   "outputs": [],
   "source": [
    "# turn column into series\n",
    "column_name = 'Social Agent: degree of familiarity (if subject is exposed to a social agent ONLY twice, each trial being 5 or less minutes, the degree of familiarity is 5 min or less, NOT the total time exposed to the social agent) '\n",
    "dfam_df = pd.read_csv(filename,usecols = [column_name])\n",
    "dfam_df = dfam_df[dfam_df[column_name].str.contains('minutes')==True]"
   ]
  },
  {
   "cell_type": "code",
   "execution_count": 22,
   "id": "c5e14e0a",
   "metadata": {},
   "outputs": [],
   "source": [
    "fixed_column_name = column_name + \"_fixed\"\n",
    "copy_dfam_df = dfam_df.copy()\n",
    "copy_dfam_df[fixed_column_name] = copy_dfam_df[column_name].apply(lambda x: x.split(\",\"))\n",
    "exploded_dfam_df = copy_dfam_df.explode(fixed_column_name).reset_index()\n",
    "\n",
    "exploded_dfam_df = exploded_dfam_df[exploded_dfam_df[fixed_column_name].str.contains('minutes')==True]"
   ]
  },
  {
   "cell_type": "code",
   "execution_count": 23,
   "id": "4c47377e",
   "metadata": {},
   "outputs": [],
   "source": [
    "exploded_dfam_df = exploded_dfam_df.drop(column_name,axis = 1)"
   ]
  },
  {
   "cell_type": "code",
   "execution_count": 24,
   "id": "15f24167",
   "metadata": {
    "scrolled": true
   },
   "outputs": [
    {
     "name": "stderr",
     "output_type": "stream",
     "text": [
      "C:\\Users\\megha\\AppData\\Local\\Temp\\ipykernel_12628\\3369587313.py:1: FutureWarning: The default value of regex will change from True to False in a future version.\n",
      "  exploded_dfam_s = exploded_dfam_df[fixed_column_name].str.replace(r'\\D','').astype(int)\n"
     ]
    }
   ],
   "source": [
    "exploded_dfam_s = exploded_dfam_df[fixed_column_name].str.replace(r'\\D','').astype(int)"
   ]
  },
  {
   "cell_type": "code",
   "execution_count": 25,
   "id": "4f95c55f",
   "metadata": {},
   "outputs": [
    {
     "data": {
      "image/png": "[encoded data removed]",
      "text/plain": [
       "<Figure size 864x864 with 1 Axes>"
      ]
     },
     "metadata": {
      "needs_background": "light"
     },
     "output_type": "display_data"
    }
   ],
   "source": [
    "plt.rcParams[\"figure.figsize\"] = (12,12)\n",
    "ax = exploded_dfam_s.plot.box(flierprops={'marker': 'o', 'markersize': 5, 'markerfacecolor': 'black'})"
   ]
  },
  {
   "cell_type": "code",
   "execution_count": 56,
   "id": "06fbfb89",
   "metadata": {},
   "outputs": [
    {
     "data": {
      "image/png": "[encoded data removed]",
      "text/plain": [
       "<Figure size 1296x720 with 1 Axes>"
      ]
     },
     "metadata": {
      "needs_background": "light"
     },
     "output_type": "display_data"
    }
   ],
   "source": [
    "plt.rcParams[\"figure.figsize\"] = (18,10)\n",
    "ax1 = exploded_dfam_s.hist(bins = 60, color = pclabcol[2])\n",
    "plt.title('Distribution of Exposure Times for Short-Term Familiarity Memories', fontsize = 35)\n",
    "plt.xticks(fontsize=AXESTICKS)\n",
    "plt.yticks(fontsize=AXESTICKS)\n",
    "plt.xlabel('Minutes', fontsize = AXESLABEL)\n",
    "plt.ylabel('Number of Papers', fontsize = AXESLABEL)\n",
    "# Removes graph border\n",
    "for pos in ['right', 'top']: \n",
    "    plt.gca().spines[pos].set_visible(False)\n",
    "# gets rid of grid lines\n",
    "plt.grid(False)\n",
    "plt.savefig(\"./proc/plots/famtime_stm.svg\")"
   ]
  },
  {
   "cell_type": "markdown",
   "id": "9b2761e9",
   "metadata": {},
   "source": [
    "# Rank w/ only G-housed and Adult"
   ]
  },
  {
   "cell_type": "markdown",
   "id": "ce25dc6c",
   "metadata": {},
   "source": [
    "SUBJECT: group-housed + adult( + old)\n",
    "\n",
    "SOCIAL AGENT: group-housed + adult(+old)\n",
    "\n",
    "calculate percent rank does not specify"
   ]
  },
  {
   "cell_type": "code",
   "execution_count": 27,
   "id": "c3e656c6",
   "metadata": {},
   "outputs": [],
   "source": [
    "rank_df = pd.read_csv(filename)"
   ]
  },
  {
   "cell_type": "code",
   "execution_count": 28,
   "id": "d0ed162c",
   "metadata": {},
   "outputs": [],
   "source": [
    "#Filters for Subject (group-housed and adult/old only)\n",
    "s_grank_df = rank_df.loc[rank_df['Subject Housing'].str.contains('group-housed')]\n",
    "s_gArank_df = s_grank_df.loc[s_grank_df['Subject Age'].str.contains('adult' or 'old')]\n",
    "\n",
    "#Filters for Social agent (group-housed and adult/old only)\n",
    "sa_grank_df = rank_df.loc[rank_df['Social Agent Housing'].str.contains('group-housed')]\n",
    "sa_gArank_df = sa_grank_df.loc[sa_grank_df['Social Agent Age (check all that apply)'].str.contains('adult' or 'old')]"
   ]
  },
  {
   "cell_type": "code",
   "execution_count": 29,
   "id": "a8abe303",
   "metadata": {},
   "outputs": [
    {
     "data": {
      "text/plain": [
       "array(['adult (week not specified)', 'adult (12-24 weeks)',\n",
       "       'adult (24-40 weeks)', 'young adult (8-12 weeks)',\n",
       "       'adult (24-40 weeks), old (+40 weeks)',\n",
       "       'young adult (8-12 weeks), adult (12-24 weeks)',\n",
       "       'juvenile (3-7 weeks or week not specified), adult (12-24 weeks)',\n",
       "       'juvenile (3-7 weeks or week not specified), young adult (8-12 weeks), adult (12-24 weeks), adult (24-40 weeks)',\n",
       "       'juvenile (3-7 weeks or week not specified), adult (week not specified)',\n",
       "       'juvenile (3-7 weeks or week not specified), young adult (8-12 weeks), adult (12-24 weeks)',\n",
       "       'adult (12-24 weeks), adult (24-40 weeks)',\n",
       "       'juvenile (3-7 weeks or week not specified), young adult (8-12 weeks)',\n",
       "       'adult (week not specified), young adult (8-12 weeks)'],\n",
       "      dtype=object)"
      ]
     },
     "execution_count": 29,
     "metadata": {},
     "output_type": "execute_result"
    }
   ],
   "source": [
    "#Shows all unique choices in a column \n",
    "sa_gArank_df['Social Agent Age (check all that apply)'].unique()"
   ]
  },
  {
   "cell_type": "code",
   "execution_count": 30,
   "id": "2f6d9e3b",
   "metadata": {},
   "outputs": [
    {
     "data": {
      "text/plain": [
       "array(['Does not specify', 'Defeated, Does not specify', 'Ranked'],\n",
       "      dtype=object)"
      ]
     },
     "execution_count": 30,
     "metadata": {},
     "output_type": "execute_result"
    }
   ],
   "source": [
    "s_gArank_df['Subject Social Rank'].unique()"
   ]
  },
  {
   "cell_type": "code",
   "execution_count": 31,
   "id": "6be421b2",
   "metadata": {},
   "outputs": [],
   "source": [
    "subject_data = []\n",
    "agent_data = []\n",
    "\n",
    "#Percentage of Subject rank percentage that does not specify\n",
    "subject_SR_P = sum(s_gArank_df['Subject Social Rank'].str.contains('Does not specify')) / len(s_gArank_df['Subject Social Rank'])\n",
    "subject_data.append(subject_SR_P)\n",
    "\n",
    "#Percentage of Social Agent rank percentage that does not specify\n",
    "agent_SR_P = sum(sa_gArank_df['Social Agent Rank'].str.contains('Does not specify')) / len(sa_gArank_df['Social Agent Rank'])\n",
    "agent_data.append(agent_SR_P)"
   ]
  },
  {
   "cell_type": "code",
   "execution_count": 32,
   "id": "bdb810cb",
   "metadata": {},
   "outputs": [
    {
     "name": "stdout",
     "output_type": "stream",
     "text": [
      "subject_SR_P: 0.9971098265895953\n",
      "agent_SR_P: 0.9857142857142858\n"
     ]
    }
   ],
   "source": [
    "print('subject_SR_P: '+str(subject_SR_P))\n",
    "print('agent_SR_P: '+str(agent_SR_P))"
   ]
  },
  {
   "cell_type": "code",
   "execution_count": 33,
   "id": "d26e4604",
   "metadata": {},
   "outputs": [
    {
     "data": {
      "text/plain": [
       "<matplotlib.legend.Legend at 0x293029bffd0>"
      ]
     },
     "execution_count": 33,
     "metadata": {},
     "output_type": "execute_result"
    },
    {
     "data": {
      "image/png": "[encoded data removed]",
      "text/plain": [
       "<Figure size 288x216 with 1 Axes>"
      ]
     },
     "metadata": {
      "needs_background": "light"
     },
     "output_type": "display_data"
    }
   ],
   "source": [
    "x = ['Rank']\n",
    "x_axis = np.arange(len(x))\n",
    "\n",
    "plt.rcParams[\"figure.figsize\"] = (4,3) # Size of the plotax.spines['top'].set_visible(False)\n",
    "for pos in ['right', 'top', 'bottom']: # Removes graph border\n",
    "    plt.gca().spines[pos].set_visible(False)\n",
    "    \n",
    "plt.xticks([]) # Removes x-ticks\n",
    "\n",
    "plt.bar(x_axis - 0.2, subject_data, 0.4, label = 'Subject', color = 'black')\n",
    "plt.bar(x_axis + 0.2, agent_data, 0.4, label = 'Social Agents', fill=False, hatch='///')\n",
    "plt.gca().yaxis.set_major_formatter(mtick.PercentFormatter(xmax=1.0)) #Makes y percentages\n",
    "\n",
    "plt.legend(bbox_to_anchor=(1.0, 1.0),frameon = False) #Moves legend and takes frame off"
   ]
  },
  {
   "cell_type": "markdown",
   "id": "b6045c46",
   "metadata": {},
   "source": [
    "# Pie Graph of familiarity"
   ]
  },
  {
   "cell_type": "code",
   "execution_count": 34,
   "id": "eb216a5f",
   "metadata": {},
   "outputs": [],
   "source": [
    "#Seperating by comma\n",
    "column_name = 'Social Agent: degree of familiarity (if subject is exposed to a social agent ONLY twice, each trial being 5 or less minutes, the degree of familiarity is 5 min or less, NOT the total time exposed to the social agent) '\n",
    "famtime_df = pd.read_csv(filename,usecols = [column_name])\n",
    "\n",
    "fixed_column_name = column_name + \"_fixed\"\n",
    "copy_famtime_df = famtime_df.copy()\n",
    "copy_famtime_df[fixed_column_name] = copy_famtime_df[column_name].apply(lambda x: x.split(\",\"))\n",
    "exploded_famtime_df = copy_famtime_df.explode(fixed_column_name).reset_index()\n",
    "\n",
    "#exploded_famtime_df = exploded_famtime_df[exploded_famtime_df[fixed_column_name].str.contains('minutes')==True]\n",
    "#exploded_famtime_df = exploded_famtime_df.drop(column_name,axis = 1)\n",
    "\n",
    "#exploded_dfam_s = exploded_dfam_df[fixed_column_name].str.replace(r'\\D','').astype(int)"
   ]
  },
  {
   "cell_type": "code",
   "execution_count": 35,
   "id": "d50df71a",
   "metadata": {},
   "outputs": [
    {
     "data": {
      "text/html": [
       "<div>\n",
       "<style scoped>\n",
       "    .dataframe tbody tr th:only-of-type {\n",
       "        vertical-align: middle;\n",
       "    }\n",
       "\n",
       "    .dataframe tbody tr th {\n",
       "        vertical-align: top;\n",
       "    }\n",
       "\n",
       "    .dataframe thead th {\n",
       "        text-align: right;\n",
       "    }\n",
       "</style>\n",
       "<table border=\"1\" class=\"dataframe\">\n",
       "  <thead>\n",
       "    <tr style=\"text-align: right;\">\n",
       "      <th></th>\n",
       "      <th>index</th>\n",
       "      <th>Social Agent: degree of familiarity (if subject is exposed to a social agent ONLY twice, each trial being 5 or less minutes, the degree of familiarity is 5 min or less, NOT the total time exposed to the social agent)</th>\n",
       "      <th>Social Agent: degree of familiarity (if subject is exposed to a social agent ONLY twice, each trial being 5 or less minutes, the degree of familiarity is 5 min or less, NOT the total time exposed to the social agent) _fixed</th>\n",
       "    </tr>\n",
       "  </thead>\n",
       "  <tbody>\n",
       "    <tr>\n",
       "      <th>0</th>\n",
       "      <td>0</td>\n",
       "      <td>10 minutes</td>\n",
       "      <td>10 minutes</td>\n",
       "    </tr>\n",
       "    <tr>\n",
       "      <th>1</th>\n",
       "      <td>1</td>\n",
       "      <td>5 min exposure or less</td>\n",
       "      <td>5 min exposure or less</td>\n",
       "    </tr>\n",
       "    <tr>\n",
       "      <th>2</th>\n",
       "      <td>2</td>\n",
       "      <td>15 minutes</td>\n",
       "      <td>15 minutes</td>\n",
       "    </tr>\n",
       "    <tr>\n",
       "      <th>3</th>\n",
       "      <td>3</td>\n",
       "      <td>10 minutes</td>\n",
       "      <td>10 minutes</td>\n",
       "    </tr>\n",
       "    <tr>\n",
       "      <th>4</th>\n",
       "      <td>4</td>\n",
       "      <td>5 min exposure or less</td>\n",
       "      <td>5 min exposure or less</td>\n",
       "    </tr>\n",
       "    <tr>\n",
       "      <th>...</th>\n",
       "      <td>...</td>\n",
       "      <td>...</td>\n",
       "      <td>...</td>\n",
       "    </tr>\n",
       "    <tr>\n",
       "      <th>728</th>\n",
       "      <td>665</td>\n",
       "      <td>5 min exposure or less</td>\n",
       "      <td>5 min exposure or less</td>\n",
       "    </tr>\n",
       "    <tr>\n",
       "      <th>729</th>\n",
       "      <td>666</td>\n",
       "      <td>5 min exposure or less</td>\n",
       "      <td>5 min exposure or less</td>\n",
       "    </tr>\n",
       "    <tr>\n",
       "      <th>730</th>\n",
       "      <td>667</td>\n",
       "      <td>10 minutes</td>\n",
       "      <td>10 minutes</td>\n",
       "    </tr>\n",
       "    <tr>\n",
       "      <th>731</th>\n",
       "      <td>668</td>\n",
       "      <td>5 min exposure or less, 10 minutes</td>\n",
       "      <td>5 min exposure or less</td>\n",
       "    </tr>\n",
       "    <tr>\n",
       "      <th>732</th>\n",
       "      <td>668</td>\n",
       "      <td>5 min exposure or less, 10 minutes</td>\n",
       "      <td>10 minutes</td>\n",
       "    </tr>\n",
       "  </tbody>\n",
       "</table>\n",
       "<p>733 rows × 3 columns</p>\n",
       "</div>"
      ],
      "text/plain": [
       "     index  \\\n",
       "0        0   \n",
       "1        1   \n",
       "2        2   \n",
       "3        3   \n",
       "4        4   \n",
       "..     ...   \n",
       "728    665   \n",
       "729    666   \n",
       "730    667   \n",
       "731    668   \n",
       "732    668   \n",
       "\n",
       "    Social Agent: degree of familiarity (if subject is exposed to a social agent ONLY twice, each trial being 5 or less minutes, the degree of familiarity is 5 min or less, NOT the total time exposed to the social agent)   \\\n",
       "0                                           10 minutes                                                                                                                                                                          \n",
       "1                               5 min exposure or less                                                                                                                                                                          \n",
       "2                                           15 minutes                                                                                                                                                                          \n",
       "3                                           10 minutes                                                                                                                                                                          \n",
       "4                               5 min exposure or less                                                                                                                                                                          \n",
       "..                                                 ...                                                                                                                                                                          \n",
       "728                             5 min exposure or less                                                                                                                                                                          \n",
       "729                             5 min exposure or less                                                                                                                                                                          \n",
       "730                                         10 minutes                                                                                                                                                                          \n",
       "731                 5 min exposure or less, 10 minutes                                                                                                                                                                          \n",
       "732                 5 min exposure or less, 10 minutes                                                                                                                                                                          \n",
       "\n",
       "    Social Agent: degree of familiarity (if subject is exposed to a social agent ONLY twice, each trial being 5 or less minutes, the degree of familiarity is 5 min or less, NOT the total time exposed to the social agent) _fixed  \n",
       "0                                           10 minutes                                                                                                                                                                               \n",
       "1                               5 min exposure or less                                                                                                                                                                               \n",
       "2                                           15 minutes                                                                                                                                                                               \n",
       "3                                           10 minutes                                                                                                                                                                               \n",
       "4                               5 min exposure or less                                                                                                                                                                               \n",
       "..                                                 ...                                                                                                                                                                               \n",
       "728                             5 min exposure or less                                                                                                                                                                               \n",
       "729                             5 min exposure or less                                                                                                                                                                               \n",
       "730                                         10 minutes                                                                                                                                                                               \n",
       "731                             5 min exposure or less                                                                                                                                                                               \n",
       "732                                         10 minutes                                                                                                                                                                               \n",
       "\n",
       "[733 rows x 3 columns]"
      ]
     },
     "execution_count": 35,
     "metadata": {},
     "output_type": "execute_result"
    }
   ],
   "source": [
    "exploded_famtime_df"
   ]
  },
  {
   "cell_type": "code",
   "execution_count": 36,
   "id": "2aa8274c",
   "metadata": {},
   "outputs": [
    {
     "name": "stderr",
     "output_type": "stream",
     "text": [
      "C:\\Users\\megha\\AppData\\Local\\Temp\\ipykernel_12628\\1431158660.py:8: SettingWithCopyWarning: \n",
      "A value is trying to be set on a copy of a slice from a DataFrame\n",
      "\n",
      "See the caveats in the documentation: https://pandas.pydata.org/pandas-docs/stable/user_guide/indexing.html#returning-a-view-versus-a-copy\n",
      "  exploded_famtime_df[sliced_column][i] = '5min - 2hrs'\n",
      "C:\\Users\\megha\\AppData\\Local\\Temp\\ipykernel_12628\\1431158660.py:6: SettingWithCopyWarning: \n",
      "A value is trying to be set on a copy of a slice from a DataFrame\n",
      "\n",
      "See the caveats in the documentation: https://pandas.pydata.org/pandas-docs/stable/user_guide/indexing.html#returning-a-view-versus-a-copy\n",
      "  exploded_famtime_df[sliced_column][i] = '< 5 min'\n",
      "C:\\Users\\megha\\AppData\\Local\\Temp\\ipykernel_12628\\1431158660.py:10: SettingWithCopyWarning: \n",
      "A value is trying to be set on a copy of a slice from a DataFrame\n",
      "\n",
      "See the caveats in the documentation: https://pandas.pydata.org/pandas-docs/stable/user_guide/indexing.html#returning-a-view-versus-a-copy\n",
      "  exploded_famtime_df[sliced_column][i] = '1 - 7 days'\n"
     ]
    }
   ],
   "source": [
    "sliced_column = \"sliced column\"\n",
    "exploded_famtime_df[sliced_column] = 'ethologically relevant relationships'\n",
    "\n",
    "for i in range(len(exploded_famtime_df[sliced_column])):\n",
    "    if '5 min exposure or less' in exploded_famtime_df[fixed_column_name][i]:\n",
    "        exploded_famtime_df[sliced_column][i] = '< 5 min'\n",
    "    elif 'min' in exploded_famtime_df[fixed_column_name][i]:\n",
    "        exploded_famtime_df[sliced_column][i] = '5min - 2hrs'\n",
    "    elif 'days' in exploded_famtime_df[fixed_column_name][i]:\n",
    "        exploded_famtime_df[sliced_column][i] = '1 - 7 days'\n",
    "    #If string contains minutes\n",
    "    #IF string contains days"
   ]
  },
  {
   "cell_type": "code",
   "execution_count": 37,
   "id": "1646bcf5",
   "metadata": {},
   "outputs": [
    {
     "data": {
      "text/plain": [
       "array(['5min - 2hrs', '< 5 min', 'ethologically relevant relationships',\n",
       "       '1 - 7 days'], dtype=object)"
      ]
     },
     "execution_count": 37,
     "metadata": {},
     "output_type": "execute_result"
    }
   ],
   "source": [
    "exploded_famtime_df[sliced_column].unique()"
   ]
  },
  {
   "cell_type": "code",
   "execution_count": 38,
   "id": "92f60565",
   "metadata": {},
   "outputs": [
    {
     "data": {
      "text/html": [
       "<div>\n",
       "<style scoped>\n",
       "    .dataframe tbody tr th:only-of-type {\n",
       "        vertical-align: middle;\n",
       "    }\n",
       "\n",
       "    .dataframe tbody tr th {\n",
       "        vertical-align: top;\n",
       "    }\n",
       "\n",
       "    .dataframe thead th {\n",
       "        text-align: right;\n",
       "    }\n",
       "</style>\n",
       "<table border=\"1\" class=\"dataframe\">\n",
       "  <thead>\n",
       "    <tr style=\"text-align: right;\">\n",
       "      <th></th>\n",
       "      <th>index</th>\n",
       "      <th>Social Agent: degree of familiarity (if subject is exposed to a social agent ONLY twice, each trial being 5 or less minutes, the degree of familiarity is 5 min or less, NOT the total time exposed to the social agent)</th>\n",
       "      <th>Social Agent: degree of familiarity (if subject is exposed to a social agent ONLY twice, each trial being 5 or less minutes, the degree of familiarity is 5 min or less, NOT the total time exposed to the social agent) _fixed</th>\n",
       "      <th>sliced column</th>\n",
       "    </tr>\n",
       "  </thead>\n",
       "  <tbody>\n",
       "    <tr>\n",
       "      <th>0</th>\n",
       "      <td>0</td>\n",
       "      <td>10 minutes</td>\n",
       "      <td>10 minutes</td>\n",
       "      <td>5min - 2hrs</td>\n",
       "    </tr>\n",
       "    <tr>\n",
       "      <th>1</th>\n",
       "      <td>1</td>\n",
       "      <td>5 min exposure or less</td>\n",
       "      <td>5 min exposure or less</td>\n",
       "      <td>&lt; 5 min</td>\n",
       "    </tr>\n",
       "    <tr>\n",
       "      <th>2</th>\n",
       "      <td>2</td>\n",
       "      <td>15 minutes</td>\n",
       "      <td>15 minutes</td>\n",
       "      <td>5min - 2hrs</td>\n",
       "    </tr>\n",
       "    <tr>\n",
       "      <th>3</th>\n",
       "      <td>3</td>\n",
       "      <td>10 minutes</td>\n",
       "      <td>10 minutes</td>\n",
       "      <td>5min - 2hrs</td>\n",
       "    </tr>\n",
       "    <tr>\n",
       "      <th>4</th>\n",
       "      <td>4</td>\n",
       "      <td>5 min exposure or less</td>\n",
       "      <td>5 min exposure or less</td>\n",
       "      <td>&lt; 5 min</td>\n",
       "    </tr>\n",
       "  </tbody>\n",
       "</table>\n",
       "</div>"
      ],
      "text/plain": [
       "   index  \\\n",
       "0      0   \n",
       "1      1   \n",
       "2      2   \n",
       "3      3   \n",
       "4      4   \n",
       "\n",
       "  Social Agent: degree of familiarity (if subject is exposed to a social agent ONLY twice, each trial being 5 or less minutes, the degree of familiarity is 5 min or less, NOT the total time exposed to the social agent)   \\\n",
       "0                                         10 minutes                                                                                                                                                                          \n",
       "1                             5 min exposure or less                                                                                                                                                                          \n",
       "2                                         15 minutes                                                                                                                                                                          \n",
       "3                                         10 minutes                                                                                                                                                                          \n",
       "4                             5 min exposure or less                                                                                                                                                                          \n",
       "\n",
       "  Social Agent: degree of familiarity (if subject is exposed to a social agent ONLY twice, each trial being 5 or less minutes, the degree of familiarity is 5 min or less, NOT the total time exposed to the social agent) _fixed  \\\n",
       "0                                         10 minutes                                                                                                                                                                                \n",
       "1                             5 min exposure or less                                                                                                                                                                                \n",
       "2                                         15 minutes                                                                                                                                                                                \n",
       "3                                         10 minutes                                                                                                                                                                                \n",
       "4                             5 min exposure or less                                                                                                                                                                                \n",
       "\n",
       "  sliced column  \n",
       "0   5min - 2hrs  \n",
       "1       < 5 min  \n",
       "2   5min - 2hrs  \n",
       "3   5min - 2hrs  \n",
       "4       < 5 min  "
      ]
     },
     "execution_count": 38,
     "metadata": {},
     "output_type": "execute_result"
    }
   ],
   "source": [
    "exploded_famtime_df.head()"
   ]
  },
  {
   "cell_type": "code",
   "execution_count": 39,
   "id": "19a132b2",
   "metadata": {},
   "outputs": [
    {
     "data": {
      "image/png": "[encoded data removed]",
      "text/plain": [
       "<Figure size 1296x720 with 1 Axes>"
      ]
     },
     "metadata": {},
     "output_type": "display_data"
    }
   ],
   "source": [
    "plt.rcParams[\"figure.figsize\"] = (18,10)\n",
    "exploded_famtime_df.groupby([sliced_column]).sum().plot(kind='pie',subplots = True,autopct='%1.0f%%', pctdistance=1.2, labeldistance=None,cmap=my_colors2, fontsize = AXESLABEL)\n",
    "plt.legend(bbox_to_anchor=(1.0, 1.0),frameon = False, fontsize = LEGSIZE) #Moves legend and takes frame off\n",
    "plt.ylabel(\"Exposure\", fontsize = TITLESIZE, family = 'Arial')\n",
    "plt.savefig(\"./proc/plots/FAMTIME.svg\")"
   ]
  },
  {
   "cell_type": "markdown",
   "id": "499b5d94",
   "metadata": {},
   "source": [
    "# Social Memory/Recognition Papers of the Years"
   ]
  },
  {
   "cell_type": "code",
   "execution_count": 40,
   "id": "fb14cb54",
   "metadata": {},
   "outputs": [],
   "source": [
    "m_df = survey_df[['Title','Publication Date (YYYY-MM)']].copy()"
   ]
  },
  {
   "cell_type": "code",
   "execution_count": 41,
   "id": "b37ab0bb",
   "metadata": {},
   "outputs": [],
   "source": [
    "# Filter for titles that have social memory\n",
    "#n_df = m_df.loc[m_df['Title'].str.contains('social memory','Social memory')]\n",
    "mne_df = m_df['Publication Date (YYYY-MM)'].str.extract(r'(\\d+)')\n",
    "#mne_df = mne_df[0].astype(int)\n",
    "#mne_df = mne_df.value_counts()\n",
    "#mne_df = mne_df.drop(mne_df.index[-1])\n",
    "#mne_df['Publication Date (YYYY-MM)'] = pd.to_numeric(mne_df['Publication Date (YYYY-MM)'], errors='coerce')"
   ]
  },
  {
   "cell_type": "code",
   "execution_count": 42,
   "id": "2b55fe31",
   "metadata": {},
   "outputs": [
    {
     "data": {
      "text/html": [
       "<div>\n",
       "<style scoped>\n",
       "    .dataframe tbody tr th:only-of-type {\n",
       "        vertical-align: middle;\n",
       "    }\n",
       "\n",
       "    .dataframe tbody tr th {\n",
       "        vertical-align: top;\n",
       "    }\n",
       "\n",
       "    .dataframe thead th {\n",
       "        text-align: right;\n",
       "    }\n",
       "</style>\n",
       "<table border=\"1\" class=\"dataframe\">\n",
       "  <thead>\n",
       "    <tr style=\"text-align: right;\">\n",
       "      <th></th>\n",
       "      <th>0</th>\n",
       "    </tr>\n",
       "  </thead>\n",
       "  <tbody>\n",
       "    <tr>\n",
       "      <th>668</th>\n",
       "      <td>2010</td>\n",
       "    </tr>\n",
       "    <tr>\n",
       "      <th>667</th>\n",
       "      <td>2014</td>\n",
       "    </tr>\n",
       "    <tr>\n",
       "      <th>666</th>\n",
       "      <td>2011</td>\n",
       "    </tr>\n",
       "    <tr>\n",
       "      <th>665</th>\n",
       "      <td>2011</td>\n",
       "    </tr>\n",
       "    <tr>\n",
       "      <th>664</th>\n",
       "      <td>2011</td>\n",
       "    </tr>\n",
       "    <tr>\n",
       "      <th>...</th>\n",
       "      <td>...</td>\n",
       "    </tr>\n",
       "    <tr>\n",
       "      <th>4</th>\n",
       "      <td>2016</td>\n",
       "    </tr>\n",
       "    <tr>\n",
       "      <th>3</th>\n",
       "      <td>2015</td>\n",
       "    </tr>\n",
       "    <tr>\n",
       "      <th>2</th>\n",
       "      <td>2006</td>\n",
       "    </tr>\n",
       "    <tr>\n",
       "      <th>1</th>\n",
       "      <td>2006</td>\n",
       "    </tr>\n",
       "    <tr>\n",
       "      <th>0</th>\n",
       "      <td>2010</td>\n",
       "    </tr>\n",
       "  </tbody>\n",
       "</table>\n",
       "<p>669 rows × 1 columns</p>\n",
       "</div>"
      ],
      "text/plain": [
       "        0\n",
       "668  2010\n",
       "667  2014\n",
       "666  2011\n",
       "665  2011\n",
       "664  2011\n",
       "..    ...\n",
       "4    2016\n",
       "3    2015\n",
       "2    2006\n",
       "1    2006\n",
       "0    2010\n",
       "\n",
       "[669 rows x 1 columns]"
      ]
     },
     "execution_count": 42,
     "metadata": {},
     "output_type": "execute_result"
    }
   ],
   "source": [
    "mne_df.iloc[::-1]\n"
   ]
  },
  {
   "cell_type": "code",
   "execution_count": 43,
   "id": "58893efb",
   "metadata": {},
   "outputs": [
    {
     "ename": "TypeError",
     "evalue": "no numeric data to plot",
     "output_type": "error",
     "traceback": [
      "\u001b[1;31m---------------------------------------------------------------------------\u001b[0m",
      "\u001b[1;31mTypeError\u001b[0m                                 Traceback (most recent call last)",
      "Input \u001b[1;32mIn [43]\u001b[0m, in \u001b[0;36m<cell line: 1>\u001b[1;34m()\u001b[0m\n\u001b[1;32m----> 1\u001b[0m x\u001b[38;5;241m=\u001b[39m\u001b[43mmne_df\u001b[49m\u001b[38;5;241;43m.\u001b[39;49m\u001b[43miloc\u001b[49m\u001b[43m[\u001b[49m\u001b[43m:\u001b[49m\u001b[43m:\u001b[49m\u001b[38;5;241;43m-\u001b[39;49m\u001b[38;5;241;43m1\u001b[39;49m\u001b[43m]\u001b[49m\u001b[38;5;241;43m.\u001b[39;49m\u001b[43mplot\u001b[49m\u001b[38;5;241;43m.\u001b[39;49m\u001b[43mbar\u001b[49m\u001b[43m(\u001b[49m\u001b[43mcolor\u001b[49m\u001b[43m \u001b[49m\u001b[38;5;241;43m=\u001b[39;49m\u001b[43m \u001b[49m\u001b[43mpclabcol\u001b[49m\u001b[43m[\u001b[49m\u001b[38;5;241;43m2\u001b[39;49m\u001b[43m]\u001b[49m\u001b[43m)\u001b[49m\n\u001b[0;32m      2\u001b[0m \u001b[38;5;66;03m#x.locator_params(axis='x', nbins=10)\u001b[39;00m\n\u001b[0;32m      3\u001b[0m plt\u001b[38;5;241m.\u001b[39mxticks(fontsize \u001b[38;5;241m=\u001b[39m \u001b[38;5;241m25\u001b[39m, rotation \u001b[38;5;241m=\u001b[39m \u001b[38;5;241m45\u001b[39m)\n",
      "File \u001b[1;32m~\\anaconda3\\lib\\site-packages\\pandas\\plotting\\_core.py:1131\u001b[0m, in \u001b[0;36mPlotAccessor.bar\u001b[1;34m(self, x, y, **kwargs)\u001b[0m\n\u001b[0;32m   1043\u001b[0m \u001b[38;5;129m@Appender\u001b[39m(\n\u001b[0;32m   1044\u001b[0m     \u001b[38;5;124;03m\"\"\"\u001b[39;00m\n\u001b[0;32m   1045\u001b[0m \u001b[38;5;124;03m    See Also\u001b[39;00m\n\u001b[1;32m   (...)\u001b[0m\n\u001b[0;32m   1120\u001b[0m \u001b[38;5;129m@Appender\u001b[39m(_bar_or_line_doc)\n\u001b[0;32m   1121\u001b[0m \u001b[38;5;28;01mdef\u001b[39;00m \u001b[38;5;21mbar\u001b[39m(\u001b[38;5;28mself\u001b[39m, x\u001b[38;5;241m=\u001b[39m\u001b[38;5;28;01mNone\u001b[39;00m, y\u001b[38;5;241m=\u001b[39m\u001b[38;5;28;01mNone\u001b[39;00m, \u001b[38;5;241m*\u001b[39m\u001b[38;5;241m*\u001b[39mkwargs):\n\u001b[0;32m   1122\u001b[0m     \u001b[38;5;124;03m\"\"\"\u001b[39;00m\n\u001b[0;32m   1123\u001b[0m \u001b[38;5;124;03m    Vertical bar plot.\u001b[39;00m\n\u001b[0;32m   1124\u001b[0m \n\u001b[1;32m   (...)\u001b[0m\n\u001b[0;32m   1129\u001b[0m \u001b[38;5;124;03m    other axis represents a measured value.\u001b[39;00m\n\u001b[0;32m   1130\u001b[0m \u001b[38;5;124;03m    \"\"\"\u001b[39;00m\n\u001b[1;32m-> 1131\u001b[0m     \u001b[38;5;28;01mreturn\u001b[39;00m \u001b[38;5;28mself\u001b[39m(kind\u001b[38;5;241m=\u001b[39m\u001b[38;5;124m\"\u001b[39m\u001b[38;5;124mbar\u001b[39m\u001b[38;5;124m\"\u001b[39m, x\u001b[38;5;241m=\u001b[39mx, y\u001b[38;5;241m=\u001b[39my, \u001b[38;5;241m*\u001b[39m\u001b[38;5;241m*\u001b[39mkwargs)\n",
      "File \u001b[1;32m~\\anaconda3\\lib\\site-packages\\pandas\\plotting\\_core.py:972\u001b[0m, in \u001b[0;36mPlotAccessor.__call__\u001b[1;34m(self, *args, **kwargs)\u001b[0m\n\u001b[0;32m    969\u001b[0m             label_name \u001b[38;5;241m=\u001b[39m label_kw \u001b[38;5;129;01mor\u001b[39;00m data\u001b[38;5;241m.\u001b[39mcolumns\n\u001b[0;32m    970\u001b[0m             data\u001b[38;5;241m.\u001b[39mcolumns \u001b[38;5;241m=\u001b[39m label_name\n\u001b[1;32m--> 972\u001b[0m \u001b[38;5;28;01mreturn\u001b[39;00m plot_backend\u001b[38;5;241m.\u001b[39mplot(data, kind\u001b[38;5;241m=\u001b[39mkind, \u001b[38;5;241m*\u001b[39m\u001b[38;5;241m*\u001b[39mkwargs)\n",
      "File \u001b[1;32m~\\anaconda3\\lib\\site-packages\\pandas\\plotting\\_matplotlib\\__init__.py:71\u001b[0m, in \u001b[0;36mplot\u001b[1;34m(data, kind, **kwargs)\u001b[0m\n\u001b[0;32m     69\u001b[0m         kwargs[\u001b[38;5;124m\"\u001b[39m\u001b[38;5;124max\u001b[39m\u001b[38;5;124m\"\u001b[39m] \u001b[38;5;241m=\u001b[39m \u001b[38;5;28mgetattr\u001b[39m(ax, \u001b[38;5;124m\"\u001b[39m\u001b[38;5;124mleft_ax\u001b[39m\u001b[38;5;124m\"\u001b[39m, ax)\n\u001b[0;32m     70\u001b[0m plot_obj \u001b[38;5;241m=\u001b[39m PLOT_CLASSES[kind](data, \u001b[38;5;241m*\u001b[39m\u001b[38;5;241m*\u001b[39mkwargs)\n\u001b[1;32m---> 71\u001b[0m \u001b[43mplot_obj\u001b[49m\u001b[38;5;241;43m.\u001b[39;49m\u001b[43mgenerate\u001b[49m\u001b[43m(\u001b[49m\u001b[43m)\u001b[49m\n\u001b[0;32m     72\u001b[0m plot_obj\u001b[38;5;241m.\u001b[39mdraw()\n\u001b[0;32m     73\u001b[0m \u001b[38;5;28;01mreturn\u001b[39;00m plot_obj\u001b[38;5;241m.\u001b[39mresult\n",
      "File \u001b[1;32m~\\anaconda3\\lib\\site-packages\\pandas\\plotting\\_matplotlib\\core.py:327\u001b[0m, in \u001b[0;36mMPLPlot.generate\u001b[1;34m(self)\u001b[0m\n\u001b[0;32m    325\u001b[0m \u001b[38;5;28;01mdef\u001b[39;00m \u001b[38;5;21mgenerate\u001b[39m(\u001b[38;5;28mself\u001b[39m):\n\u001b[0;32m    326\u001b[0m     \u001b[38;5;28mself\u001b[39m\u001b[38;5;241m.\u001b[39m_args_adjust()\n\u001b[1;32m--> 327\u001b[0m     \u001b[38;5;28;43mself\u001b[39;49m\u001b[38;5;241;43m.\u001b[39;49m\u001b[43m_compute_plot_data\u001b[49m\u001b[43m(\u001b[49m\u001b[43m)\u001b[49m\n\u001b[0;32m    328\u001b[0m     \u001b[38;5;28mself\u001b[39m\u001b[38;5;241m.\u001b[39m_setup_subplots()\n\u001b[0;32m    329\u001b[0m     \u001b[38;5;28mself\u001b[39m\u001b[38;5;241m.\u001b[39m_make_plot()\n",
      "File \u001b[1;32m~\\anaconda3\\lib\\site-packages\\pandas\\plotting\\_matplotlib\\core.py:506\u001b[0m, in \u001b[0;36mMPLPlot._compute_plot_data\u001b[1;34m(self)\u001b[0m\n\u001b[0;32m    504\u001b[0m \u001b[38;5;66;03m# no non-numeric frames or series allowed\u001b[39;00m\n\u001b[0;32m    505\u001b[0m \u001b[38;5;28;01mif\u001b[39;00m is_empty:\n\u001b[1;32m--> 506\u001b[0m     \u001b[38;5;28;01mraise\u001b[39;00m \u001b[38;5;167;01mTypeError\u001b[39;00m(\u001b[38;5;124m\"\u001b[39m\u001b[38;5;124mno numeric data to plot\u001b[39m\u001b[38;5;124m\"\u001b[39m)\n\u001b[0;32m    508\u001b[0m \u001b[38;5;28mself\u001b[39m\u001b[38;5;241m.\u001b[39mdata \u001b[38;5;241m=\u001b[39m numeric_data\u001b[38;5;241m.\u001b[39mapply(\u001b[38;5;28mself\u001b[39m\u001b[38;5;241m.\u001b[39m_convert_to_ndarray)\n",
      "\u001b[1;31mTypeError\u001b[0m: no numeric data to plot"
     ]
    }
   ],
   "source": [
    "x=mne_df.iloc[::-1].plot.bar(color = pclabcol[2])\n",
    "#x.locator_params(axis='x', nbins=10)\n",
    "plt.xticks(fontsize = 25, rotation = 45)\n",
    "plt.yticks(fontsize = AXESTICKS)\n",
    "plt.ylabel('Number of papers published', fontsize = AXESLABEL)\n",
    "plt.xlabel('Year', fontsize = AXESLABEL)\n",
    "plt.locator_params(axis='y', nbins=9)\n",
    "for pos in ['right', 'top']: # Removes graph border\n",
    "    plt.gca().spines[pos].set_visible(False)\n",
    "plt.ylim([0, 90])\n",
    "plt.title('Social Memory Papers over the Years', fontsize = TITLESIZE, family = 'Arial')\n",
    "plt.savefig(\"./proc/plots/Papers_YRS.svg\")"
   ]
  },
  {
   "cell_type": "markdown",
   "id": "fd5f66c4",
   "metadata": {},
   "source": [
    "# Pie Graph social agent idntities\n",
    "\n",
    "insert graph showing percent of social agent identities: juvenile males, juvenile females, juveniles sex not specified, adult males, adult female OVX, intact adult females, adults sex not specified* \n",
    "\n",
    "juvenile male, juvenile female, juvenile unspecified, adult male, adult intact female, ovariectomized female, adult unspecified, unspecified female, unspecified male, does not specify"
   ]
  },
  {
   "cell_type": "code",
   "execution_count": null,
   "id": "e814e455",
   "metadata": {},
   "outputs": [],
   "source": [
    "survey_df = pd.read_csv(filename, keep_default_na=False)"
   ]
  },
  {
   "cell_type": "code",
   "execution_count": null,
   "id": "5e6d7ab1",
   "metadata": {},
   "outputs": [],
   "source": [
    "#survey_df = pd.read_csv(r\"C:\\Users\\yongc\\Documents\\GitHub\\literature_review_processing\\results\\2022_09_09_literature_review_processing\\data\\Copy of Literature Review (Responses) - Copy of Form Responses 1.csv\", keep_default_na=False)\n",
    "column_name = 'Social Agent Identity'\n",
    "fixed_column_name = column_name + \"_fixed\"\n",
    "copy_of_survey_df = survey_df.copy()\n",
    "copy_of_survey_df[fixed_column_name] = copy_of_survey_df[column_name].apply(lambda x: x.split(\",\"))\n",
    "\n",
    "exploded_survey_df = copy_of_survey_df.explode(fixed_column_name).reset_index()"
   ]
  },
  {
   "cell_type": "code",
   "execution_count": null,
   "id": "8b0130a8",
   "metadata": {},
   "outputs": [],
   "source": [
    "exploded_survey_df[fixed_column_name] = exploded_survey_df[fixed_column_name].str.strip()"
   ]
  },
  {
   "cell_type": "code",
   "execution_count": null,
   "id": "3b4993d4",
   "metadata": {},
   "outputs": [],
   "source": [
    "#Typos\n",
    "exploded_survey_df[fixed_column_name]=exploded_survey_df[fixed_column_name].replace(['adule intact female'],'adult intact female')\n",
    "exploded_survey_df[fixed_column_name]=exploded_survey_df[fixed_column_name].replace(['female juvenile'],'juvenile female')\n",
    "exploded_survey_df[fixed_column_name]=exploded_survey_df[fixed_column_name].replace(['not specified'],'does not specify')\n",
    "exploded_survey_df[fixed_column_name]=exploded_survey_df[fixed_column_name].replace(['juvenile not specified'],'juvenile not specified')\n",
    "exploded_survey_df[fixed_column_name]=exploded_survey_df[fixed_column_name].replace(['juvenile unspecified juvenile'],'juvenile not specified')\n",
    "exploded_survey_df[fixed_column_name]=exploded_survey_df[fixed_column_name].replace(['jvenile unspecified'],'juvenile not specified')\n",
    "exploded_survey_df[fixed_column_name]=exploded_survey_df[fixed_column_name].replace(['juvenile male. juvenile female'],'juvenile male') # Added another juvenile female\n",
    "exploded_survey_df[fixed_column_name].loc[len(exploded_survey_df[fixed_column_name].index)] = ['juvenile female']"
   ]
  },
  {
   "cell_type": "code",
   "execution_count": null,
   "id": "c5af42d6",
   "metadata": {},
   "outputs": [],
   "source": [
    "#Making it easier to look at \n",
    "exploded_survey_df[fixed_column_name]=exploded_survey_df[fixed_column_name].replace(['juvenile male'],'juvenile male')\n",
    "exploded_survey_df[fixed_column_name]=exploded_survey_df[fixed_column_name].replace(['juvenile female'],'juvenile female')\n",
    "exploded_survey_df[fixed_column_name]=exploded_survey_df[fixed_column_name].replace(['juvenile not specified'],'juvenile not specified')\n",
    "exploded_survey_df[fixed_column_name]=exploded_survey_df[fixed_column_name].replace(['male juvenile'],'juvenile male')\n",
    "\n",
    "exploded_survey_df[fixed_column_name]=exploded_survey_df[fixed_column_name].replace(['infant male'],'infant')\n",
    "exploded_survey_df[fixed_column_name]=exploded_survey_df[fixed_column_name].replace(['infant not specified'],'infant')\n",
    "\n",
    "exploded_survey_df[fixed_column_name]=exploded_survey_df[fixed_column_name].replace(['ovariectomized juvenile female'],'ovariectomized female')\n",
    "exploded_survey_df[fixed_column_name]=exploded_survey_df[fixed_column_name].replace(['overiectomized juvenile female'],'ovariectomized female')\n",
    "\n",
    "exploded_survey_df[fixed_column_name]=exploded_survey_df[fixed_column_name].replace([''],'infant')\n",
    "\n",
    "#exploded_survey_df[fixed_column_name].loc[len(exploded_survey_df[fixed_column_name].index)] = ['juvenile'] # For tthe ojFemale\n",
    "\n",
    "\n",
    "\n",
    "#plot breakdown of age first: adults vs juveniles vs not specified vs infants \n",
    "#subject identity \n",
    "\n"
   ]
  },
  {
   "cell_type": "code",
   "execution_count": null,
   "id": "21ef47a1",
   "metadata": {},
   "outputs": [],
   "source": [
    "exploded_survey_df.groupby([fixed_column_name]).sum()\n",
    "#exploded_survey_df.groupby([fixed_column_name]).sum().sum()\n",
    "#268897\n",
    "#35.67% juvenile male"
   ]
  },
  {
   "cell_type": "code",
   "execution_count": null,
   "id": "35ee5024",
   "metadata": {},
   "outputs": [],
   "source": [
    "from matplotlib import cm\n",
    "exploded_survey_df.groupby([fixed_column_name]).sum().plot(kind='pie',subplots = True, pctdistance=1.4, labeldistance=None,cmap='tab20c')\n",
    "plt.legend(bbox_to_anchor=(1.2, 1.0),frameon = False) #Moves legend and takes frame off\n",
    "plt.ylabel(\"Social Agent Identity\")\n",
    "#plt.savefig(\"./proc/SAIdentity.svg\")\n",
    "#labels = exploded_survey_df.groupby([fixed_column_name])\n",
    "#sizes = 100*exploded_survey_df.groupby([fixed_column_name])/exploded_survey_df.groupby([fixed_column_name]).sum()\n",
    "#labels = [f'{l}, {s:0.1f}%' for l, s in zip(labels, sizes)]"
   ]
  },
  {
   "cell_type": "code",
   "execution_count": null,
   "id": "75f19de7",
   "metadata": {},
   "outputs": [],
   "source": [
    "import random\n",
    "plt.rcParams[\"figure.figsize\"] = [7.00, 3.50]\n",
    "plt.rcParams[\"figure.autolayout\"] = True\n",
    "n = 20\n",
    "slices = np.arange(n)\n",
    "activities = np.arange(n)\n",
    "colors = [\"#\" + ''.join([random.choice('0123456789ABCDEF') for j in range(6)])\n",
    "for i in range(n)]\n",
    "\n",
    "patches, texts = plt.pie(slices,\n",
    "   colors=colors,\n",
    "   startangle=90,\n",
    "   labels=slices)\n",
    "\n",
    "labels = ['{0} - {1:1.2f} %'.format(i, j) for i, j in zip(activities,\n",
    "100.*slices/slices.sum())]\n",
    "plt.legend(patches, labels, loc='center left', bbox_to_anchor=(-0.35, .5), fontsize=8)\n",
    "plt.show()"
   ]
  }
 ],
 "metadata": {
  "kernelspec": {
   "display_name": "Python 3 (ipykernel)",
   "language": "python",
   "name": "python3"
  },
  "language_info": {
   "codemirror_mode": {
    "name": "ipython",
    "version": 3
   },
   "file_extension": ".py",
   "mimetype": "text/x-python",
   "name": "python",
   "nbconvert_exporter": "python",
   "pygments_lexer": "ipython3",
   "version": "3.9.12"
  }
 },
 "nbformat": 4,
 "nbformat_minor": 5
}
